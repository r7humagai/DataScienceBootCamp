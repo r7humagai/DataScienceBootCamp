{
  "nbformat": 4,
  "nbformat_minor": 0,
  "metadata": {
    "colab": {
      "provenance": []
    },
    "kernelspec": {
      "name": "python3",
      "display_name": "Python 3"
    },
    "language_info": {
      "name": "python"
    }
  },
  "cells": [
    {
      "cell_type": "markdown",
      "source": [
        "----\n",
        "#**Exploring *args and **kwargs in Python Functions**\n",
        "\n",
        "----\n",
        "\n",
        "*In this assignment, we delve into the powerful features of *args and **kwargs in Python functions. The first part showcases how *args enables functions to accept an arbitrary number of non-keyword arguments, allowing for dynamic input handling. The second part demonstrates more complex scenarios by combining *args with keyword arguments (\"a\", \"b\", \"c\", \"d\"). Additionally, the assignment explores **kwargs, which lets functions accept a variable number of keyword arguments, providing exceptional flexibility in function calls. By examining practical examples, this assignment illustrates the versatility and dynamic nature of Python functions when using *args and **kwargs. These features are invaluable tools for creating functions that can adapt to varying input requirements.*"
      ],
      "metadata": {
        "id": "x06LpvIBBPb0"
      }
    },
    {
      "cell_type": "markdown",
      "source": [
        "----\n",
        "#*args"
      ],
      "metadata": {
        "id": "m5h1QueQtHSM"
      }
    },
    {
      "cell_type": "code",
      "source": [
        "# Function\n",
        "\n",
        "def func_sum(a,b):\n",
        "  return a + b\n"
      ],
      "metadata": {
        "id": "Bl1EnhqS_ukW"
      },
      "execution_count": 37,
      "outputs": []
    },
    {
      "cell_type": "code",
      "source": [
        "def func_sum(*args):    # *args -> Non-Keyword arguments\n",
        "  return args\n",
        "\n",
        "def main():\n",
        "  for i in range(1,11):\n",
        "    func_sum(i)\n",
        "\n",
        "main()"
      ],
      "metadata": {
        "id": "QbJ4DfgdBfrW"
      },
      "execution_count": 38,
      "outputs": []
    },
    {
      "cell_type": "code",
      "source": [
        "import random\n",
        "\n",
        "# Define a function that takes an arbitrary number of arguments\n",
        "def func_sum(*roshan):\n",
        "    sum = 0\n",
        "    multiplications = 1\n",
        "\n",
        "    # Loop through the arguments\n",
        "    for i in roshan:\n",
        "        sum += i\n",
        "        multiplications *= i\n",
        "\n",
        "    return sum, multiplications\n",
        "\n",
        "# Define the main function\n",
        "def main():\n",
        "    # Generate a random number of arguments between 15 and 30\n",
        "    num_args = random.randint(15, 30)\n",
        "    print(\"Total arguments sent: \", num_args)\n",
        "    user_input = []\n",
        "\n",
        "    # Generate random numbers and add them to the user_input list\n",
        "    for i in range(num_args):\n",
        "        user_input.append(random.randint(1, 99))\n",
        "\n",
        "    # Call the func_sum function and unpack the results\n",
        "    result_sum, result_multiplication = func_sum(*user_input)\n",
        "\n",
        "    # Print the user input, total sum, and total multiplication\n",
        "    print(\"User Input\", user_input)\n",
        "    print(\"Total Sum of Random Numbers: \", result_sum)\n",
        "    print(\"Total Multiplication of Random Numbers: \", result_multiplication)\n",
        "\n",
        "# Call the main function to run the code\n",
        "main()\n"
      ],
      "metadata": {
        "colab": {
          "base_uri": "https://localhost:8080/"
        },
        "id": "p9PSNySCCQIZ",
        "outputId": "b548f3e8-d131-44d4-c5c5-2c6be89b294d"
      },
      "execution_count": 39,
      "outputs": [
        {
          "output_type": "stream",
          "name": "stdout",
          "text": [
            "Total arguments sent:  15\n",
            "User Input [29, 30, 94, 49, 11, 68, 81, 69, 70, 76, 31, 11, 90, 74, 24]\n",
            "Total Sum of Random Numbers:  807\n",
            "Total Multiplication of Random Numbers:  4857696483283648553472000\n"
          ]
        }
      ]
    },
    {
      "cell_type": "code",
      "source": [
        "def func_sum(*args, a, b, c, d):\n",
        "  return sum(args) + a + b + c + d\n",
        "\n",
        "result = func_sum(3, 4, 5, 6, 7, a=8, b=9, c=10, d=11)\n",
        "print(result)"
      ],
      "metadata": {
        "colab": {
          "base_uri": "https://localhost:8080/"
        },
        "id": "EGX3oe3gIEkd",
        "outputId": "461a93a3-50d2-479e-9824-3ade278fb49f"
      },
      "execution_count": 40,
      "outputs": [
        {
          "output_type": "stream",
          "name": "stdout",
          "text": [
            "63\n"
          ]
        }
      ]
    },
    {
      "cell_type": "code",
      "source": [
        "def func_practice(a, b, c, d, *args):\n",
        "  return a,b,c,d,args\n"
      ],
      "metadata": {
        "id": "Hb_sDHifI86C"
      },
      "execution_count": 41,
      "outputs": []
    },
    {
      "cell_type": "code",
      "source": [
        "result = func_practice({1:'Data Science', 2: 'Data Engineering'}, 'Apple', 3, (2,3,4), 3, 5, 'Ball')\n",
        "dict1,str3, int4, tuple5, *args1 = result\n",
        "\n",
        "print(dict1, str3, int4, tuple5, args1)\n",
        "print(type(args1))\n"
      ],
      "metadata": {
        "colab": {
          "base_uri": "https://localhost:8080/"
        },
        "id": "VKqBQSyjJEJs",
        "outputId": "b4b842b2-1cdd-48d4-f490-45bf49f8f756"
      },
      "execution_count": 42,
      "outputs": [
        {
          "output_type": "stream",
          "name": "stdout",
          "text": [
            "{1: 'Data Science', 2: 'Data Engineering'} Apple 3 (2, 3, 4) [(3, 5, 'Ball')]\n",
            "<class 'list'>\n"
          ]
        }
      ]
    },
    {
      "cell_type": "markdown",
      "source": [
        "----\n",
        "#**kwargs"
      ],
      "metadata": {
        "id": "eO4cYi2yK6Vx"
      }
    },
    {
      "cell_type": "code",
      "source": [
        "# Practice\n",
        "\n",
        "def student(**kwargs):\n",
        "  return kwargs\n",
        "\n",
        "student1 = student(name = 'Donald', age = 60, city = 'New York')\n",
        "print(student1)"
      ],
      "metadata": {
        "colab": {
          "base_uri": "https://localhost:8080/"
        },
        "id": "W-2QCgdcK8wi",
        "outputId": "3d8a6ffb-a9a3-4244-ea3c-5277b701be15"
      },
      "execution_count": 43,
      "outputs": [
        {
          "output_type": "stream",
          "name": "stdout",
          "text": [
            "{'name': 'Donald', 'age': 60, 'city': 'New York'}\n"
          ]
        }
      ]
    },
    {
      "cell_type": "code",
      "source": [
        "def student(*args):\n",
        "  return args"
      ],
      "metadata": {
        "id": "teaRA0pBMkAQ"
      },
      "execution_count": 44,
      "outputs": []
    },
    {
      "cell_type": "code",
      "source": [
        "def student(*args, **kwargs):\n",
        "  sum_num = sum(args)\n",
        "  return sum_num, kwargs\n",
        "\n",
        "sum_result, kwargs1 = student(1,2,3, name = 'Hillary' , jobPosition = 'Secretary of State')\n",
        "print(sum_result)\n",
        "print(type(sum_result))\n",
        "print(kwargs1)\n",
        "print(type(kwargs1))"
      ],
      "metadata": {
        "colab": {
          "base_uri": "https://localhost:8080/"
        },
        "id": "G7IOXf3NNKxm",
        "outputId": "ff798028-78c3-49f8-9fb6-911b29e9be16"
      },
      "execution_count": 45,
      "outputs": [
        {
          "output_type": "stream",
          "name": "stdout",
          "text": [
            "6\n",
            "<class 'int'>\n",
            "{'name': 'Hillary', 'jobPosition': 'Secretary of State'}\n",
            "<class 'dict'>\n"
          ]
        }
      ]
    },
    {
      "cell_type": "code",
      "source": [
        "student2 = student(name = 'Joe Biden' , age = 70, city = 'Washington DC', jobPosition = 'President')\n",
        "print(student2)"
      ],
      "metadata": {
        "colab": {
          "base_uri": "https://localhost:8080/"
        },
        "id": "gJneCOjYL8jC",
        "outputId": "50a068c0-7a88-49b2-9c7b-b96f648a15e3"
      },
      "execution_count": 46,
      "outputs": [
        {
          "output_type": "stream",
          "name": "stdout",
          "text": [
            "(0, {'name': 'Joe Biden', 'age': 70, 'city': 'Washington DC', 'jobPosition': 'President'})\n"
          ]
        }
      ]
    },
    {
      "cell_type": "code",
      "source": [
        "student3 = student(age = 32)\n",
        "print(student3)"
      ],
      "metadata": {
        "colab": {
          "base_uri": "https://localhost:8080/"
        },
        "id": "0BnlpiAPMBNb",
        "outputId": "67b40287-2cc4-47f6-92c9-247e4d9b7aca"
      },
      "execution_count": 47,
      "outputs": [
        {
          "output_type": "stream",
          "name": "stdout",
          "text": [
            "(0, {'age': 32})\n"
          ]
        }
      ]
    },
    {
      "cell_type": "code",
      "source": [
        "def pratice1(a,b,c, *args, **kwargs):\n",
        "  sum_of_numbers = a+b+c\n",
        "  multiplications = 1\n",
        "  for i in args:\n",
        "    multiplications *= i\n",
        "  for j in kwargs:\n",
        "    print\n",
        "\n",
        "  return sum_of_numbers"
      ],
      "metadata": {
        "id": "b4zv8VECMitP"
      },
      "execution_count": 48,
      "outputs": []
    },
    {
      "cell_type": "code",
      "source": [
        "def practice2(*args, a=None, b=None, **kwargs):\n",
        "    result_dict = {\"args\": args, \"a\": a, \"b\": b, \"kwargs\": kwargs}\n",
        "    return result_dict\n",
        "\n",
        "result = practice2(1, 2, 3, 4, 5, a={'fruit': 'apple'}, b={'sport': 'ball'})\n",
        "print(result)"
      ],
      "metadata": {
        "id": "F4EYHM4sPQ3t",
        "colab": {
          "base_uri": "https://localhost:8080/"
        },
        "outputId": "0ada27f6-3269-4d76-8822-5157a5a81887"
      },
      "execution_count": 49,
      "outputs": [
        {
          "output_type": "stream",
          "name": "stdout",
          "text": [
            "{'args': (1, 2, 3, 4, 5), 'a': {'fruit': 'apple'}, 'b': {'sport': 'ball'}, 'kwargs': {}}\n"
          ]
        }
      ]
    },
    {
      "cell_type": "code",
      "source": [
        "def practice3(*args, a, b, **kwargs):\n",
        "    return kwargs, a + b, args\n",
        "\n",
        "result = practice3(x=1, y=2, a=3, b=4, foo='apple', bar='ball')\n",
        "print(\"Keyword arguments:\", result[0])  # Print the keyword arguments\n",
        "print(\"Sum of 'a' and 'b':\", result[1])  # Print the sum of 'a' and 'b'\n",
        "print(\"Positional arguments:\", result[2])  # Print the positional arguments\n"
      ],
      "metadata": {
        "id": "DildCZVGQgD4",
        "colab": {
          "base_uri": "https://localhost:8080/"
        },
        "outputId": "0991800c-01c3-4adf-94fd-5bdbd44a5401"
      },
      "execution_count": 50,
      "outputs": [
        {
          "output_type": "stream",
          "name": "stdout",
          "text": [
            "Keyword arguments: {'x': 1, 'y': 2, 'foo': 'apple', 'bar': 'ball'}\n",
            "Sum of 'a' and 'b': 7\n",
            "Positional arguments: ()\n"
          ]
        }
      ]
    }
  ]
}