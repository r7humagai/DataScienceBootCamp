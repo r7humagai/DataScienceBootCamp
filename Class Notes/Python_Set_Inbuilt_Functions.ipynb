{
  "cells": [
    {
      "cell_type": "markdown",
      "metadata": {},
      "source": [
        "**Set In-built Function in Python**"
      ]
    },
    {
      "cell_type": "code",
      "execution_count": 1,
      "metadata": {
        "colab": {
          "base_uri": "https://localhost:8080/"
        },
        "id": "Vvxo7tQu2qP0",
        "outputId": "7ac97292-1213-4a4a-c6df-46f35806f3a9"
      },
      "outputs": [
        {
          "data": {
            "text/plain": [
              "['__and__',\n",
              " '__class__',\n",
              " '__class_getitem__',\n",
              " '__contains__',\n",
              " '__delattr__',\n",
              " '__dir__',\n",
              " '__doc__',\n",
              " '__eq__',\n",
              " '__format__',\n",
              " '__ge__',\n",
              " '__getattribute__',\n",
              " '__gt__',\n",
              " '__hash__',\n",
              " '__iand__',\n",
              " '__init__',\n",
              " '__init_subclass__',\n",
              " '__ior__',\n",
              " '__isub__',\n",
              " '__iter__',\n",
              " '__ixor__',\n",
              " '__le__',\n",
              " '__len__',\n",
              " '__lt__',\n",
              " '__ne__',\n",
              " '__new__',\n",
              " '__or__',\n",
              " '__rand__',\n",
              " '__reduce__',\n",
              " '__reduce_ex__',\n",
              " '__repr__',\n",
              " '__ror__',\n",
              " '__rsub__',\n",
              " '__rxor__',\n",
              " '__setattr__',\n",
              " '__sizeof__',\n",
              " '__str__',\n",
              " '__sub__',\n",
              " '__subclasshook__',\n",
              " '__xor__',\n",
              " 'add',\n",
              " 'clear',\n",
              " 'copy',\n",
              " 'difference',\n",
              " 'difference_update',\n",
              " 'discard',\n",
              " 'intersection',\n",
              " 'intersection_update',\n",
              " 'isdisjoint',\n",
              " 'issubset',\n",
              " 'issuperset',\n",
              " 'pop',\n",
              " 'remove',\n",
              " 'symmetric_difference',\n",
              " 'symmetric_difference_update',\n",
              " 'union',\n",
              " 'update']"
            ]
          },
          "execution_count": 1,
          "metadata": {},
          "output_type": "execute_result"
        }
      ],
      "source": [
        "dir(set)"
      ]
    },
    {
      "cell_type": "code",
      "execution_count": 3,
      "metadata": {
        "colab": {
          "base_uri": "https://localhost:8080/"
        },
        "id": "A6YBJTg22ywZ",
        "outputId": "2066a8fb-7ee6-4262-d700-78219b6cfdc5"
      },
      "outputs": [
        {
          "name": "stdout",
          "output_type": "stream",
          "text": [
            "Initial:  {'horse', 'dog', 'cat'}\n",
            "After addition:  {'camel', 'horse', 'dog', 'cat'}\n"
          ]
        }
      ],
      "source": [
        "# Set Function: add() : Adds a specific element to a set\n",
        "\n",
        "animals = {\"dog\", \"cat\", \"horse\"}\n",
        "print(\"Initial: \", animals)\n",
        "animals.add(\"camel\")\n",
        "print(\"After addition: \", animals)\n"
      ]
    },
    {
      "cell_type": "code",
      "execution_count": 8,
      "metadata": {
        "colab": {
          "base_uri": "https://localhost:8080/"
        },
        "id": "sKP7YjyP33_X",
        "outputId": "34c320d5-1a0f-4ddd-b128-ca86360e7ff4"
      },
      "outputs": [
        {
          "name": "stdout",
          "output_type": "stream",
          "text": [
            "Initial before clear:  {'horse', 'dog', 'cat'}\n",
            "After clear:  set()\n"
          ]
        }
      ],
      "source": [
        "# Set Function: clear()   : Removes all elements from a set\n",
        "\n",
        "animals = {\"dog\", \"cat\", \"horse\"}\n",
        "\n",
        "print(\"Initial before clear: \", animals)\n",
        "animals.clear()\n",
        "print(\"After clear: \", animals)"
      ]
    },
    {
      "cell_type": "code",
      "execution_count": 10,
      "metadata": {
        "colab": {
          "base_uri": "https://localhost:8080/"
        },
        "id": "koDVOwUf4dOC",
        "outputId": "f3369d3e-fc72-4eba-93e5-d35171243ad4"
      },
      "outputs": [
        {
          "name": "stdout",
          "output_type": "stream",
          "text": [
            "Copied Set:  {'camel', 'horse', 'dog', 'cat'}\n"
          ]
        }
      ],
      "source": [
        "# Set Function: copy() : Copies the set\n",
        "\n",
        "animals = {\"dog\", \"cat\", \"horse\", \"camel\"}\n",
        "\n",
        "a = animals.copy()\n",
        "\n",
        "print(\"Copied Set: \",a)\n"
      ]
    },
    {
      "cell_type": "code",
      "execution_count": 11,
      "metadata": {
        "colab": {
          "base_uri": "https://localhost:8080/"
        },
        "id": "IiBS_UOx4xF6",
        "outputId": "e238baac-9222-412f-f273-e794a65a1bbc"
      },
      "outputs": [
        {
          "name": "stdout",
          "output_type": "stream",
          "text": [
            "Wild Animals:  {'wolf', 'tiger', 'lion'}\n"
          ]
        }
      ],
      "source": [
        "# Set Function: difference() : returns a set that contains the difference between the two sets\n",
        "\n",
        "animals = {\"dog\", \"cat\", \"horse\", \"camel\", \"lion\", \"tiger\", \"wolf\"}\n",
        "pets = {\"dog\", \"cat\", \"horse\", \"camel\"}\n",
        "\n",
        "wild = animals.difference(pets)\n",
        "\n",
        "print(\"Wild Animals: \", wild)\n",
        "\n"
      ]
    },
    {
      "cell_type": "code",
      "execution_count": 13,
      "metadata": {
        "colab": {
          "base_uri": "https://localhost:8080/"
        },
        "id": "VKPeqCiI5m0x",
        "outputId": "d1cd90ae-bb5d-4823-d534-713b4d338fe5"
      },
      "outputs": [
        {
          "name": "stdout",
          "output_type": "stream",
          "text": [
            "Non-edible pets:  {'horse', 'camel', 'dog', 'cat'}\n"
          ]
        }
      ],
      "source": [
        "# Set Function: difference_update(): removes the items that exist in both sets\n",
        "\n",
        "animals = {\"dog\", \"cat\", \"horse\", \"camel\", \"lion\", \"tiger\", \"wolf\",\"goat\", \"lamb\"}\n",
        "pets = {\"dog\", \"cat\", \"horse\", \"camel\", \"goat\", \"lamb\"}\n",
        "edibles = {\"goat\", \"lamb\", \"chicken\", \"duck\"}\n",
        "\n",
        "pets.difference_update(edibles)\n",
        "\n",
        "print(\"Non-edible pets: \", pets)\n"
      ]
    },
    {
      "cell_type": "code",
      "execution_count": 15,
      "metadata": {
        "colab": {
          "base_uri": "https://localhost:8080/"
        },
        "id": "MSjWPzEM6UjO",
        "outputId": "e656bbef-9d15-4ce2-d784-48085798698d"
      },
      "outputs": [
        {
          "name": "stdout",
          "output_type": "stream",
          "text": [
            "Before discard:  {'lamb', 'horse', 'camel', 'goat', 'dog', 'lion', 'cat'}\n",
            "After discard:  {'lamb', 'horse', 'camel', 'goat', 'dog', 'cat'}\n"
          ]
        }
      ],
      "source": [
        "# Set Function: discard() : removes the specified items\n",
        "\n",
        "pets = {\"dog\", \"cat\", \"horse\", \"camel\", \"goat\", \"lamb\", \"lion\"}\n",
        "print(\"Before discard: \" , pets)\n",
        "pets.discard(\"lion\")\n",
        "print(\"After discard: \", pets)    # lion is removed"
      ]
    },
    {
      "cell_type": "code",
      "execution_count": 19,
      "metadata": {
        "colab": {
          "base_uri": "https://localhost:8080/"
        },
        "id": "lvN_xlfS6zkg",
        "outputId": "eec9921e-782b-4351-d8c8-4eeea56a67be"
      },
      "outputs": [
        {
          "name": "stdout",
          "output_type": "stream",
          "text": [
            "Forest:  {'goat', 'lamb'}\n"
          ]
        }
      ],
      "source": [
        "# Set Function: intersection() : intersection of two or more sets\n",
        "\n",
        "animals = {\"dog\", \"cat\", \"horse\", \"camel\", \"lion\", \"tiger\", \"wolf\",\"goat\", \"lamb\"}\n",
        "edible_animals = {\"lamb\", \"goat\", \"chicken\"}\n",
        "\n",
        "everything_edible = animals.intersection(edible_animals)\n",
        "\n",
        "print(\"Forest: \", everything_edible)\n"
      ]
    },
    {
      "cell_type": "code",
      "execution_count": 21,
      "metadata": {
        "colab": {
          "base_uri": "https://localhost:8080/"
        },
        "id": "J0QCIdx97rIk",
        "outputId": "b55e939c-75fb-4082-e0b1-73abbef3e352"
      },
      "outputs": [
        {
          "name": "stdout",
          "output_type": "stream",
          "text": [
            "{'apple'}\n"
          ]
        }
      ],
      "source": [
        "# Set Function: intersection_update() : removes the items in this set that are not present in other, specified sets.\n",
        "\n",
        "random_objects = {\"apple\", \"ball\", \"chicken\"}\n",
        "random_food = {\"apple\", \"pasta\", \"fish\"}\n",
        "\n",
        "random_objects.intersection_update(random_food)\n",
        "\n",
        "print(random_objects)"
      ]
    },
    {
      "cell_type": "code",
      "execution_count": 24,
      "metadata": {
        "colab": {
          "base_uri": "https://localhost:8080/"
        },
        "id": "jtO18Huw8LAB",
        "outputId": "448723b0-daef-453b-e539-683584d38b7a"
      },
      "outputs": [
        {
          "name": "stdout",
          "output_type": "stream",
          "text": [
            "False\n"
          ]
        }
      ],
      "source": [
        "# Set Function: isdisjoint() : Returns true if none of the items are present in both sets\n",
        "\n",
        "random_objects = {\"apple\", \"ball\", \"chicken\"}\n",
        "random_food = {\"apple\", \"pasta\", \"fish\"}\n",
        "random = {\"apple\"}\n",
        "random = random_objects.isdisjoint(random_food)\n",
        "\n",
        "print(random)"
      ]
    },
    {
      "cell_type": "code",
      "execution_count": 26,
      "metadata": {
        "colab": {
          "base_uri": "https://localhost:8080/"
        },
        "id": "yzH_b3PF8o8n",
        "outputId": "26e6c57c-7cb1-4d3d-ff93-ea4f9ba989e7"
      },
      "outputs": [
        {
          "name": "stdout",
          "output_type": "stream",
          "text": [
            "True\n"
          ]
        }
      ],
      "source": [
        "# Set Function: issubset() : Returns true if all items in set x are present in set y:\n",
        "\n",
        "animals = {\"dog\", \"cat\", \"horse\", \"camel\", \"lion\", \"tiger\", \"wolf\"}\n",
        "pets = {\"dog\", \"cat\", \"horse\", \"camel\"}\n",
        "\n",
        "x = pets.issubset(animals)    # Since all pets are animals this gives out True\n",
        "print(x)\n"
      ]
    },
    {
      "cell_type": "code",
      "execution_count": 30,
      "metadata": {
        "colab": {
          "base_uri": "https://localhost:8080/"
        },
        "id": "uFpwhGNH8OyS",
        "outputId": "6aadfd3b-3bbf-4e09-ec44-44259df00476"
      },
      "outputs": [
        {
          "name": "stdout",
          "output_type": "stream",
          "text": [
            "True\n",
            "False\n"
          ]
        }
      ],
      "source": [
        "# Set Function : issuperset() : Returns True if all items in the specified set exists in the original set, otherwise returns False\n",
        "\n",
        "animals = {\"dog\", \"cat\", \"horse\", \"camel\", \"lion\", \"tiger\", \"wolf\"}\n",
        "pets = {\"dog\", \"cat\", \"horse\", \"camel\"}\n",
        "\n",
        "x = pets.issubset(animals)    # All pets are animals\n",
        "y = animals.issubset(pets)    # All animals cannot be pets\n",
        "\n",
        "print(x)\n",
        "print(y)"
      ]
    },
    {
      "cell_type": "code",
      "execution_count": 32,
      "metadata": {
        "colab": {
          "base_uri": "https://localhost:8080/"
        },
        "id": "kfQ9cv-c9e_u",
        "outputId": "565d3b0c-6c0e-437b-cb11-c72ee36f0673"
      },
      "outputs": [
        {
          "name": "stdout",
          "output_type": "stream",
          "text": [
            "Before pop():  {'dog', 'horse', 'camel', 'wolf', 'tiger', 'lion', 'cat'}\n",
            "After pop(): {'horse', 'camel', 'wolf', 'tiger', 'lion', 'cat'}\n"
          ]
        }
      ],
      "source": [
        "#Set Function : pop() : removes a random item from the set\n",
        "\n",
        "animals = {\"dog\", \"cat\", \"horse\", \"camel\", \"lion\", \"tiger\", \"wolf\"}\n",
        "print(\"Before pop(): \",animals)\n",
        "animals.pop()\n",
        "print(\"After pop():\", animals)\n"
      ]
    },
    {
      "cell_type": "code",
      "execution_count": 34,
      "metadata": {
        "colab": {
          "base_uri": "https://localhost:8080/"
        },
        "id": "R9P12HQd91GC",
        "outputId": "db6e56dc-8402-481f-9b99-0c4fe1200078"
      },
      "outputs": [
        {
          "name": "stdout",
          "output_type": "stream",
          "text": [
            "Before removing camels :  {'dog', 'horse', 'camel', 'wolf', 'tiger', 'lion', 'cat'}\n",
            "After using remove() to remove camels:  {'dog', 'horse', 'wolf', 'tiger', 'lion', 'cat'}\n"
          ]
        }
      ],
      "source": [
        "# Set Function : remove() : removes the specified element\n",
        "\n",
        "animals = {\"dog\", \"cat\", \"horse\", \"camel\", \"lion\", \"tiger\", \"wolf\"}\n",
        "print(\"Before removing camels : \", animals)\n",
        "animals.remove(\"camel\")\n",
        "\n",
        "print(\"After using remove() to remove camels: \", animals)"
      ]
    },
    {
      "cell_type": "code",
      "execution_count": 37,
      "metadata": {
        "colab": {
          "base_uri": "https://localhost:8080/"
        },
        "id": "NPsxt-5D-JAF",
        "outputId": "91c44917-7788-434f-ff8f-56e9f42f8abe"
      },
      "outputs": [
        {
          "name": "stdout",
          "output_type": "stream",
          "text": [
            "{'lion', 'wolf', 'tiger'}\n"
          ]
        }
      ],
      "source": [
        "# Set Function : symmetric_difference() : returns a set that contains all items from both sets, except items that are present in both sets.\n",
        "\n",
        "animals = {\"dog\", \"cat\", \"horse\", \"camel\", \"lion\", \"tiger\", \"wolf\"}\n",
        "pets = {\"dog\", \"cat\", \"horse\", \"camel\"}\n",
        "\n",
        "wild_animals = animals.symmetric_difference(pets)\n",
        "\n",
        "print(\"Wild Animals:\", wild_animals)\n"
      ]
    },
    {
      "cell_type": "code",
      "execution_count": 38,
      "metadata": {
        "colab": {
          "base_uri": "https://localhost:8080/"
        },
        "id": "UIEpWqU6-2Q0",
        "outputId": "b8907201-8b86-4d35-f3a6-9d9d3df74398"
      },
      "outputs": [
        {
          "name": "stdout",
          "output_type": "stream",
          "text": [
            "{'bat', 'snakes', 'tiger', 'lion', 'wolf'}\n"
          ]
        }
      ],
      "source": [
        "# Set Function : symmetric_difference_update() : removes the items that are present in both sets, AND insert the items that is not present in both sets.\n",
        "\n",
        "animals = {\"dog\", \"cat\", \"horse\", \"camel\", \"lion\", \"tiger\", \"wolf\"}\n",
        "pets = {\"dog\", \"cat\", \"horse\", \"camel\", \"snakes\", \"bat\"}\n",
        "\n",
        "\n",
        "animals.symmetric_difference_update(pets)\n",
        "\n",
        "print(animals)\n"
      ]
    },
    {
      "cell_type": "code",
      "execution_count": 39,
      "metadata": {
        "colab": {
          "base_uri": "https://localhost:8080/"
        },
        "id": "KNq9AsNZ_AHO",
        "outputId": "1609df39-e5dd-4fdd-9c07-bdcd3e294745"
      },
      "outputs": [
        {
          "name": "stdout",
          "output_type": "stream",
          "text": [
            "Forest :  {'bat', 'horse', 'camel', 'tiger', 'lion', 'snakes', 'wolf', 'dog', 'cat'}\n"
          ]
        }
      ],
      "source": [
        "# Set Function : union() : Returns a set containing the union of sets ie. elements from both sets except duplicated\n",
        "\n",
        "animals = {\"dog\", \"cat\", \"horse\", \"camel\", \"lion\", \"tiger\", \"wolf\"}\n",
        "pets = {\"dog\", \"cat\", \"horse\", \"camel\", \"snakes\", \"bat\"}\n",
        "\n",
        "forest = animals.union(pets)\n",
        "\n",
        "print(\"Forest : \" , forest)\n",
        "\n"
      ]
    },
    {
      "cell_type": "code",
      "execution_count": 40,
      "metadata": {
        "colab": {
          "base_uri": "https://localhost:8080/"
        },
        "id": "05vwvM1k_ETg",
        "outputId": "a8bad6c3-36e1-49ce-a256-46da16f0dcf4"
      },
      "outputs": [
        {
          "name": "stdout",
          "output_type": "stream",
          "text": [
            "Updated List:  {'bat', 'horse', 'camel', 'tiger', 'lion', 'snakes', 'wolf', 'dog', 'cat'}\n"
          ]
        }
      ],
      "source": [
        "# Set Function : update() : Updates the current set, by adding items from another set\n",
        "# Note: if an item is present in both sets, only one appearance of this item will be present in the updated set.\n",
        "\n",
        "animals = {\"dog\", \"cat\", \"horse\", \"camel\", \"lion\", \"tiger\", \"wolf\"}\n",
        "pets = {\"dog\", \"cat\", \"horse\", \"camel\", \"snakes\", \"bat\"}\n",
        "\n",
        "animals.update(pets)  # Snake and bat, unique elements from pets are added to animals\n",
        "\n",
        "print(\"Updated List: \", animals)"
      ]
    }
  ],
  "metadata": {
    "colab": {
      "provenance": []
    },
    "kernelspec": {
      "display_name": "Python 3",
      "name": "python3"
    },
    "language_info": {
      "name": "python"
    }
  },
  "nbformat": 4,
  "nbformat_minor": 0
}
