{
  "nbformat": 4,
  "nbformat_minor": 0,
  "metadata": {
    "colab": {
      "provenance": [],
      "authorship_tag": "ABX9TyMU0eCfS28K7D2TKwzp4wen"
    },
    "kernelspec": {
      "name": "python3",
      "display_name": "Python 3"
    },
    "language_info": {
      "name": "python"
    }
  },
  "cells": [
    {
      "cell_type": "markdown",
      "source": [
        "#**Natural Language Processing**\n",
        "Part of computer science and artificial intelligence which deals with human languages.\n",
        "\n",
        "**Applications**\n",
        "1. Spell Checking\n",
        "2. Keyword Search\n",
        "3. Information Extracting\n",
        "4. Advertisement Matching\n",
        "5. Sentiment Analysis\n",
        "6. Speech Recognition\n",
        "7. Implementation of Chatbot\n",
        "8. Machine Translation\n",
        "\n",
        "**Components**\n",
        "1. Natural Language Understanding\n",
        "  - Mapping input to Useful Representations\n",
        "  - Analyzing different aspects of the language\n",
        "\n",
        "2. Natural Language Generation\n",
        "  - Text Planning - Retreving contents from the knowledge base.\n",
        "  - Sentence Planning - Choosing required words from meaningful phrases setting tone of the sentence.\n",
        "  - Text Realization - Mapping sentence plans into sentence structure\n",
        "\n",
        "**Ambiguities**\n",
        "  - Lexical Ambiguity - Presence of two or more more meaning within a single word.\n",
        "  - Syntactical Ambiguity - Presence of two or more meaning within a single sentence or a sequence of words.(Structured or Grammatical Ambiguity)\n",
        "  - Referential Ambiguity - When a word or phrase can be interpreted to refer to more than one item.\n",
        "\n",
        "**NLTK**\n",
        "\n",
        "  "
      ],
      "metadata": {
        "id": "ThGQt4UP3r8R"
      }
    },
    {
      "cell_type": "markdown",
      "source": [
        "----\n",
        "#Tokenization"
      ],
      "metadata": {
        "id": "vmzAbymP80hn"
      }
    },
    {
      "cell_type": "code",
      "source": [
        "import os\n",
        "import nltk\n",
        "import nltk.corpus"
      ],
      "metadata": {
        "id": "0eFJCFKh37_E"
      },
      "execution_count": 2,
      "outputs": []
    },
    {
      "cell_type": "code",
      "source": [
        "nltk.download()"
      ],
      "metadata": {
        "colab": {
          "base_uri": "https://localhost:8080/"
        },
        "id": "zL-r9vmk7hIA",
        "outputId": "9540d6df-4876-4935-872b-6dfca1648fd7"
      },
      "execution_count": 3,
      "outputs": [
        {
          "name": "stdout",
          "output_type": "stream",
          "text": [
            "NLTK Downloader\n",
            "---------------------------------------------------------------------------\n",
            "    d) Download   l) List    u) Update   c) Config   h) Help   q) Quit\n",
            "---------------------------------------------------------------------------\n",
            "Downloader> q\n"
          ]
        },
        {
          "output_type": "execute_result",
          "data": {
            "text/plain": [
              "True"
            ]
          },
          "metadata": {},
          "execution_count": 3
        }
      ]
    },
    {
      "cell_type": "code",
      "source": [
        "#print(os.listdir(nltk.data.find(\"corpora\")))"
      ],
      "metadata": {
        "id": "LjKzhH257BIV"
      },
      "execution_count": 4,
      "outputs": []
    },
    {
      "cell_type": "code",
      "source": [
        "nltk.download('brown')"
      ],
      "metadata": {
        "colab": {
          "base_uri": "https://localhost:8080/"
        },
        "id": "aBLWGbXt8gst",
        "outputId": "c0d0e8c9-5557-4bee-a0f3-1498d17894ea"
      },
      "execution_count": 5,
      "outputs": [
        {
          "output_type": "stream",
          "name": "stderr",
          "text": [
            "[nltk_data] Downloading package brown to /root/nltk_data...\n",
            "[nltk_data]   Unzipping corpora/brown.zip.\n"
          ]
        },
        {
          "output_type": "execute_result",
          "data": {
            "text/plain": [
              "True"
            ]
          },
          "metadata": {},
          "execution_count": 5
        }
      ]
    },
    {
      "cell_type": "code",
      "source": [
        "from nltk.corpus import brown\n",
        "brown.words()"
      ],
      "metadata": {
        "colab": {
          "base_uri": "https://localhost:8080/"
        },
        "id": "czLrgxwk8SzF",
        "outputId": "da192c1f-73df-411e-98d6-d56ea611b814"
      },
      "execution_count": 6,
      "outputs": [
        {
          "output_type": "execute_result",
          "data": {
            "text/plain": [
              "['The', 'Fulton', 'County', 'Grand', 'Jury', 'said', ...]"
            ]
          },
          "metadata": {},
          "execution_count": 6
        }
      ]
    },
    {
      "cell_type": "code",
      "source": [
        "nltk.download('gutenberg')"
      ],
      "metadata": {
        "colab": {
          "base_uri": "https://localhost:8080/"
        },
        "id": "r9A5F6lP8psz",
        "outputId": "661fee74-d134-41f8-8179-4404febba88e"
      },
      "execution_count": 7,
      "outputs": [
        {
          "output_type": "stream",
          "name": "stderr",
          "text": [
            "[nltk_data] Downloading package gutenberg to /root/nltk_data...\n",
            "[nltk_data]   Unzipping corpora/gutenberg.zip.\n"
          ]
        },
        {
          "output_type": "execute_result",
          "data": {
            "text/plain": [
              "True"
            ]
          },
          "metadata": {},
          "execution_count": 7
        }
      ]
    },
    {
      "cell_type": "code",
      "source": [
        "nltk.corpus.gutenberg.fileids()"
      ],
      "metadata": {
        "colab": {
          "base_uri": "https://localhost:8080/"
        },
        "id": "tGOnxHZm7BKG",
        "outputId": "c3359fef-8cea-4ad7-d375-0ba4522f51fa"
      },
      "execution_count": 8,
      "outputs": [
        {
          "output_type": "execute_result",
          "data": {
            "text/plain": [
              "['austen-emma.txt',\n",
              " 'austen-persuasion.txt',\n",
              " 'austen-sense.txt',\n",
              " 'bible-kjv.txt',\n",
              " 'blake-poems.txt',\n",
              " 'bryant-stories.txt',\n",
              " 'burgess-busterbrown.txt',\n",
              " 'carroll-alice.txt',\n",
              " 'chesterton-ball.txt',\n",
              " 'chesterton-brown.txt',\n",
              " 'chesterton-thursday.txt',\n",
              " 'edgeworth-parents.txt',\n",
              " 'melville-moby_dick.txt',\n",
              " 'milton-paradise.txt',\n",
              " 'shakespeare-caesar.txt',\n",
              " 'shakespeare-hamlet.txt',\n",
              " 'shakespeare-macbeth.txt',\n",
              " 'whitman-leaves.txt']"
            ]
          },
          "metadata": {},
          "execution_count": 8
        }
      ]
    },
    {
      "cell_type": "markdown",
      "source": [
        "This code is using NLTK to load the words from the Gutenberg corpus that contains the text of Shakespeare's play 'Hamlet'. It essentially retrieves a list of words from the specified text file."
      ],
      "metadata": {
        "id": "vJBucX6s9mBY"
      }
    },
    {
      "cell_type": "code",
      "source": [
        "hamlet = nltk.corpus.gutenberg.words('shakespeare-hamlet.txt')\n",
        "hamlet"
      ],
      "metadata": {
        "colab": {
          "base_uri": "https://localhost:8080/"
        },
        "id": "8OylvaMv9RcC",
        "outputId": "6c5386d7-578d-4110-b311-ed1908acaa92"
      },
      "execution_count": 9,
      "outputs": [
        {
          "output_type": "execute_result",
          "data": {
            "text/plain": [
              "['[', 'The', 'Tragedie', 'of', 'Hamlet', 'by', ...]"
            ]
          },
          "metadata": {},
          "execution_count": 9
        }
      ]
    },
    {
      "cell_type": "markdown",
      "source": [
        "The variable 'hamlet' contains a list of words from the play 'Hamlet' allowing us to perform various text analysis tasks using NLTK on this particular text.\n",
        "For eg. we could analyze word frequencies, perform sentiment analysis, or any other NLP-related tasks on the text of 'Hamlet'."
      ],
      "metadata": {
        "id": "Q58ntPVe91Cz"
      }
    },
    {
      "cell_type": "code",
      "source": [
        "for word in hamlet[500: 515]:\n",
        "  print(word, sep = ' ', end = '\\n')"
      ],
      "metadata": {
        "colab": {
          "base_uri": "https://localhost:8080/"
        },
        "id": "f-_hW6Is-ITA",
        "outputId": "046f0efc-4964-440b-95b5-9b61767470e8"
      },
      "execution_count": 10,
      "outputs": [
        {
          "output_type": "stream",
          "name": "stdout",
          "text": [
            "thou\n",
            "that\n",
            "vsurp\n",
            "'\n",
            "st\n",
            "this\n",
            "time\n",
            "of\n",
            "night\n",
            ",\n",
            "Together\n",
            "with\n",
            "that\n",
            "Faire\n",
            "and\n"
          ]
        }
      ]
    },
    {
      "cell_type": "code",
      "source": [
        "AI = \"\"\"According to the father of Artificial Intelligence, John McCarthy, it is “The science and engineering of making intelligent machines, especially intelligent computer programs”.\n",
        "Artificial Intelligence is a way of making a computer, a computer-controlled robot, or a software think intelligently, in the similar manner the intelligent humans think.\n",
        "AI is accomplished by studying how human brain thinks, and how humans learn, decide, and work while trying to solve a problem, and then using the outcomes of this study as a basis of developing intelligent software and systems.\n",
        "Philosophy of AI\n",
        "\n",
        "While exploiting the power of the computer systems, the curiosity of human, lead him to wonder, “Can a machine think and behave like humans do?” Thus, the development of AI started with the intention of creating similar\n",
        "intelligence in machines that we find and regard high in humans.\n",
        "\n",
        "Goals of AI\n",
        "• To Create Expert Systems − The systems which exhibit intelligent behavior, learn, demonstrate, explain, and advice its users.\n",
        "• To Implement Human Intelligence in Machines − Creating systems that understand, think, learn, and behave like humans.\n",
        "\n",
        "What Contributes to AI?\n",
        "Artificial intelligence is a science and technology based on disciplines such as Computer Science, Biology, Psychology, Linguistics, Mathematics, and Engineering. A major thrust of AI is in the development of computer functions associated with human intelligence, such as reasoning, learning, and problem solving.\n",
        "Out of the following areas, one or multiple areas can contribute to build an intelligent system.\"\"\""
      ],
      "metadata": {
        "id": "eHI1Hg3a-1me"
      },
      "execution_count": 11,
      "outputs": []
    },
    {
      "cell_type": "code",
      "source": [
        "type(AI)"
      ],
      "metadata": {
        "colab": {
          "base_uri": "https://localhost:8080/"
        },
        "id": "k6dNSoSJ_NCQ",
        "outputId": "918a3d95-3e0e-4012-ec4f-ea58ee99fc0c"
      },
      "execution_count": 12,
      "outputs": [
        {
          "output_type": "execute_result",
          "data": {
            "text/plain": [
              "str"
            ]
          },
          "metadata": {},
          "execution_count": 12
        }
      ]
    },
    {
      "cell_type": "markdown",
      "source": [
        "**word_tokenize Function**\n",
        "\n",
        "Function from nltk, used for tokenizing a text into words."
      ],
      "metadata": {
        "id": "vV8tyGttBlMk"
      }
    },
    {
      "cell_type": "code",
      "source": [
        "from nltk.tokenize import word_tokenize   # Tokenization is the process of breaking down a text into smaller units, such as sentences or words."
      ],
      "metadata": {
        "id": "WMyrFpC2_TGQ"
      },
      "execution_count": 13,
      "outputs": []
    },
    {
      "cell_type": "code",
      "source": [
        "nltk.download('punkt')    # a pre-trained unsupervised machine learning model for tokenizing sentences into individual words.\n",
        "# It works by using an unsupervised learning algorithm to learn the most likely sentence boundaries based on the distribution of words in a given language.\n",
        "# In NLTK, used for sentence segmentation -> break a text into sentences"
      ],
      "metadata": {
        "colab": {
          "base_uri": "https://localhost:8080/"
        },
        "id": "37sUBKKX_jkJ",
        "outputId": "b315d394-f7de-431b-ea21-d86878797ee4"
      },
      "execution_count": 14,
      "outputs": [
        {
          "output_type": "stream",
          "name": "stderr",
          "text": [
            "[nltk_data] Downloading package punkt to /root/nltk_data...\n",
            "[nltk_data]   Unzipping tokenizers/punkt.zip.\n"
          ]
        },
        {
          "output_type": "execute_result",
          "data": {
            "text/plain": [
              "True"
            ]
          },
          "metadata": {},
          "execution_count": 14
        }
      ]
    },
    {
      "cell_type": "code",
      "source": [
        "AI_tokens = word_tokenize(AI)     #-> Saves as a list\n",
        "AI_tokens[5:20]"
      ],
      "metadata": {
        "colab": {
          "base_uri": "https://localhost:8080/"
        },
        "id": "fRWo9gX3_TKa",
        "outputId": "e2320133-b669-4416-a28a-0fcee8273d34"
      },
      "execution_count": 15,
      "outputs": [
        {
          "output_type": "execute_result",
          "data": {
            "text/plain": [
              "['Artificial',\n",
              " 'Intelligence',\n",
              " ',',\n",
              " 'John',\n",
              " 'McCarthy',\n",
              " ',',\n",
              " 'it',\n",
              " 'is',\n",
              " '“',\n",
              " 'The',\n",
              " 'science',\n",
              " 'and',\n",
              " 'engineering',\n",
              " 'of',\n",
              " 'making']"
            ]
          },
          "metadata": {},
          "execution_count": 15
        }
      ]
    },
    {
      "cell_type": "code",
      "source": [
        "print(type(AI_tokens))\n",
        "print(len(AI_tokens))"
      ],
      "metadata": {
        "colab": {
          "base_uri": "https://localhost:8080/"
        },
        "id": "9VIOlTLkAXqc",
        "outputId": "a85f8ff0-e911-44ff-86bf-5f77386d11b0"
      },
      "execution_count": 16,
      "outputs": [
        {
          "output_type": "stream",
          "name": "stdout",
          "text": [
            "<class 'list'>\n",
            "286\n"
          ]
        }
      ]
    },
    {
      "cell_type": "markdown",
      "source": [
        "**Frequency Distribution Class(FreqDist)**\n",
        "\n",
        "Class in NLTK that helps for analysis of frequency of each element in a dataset. Or, analyze the frequency of words in a text."
      ],
      "metadata": {
        "id": "Z-HqBE5cA4hZ"
      }
    },
    {
      "cell_type": "code",
      "source": [
        "from nltk.probability import FreqDist\n",
        "fdist = FreqDist()"
      ],
      "metadata": {
        "id": "JLwtxejY_TM-"
      },
      "execution_count": 17,
      "outputs": []
    },
    {
      "cell_type": "code",
      "source": [
        "for word in AI_tokens:\n",
        "  fdist[word.lower()] += 1\n",
        "fdist"
      ],
      "metadata": {
        "colab": {
          "base_uri": "https://localhost:8080/"
        },
        "id": "lrzJeDG4B18U",
        "outputId": "f98eac43-981d-4b1c-c26f-383aae1ac871"
      },
      "execution_count": 18,
      "outputs": [
        {
          "output_type": "execute_result",
          "data": {
            "text/plain": [
              "FreqDist({',': 30, 'of': 14, 'the': 13, 'and': 12, '.': 9, 'a': 9, 'to': 7, 'intelligence': 6, 'intelligent': 6, 'ai': 6, ...})"
            ]
          },
          "metadata": {},
          "execution_count": 18
        }
      ]
    },
    {
      "cell_type": "code",
      "source": [
        "# Checking the frequency of each word\n",
        "print(fdist['intelligence'])"
      ],
      "metadata": {
        "colab": {
          "base_uri": "https://localhost:8080/"
        },
        "id": "kluni0qrCcn0",
        "outputId": "fd77e397-e4f7-41b2-8a1c-5acd9b6e8413"
      },
      "execution_count": 19,
      "outputs": [
        {
          "output_type": "stream",
          "name": "stdout",
          "text": [
            "6\n"
          ]
        }
      ]
    },
    {
      "cell_type": "code",
      "source": [
        "print(len(fdist))"
      ],
      "metadata": {
        "colab": {
          "base_uri": "https://localhost:8080/"
        },
        "id": "6X2F-yQ9Ci5s",
        "outputId": "22f4678f-81b4-4e84-b0ad-3dac82a36dc6"
      },
      "execution_count": 20,
      "outputs": [
        {
          "output_type": "stream",
          "name": "stdout",
          "text": [
            "126\n"
          ]
        }
      ]
    },
    {
      "cell_type": "code",
      "source": [
        "#Top ten tokens with highest frequency\n",
        "\n",
        "fdist_top10 = fdist.most_common(10)\n",
        "print(fdist_top10)"
      ],
      "metadata": {
        "colab": {
          "base_uri": "https://localhost:8080/"
        },
        "id": "vq3mqUoYIVb7",
        "outputId": "f21ac850-cab7-4bbe-e305-64abfb88cff7"
      },
      "execution_count": 21,
      "outputs": [
        {
          "output_type": "stream",
          "name": "stdout",
          "text": [
            "[(',', 30), ('of', 14), ('the', 13), ('and', 12), ('.', 9), ('a', 9), ('to', 7), ('intelligence', 6), ('intelligent', 6), ('ai', 6)]\n"
          ]
        }
      ]
    },
    {
      "cell_type": "markdown",
      "source": [
        "**blankline_tokenize**\n",
        "- Tokenizing a text into chunks based on blank lines.\n",
        "- Designed to split a text into sections separated by one or more blank lines."
      ],
      "metadata": {
        "id": "uvWnAv4BIsNx"
      }
    },
    {
      "cell_type": "code",
      "source": [
        "from nltk.tokenize import blankline_tokenize\n",
        "AI_blank = blankline_tokenize(AI)\n",
        "len(AI_blank)"
      ],
      "metadata": {
        "colab": {
          "base_uri": "https://localhost:8080/"
        },
        "id": "9DUOEE3gIrYn",
        "outputId": "b8a21c53-3012-42d7-d8f2-8a340e0f409f"
      },
      "execution_count": 22,
      "outputs": [
        {
          "output_type": "execute_result",
          "data": {
            "text/plain": [
              "4"
            ]
          },
          "metadata": {},
          "execution_count": 22
        }
      ]
    },
    {
      "cell_type": "code",
      "source": [
        "AI_blank[0]"
      ],
      "metadata": {
        "colab": {
          "base_uri": "https://localhost:8080/",
          "height": 83
        },
        "id": "rGJlp84AIriX",
        "outputId": "ad4ca44c-9352-41e6-849c-175d044fa398"
      },
      "execution_count": 23,
      "outputs": [
        {
          "output_type": "execute_result",
          "data": {
            "text/plain": [
              "'According to the father of Artificial Intelligence, John McCarthy, it is “The science and engineering of making intelligent machines, especially intelligent computer programs”.\\nArtificial Intelligence is a way of making a computer, a computer-controlled robot, or a software think intelligently, in the similar manner the intelligent humans think.\\nAI is accomplished by studying how human brain thinks, and how humans learn, decide, and work while trying to solve a problem, and then using the outcomes of this study as a basis of developing intelligent software and systems.\\nPhilosophy of AI'"
            ],
            "application/vnd.google.colaboratory.intrinsic+json": {
              "type": "string"
            }
          },
          "metadata": {},
          "execution_count": 23
        }
      ]
    },
    {
      "cell_type": "markdown",
      "source": [
        "#Tokenization\n",
        "- Bigrams - Tokens of two consecutive written words as Bigrams\n",
        "- Trigrams - Tokens of three consecutive written words as Trigram\n",
        "- Ngrams - Tokens of any number of consecutive written words known as Ngrams."
      ],
      "metadata": {
        "id": "EJHchrVdKPKx"
      }
    },
    {
      "cell_type": "markdown",
      "source": [
        "**Bigrams** provide context by capturing relationships between adjacent words. They help understand how words are often used together. Use example: Predicting the next word in a sequence.\n",
        "\n",
        "**Trigrams** capture relationships between three words, offering more information about the structure and flow of the text. Use example: Part-of-Speech tagging and Named Entity Recognition."
      ],
      "metadata": {
        "id": "YjKLHFBdnO7G"
      }
    },
    {
      "cell_type": "code",
      "source": [
        "from nltk.util import bigrams, trigrams, ngrams"
      ],
      "metadata": {
        "id": "fOz9SBe2KhTZ"
      },
      "execution_count": 24,
      "outputs": []
    },
    {
      "cell_type": "code",
      "source": [
        "string = \"The best and most beautiful things in the world cannot be seen or even touched, they must be felt with the heart\"\n",
        "quotes_tokens = nltk.word_tokenize(string)\n",
        "quotes_tokens"
      ],
      "metadata": {
        "colab": {
          "base_uri": "https://localhost:8080/"
        },
        "id": "J5WyuWWwK1Ox",
        "outputId": "0e3b3c0c-fa9a-4d4e-f7fa-8801360d41b0"
      },
      "execution_count": 25,
      "outputs": [
        {
          "output_type": "execute_result",
          "data": {
            "text/plain": [
              "['The',\n",
              " 'best',\n",
              " 'and',\n",
              " 'most',\n",
              " 'beautiful',\n",
              " 'things',\n",
              " 'in',\n",
              " 'the',\n",
              " 'world',\n",
              " 'can',\n",
              " 'not',\n",
              " 'be',\n",
              " 'seen',\n",
              " 'or',\n",
              " 'even',\n",
              " 'touched',\n",
              " ',',\n",
              " 'they',\n",
              " 'must',\n",
              " 'be',\n",
              " 'felt',\n",
              " 'with',\n",
              " 'the',\n",
              " 'heart']"
            ]
          },
          "metadata": {},
          "execution_count": 25
        }
      ]
    },
    {
      "cell_type": "code",
      "source": [
        "# Create a Bigram\n",
        "quotes_bigrams = list(nltk.bigrams(quotes_tokens))\n",
        "print(quotes_bigrams)"
      ],
      "metadata": {
        "colab": {
          "base_uri": "https://localhost:8080/"
        },
        "id": "GGjsA57qLFFo",
        "outputId": "c106d4ff-bd25-4867-ab18-855076d813c3"
      },
      "execution_count": 26,
      "outputs": [
        {
          "output_type": "stream",
          "name": "stdout",
          "text": [
            "[('The', 'best'), ('best', 'and'), ('and', 'most'), ('most', 'beautiful'), ('beautiful', 'things'), ('things', 'in'), ('in', 'the'), ('the', 'world'), ('world', 'can'), ('can', 'not'), ('not', 'be'), ('be', 'seen'), ('seen', 'or'), ('or', 'even'), ('even', 'touched'), ('touched', ','), (',', 'they'), ('they', 'must'), ('must', 'be'), ('be', 'felt'), ('felt', 'with'), ('with', 'the'), ('the', 'heart')]\n"
          ]
        }
      ]
    },
    {
      "cell_type": "code",
      "source": [
        "# Create a Trigram\n",
        "quotes_trigrams = list(nltk.trigrams(quotes_tokens))\n",
        "print(quotes_trigrams)"
      ],
      "metadata": {
        "colab": {
          "base_uri": "https://localhost:8080/"
        },
        "id": "i5Tnw4uvmsWz",
        "outputId": "be1eb951-fd44-42f2-aebd-cc02fcf72787"
      },
      "execution_count": 29,
      "outputs": [
        {
          "output_type": "stream",
          "name": "stdout",
          "text": [
            "[('The', 'best', 'and'), ('best', 'and', 'most'), ('and', 'most', 'beautiful'), ('most', 'beautiful', 'things'), ('beautiful', 'things', 'in'), ('things', 'in', 'the'), ('in', 'the', 'world'), ('the', 'world', 'can'), ('world', 'can', 'not'), ('can', 'not', 'be'), ('not', 'be', 'seen'), ('be', 'seen', 'or'), ('seen', 'or', 'even'), ('or', 'even', 'touched'), ('even', 'touched', ','), ('touched', ',', 'they'), (',', 'they', 'must'), ('they', 'must', 'be'), ('must', 'be', 'felt'), ('be', 'felt', 'with'), ('felt', 'with', 'the'), ('with', 'the', 'heart')]\n"
          ]
        }
      ]
    },
    {
      "cell_type": "markdown",
      "source": [
        "#Ngrams\n",
        "\n",
        "```\n",
        "quotes_ngrams = list(nltk.ngrams(quotes_tokens, N))\n",
        "```\n",
        "\n"
      ],
      "metadata": {
        "id": "a8Cv4g3mobYb"
      }
    },
    {
      "cell_type": "code",
      "source": [
        "quotes_ngrams = list(nltk.ngrams(quotes_tokens, 5))\n",
        "quotes_ngrams"
      ],
      "metadata": {
        "colab": {
          "base_uri": "https://localhost:8080/"
        },
        "id": "Cv6ToyatodEE",
        "outputId": "669d01a9-d479-4727-e91c-190ade3ad402"
      },
      "execution_count": 34,
      "outputs": [
        {
          "output_type": "execute_result",
          "data": {
            "text/plain": [
              "[('The', 'best', 'and', 'most', 'beautiful'),\n",
              " ('best', 'and', 'most', 'beautiful', 'things'),\n",
              " ('and', 'most', 'beautiful', 'things', 'in'),\n",
              " ('most', 'beautiful', 'things', 'in', 'the'),\n",
              " ('beautiful', 'things', 'in', 'the', 'world'),\n",
              " ('things', 'in', 'the', 'world', 'can'),\n",
              " ('in', 'the', 'world', 'can', 'not'),\n",
              " ('the', 'world', 'can', 'not', 'be'),\n",
              " ('world', 'can', 'not', 'be', 'seen'),\n",
              " ('can', 'not', 'be', 'seen', 'or'),\n",
              " ('not', 'be', 'seen', 'or', 'even'),\n",
              " ('be', 'seen', 'or', 'even', 'touched'),\n",
              " ('seen', 'or', 'even', 'touched', ','),\n",
              " ('or', 'even', 'touched', ',', 'they'),\n",
              " ('even', 'touched', ',', 'they', 'must'),\n",
              " ('touched', ',', 'they', 'must', 'be'),\n",
              " (',', 'they', 'must', 'be', 'felt'),\n",
              " ('they', 'must', 'be', 'felt', 'with'),\n",
              " ('must', 'be', 'felt', 'with', 'the'),\n",
              " ('be', 'felt', 'with', 'the', 'heart')]"
            ]
          },
          "metadata": {},
          "execution_count": 34
        }
      ]
    },
    {
      "cell_type": "markdown",
      "source": [
        "#**Stemming**\n",
        "Normalize words into its base form or root form\n",
        "\n",
        "PorterStemmer is a stemming algorithm implemented in the NLTK library.\n",
        "Reduces words to its base or root form."
      ],
      "metadata": {
        "id": "FGWfQl4NouqI"
      }
    },
    {
      "cell_type": "code",
      "source": [
        "from nltk.stem import PorterStemmer\n",
        "pst = PorterStemmer()"
      ],
      "metadata": {
        "id": "qPdtAMnbpDEC"
      },
      "execution_count": 35,
      "outputs": []
    },
    {
      "cell_type": "code",
      "source": [
        "pst.stem(\"having\")"
      ],
      "metadata": {
        "colab": {
          "base_uri": "https://localhost:8080/",
          "height": 34
        },
        "id": "0eRVDnPApzUh",
        "outputId": "563eadc5-d19c-4ede-8ae4-1285578e1eea"
      },
      "execution_count": 36,
      "outputs": [
        {
          "output_type": "execute_result",
          "data": {
            "text/plain": [
              "'have'"
            ],
            "application/vnd.google.colaboratory.intrinsic+json": {
              "type": "string"
            }
          },
          "metadata": {},
          "execution_count": 36
        }
      ]
    },
    {
      "cell_type": "code",
      "source": [
        "words_to_stem = ['giving', 'give', 'given', 'gave']\n",
        "for words in words_to_stem:\n",
        "  print(words, \":\", pst.stem(words))"
      ],
      "metadata": {
        "colab": {
          "base_uri": "https://localhost:8080/"
        },
        "id": "JeSWIpuMp5XA",
        "outputId": "00d96c15-c5c9-484d-cf73-09a1cdd89902"
      },
      "execution_count": 37,
      "outputs": [
        {
          "output_type": "stream",
          "name": "stdout",
          "text": [
            "giving : give\n",
            "give : give\n",
            "given : given\n",
            "gave : gave\n"
          ]
        }
      ]
    },
    {
      "cell_type": "markdown",
      "source": [
        "**Lancaster Stemmer**\n",
        "\n",
        "More aggressive than the Porter Stemmer. Tends to be more liberal in its stemming and may produce shorter stems."
      ],
      "metadata": {
        "id": "rT2RkO81qSSF"
      }
    },
    {
      "cell_type": "code",
      "source": [
        "from nltk.stem import LancasterStemmer\n",
        "lanstem = LancasterStemmer()"
      ],
      "metadata": {
        "id": "3RNm_PZVqeQj"
      },
      "execution_count": 39,
      "outputs": []
    },
    {
      "cell_type": "code",
      "source": [
        "words_to_stem = ['giving', 'give', 'given', 'gave']\n",
        "for words in words_to_stem:\n",
        "  print(words,\":\",lanstem.stem(words))"
      ],
      "metadata": {
        "colab": {
          "base_uri": "https://localhost:8080/"
        },
        "id": "XqiLpXL_qqBo",
        "outputId": "142e5664-4516-469e-c75d-8f5b89139280"
      },
      "execution_count": 40,
      "outputs": [
        {
          "output_type": "stream",
          "name": "stdout",
          "text": [
            "giving : giv\n",
            "give : giv\n",
            "given : giv\n",
            "gave : gav\n"
          ]
        }
      ]
    },
    {
      "cell_type": "code",
      "source": [
        "words_to_stem = ['bringing', 'brought', 'bring', 'brinjal']\n",
        "for words in words_to_stem:\n",
        "  print(words, \":\", lanstem.stem(words))"
      ],
      "metadata": {
        "colab": {
          "base_uri": "https://localhost:8080/"
        },
        "id": "6Qn-GiOYq-sk",
        "outputId": "c65811c8-2aec-4d40-9bb4-b83a1aa1b4fc"
      },
      "execution_count": 41,
      "outputs": [
        {
          "output_type": "stream",
          "name": "stdout",
          "text": [
            "bringing : bring\n",
            "brought : brought\n",
            "bring : bring\n",
            "brinjal : brind\n"
          ]
        }
      ]
    },
    {
      "cell_type": "markdown",
      "source": [
        "**Snowbell Stemmer**\n",
        "\n",
        "This framework supports multiple languages. The language used must be specified."
      ],
      "metadata": {
        "id": "FZhm45TwsFXE"
      }
    },
    {
      "cell_type": "code",
      "source": [
        "from nltk.stem import SnowballStemmer\n",
        "sbst = SnowballStemmer('english')"
      ],
      "metadata": {
        "id": "cV_hy2MWsSaA"
      },
      "execution_count": 43,
      "outputs": []
    },
    {
      "cell_type": "code",
      "source": [
        "sbst.stem(\"Generation\")"
      ],
      "metadata": {
        "colab": {
          "base_uri": "https://localhost:8080/",
          "height": 34
        },
        "id": "7SPWKP6pseqS",
        "outputId": "c083e3a2-7e67-49a3-ad65-40c497948172"
      },
      "execution_count": 44,
      "outputs": [
        {
          "output_type": "execute_result",
          "data": {
            "text/plain": [
              "'generat'"
            ],
            "application/vnd.google.colaboratory.intrinsic+json": {
              "type": "string"
            }
          },
          "metadata": {},
          "execution_count": 44
        }
      ]
    },
    {
      "cell_type": "code",
      "source": [
        "words_to_stem = ['giving', 'gave','bringing', 'brough','having', 'have']\n",
        "for words in words_to_stem:\n",
        "  print(words, \":\", sbst.stem(words))"
      ],
      "metadata": {
        "colab": {
          "base_uri": "https://localhost:8080/"
        },
        "id": "0e_XZEYLsi37",
        "outputId": "bab03d93-fb91-4a7f-9d72-6cd047bf3e20"
      },
      "execution_count": 45,
      "outputs": [
        {
          "output_type": "stream",
          "name": "stdout",
          "text": [
            "giving : give\n",
            "gave : gave\n",
            "bringing : bring\n",
            "brough : brough\n",
            "having : have\n",
            "have : have\n"
          ]
        }
      ]
    },
    {
      "cell_type": "markdown",
      "source": [
        "#**Lemmatization**\n",
        "- Groups together different inflected forms of a word, called Lemma.\n",
        "- Somehow similar to Stemming, as it maps several words into one common root.\n",
        "- Output of Lemmatisation is a proper word."
      ],
      "metadata": {
        "id": "bhkEHeJCtQyl"
      }
    },
    {
      "cell_type": "code",
      "source": [],
      "metadata": {
        "id": "phRZGyM2tob9"
      },
      "execution_count": null,
      "outputs": []
    }
  ]
}