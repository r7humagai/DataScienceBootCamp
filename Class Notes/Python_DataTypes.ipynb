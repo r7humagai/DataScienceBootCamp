{
  "nbformat": 4,
  "nbformat_minor": 0,
  "metadata": {
    "colab": {
      "provenance": []
    },
    "kernelspec": {
      "name": "python3",
      "display_name": "Python 3"
    },
    "language_info": {
      "name": "python"
    }
  },
  "cells": [
    {
      "cell_type": "markdown",
      "source": [
        "# **[D3_S1] Python Data Types**"
      ],
      "metadata": {
        "id": "7NkWLxrN0OnH"
      }
    },
    {
      "cell_type": "markdown",
      "source": [
        "  1. Standard Data Type\n",
        "    1. Numbers\n",
        "      1. Integer\n",
        "      2. Float\n",
        "      3. Complex\n",
        "    2. Boolean\n",
        "    3. String\n",
        "  2. Data Structure Data Type\n",
        "    1. List\n",
        "    2. Tuple\n",
        "    3. Set\n",
        "    4. Dictionary"
      ],
      "metadata": {
        "id": "G-MZio1nCxAq"
      }
    },
    {
      "cell_type": "code",
      "source": [
        "str1 = \"This is a python programming class from 'Takeo'. \" + 'The topic we are discussing today is \"Data Types\"'\n",
        "print(str1)\n"
      ],
      "metadata": {
        "id": "D3ETLXgy3RqP"
      },
      "execution_count": null,
      "outputs": []
    },
    {
      "cell_type": "code",
      "source": [
        "# Integer : Any whole number (+ve or -ve) is called as integer\n",
        "\n",
        "int1 = 1947\n",
        "print(int1)\n",
        "print(type(int1))\n",
        "\n",
        "int1 = -1947\n",
        "print(int1)\n",
        "print(type(int1))"
      ],
      "metadata": {
        "colab": {
          "base_uri": "https://localhost:8080/"
        },
        "id": "059l3Yw1v_md",
        "outputId": "7b6c00ec-7078-4a59-fe6a-87756ed8f8c2"
      },
      "execution_count": null,
      "outputs": [
        {
          "output_type": "stream",
          "name": "stdout",
          "text": [
            "1947\n",
            "<class 'int'>\n",
            "-1947\n",
            "<class 'int'>\n"
          ]
        }
      ]
    },
    {
      "cell_type": "code",
      "source": [
        "# Float : Any combination of whole number and fractional number (+ve or -ve) is called as float.\n",
        "\n",
        "flt1 = 3.1415\n",
        "print(flt1)\n",
        "print(type(flt1))\n",
        "\n",
        "flt1 = -3.1415\n",
        "print(flt1)\n",
        "print(type(flt1))"
      ],
      "metadata": {
        "colab": {
          "base_uri": "https://localhost:8080/"
        },
        "id": "lD9PlrMSxM6e",
        "outputId": "7a0e819b-199a-47c5-a797-adce5badcf5a"
      },
      "execution_count": null,
      "outputs": [
        {
          "output_type": "stream",
          "name": "stdout",
          "text": [
            "3.1415\n",
            "<class 'float'>\n",
            "-3.1415\n",
            "<class 'float'>\n"
          ]
        }
      ]
    },
    {
      "cell_type": "code",
      "source": [
        "# Complex : Combination of integer or float and imagenary number (+ve or -ve) integer or float is called as compex\n",
        "\n",
        "cmplx1 = 2 + 3j\n",
        "print(cmplx1)\n",
        "print(type(cmplx1))\n",
        "\n",
        "cmplx1 = -2 - 3j\n",
        "print(cmplx1)\n",
        "print(type(cmplx1))\n"
      ],
      "metadata": {
        "colab": {
          "base_uri": "https://localhost:8080/"
        },
        "id": "EjYPiq69xzPr",
        "outputId": "ddd8b565-4e75-4d57-c370-5a338e47b67d"
      },
      "execution_count": null,
      "outputs": [
        {
          "output_type": "stream",
          "name": "stdout",
          "text": [
            "(2+3j)\n",
            "<class 'complex'>\n",
            "(-2-3j)\n",
            "<class 'complex'>\n"
          ]
        }
      ]
    },
    {
      "cell_type": "code",
      "source": [
        "# Boolean : True and False\n",
        "\n",
        "bool1 = True\n",
        "print(bool1)\n",
        "print(type(bool1))\n",
        "\n",
        "bool1 = False\n",
        "print(bool1)\n",
        "print(type(bool1))"
      ],
      "metadata": {
        "colab": {
          "base_uri": "https://localhost:8080/"
        },
        "id": "KnlSzq0gymiz",
        "outputId": "4034c1eb-8f51-4204-a241-0805b2a8f43b"
      },
      "execution_count": null,
      "outputs": [
        {
          "output_type": "stream",
          "name": "stdout",
          "text": [
            "True\n",
            "<class 'bool'>\n",
            "False\n",
            "<class 'bool'>\n"
          ]
        }
      ]
    },
    {
      "cell_type": "code",
      "source": [
        "# String\n",
        "# any combination inside single quotes\n",
        "# any combination inside double quotes\n",
        "# any combination inside triple single quotes\n",
        "# any combination inside triple doublr quotes\n",
        "\n",
        "\n",
        "str1 = 'Python Programming'\n",
        "print(str1)\n",
        "print(type(str1))\n",
        "\n",
        "str1 = \"Python Programming\"\n",
        "print(str1)\n",
        "print(type(str1))\n",
        "\n",
        "str1 = '''Python Programming'''\n",
        "print(str1)\n",
        "print(type(str1))\n",
        "\n",
        "str1 = \"\"\"Python Programming\"\"\"\n",
        "print(str1)\n",
        "print(type(str1))"
      ],
      "metadata": {
        "colab": {
          "base_uri": "https://localhost:8080/"
        },
        "id": "BMITIHOVzIaz",
        "outputId": "abba8283-167b-47b5-e1b9-ca3f0a3d8f14"
      },
      "execution_count": null,
      "outputs": [
        {
          "output_type": "stream",
          "name": "stdout",
          "text": [
            "Python Programming\n",
            "<class 'str'>\n",
            "Python Programming\n",
            "<class 'str'>\n",
            "Python Programming\n",
            "<class 'str'>\n",
            "Python Programming\n",
            "<class 'str'>\n"
          ]
        }
      ]
    },
    {
      "cell_type": "code",
      "source": [
        "\n",
        "str1 = '!@#$%^&*()'\n",
        "print(str1)\n",
        "print(type(str1))\n",
        "\n",
        "str1 = \"QW#%$&*(*))_+YIINK:\"\n",
        "print(str1)\n",
        "print(type(str1))\n",
        "\n",
        "str1 = '''Lion Tiger'''\n",
        "print(str1)\n",
        "print(type(str1))\n",
        "\n",
        "str1 = \"\"\"Python Programming\"\"\"\n",
        "print(str1)\n",
        "print(type(str1))"
      ],
      "metadata": {
        "colab": {
          "base_uri": "https://localhost:8080/"
        },
        "id": "Ki6K3b9O0J3E",
        "outputId": "9eeab75d-061d-43dd-82f8-c374353e0bda"
      },
      "execution_count": null,
      "outputs": [
        {
          "output_type": "stream",
          "name": "stdout",
          "text": [
            "!@#$%^&*()\n",
            "<class 'str'>\n",
            "QW#%$&*(*))_+YIINK:\n",
            "<class 'str'>\n",
            "Lion Tiger\n",
            "<class 'str'>\n",
            "Python Programming\n",
            "<class 'str'>\n"
          ]
        }
      ]
    },
    {
      "cell_type": "code",
      "source": [
        "str1 = \"\"\"My name is \"Anuurag A Edlabadkar\". I live in 'Pune'.\"\"\"\n",
        "print(str1)\n",
        "print(type(str1))\n",
        "\n",
        "str1 = '''My name is \"Anuurag A Edlabadkar\". I live in 'Pune'.'''\n",
        "print(str1)\n",
        "print(type(str1))"
      ],
      "metadata": {
        "colab": {
          "base_uri": "https://localhost:8080/"
        },
        "id": "QVN95s-u1klE",
        "outputId": "efaf47ae-a1d8-416d-c9ef-50c191f96838"
      },
      "execution_count": null,
      "outputs": [
        {
          "output_type": "stream",
          "name": "stdout",
          "text": [
            "My name is \"Anuurag A Edlabadkar\". I live in 'Pune'.\n",
            "<class 'str'>\n",
            "My name is \"Anuurag A Edlabadkar\". I live in 'Pune'.\n",
            "<class 'str'>\n"
          ]
        }
      ]
    },
    {
      "cell_type": "code",
      "source": [
        "# List\n",
        "#1. List is represented by square brackets []\n",
        "#2. List is mutable\n",
        "\n",
        "lst1 = [12,13,14,27,28]\n",
        "print(lst1)\n",
        "print(type(lst1))\n"
      ],
      "metadata": {
        "id": "OtvyZhrg4eJt"
      },
      "execution_count": null,
      "outputs": []
    },
    {
      "cell_type": "code",
      "source": [
        "# Tuple\n",
        "#1. Tuple is represented by circular bracket ()\n",
        "#2. Tupple is immutable\n",
        "\n",
        "tup1 = (1,2,3,4,5,6)\n",
        "print(tup1)\n",
        "print(type(tup1))\n"
      ],
      "metadata": {
        "id": "w9BdaVtz5WCJ"
      },
      "execution_count": null,
      "outputs": []
    },
    {
      "cell_type": "code",
      "source": [
        "# Set\n",
        "#1. Set is combination of unique values\n",
        "#2. Set is collection of unordered element\n",
        "#3. Set is represented by curly brackets {}\n",
        "#4. Set is mutable\n",
        "\n",
        "set1 = {'a', 'b', 'c', 'd', 'E', 'wekal;dskj', '$%#@', 1,2,3}\n",
        "print(set1)\n",
        "print(type(set1))\n"
      ],
      "metadata": {
        "id": "a2p2QRXz6YP_"
      },
      "execution_count": null,
      "outputs": []
    },
    {
      "cell_type": "code",
      "source": [
        "# Assignment: Print the list, tuple and set of random values and their types.\n",
        "\n",
        "lst2 = [1,'Cat', 'Dog', 45+5j, 78, True, 0, 1]\n",
        "tuple2 = (5, 'Car', 'Truck',False, 'Jeep', 75,7+4j, 'SUV')\n",
        "set2 = {'Java', 'Python', 38+7j,True,57, 'C++,', 88}\n",
        "\n",
        "print(lst2)\n",
        "print(type(lst2))\n",
        "\n",
        "print(tuple2)\n",
        "print(type(tuple2))\n",
        "\n",
        "print(set2)\n",
        "print(type(set2))"
      ],
      "metadata": {
        "colab": {
          "base_uri": "https://localhost:8080/"
        },
        "id": "LAKa3Eat7igo",
        "outputId": "daa99123-bcba-4508-fd40-e6b668a9e02f"
      },
      "execution_count": null,
      "outputs": [
        {
          "output_type": "stream",
          "name": "stdout",
          "text": [
            "[1, 'Cat', 'Dog', (45+5j), 78, True, 0, 1]\n",
            "<class 'list'>\n",
            "(5, 'Car', 'Truck', False, 'Jeep', 75, (7+4j), 'SUV')\n",
            "<class 'tuple'>\n",
            "{True, 'Python', 'C++,', 'Java', 88, 57, (38+7j)}\n",
            "<class 'set'>\n"
          ]
        }
      ]
    },
    {
      "cell_type": "code",
      "source": [
        "dict1 = {'a': 'apple',\n",
        "         'b': 'banana',\n",
        "         'c': 'mango'}\n",
        "print(dict1)\n",
        "print(type(dict1))\n",
        "\n",
        "# Assignment: Mixed dictionary types\n",
        "\n",
        "dict2 = {'mix1' :'red, orange, black, [5,6, red]',\n",
        "          'mix2' : 'Nissan, Honda, Hyundai',\n",
        "          'mix3' : 'New York, Toronto, New Orleans'}\n",
        "\n",
        "print(dict2)\n",
        "print(type(dict2))\n",
        "#Revision##\n"
      ],
      "metadata": {
        "colab": {
          "base_uri": "https://localhost:8080/"
        },
        "id": "TXlyXM4g-gzy",
        "outputId": "78ed31e8-2865-475b-9c0f-5b5705857650"
      },
      "execution_count": null,
      "outputs": [
        {
          "output_type": "stream",
          "name": "stdout",
          "text": [
            "{'a': 'apple', 'b': 'banana', 'c': 'mango'}\n",
            "<class 'dict'>\n",
            "{'mix1': 'red, orange, black, [5,6, red]', 'mix2': 'Nissan, Honda, Hyundai', 'mix3': 'New York, Toronto, New Orleans'}\n",
            "<class 'dict'>\n"
          ]
        }
      ]
    },
    {
      "cell_type": "code",
      "source": [
        "# Indexes\n",
        "str1 = 'Vetakatarasimharajuvaripeta' # Sample string with 28 characters\n",
        "print(str1)\n",
        "# Print Type\n",
        "print(type(str1))\n",
        "\n",
        "# Print length\n",
        "print (len(str1)) # Prints 27 because indexing starts with 0\n",
        "\n",
        "#Print indexed value\n",
        "print(str1[0])  #\n",
        "\n",
        "\n",
        "#Print first five values"
      ],
      "metadata": {
        "colab": {
          "base_uri": "https://localhost:8080/"
        },
        "id": "mwn5ECHWCIqA",
        "outputId": "4b37ad96-eeed-4ede-bcdd-57ef1096e3b6"
      },
      "execution_count": null,
      "outputs": [
        {
          "output_type": "stream",
          "name": "stdout",
          "text": [
            "Vetakatarasimharajuvaripeta\n",
            "<class 'str'>\n",
            "27\n",
            "V\n"
          ]
        }
      ]
    },
    {
      "cell_type": "code",
      "source": [
        "#*Assignment : Print Index value of String\n",
        "\n",
        "str2 = 'The city name is Thiruvanathpuram'\n",
        "\n",
        "print(str2)#Print String\n",
        "print(len(str2)) #Print length of the string\n",
        "\n",
        "#Print first five values\n",
        "print(str2[0])\n",
        "print(str2[1])\n",
        "print(str2[2])\n",
        "print(str2[3])\n",
        "print(str2[4])\n",
        "print(str2[5])\n"
      ],
      "metadata": {
        "colab": {
          "base_uri": "https://localhost:8080/"
        },
        "id": "6PxORUSbCvKR",
        "outputId": "9a0337b2-7c95-4d85-ccfc-c9924ea5d52a"
      },
      "execution_count": null,
      "outputs": [
        {
          "output_type": "stream",
          "name": "stdout",
          "text": [
            "The city name is Thiruvanathpuram\n",
            "33\n",
            "T\n",
            "h\n",
            "e\n",
            " \n",
            "c\n",
            "i\n"
          ]
        }
      ]
    },
    {
      "cell_type": "code",
      "source": [
        "# Slicing\n",
        "str2[0:7:1]\n",
        "str2[7:18:1] # Starting at 7, ending at 18\n",
        "#Slicing of existing String\n",
        "\n",
        "#1 is the step value, moving '1' value at a time\n",
        "\n",
        "#Example\n",
        "\n",
        "str3 = 'New York City'\n",
        "print(str3)\n",
        "print(len(str3))\n",
        "#Slicing String\n",
        "str3[0:3:1], str3[4:8:1], str3[9:13:1]\n",
        "\n",
        "\n",
        "\n",
        "\n"
      ],
      "metadata": {
        "colab": {
          "base_uri": "https://localhost:8080/"
        },
        "id": "p_0jL6hqEBbs",
        "outputId": "ab617093-061c-42aa-a007-1842ed2bec4c"
      },
      "execution_count": null,
      "outputs": [
        {
          "output_type": "stream",
          "name": "stdout",
          "text": [
            "New York City\n",
            "13\n"
          ]
        },
        {
          "output_type": "execute_result",
          "data": {
            "text/plain": [
              "('New', 'York', 'City')"
            ]
          },
          "metadata": {},
          "execution_count": 50
        }
      ]
    },
    {
      "cell_type": "code",
      "source": [
        "#Slicing Strings : More Examples\n",
        "str3[::]\n"
      ],
      "metadata": {
        "colab": {
          "base_uri": "https://localhost:8080/",
          "height": 35
        },
        "id": "Mi5bIqNOH5Ab",
        "outputId": "57384c9e-6fa7-43cf-9aed-c742b64a87e7"
      },
      "execution_count": null,
      "outputs": [
        {
          "output_type": "execute_result",
          "data": {
            "text/plain": [
              "'New York City'"
            ],
            "application/vnd.google.colaboratory.intrinsic+json": {
              "type": "string"
            }
          },
          "metadata": {},
          "execution_count": 51
        }
      ]
    },
    {
      "cell_type": "code",
      "source": [
        "str3[::]"
      ],
      "metadata": {
        "colab": {
          "base_uri": "https://localhost:8080/",
          "height": 35
        },
        "id": "sgdMJIKtInD4",
        "outputId": "34edf772-decd-466d-fdc7-e20c061db043"
      },
      "execution_count": null,
      "outputs": [
        {
          "output_type": "execute_result",
          "data": {
            "text/plain": [
              "'New York City'"
            ],
            "application/vnd.google.colaboratory.intrinsic+json": {
              "type": "string"
            }
          },
          "metadata": {},
          "execution_count": 52
        }
      ]
    },
    {
      "cell_type": "code",
      "source": [
        "str3[:7:]"
      ],
      "metadata": {
        "colab": {
          "base_uri": "https://localhost:8080/",
          "height": 35
        },
        "id": "YvQv0nJDIsgp",
        "outputId": "2aa0ac2e-ecb6-47b3-930f-eaa113208e50"
      },
      "execution_count": null,
      "outputs": [
        {
          "output_type": "execute_result",
          "data": {
            "text/plain": [
              "'New Yor'"
            ],
            "application/vnd.google.colaboratory.intrinsic+json": {
              "type": "string"
            }
          },
          "metadata": {},
          "execution_count": 53
        }
      ]
    },
    {
      "cell_type": "code",
      "source": [
        "str3[18::]"
      ],
      "metadata": {
        "colab": {
          "base_uri": "https://localhost:8080/",
          "height": 35
        },
        "id": "LhtRpUiKI7xJ",
        "outputId": "32f13a40-fa06-4487-f1e6-e2ba20d718b9"
      },
      "execution_count": null,
      "outputs": [
        {
          "output_type": "execute_result",
          "data": {
            "text/plain": [
              "''"
            ],
            "application/vnd.google.colaboratory.intrinsic+json": {
              "type": "string"
            }
          },
          "metadata": {},
          "execution_count": 54
        }
      ]
    },
    {
      "cell_type": "code",
      "source": [
        "str4 = 'Python Programming Language'\n",
        "\n",
        "print(str4[::]) #Print everything in the string\n",
        "\n",
        "print(str4[0::])  #Print starting from index 0\n",
        "\n",
        "print(str4[:len(str4):])  #Print the whole length\n",
        "\n",
        "print(str4[:26:]) # Print from 0th index to 26th\n",
        "\n",
        "print(str4[7::])  #Start printing from 7th index\n",
        "\n",
        "print(str4[19::]) #Start printing from 19th index\n",
        "\n",
        "print(str4[::2]) #Print 0th to last index but go to second character\n"
      ],
      "metadata": {
        "colab": {
          "base_uri": "https://localhost:8080/"
        },
        "id": "2tRBK98PJ5j_",
        "outputId": "adfc5dfa-4338-44bf-abdc-9b1576883914"
      },
      "execution_count": null,
      "outputs": [
        {
          "output_type": "stream",
          "name": "stdout",
          "text": [
            "Python Programming Language\n",
            "Python Programming Language\n",
            "Python Programming Language\n",
            "Python Programming Languag\n",
            "Programming Language\n",
            "Language\n",
            "Pto rgamn agae\n"
          ]
        }
      ]
    }
  ]
}