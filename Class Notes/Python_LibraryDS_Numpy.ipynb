{
  "nbformat": 4,
  "nbformat_minor": 0,
  "metadata": {
    "colab": {
      "provenance": [],
      "authorship_tag": "ABX9TyNrx43GavxYbOymxCqaQ2Qb"
    },
    "kernelspec": {
      "name": "python3",
      "display_name": "Python 3"
    },
    "language_info": {
      "name": "python"
    }
  },
  "cells": [
    {
      "cell_type": "markdown",
      "source": [
        "**Python Libraries: Numpy**"
      ],
      "metadata": {
        "id": "h836Vx64sTzO"
      }
    },
    {
      "cell_type": "markdown",
      "source": [
        " *collection of modules that are linked together is also known as a Python library. It has code bundles that can be used again and again in different programs. For programmers, it makes Python programming easier and simpler. Since then, we will not need to compose the same code for various projects.*"
      ],
      "metadata": {
        "id": "cCLP0j8Bnptj"
      }
    },
    {
      "cell_type": "code",
      "source": [
        "import numpy as np"
      ],
      "metadata": {
        "id": "Nbfcannwsn4W"
      },
      "execution_count": 2,
      "outputs": []
    },
    {
      "cell_type": "code",
      "source": [
        "print(np.__version__)\n",
        "np.show_config()"
      ],
      "metadata": {
        "id": "eY-cUQSXs5UT",
        "colab": {
          "base_uri": "https://localhost:8080/"
        },
        "outputId": "9948ae4f-d8f0-4841-f70c-f6ce1f652d5e"
      },
      "execution_count": 3,
      "outputs": [
        {
          "output_type": "stream",
          "name": "stdout",
          "text": [
            "1.23.5\n",
            "openblas64__info:\n",
            "    libraries = ['openblas64_', 'openblas64_']\n",
            "    library_dirs = ['/usr/local/lib']\n",
            "    language = c\n",
            "    define_macros = [('HAVE_CBLAS', None), ('BLAS_SYMBOL_SUFFIX', '64_'), ('HAVE_BLAS_ILP64', None)]\n",
            "    runtime_library_dirs = ['/usr/local/lib']\n",
            "blas_ilp64_opt_info:\n",
            "    libraries = ['openblas64_', 'openblas64_']\n",
            "    library_dirs = ['/usr/local/lib']\n",
            "    language = c\n",
            "    define_macros = [('HAVE_CBLAS', None), ('BLAS_SYMBOL_SUFFIX', '64_'), ('HAVE_BLAS_ILP64', None)]\n",
            "    runtime_library_dirs = ['/usr/local/lib']\n",
            "openblas64__lapack_info:\n",
            "    libraries = ['openblas64_', 'openblas64_']\n",
            "    library_dirs = ['/usr/local/lib']\n",
            "    language = c\n",
            "    define_macros = [('HAVE_CBLAS', None), ('BLAS_SYMBOL_SUFFIX', '64_'), ('HAVE_BLAS_ILP64', None), ('HAVE_LAPACKE', None)]\n",
            "    runtime_library_dirs = ['/usr/local/lib']\n",
            "lapack_ilp64_opt_info:\n",
            "    libraries = ['openblas64_', 'openblas64_']\n",
            "    library_dirs = ['/usr/local/lib']\n",
            "    language = c\n",
            "    define_macros = [('HAVE_CBLAS', None), ('BLAS_SYMBOL_SUFFIX', '64_'), ('HAVE_BLAS_ILP64', None), ('HAVE_LAPACKE', None)]\n",
            "    runtime_library_dirs = ['/usr/local/lib']\n",
            "Supported SIMD extensions in this NumPy install:\n",
            "    baseline = SSE,SSE2,SSE3\n",
            "    found = SSSE3,SSE41,POPCNT,SSE42,AVX,F16C,FMA3,AVX2\n",
            "    not found = AVX512F,AVX512CD,AVX512_KNL,AVX512_KNM,AVX512_SKX,AVX512_CLX,AVX512_CNL,AVX512_ICL\n"
          ]
        }
      ]
    },
    {
      "cell_type": "code",
      "source": [
        "v = np.zeros(10)\n",
        "print(v)"
      ],
      "metadata": {
        "colab": {
          "base_uri": "https://localhost:8080/"
        },
        "id": "jzA2oYiQs-L8",
        "outputId": "d91bf2f4-b8d6-45a5-9a00-adb21797dac5"
      },
      "execution_count": 4,
      "outputs": [
        {
          "output_type": "stream",
          "name": "stdout",
          "text": [
            "[0. 0. 0. 0. 0. 0. 0. 0. 0. 0.]\n"
          ]
        }
      ]
    },
    {
      "cell_type": "code",
      "source": [
        "# Create a of size 10\n",
        "v = np.zeros(10)\n",
        "v[4] = 1\n",
        "print(v)\n",
        "print(type(v))"
      ],
      "metadata": {
        "colab": {
          "base_uri": "https://localhost:8080/"
        },
        "id": "2TO5Cy-muBkH",
        "outputId": "8b44845c-ac2b-4970-82a2-74b1b2ac0bba"
      },
      "execution_count": 5,
      "outputs": [
        {
          "output_type": "stream",
          "name": "stdout",
          "text": [
            "[0. 0. 0. 0. 1. 0. 0. 0. 0. 0.]\n",
            "<class 'numpy.ndarray'>\n"
          ]
        }
      ]
    },
    {
      "cell_type": "code",
      "source": [
        "v = np.arange(50)     #. arange -> range\n",
        "print(v)\n",
        "v = v[::-1]\n",
        "print(v)"
      ],
      "metadata": {
        "colab": {
          "base_uri": "https://localhost:8080/"
        },
        "id": "SAM8AXFPwEhU",
        "outputId": "6829d091-7d83-4b98-914b-807404148f11"
      },
      "execution_count": 6,
      "outputs": [
        {
          "output_type": "stream",
          "name": "stdout",
          "text": [
            "[ 0  1  2  3  4  5  6  7  8  9 10 11 12 13 14 15 16 17 18 19 20 21 22 23\n",
            " 24 25 26 27 28 29 30 31 32 33 34 35 36 37 38 39 40 41 42 43 44 45 46 47\n",
            " 48 49]\n",
            "[49 48 47 46 45 44 43 42 41 40 39 38 37 36 35 34 33 32 31 30 29 28 27 26\n",
            " 25 24 23 22 21 20 19 18 17 16 15 14 13 12 11 10  9  8  7  6  5  4  3  2\n",
            "  1  0]\n"
          ]
        }
      ]
    },
    {
      "cell_type": "code",
      "source": [
        "vector = np.array([1,2,3])\n",
        "print(vector)\n",
        "\n",
        "print(vector[::-1])\n",
        "\n",
        "vector2 = np.arange(20)\n",
        "print(vector2)\n",
        "\n"
      ],
      "metadata": {
        "colab": {
          "base_uri": "https://localhost:8080/"
        },
        "id": "YOGgzxHIwKMd",
        "outputId": "1c8dc89b-7c4b-4d1d-94a3-cf54b9493030"
      },
      "execution_count": 7,
      "outputs": [
        {
          "output_type": "stream",
          "name": "stdout",
          "text": [
            "[1 2 3]\n",
            "[3 2 1]\n",
            "[ 0  1  2  3  4  5  6  7  8  9 10 11 12 13 14 15 16 17 18 19]\n"
          ]
        }
      ]
    },
    {
      "cell_type": "markdown",
      "source": [
        "**2D Array in NUMPY**"
      ],
      "metadata": {
        "id": "jp8XNSNBx9gz"
      }
    },
    {
      "cell_type": "code",
      "source": [
        "v = np.arange(9).reshape(3,3)   #. 2D data\n",
        "print(v)"
      ],
      "metadata": {
        "colab": {
          "base_uri": "https://localhost:8080/"
        },
        "id": "skVe0jENxk_K",
        "outputId": "cfa52dc7-9a94-4eb7-d4d9-98f97898fe50"
      },
      "execution_count": 8,
      "outputs": [
        {
          "output_type": "stream",
          "name": "stdout",
          "text": [
            "[[0 1 2]\n",
            " [3 4 5]\n",
            " [6 7 8]]\n"
          ]
        }
      ]
    },
    {
      "cell_type": "code",
      "source": [
        "# Function: Non-Zero, nonzero()\n",
        "nz = np.nonzero([1,0,0,0,3,0,0,0,3,0,2])\n",
        "print(nz)                                   # Returns indexes of non-zero values"
      ],
      "metadata": {
        "colab": {
          "base_uri": "https://localhost:8080/"
        },
        "id": "nQ7KoIhMxfmX",
        "outputId": "f26f339f-ad4c-4c9d-d8d0-937c6146533b"
      },
      "execution_count": 9,
      "outputs": [
        {
          "output_type": "stream",
          "name": "stdout",
          "text": [
            "(array([ 0,  4,  8, 10]),)\n"
          ]
        }
      ]
    },
    {
      "cell_type": "code",
      "source": [
        "# Identity Matrix\n",
        "\n",
        "v = np.eye(5)\n",
        "print(v)"
      ],
      "metadata": {
        "colab": {
          "base_uri": "https://localhost:8080/"
        },
        "id": "HKa2Ijmayno3",
        "outputId": "3f7b0c8c-4c09-4fcb-8a15-a6724d486165"
      },
      "execution_count": 10,
      "outputs": [
        {
          "output_type": "stream",
          "name": "stdout",
          "text": [
            "[[1. 0. 0. 0. 0.]\n",
            " [0. 1. 0. 0. 0.]\n",
            " [0. 0. 1. 0. 0.]\n",
            " [0. 0. 0. 1. 0.]\n",
            " [0. 0. 0. 0. 1.]]\n"
          ]
        }
      ]
    },
    {
      "cell_type": "code",
      "source": [
        "v = np.random.random(10)\n",
        "print(v)"
      ],
      "metadata": {
        "id": "YB3g5sSQzJ8E",
        "colab": {
          "base_uri": "https://localhost:8080/"
        },
        "outputId": "7a653df7-4be9-4436-b23d-f2d818467565"
      },
      "execution_count": 11,
      "outputs": [
        {
          "output_type": "stream",
          "name": "stdout",
          "text": [
            "[0.5904229  0.15101163 0.68765594 0.23613477 0.3505516  0.6190361\n",
            " 0.8190805  0.1090786  0.79662511 0.75114492]\n"
          ]
        }
      ]
    },
    {
      "cell_type": "markdown",
      "source": [
        "*Random Functions in Python*\n",
        "\n",
        "*       *np.random -> NumPuy submodule ro random number generation*\n",
        "*   *random() -> function that generates random numbers from a uniform distribution over the interval[0,1)*\n",
        "*   *(2,2,2) -> single tuple specifying the shape of the desired 3D array. -> create a 3D array with dimensions 2 x 2 x 2*\n",
        "\n",
        "\n",
        "\n"
      ],
      "metadata": {
        "id": "5yg0DP0f0RNd"
      }
    },
    {
      "cell_type": "code",
      "source": [
        "v = np.random.random((2,2,2))\n",
        "print(v)"
      ],
      "metadata": {
        "colab": {
          "base_uri": "https://localhost:8080/"
        },
        "id": "Vu2LS_zF0Vn4",
        "outputId": "a03bb61d-e767-4eee-c1fe-cc7b1f5e2265"
      },
      "execution_count": 12,
      "outputs": [
        {
          "output_type": "stream",
          "name": "stdout",
          "text": [
            "[[[0.69274077 0.01367434]\n",
            "  [0.18496117 0.06531442]]\n",
            "\n",
            " [[0.17077019 0.96547495]\n",
            "  [0.93034467 0.93183443]]]\n"
          ]
        }
      ]
    },
    {
      "cell_type": "code",
      "source": [
        "v = np.random.random((5,5,5)) #. -> 5D array dimension of 5 x 5 x5\n",
        "print(v)"
      ],
      "metadata": {
        "id": "4n-2phr01YrI",
        "colab": {
          "base_uri": "https://localhost:8080/"
        },
        "outputId": "ce7e22f7-ad86-42d4-bbb6-35e7650a35d9"
      },
      "execution_count": 13,
      "outputs": [
        {
          "output_type": "stream",
          "name": "stdout",
          "text": [
            "[[[3.63778265e-01 1.69229585e-01 7.68244015e-01 6.75939484e-01\n",
            "   5.77123768e-01]\n",
            "  [5.79730100e-01 2.56328885e-01 8.57094360e-01 1.36038851e-01\n",
            "   7.97639131e-01]\n",
            "  [6.22677201e-01 6.53831322e-01 1.40351092e-01 5.40802010e-01\n",
            "   3.92500276e-02]\n",
            "  [8.91798341e-02 5.59331037e-01 1.70459354e-01 6.42353040e-01\n",
            "   3.72952966e-01]\n",
            "  [1.60159719e-01 5.78034371e-01 7.72580109e-01 3.27921959e-01\n",
            "   3.40844067e-01]]\n",
            "\n",
            " [[1.77562073e-01 7.45079387e-01 8.90741785e-01 6.20852923e-01\n",
            "   7.87664222e-01]\n",
            "  [7.71457945e-01 2.16791803e-01 6.93631430e-01 4.25665377e-01\n",
            "   2.87981424e-01]\n",
            "  [1.98735566e-01 7.33835085e-01 5.56716864e-01 8.53158797e-01\n",
            "   9.18249069e-01]\n",
            "  [3.74868087e-01 1.35822266e-01 5.37960168e-01 2.72470453e-01\n",
            "   3.33209958e-01]\n",
            "  [6.30982381e-01 6.99235285e-02 5.66615663e-01 2.31567764e-01\n",
            "   7.10346812e-01]]\n",
            "\n",
            " [[7.71770714e-01 6.31576176e-01 6.31741201e-01 2.09682715e-01\n",
            "   8.98778273e-01]\n",
            "  [4.94444623e-01 2.94655766e-01 5.26893834e-01 9.60176948e-01\n",
            "   8.71494540e-01]\n",
            "  [5.80616142e-01 3.65632788e-01 1.77390401e-01 6.10470564e-01\n",
            "   9.35086087e-01]\n",
            "  [5.71363370e-05 8.62040937e-01 3.25383736e-01 5.58312137e-01\n",
            "   7.88574360e-01]\n",
            "  [1.54284677e-01 3.01366875e-01 5.06766072e-01 3.58172361e-01\n",
            "   2.20735785e-01]]\n",
            "\n",
            " [[1.34142488e-01 8.14927639e-01 3.27499844e-01 6.18362925e-01\n",
            "   1.48055329e-01]\n",
            "  [1.71830498e-01 1.92638148e-01 9.13385487e-01 6.58970630e-01\n",
            "   3.19994205e-01]\n",
            "  [4.49510790e-01 6.86885033e-01 8.38238791e-02 9.53159656e-01\n",
            "   2.40275368e-01]\n",
            "  [3.71113182e-01 4.68107290e-01 6.47517093e-02 4.52871681e-01\n",
            "   2.82161984e-01]\n",
            "  [1.73518992e-01 9.68803172e-01 1.31169337e-02 1.65969006e-01\n",
            "   1.08550418e-02]]\n",
            "\n",
            " [[6.01138744e-01 8.85393590e-01 6.38106027e-01 9.03155911e-01\n",
            "   3.06151701e-01]\n",
            "  [4.32803984e-02 5.77513940e-02 7.45402561e-01 7.00383262e-01\n",
            "   9.31968049e-01]\n",
            "  [8.70431963e-01 8.59075017e-01 3.12333666e-01 5.48325915e-02\n",
            "   4.30106541e-01]\n",
            "  [4.24851963e-02 9.38663864e-01 7.02408296e-01 4.22987050e-01\n",
            "   6.82829780e-01]\n",
            "  [8.89232422e-02 8.22466095e-01 7.46456754e-01 2.11173403e-01\n",
            "   1.22876255e-01]]]\n"
          ]
        }
      ]
    },
    {
      "cell_type": "code",
      "source": [
        "#. Funcitons: min and max\n",
        "v = np.random.random((10,10))\n",
        "#print(v)\n",
        "v_max, v_min = v.max(), v.min()\n",
        "print(v_max, v_min)"
      ],
      "metadata": {
        "colab": {
          "base_uri": "https://localhost:8080/"
        },
        "id": "_AvS8rOx1nxF",
        "outputId": "62781bb5-71c3-4bdb-8580-73767466925c"
      },
      "execution_count": 14,
      "outputs": [
        {
          "output_type": "stream",
          "name": "stdout",
          "text": [
            "0.9890231310625175 0.001795725252203506\n"
          ]
        }
      ]
    },
    {
      "cell_type": "code",
      "source": [
        "v = np.random.random(30)\n",
        "v_mean = v.mean()\n",
        "print(v_mean)\n"
      ],
      "metadata": {
        "colab": {
          "base_uri": "https://localhost:8080/"
        },
        "id": "DE7k5b5-2Pmv",
        "outputId": "2d51f68f-c06d-4a17-8e6b-5e935169a215"
      },
      "execution_count": 15,
      "outputs": [
        {
          "output_type": "stream",
          "name": "stdout",
          "text": [
            "0.4754880535455507\n"
          ]
        }
      ]
    },
    {
      "cell_type": "code",
      "source": [
        "v = np.ones((10,10))\n",
        "print(v)\n",
        "v[1:-1, 1:-1] = 0\n",
        "print(v)\n"
      ],
      "metadata": {
        "id": "XVBE8D-d2nhx",
        "colab": {
          "base_uri": "https://localhost:8080/"
        },
        "outputId": "824ba75a-2db3-4791-d2ff-fcedd3384666"
      },
      "execution_count": 16,
      "outputs": [
        {
          "output_type": "stream",
          "name": "stdout",
          "text": [
            "[[1. 1. 1. 1. 1. 1. 1. 1. 1. 1.]\n",
            " [1. 1. 1. 1. 1. 1. 1. 1. 1. 1.]\n",
            " [1. 1. 1. 1. 1. 1. 1. 1. 1. 1.]\n",
            " [1. 1. 1. 1. 1. 1. 1. 1. 1. 1.]\n",
            " [1. 1. 1. 1. 1. 1. 1. 1. 1. 1.]\n",
            " [1. 1. 1. 1. 1. 1. 1. 1. 1. 1.]\n",
            " [1. 1. 1. 1. 1. 1. 1. 1. 1. 1.]\n",
            " [1. 1. 1. 1. 1. 1. 1. 1. 1. 1.]\n",
            " [1. 1. 1. 1. 1. 1. 1. 1. 1. 1.]\n",
            " [1. 1. 1. 1. 1. 1. 1. 1. 1. 1.]]\n",
            "[[1. 1. 1. 1. 1. 1. 1. 1. 1. 1.]\n",
            " [1. 0. 0. 0. 0. 0. 0. 0. 0. 1.]\n",
            " [1. 0. 0. 0. 0. 0. 0. 0. 0. 1.]\n",
            " [1. 0. 0. 0. 0. 0. 0. 0. 0. 1.]\n",
            " [1. 0. 0. 0. 0. 0. 0. 0. 0. 1.]\n",
            " [1. 0. 0. 0. 0. 0. 0. 0. 0. 1.]\n",
            " [1. 0. 0. 0. 0. 0. 0. 0. 0. 1.]\n",
            " [1. 0. 0. 0. 0. 0. 0. 0. 0. 1.]\n",
            " [1. 0. 0. 0. 0. 0. 0. 0. 0. 1.]\n",
            " [1. 1. 1. 1. 1. 1. 1. 1. 1. 1.]]\n"
          ]
        }
      ]
    },
    {
      "cell_type": "code",
      "source": [
        "# Create a 10 x 10 matrix all with the values of 0 and replace inner values with 1\n",
        "\n",
        "v = np.zeros((10,10))\n",
        "print(\"Before \\n\" , v, \"\\n\")\n",
        "v[1:-1, 1:-1] = 1\n",
        "print(\"After: \\n\", v)"
      ],
      "metadata": {
        "id": "6JosJvOL3Sxa",
        "colab": {
          "base_uri": "https://localhost:8080/"
        },
        "outputId": "ca93f3eb-77f6-4c0a-d921-411ac66ef840"
      },
      "execution_count": 17,
      "outputs": [
        {
          "output_type": "stream",
          "name": "stdout",
          "text": [
            "Before \n",
            " [[0. 0. 0. 0. 0. 0. 0. 0. 0. 0.]\n",
            " [0. 0. 0. 0. 0. 0. 0. 0. 0. 0.]\n",
            " [0. 0. 0. 0. 0. 0. 0. 0. 0. 0.]\n",
            " [0. 0. 0. 0. 0. 0. 0. 0. 0. 0.]\n",
            " [0. 0. 0. 0. 0. 0. 0. 0. 0. 0.]\n",
            " [0. 0. 0. 0. 0. 0. 0. 0. 0. 0.]\n",
            " [0. 0. 0. 0. 0. 0. 0. 0. 0. 0.]\n",
            " [0. 0. 0. 0. 0. 0. 0. 0. 0. 0.]\n",
            " [0. 0. 0. 0. 0. 0. 0. 0. 0. 0.]\n",
            " [0. 0. 0. 0. 0. 0. 0. 0. 0. 0.]] \n",
            "\n",
            "After: \n",
            " [[0. 0. 0. 0. 0. 0. 0. 0. 0. 0.]\n",
            " [0. 1. 1. 1. 1. 1. 1. 1. 1. 0.]\n",
            " [0. 1. 1. 1. 1. 1. 1. 1. 1. 0.]\n",
            " [0. 1. 1. 1. 1. 1. 1. 1. 1. 0.]\n",
            " [0. 1. 1. 1. 1. 1. 1. 1. 1. 0.]\n",
            " [0. 1. 1. 1. 1. 1. 1. 1. 1. 0.]\n",
            " [0. 1. 1. 1. 1. 1. 1. 1. 1. 0.]\n",
            " [0. 1. 1. 1. 1. 1. 1. 1. 1. 0.]\n",
            " [0. 1. 1. 1. 1. 1. 1. 1. 1. 0.]\n",
            " [0. 0. 0. 0. 0. 0. 0. 0. 0. 0.]]\n"
          ]
        }
      ]
    },
    {
      "cell_type": "code",
      "source": [
        "v = np.ones((5,5))\n",
        "print(v)\n",
        "print()\n",
        "v = np.pad(v, pad_width = 1 , mode=\"constant\", constant_values = 9)   # Padding -> Adding extra layer with border\n",
        "print(v)"
      ],
      "metadata": {
        "id": "S78leC143mvg",
        "colab": {
          "base_uri": "https://localhost:8080/"
        },
        "outputId": "f3f8791b-0366-4d47-f027-a491df3f0364"
      },
      "execution_count": 18,
      "outputs": [
        {
          "output_type": "stream",
          "name": "stdout",
          "text": [
            "[[1. 1. 1. 1. 1.]\n",
            " [1. 1. 1. 1. 1.]\n",
            " [1. 1. 1. 1. 1.]\n",
            " [1. 1. 1. 1. 1.]\n",
            " [1. 1. 1. 1. 1.]]\n",
            "\n",
            "[[9. 9. 9. 9. 9. 9. 9.]\n",
            " [9. 1. 1. 1. 1. 1. 9.]\n",
            " [9. 1. 1. 1. 1. 1. 9.]\n",
            " [9. 1. 1. 1. 1. 1. 9.]\n",
            " [9. 1. 1. 1. 1. 1. 9.]\n",
            " [9. 1. 1. 1. 1. 1. 9.]\n",
            " [9. 9. 9. 9. 9. 9. 9.]]\n"
          ]
        }
      ]
    },
    {
      "cell_type": "code",
      "source": [
        "'''\n",
        "Notes:\n",
        "'''\n",
        "# nan =/= zero(0)\n",
        "#. Dont compare with 0"
      ],
      "metadata": {
        "id": "9FpKX8MY6kHC"
      },
      "execution_count": 19,
      "outputs": []
    },
    {
      "cell_type": "code",
      "source": [
        "print('1.',0 * np.nan)\n",
        "print('2.',np.nan == np.nan)\n",
        "print('3.',np.inf > np.nan)\n",
        "print('4.',np.nan - np.nan)\n",
        "print('5.',0.3 == 3 * 0.1)\n"
      ],
      "metadata": {
        "id": "Uia7SLbE7CuC",
        "colab": {
          "base_uri": "https://localhost:8080/"
        },
        "outputId": "4e0e1e04-56d0-4b25-b2e8-9f564db585ea"
      },
      "execution_count": 20,
      "outputs": [
        {
          "output_type": "stream",
          "name": "stdout",
          "text": [
            "1. nan\n",
            "2. False\n",
            "3. False\n",
            "4. nan\n",
            "5. False\n"
          ]
        }
      ]
    },
    {
      "cell_type": "code",
      "source": [
        "print(0.1 * 3)"
      ],
      "metadata": {
        "id": "8qzGDaoQ8AxT",
        "colab": {
          "base_uri": "https://localhost:8080/"
        },
        "outputId": "c55e17f8-cb49-4f42-df3d-31937f86d631"
      },
      "execution_count": 21,
      "outputs": [
        {
          "output_type": "stream",
          "name": "stdout",
          "text": [
            "0.30000000000000004\n"
          ]
        }
      ]
    },
    {
      "cell_type": "code",
      "source": [
        "# Exploring with nan\n",
        "\n",
        "#nan in arrays\n",
        "\n",
        "v = np.array([1,2,3, np.nan, 5])\n",
        "print(v)\n",
        "isnan = np.isnan(v) # Identifies nan in an array\n"
      ],
      "metadata": {
        "id": "3RRBtcsU8gtD",
        "colab": {
          "base_uri": "https://localhost:8080/"
        },
        "outputId": "693a053e-e145-4062-d874-c1fe835a2f12"
      },
      "execution_count": 22,
      "outputs": [
        {
          "output_type": "stream",
          "name": "stdout",
          "text": [
            "[ 1.  2.  3. nan  5.]\n"
          ]
        }
      ]
    },
    {
      "cell_type": "code",
      "source": [
        "# Two arrays with nan in them and adding the arrays\n",
        "\n",
        "v1 = np.array([5,6,np.nan,np.nan,np.nan])\n",
        "v2 = np.array([2,3,10,np.nan,3])\n",
        "\n",
        "v_add = v1+v2\n",
        "print(v_add)\n",
        "# Adding any value to nan will make it nan\n",
        "\n",
        "v_substract = v1-v2\n",
        "print(v_substract)\n",
        "# if one of the values is nan, the output value will be nan\n",
        "\n",
        "v_multiply = v1*v2\n",
        "print(v_multiply)\n",
        "# Multiplication of any number will also result in the result to be nan\n",
        "\n"
      ],
      "metadata": {
        "id": "YKQCOnUJ877K",
        "colab": {
          "base_uri": "https://localhost:8080/"
        },
        "outputId": "968bf244-d3bd-40b9-8aac-94c8235f9d06"
      },
      "execution_count": 23,
      "outputs": [
        {
          "output_type": "stream",
          "name": "stdout",
          "text": [
            "[ 7.  9. nan nan nan]\n",
            "[ 3.  3. nan nan nan]\n",
            "[10. 18. nan nan nan]\n"
          ]
        }
      ]
    },
    {
      "cell_type": "markdown",
      "source": [
        "**Create a 5 X 5 matrix with values 1,2,3,4 diagonally**"
      ],
      "metadata": {
        "id": "fCfTHFbfX-M9"
      }
    },
    {
      "cell_type": "code",
      "source": [
        "#. Steps: create a identity matrix with eye()function\n",
        "#.        get a diagonal values array (1,2,3,4,5)\n",
        "#.        multiply the identity matrix with diagonal values\n",
        "\n",
        "id_matrix = np.eye(5,5)\n",
        "diagonal_values = np.array([1,2,3,4,5])\n",
        "output_matrix = id_matrix * diagonal_values\n",
        "\n",
        "print(id_matrix)        #. Identity Matrix\n",
        "print()\n",
        "print(output_matrix)    #. After multiplication"
      ],
      "metadata": {
        "id": "XuMpp5kO9KLY",
        "colab": {
          "base_uri": "https://localhost:8080/"
        },
        "outputId": "b2511e77-3877-4600-f826-10e5335b6730"
      },
      "execution_count": 24,
      "outputs": [
        {
          "output_type": "stream",
          "name": "stdout",
          "text": [
            "[[1. 0. 0. 0. 0.]\n",
            " [0. 1. 0. 0. 0.]\n",
            " [0. 0. 1. 0. 0.]\n",
            " [0. 0. 0. 1. 0.]\n",
            " [0. 0. 0. 0. 1.]]\n",
            "\n",
            "[[1. 0. 0. 0. 0.]\n",
            " [0. 2. 0. 0. 0.]\n",
            " [0. 0. 3. 0. 0.]\n",
            " [0. 0. 0. 4. 0.]\n",
            " [0. 0. 0. 0. 5.]]\n"
          ]
        }
      ]
    },
    {
      "cell_type": "markdown",
      "source": [
        "**Print 1,2,3,4 just below the diagonal**"
      ],
      "metadata": {
        "id": "zbGOiQxlYDHN"
      }
    },
    {
      "cell_type": "code",
      "source": [
        "# below the diagonal\n",
        "import numpy as np\n",
        "\n",
        "Z = np.diag(1+np.arange(4), k=-1)\n",
        "print(Z)\n"
      ],
      "metadata": {
        "colab": {
          "base_uri": "https://localhost:8080/"
        },
        "id": "aLNtlwiW_rb1",
        "outputId": "c1e01ed5-f5f1-46ca-fd44-e2cbaeb56448"
      },
      "execution_count": 25,
      "outputs": [
        {
          "output_type": "stream",
          "name": "stdout",
          "text": [
            "[[0 0 0 0 0]\n",
            " [1 0 0 0 0]\n",
            " [0 2 0 0 0]\n",
            " [0 0 3 0 0]\n",
            " [0 0 0 4 0]]\n"
          ]
        }
      ]
    },
    {
      "cell_type": "code",
      "source": [
        "#. Checkerboard Pattern Printer\n",
        "\n",
        "Z = np.zeros((8,8), dtype = int)\n",
        "Z[1::2, ::2] = 1  # SECOND ROW: INDEX 1: 1,3,5,7 change to 1, SECOND COLUMN STARTING FROM FIRST COLUMN(INDEX 0). COLUMN 0,2,4,6\n",
        "Z[::2, 1::2] = 1  # Every SECOND ROW STARTING FROM FIRST ROW(INDEX 0), AND EVERY SECOND COLUMN STARTING FROM THE SECOND COLUMN(INDEX 1)\n",
        "print(Z)"
      ],
      "metadata": {
        "id": "CRBsuzlqYgyX",
        "colab": {
          "base_uri": "https://localhost:8080/"
        },
        "outputId": "4b16bac6-c95f-4037-d547-98ffea08dbca"
      },
      "execution_count": 26,
      "outputs": [
        {
          "output_type": "stream",
          "name": "stdout",
          "text": [
            "[[0 1 0 1 0 1 0 1]\n",
            " [1 0 1 0 1 0 1 0]\n",
            " [0 1 0 1 0 1 0 1]\n",
            " [1 0 1 0 1 0 1 0]\n",
            " [0 1 0 1 0 1 0 1]\n",
            " [1 0 1 0 1 0 1 0]\n",
            " [0 1 0 1 0 1 0 1]\n",
            " [1 0 1 0 1 0 1 0]]\n"
          ]
        }
      ]
    },
    {
      "cell_type": "code",
      "source": [
        "#. Consider a (6,7,8) shape array, what is the x,y,z of the 100th element?\n",
        "#. function: unravel()\n",
        "#. np.unravel_index() : convert a flat index into a tuple of indices in a multi-dimensional array.\n",
        "#. This program: i. find the tuple of indices that corresponds to the flat index 100 in a 3-D array with dimensions(6,7,8).\n",
        "\n",
        "print(np.unravel_index(100,(6,7,8)))\n",
        "\n",
        "# This means that in a 3D array with dimensions(6,7,8) the element at flat index 100 is located at position(1,5,4) when you consider each dimensions separatly."
      ],
      "metadata": {
        "colab": {
          "base_uri": "https://localhost:8080/"
        },
        "id": "MMeYHUwhanEy",
        "outputId": "9e9f0dae-a3fd-46bf-ff4f-9d8d108695ff"
      },
      "execution_count": 27,
      "outputs": [
        {
          "output_type": "stream",
          "name": "stdout",
          "text": [
            "(1, 5, 4)\n"
          ]
        }
      ]
    },
    {
      "cell_type": "code",
      "source": [
        "# Class Assignment\n",
        "# Create a checkerboard 8 x 8 matrix using the tile function.\n",
        "\n",
        "# Single 2 x 2 checkerboard\n",
        "ck_board = np.array([[0,1], [1,0]])\n",
        "print(ck_board)\n",
        "\n",
        "# Using tile function in numpy to create a 8 x 8 checkerboard matrix\n",
        "ck_board = np.tile(ck_board, (4,4))\n",
        "print(ck_board)"
      ],
      "metadata": {
        "id": "j_i4PCoCc9K0",
        "colab": {
          "base_uri": "https://localhost:8080/"
        },
        "outputId": "da18aad0-5ec4-4cda-fd8a-5f1e52746f83"
      },
      "execution_count": 41,
      "outputs": [
        {
          "output_type": "stream",
          "name": "stdout",
          "text": [
            "[[0 1]\n",
            " [1 0]]\n",
            "[[0 1 0 1 0 1 0 1]\n",
            " [1 0 1 0 1 0 1 0]\n",
            " [0 1 0 1 0 1 0 1]\n",
            " [1 0 1 0 1 0 1 0]\n",
            " [0 1 0 1 0 1 0 1]\n",
            " [1 0 1 0 1 0 1 0]\n",
            " [0 1 0 1 0 1 0 1]\n",
            " [1 0 1 0 1 0 1 0]]\n"
          ]
        }
      ]
    },
    {
      "cell_type": "code",
      "source": [
        "# Tuesday 8/29"
      ],
      "metadata": {
        "id": "iyuu7gsGD-kN"
      },
      "execution_count": 29,
      "outputs": []
    },
    {
      "cell_type": "code",
      "source": [
        "import numpy as np\n",
        "lst1 = [11,22,33,44,55,66,77,88,99,110]\n",
        "arr1 = np.array(lst1)     # Converting a list to an array\n",
        "print(type(arr1))"
      ],
      "metadata": {
        "colab": {
          "base_uri": "https://localhost:8080/"
        },
        "id": "IPL5zsdhEBK6",
        "outputId": "41c86d0c-d1b4-46ba-ae02-ce7a7980a132"
      },
      "execution_count": 30,
      "outputs": [
        {
          "output_type": "stream",
          "name": "stdout",
          "text": [
            "<class 'numpy.ndarray'>\n"
          ]
        }
      ]
    },
    {
      "cell_type": "code",
      "source": [
        "tup1 = (12,23,34,45,56,67,78,89,90)\n",
        "arr2 = np.array(tup1)     # Converting a tuple to an array\n",
        "print(type(arr2))"
      ],
      "metadata": {
        "colab": {
          "base_uri": "https://localhost:8080/"
        },
        "id": "X1CK9eaQEVnd",
        "outputId": "352a9733-e69d-4285-a196-c6d380740eee"
      },
      "execution_count": 31,
      "outputs": [
        {
          "output_type": "stream",
          "name": "stdout",
          "text": [
            "<class 'numpy.ndarray'>\n"
          ]
        }
      ]
    },
    {
      "cell_type": "code",
      "source": [
        "set1 = {1,2,3,4,5,6,6,7, True, False, 'Python','Programming'}\n",
        "arr3 = np.array(set1)\n",
        "arr3"
      ],
      "metadata": {
        "colab": {
          "base_uri": "https://localhost:8080/"
        },
        "id": "kht-lmujEiuq",
        "outputId": "e8c880f3-4f3f-44ea-ca2c-58cdbee91146"
      },
      "execution_count": 32,
      "outputs": [
        {
          "output_type": "execute_result",
          "data": {
            "text/plain": [
              "array({False, 1, 2, 3, 4, 5, 6, 7, 'Programming', 'Python'}, dtype=object)"
            ]
          },
          "metadata": {},
          "execution_count": 32
        }
      ]
    },
    {
      "cell_type": "code",
      "source": [
        "dict1 = {'a':[1,2,3,4,5,0],'b':(True, False),'c': 'Python','d': 'Programming'}\n",
        "arr3 = np.array(set1)\n",
        "arr3"
      ],
      "metadata": {
        "colab": {
          "base_uri": "https://localhost:8080/"
        },
        "id": "tHfa-57OExBv",
        "outputId": "1aed1732-2625-4e3a-8ebc-a7ad306e6f25"
      },
      "execution_count": 33,
      "outputs": [
        {
          "output_type": "execute_result",
          "data": {
            "text/plain": [
              "array({False, 1, 2, 3, 4, 5, 6, 7, 'Programming', 'Python'}, dtype=object)"
            ]
          },
          "metadata": {},
          "execution_count": 33
        }
      ]
    },
    {
      "cell_type": "code",
      "source": [
        "str1 = \"Python Programming\"\n",
        "arr5 = np.array(str1)\n",
        "print(arr5)"
      ],
      "metadata": {
        "colab": {
          "base_uri": "https://localhost:8080/"
        },
        "id": "wNhGL5XtFHqK",
        "outputId": "818bb2ad-38ac-4053-d82a-12002b567e3b"
      },
      "execution_count": 34,
      "outputs": [
        {
          "output_type": "stream",
          "name": "stdout",
          "text": [
            "Python Programming\n"
          ]
        }
      ]
    },
    {
      "cell_type": "markdown",
      "source": [
        "**Class Assignment**"
      ],
      "metadata": {
        "id": "eDGAEts_FkgS"
      }
    },
    {
      "cell_type": "code",
      "source": [
        "arr1d = np.array([1,2,3,4,5,6,7,8,9,10])  # 1D Array\n",
        "print(arr1d)\n",
        "arr1d.ndim          # To Check the dimension of the numpy array"
      ],
      "metadata": {
        "id": "qf8R9ex9HJl-",
        "colab": {
          "base_uri": "https://localhost:8080/"
        },
        "outputId": "081b6106-e8a1-45e8-c233-d2fc6ef13668"
      },
      "execution_count": 35,
      "outputs": [
        {
          "output_type": "stream",
          "name": "stdout",
          "text": [
            "[ 1  2  3  4  5  6  7  8  9 10]\n"
          ]
        },
        {
          "output_type": "execute_result",
          "data": {
            "text/plain": [
              "1"
            ]
          },
          "metadata": {},
          "execution_count": 35
        }
      ]
    },
    {
      "cell_type": "code",
      "source": [
        "arr2d = np.array([[1,2,3,4,5],[9,8,7,6,5]])   # 2D Array\n",
        "print(arr2d)\n",
        "arr2d.ndim          # -> should be 2"
      ],
      "metadata": {
        "colab": {
          "base_uri": "https://localhost:8080/"
        },
        "id": "QpTSxbcLHexK",
        "outputId": "eed3f381-f314-4530-d259-db1152124ca5"
      },
      "execution_count": 36,
      "outputs": [
        {
          "output_type": "stream",
          "name": "stdout",
          "text": [
            "[[1 2 3 4 5]\n",
            " [9 8 7 6 5]]\n"
          ]
        },
        {
          "output_type": "execute_result",
          "data": {
            "text/plain": [
              "2"
            ]
          },
          "metadata": {},
          "execution_count": 36
        }
      ]
    },
    {
      "cell_type": "code",
      "source": [
        "arr3d = np.array([[[1,2,3],[2,3,4]],[[3,4,5],[4,5,6]]])     # 3D Array\n",
        "print(arr3d)\n",
        "arr3d.ndim"
      ],
      "metadata": {
        "colab": {
          "base_uri": "https://localhost:8080/"
        },
        "id": "bTt4FdlhH1M_",
        "outputId": "908cf65e-31b4-4233-f3a3-71e730cece11"
      },
      "execution_count": 37,
      "outputs": [
        {
          "output_type": "stream",
          "name": "stdout",
          "text": [
            "[[[1 2 3]\n",
            "  [2 3 4]]\n",
            "\n",
            " [[3 4 5]\n",
            "  [4 5 6]]]\n"
          ]
        },
        {
          "output_type": "execute_result",
          "data": {
            "text/plain": [
              "3"
            ]
          },
          "metadata": {},
          "execution_count": 37
        }
      ]
    },
    {
      "cell_type": "code",
      "source": [
        "a = np.array(42)\n",
        "b = np.array([1, 2, 3, 4, 5])\n",
        "c = np.array([[1, 2, 3], [4, 5, 6]])\n",
        "d = np.array([[[1, 2, 3], [4, 5, 6]], [[1, 2, 3], [4, 5, 6]]])\n",
        "e = np.array([\n",
        "    [[[1, 2, 3], [4, 5, 6]], [[1, 2, 3], [4, 5, 6]]],\n",
        "    [[[11, 12, 13], [14, 15, 16]], [[11, 12, 13], [14, 15, 16]]]\n",
        "    ])\n",
        "\n",
        "print(a.ndim)       # 0D\n",
        "print(b.ndim)       # 1D\n",
        "print(c.ndim)       # 2D\n",
        "print(d.ndim)       # 3D\n",
        "print(e.ndim)       # 4D"
      ],
      "metadata": {
        "colab": {
          "base_uri": "https://localhost:8080/"
        },
        "id": "kl110hbTIk_k",
        "outputId": "6442b9bb-100a-4421-8263-6360e4825efa"
      },
      "execution_count": 42,
      "outputs": [
        {
          "output_type": "stream",
          "name": "stdout",
          "text": [
            "0\n",
            "1\n",
            "2\n",
            "3\n",
            "4\n"
          ]
        }
      ]
    }
  ]
}