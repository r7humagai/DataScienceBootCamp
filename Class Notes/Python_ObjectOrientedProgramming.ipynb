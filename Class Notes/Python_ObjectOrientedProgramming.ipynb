{
  "nbformat": 4,
  "nbformat_minor": 0,
  "metadata": {
    "colab": {
      "provenance": []
    },
    "kernelspec": {
      "name": "python3",
      "display_name": "Python 3"
    },
    "language_info": {
      "name": "python"
    }
  },
  "cells": [
    {
      "cell_type": "markdown",
      "source": [
        "# Monday 08/21/2023"
      ],
      "metadata": {
        "id": "B9MxkUq1eniU"
      }
    },
    {
      "cell_type": "code",
      "source": [
        "# Object Oriented Programming in Python\n",
        "# An object is an instance of a class."
      ],
      "metadata": {
        "id": "CR_mwZbreuJF"
      },
      "execution_count": null,
      "outputs": []
    },
    {
      "cell_type": "code",
      "source": [
        "class Audi999:\n",
        "  pass\n",
        "\n",
        "obj1 = Audi999()"
      ],
      "metadata": {
        "id": "bIaPjfXQmile"
      },
      "execution_count": null,
      "outputs": []
    },
    {
      "cell_type": "code",
      "source": [
        "print(type(obj1))"
      ],
      "metadata": {
        "colab": {
          "base_uri": "https://localhost:8080/"
        },
        "id": "uhxtquNMmoWZ",
        "outputId": "0605c65c-81f7-4988-c04d-e948d8c48d12"
      },
      "execution_count": null,
      "outputs": [
        {
          "output_type": "stream",
          "name": "stdout",
          "text": [
            "<class '__main__.Audi999'>\n"
          ]
        }
      ]
    },
    {
      "cell_type": "code",
      "source": [
        "class university_student:\n",
        "  def student_info():\n",
        "    pass"
      ],
      "metadata": {
        "id": "GwuFCrKTnRBV"
      },
      "execution_count": null,
      "outputs": []
    },
    {
      "cell_type": "code",
      "source": [
        "obj1 = university_student()"
      ],
      "metadata": {
        "id": "00Yk85_fnePe"
      },
      "execution_count": null,
      "outputs": []
    },
    {
      "cell_type": "code",
      "source": [
        "obj1.student_info()"
      ],
      "metadata": {
        "id": "yhrw0C6cnhV_"
      },
      "execution_count": null,
      "outputs": []
    },
    {
      "cell_type": "code",
      "source": [
        "# Testing\n",
        "class DataScience:\n",
        "  pass\n",
        "\n",
        "obj2 = DataScience()"
      ],
      "metadata": {
        "id": "5-skVMJRodch"
      },
      "execution_count": null,
      "outputs": []
    },
    {
      "cell_type": "code",
      "source": [
        "print(type(obj2))"
      ],
      "metadata": {
        "colab": {
          "base_uri": "https://localhost:8080/"
        },
        "id": "F6umlJ2SonIg",
        "outputId": "741bf513-62c2-48ef-8451-5f05285ea488"
      },
      "execution_count": null,
      "outputs": [
        {
          "output_type": "stream",
          "name": "stdout",
          "text": [
            "<class '__main__.DataScience'>\n"
          ]
        }
      ]
    },
    {
      "cell_type": "markdown",
      "source": [
        "-> Cornerstone Components of Object Oriented Programming:\n",
        "\n",
        "\n",
        "1.   Inheritance\n",
        "2.   Polymorphism\n",
        "3.   Encapsulation\n",
        "4.   Abstraction\n",
        "\n"
      ],
      "metadata": {
        "id": "ptNrGKGcpw9C"
      }
    },
    {
      "cell_type": "code",
      "source": [
        "#..\n",
        "\n",
        "class university_student:\n",
        "  def __init__(self, fname, mname, lname, gender, email, contact):\n",
        "    pass\n",
        "\n",
        "# NOTE: __init__ -> default"
      ],
      "metadata": {
        "id": "zuBzozVMqDqA"
      },
      "execution_count": null,
      "outputs": []
    },
    {
      "cell_type": "code",
      "source": [
        "print(type(obj1))"
      ],
      "metadata": {
        "colab": {
          "base_uri": "https://localhost:8080/"
        },
        "id": "qcf6suWNqpKL",
        "outputId": "e6ecb1a9-e62e-4c37-f042-de2a2bc7ab79"
      },
      "execution_count": null,
      "outputs": [
        {
          "output_type": "stream",
          "name": "stdout",
          "text": [
            "<class '__main__.university_student'>\n"
          ]
        }
      ]
    },
    {
      "cell_type": "code",
      "source": [
        "class university_student:\n",
        "\n",
        "  def __init__(self, fname, mname, lname, gender, email, contact):\n",
        "    self.fname = fname\n",
        "    self.mname = mname\n",
        "    self.lname = lname\n",
        "    self.gender = gender\n",
        "    self.email = email\n",
        "    self.contact = contact\n",
        "\n",
        "    print(self.fname, self.mname, self.lname, self.gender, self.email, self.contact)\n"
      ],
      "metadata": {
        "id": "OL1v01v4rFaE"
      },
      "execution_count": null,
      "outputs": []
    },
    {
      "cell_type": "code",
      "source": [
        "obj1 = university_student('Kin', 'Zen', 'Anto', 'M', 'kin.anto@firstmail.com', 9876)"
      ],
      "metadata": {
        "colab": {
          "base_uri": "https://localhost:8080/"
        },
        "id": "Bwzd03ATrmTE",
        "outputId": "ed0337ca-e689-4962-b54a-5ecb94d278fd"
      },
      "execution_count": null,
      "outputs": [
        {
          "output_type": "stream",
          "name": "stdout",
          "text": [
            "Kin Zen Anto M kin.anto@firstmail.com 9876\n"
          ]
        }
      ]
    },
    {
      "cell_type": "code",
      "source": [
        "class cologne:\n",
        "\n",
        "  def __init__(self, brand, fragrance, price, gender):\n",
        "    self.brand = brand\n",
        "    self.fragrance = fragrance\n",
        "    self.price = price\n",
        "    self.gender = gender\n",
        "\n",
        "  # Additional function just for printing : to clarify the code.\n",
        "\n",
        "  def cologne_details(self):\n",
        "    print(self.brand, self.fragrance, self.price, self.gender)\n",
        "\n"
      ],
      "metadata": {
        "id": "01n2l96crpK-"
      },
      "execution_count": null,
      "outputs": []
    },
    {
      "cell_type": "code",
      "source": [
        "obj2 = cologne(\"Yves-StLaurent\", \"Ice\", 79.99, \"Male\")"
      ],
      "metadata": {
        "id": "QIkSODxYt6EW"
      },
      "execution_count": null,
      "outputs": []
    },
    {
      "cell_type": "code",
      "source": [
        "obj2.cologne_details()"
      ],
      "metadata": {
        "colab": {
          "base_uri": "https://localhost:8080/"
        },
        "id": "2efotm4cwhYD",
        "outputId": "28889215-9258-4409-8ec3-52824c6dc32b"
      },
      "execution_count": null,
      "outputs": [
        {
          "output_type": "stream",
          "name": "stdout",
          "text": [
            "Yves-StLaurent Ice 79.99 Male\n"
          ]
        }
      ]
    },
    {
      "cell_type": "code",
      "source": [
        "# Testing Class 'countries'\n",
        "class countries:\n",
        "\n",
        "  def __init__(index, countrycode, name, flagcolor, population, literacy_rate):\n",
        "    index.countrycode = countrycode\n",
        "    index.name = name\n",
        "    index.flagcolor = flagcolor\n",
        "    index.population = population\n",
        "    index.literacy_rate = literacy_rate\n",
        "\n",
        "  def nation_details(index):\n",
        "    print(index.countrycode, index.name, index.flagcolor, index.population, index.literacy_rate)"
      ],
      "metadata": {
        "id": "PPQU3IUXy-Pm"
      },
      "execution_count": null,
      "outputs": []
    },
    {
      "cell_type": "code",
      "source": [
        "nation_object = countries(\"977\" , \"Nepal\" , \"Red & Blue\" , \"30 million\" , \"70%\")"
      ],
      "metadata": {
        "id": "t6Q1IDjOzxtn"
      },
      "execution_count": null,
      "outputs": []
    },
    {
      "cell_type": "code",
      "source": [
        "nation_object.nation_details()"
      ],
      "metadata": {
        "colab": {
          "base_uri": "https://localhost:8080/"
        },
        "id": "LeUmvLAw0n9h",
        "outputId": "33a31fde-1374-43ed-e4a5-56a4ba1d472d"
      },
      "execution_count": null,
      "outputs": [
        {
          "output_type": "stream",
          "name": "stdout",
          "text": [
            "977 Nepal Red & Blue 30 million 70%\n"
          ]
        }
      ]
    },
    {
      "cell_type": "code",
      "source": [
        "class car:\n",
        "  def __init__(self, name, model, fuel, cc, cylinders):\n",
        "    self.name = name\n",
        "    self.model = model\n",
        "    self.fuel = fuel\n",
        "    self.cc = cc\n",
        "    self.cylinders = cylinders\n",
        "\n",
        "  def car_details(self):\n",
        "    print(self.name, self.model, self.fuel, self.cc, self.cylinders)\n"
      ],
      "metadata": {
        "id": "xzKULz-t1PkA"
      },
      "execution_count": null,
      "outputs": []
    },
    {
      "cell_type": "code",
      "source": [
        "obj3 = car(\"Nissan\" , \"Altima\" , \"Petrol\", 3500, 12 )   # passing values in car class"
      ],
      "metadata": {
        "id": "YxbQdLZq1q4J"
      },
      "execution_count": null,
      "outputs": []
    },
    {
      "cell_type": "code",
      "source": [
        "obj3.car_details()\n"
      ],
      "metadata": {
        "colab": {
          "base_uri": "https://localhost:8080/"
        },
        "id": "fzqfS47_1l9i",
        "outputId": "f64a757e-3282-4255-a4cc-bb9505838c0d"
      },
      "execution_count": null,
      "outputs": [
        {
          "output_type": "stream",
          "name": "stdout",
          "text": [
            "Nissan Altima Petrol 3500 12\n"
          ]
        }
      ]
    },
    {
      "cell_type": "markdown",
      "source": [
        "**Object Oriented Programming: Inheritance**"
      ],
      "metadata": {
        "id": "cplfcuLr3MSL"
      }
    },
    {
      "cell_type": "markdown",
      "source": [
        "*In-Class Assignment*"
      ],
      "metadata": {
        "id": "MLcflutvixLG"
      }
    },
    {
      "cell_type": "markdown",
      "source": [
        "![image.png](data:image/png;base64,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)"
      ],
      "metadata": {
        "id": "p4rbndOM8zlb"
      }
    },
    {
      "cell_type": "code",
      "source": [
        "class Computer():   # Great Grandfather\n",
        "  pass\n",
        "\n",
        "#Grandfather : Type of Computers\n",
        "class Laptop (Computer):    # Inherits values from Great GrandFather class: Computer()\n",
        "  pass\n",
        "\n",
        "class Desktop(Computer):\n",
        "  pass\n",
        "\n",
        "# Father : Brand of Laptops:\n",
        "\n",
        "class Apple_Macbook(Laptop):    # Inherits values from Father Laptop class : Laptop()\n",
        "  pass\n",
        "\n",
        "class Dell_Inspiron(Laptop):\n",
        "  pass\n",
        "\n",
        "# Child : Processors\n",
        "\n",
        "class i3(Apple_Macbook):    # Inherits values from the Father Brand class : Apple_Macbook()\n",
        "  pass\n",
        "\n",
        "class i5(Apple_Macbook):\n",
        "  pass\n",
        "\n",
        "class i7(Apple_Macbook):\n",
        "  pass\n"
      ],
      "metadata": {
        "id": "EBRU-2hQ88RK"
      },
      "execution_count": null,
      "outputs": []
    },
    {
      "cell_type": "markdown",
      "source": [
        "***Practice: Practical Implementation of Inheritance***"
      ],
      "metadata": {
        "id": "FvuDwvlBtASs"
      }
    },
    {
      "cell_type": "code",
      "source": [
        "class person:         # Class Person\n",
        "  def __init__(self, fname, lname): # Constructor\n",
        "    self.firstname = fname\n",
        "    self.lastname = lname\n",
        "\n",
        "\n",
        "  def printname(self):              # Print Function\n",
        "    print(self.firstname, \" \", self.lastname)\n",
        "\n"
      ],
      "metadata": {
        "id": "SgwE1w7htGqV"
      },
      "execution_count": null,
      "outputs": []
    },
    {
      "cell_type": "code",
      "source": [
        "obj1 = person(\"John\", \"Doe\")"
      ],
      "metadata": {
        "id": "9FoxB3vStWzs"
      },
      "execution_count": null,
      "outputs": []
    },
    {
      "cell_type": "code",
      "source": [
        "obj1.printname()"
      ],
      "metadata": {
        "colab": {
          "base_uri": "https://localhost:8080/"
        },
        "id": "tY2Cg9-Jtv4i",
        "outputId": "642cc571-dfdd-48d6-be48-18192efd28c4"
      },
      "execution_count": null,
      "outputs": [
        {
          "output_type": "stream",
          "name": "stdout",
          "text": [
            "John   Doe\n"
          ]
        }
      ]
    },
    {
      "cell_type": "code",
      "source": [
        "# Creating a child class\n",
        "\n",
        "class person:         # Class Person\n",
        "  def __init__(self, fname, lname): # Constructor\n",
        "    self.firstname = fname\n",
        "    self.lastname = lname\n",
        "\n",
        "\n",
        "  def printname(self):              # Print Function\n",
        "    print(self.firstname, \" \", self.lastname)"
      ],
      "metadata": {
        "id": "atduhrlGt3Rw"
      },
      "execution_count": null,
      "outputs": []
    },
    {
      "cell_type": "code",
      "source": [
        "class childclass(person):       # Creating childclass: this is inherited from parent class person\n",
        "  pass"
      ],
      "metadata": {
        "id": "YWTDIDw4t8Fq"
      },
      "execution_count": null,
      "outputs": []
    },
    {
      "cell_type": "code",
      "source": [
        "obj2 = childclass(\"Anurag\" , \"Edlabadkar\")"
      ],
      "metadata": {
        "id": "thFh3sA0uFmq"
      },
      "execution_count": null,
      "outputs": []
    },
    {
      "cell_type": "code",
      "source": [
        "obj2.printname()"
      ],
      "metadata": {
        "id": "wx7MGbB-uWYO",
        "colab": {
          "base_uri": "https://localhost:8080/"
        },
        "outputId": "65483aaf-8546-4a53-fac2-a4ffd4c4126e"
      },
      "execution_count": null,
      "outputs": [
        {
          "output_type": "stream",
          "name": "stdout",
          "text": [
            "Anurag   Edlabadkar\n"
          ]
        }
      ]
    },
    {
      "cell_type": "code",
      "source": [
        "\n",
        "class person:         # Class Person\n",
        "  def __init__(self, fname, lname): # Constructor\n",
        "    self.firstname = fname\n",
        "    self.lastname = lname\n",
        "\n",
        "\n",
        "  def printname(self):              # Print Function\n",
        "    print(self.firstname, \" \", self.lastname)"
      ],
      "metadata": {
        "id": "J0viySV8xDXY"
      },
      "execution_count": null,
      "outputs": []
    },
    {
      "cell_type": "code",
      "source": [
        "class childclass(person):\n",
        "  def __init__(self, fname, lname):\n",
        "    self.firstname = fname\n",
        "    self.lastname = lname\n",
        "\n",
        "  def printname(self):\n",
        "    print(\"class childclass(person): \", self.firstname, '', self.lastname)"
      ],
      "metadata": {
        "id": "yZ-MewwAxIaJ"
      },
      "execution_count": null,
      "outputs": []
    },
    {
      "cell_type": "code",
      "source": [
        "obj1 = childclass('Sam', 'Feldt')"
      ],
      "metadata": {
        "id": "Iv7PmOgdxbJv"
      },
      "execution_count": null,
      "outputs": []
    },
    {
      "cell_type": "code",
      "source": [
        "obj1.printname()          # printed from the childclass"
      ],
      "metadata": {
        "id": "63XOFenOxiKi",
        "colab": {
          "base_uri": "https://localhost:8080/"
        },
        "outputId": "0ab0564d-bcdc-4a01-87fe-53a60c7f8f0e"
      },
      "execution_count": null,
      "outputs": [
        {
          "output_type": "stream",
          "name": "stdout",
          "text": [
            "class childclass(person):  Sam  Feldt\n"
          ]
        }
      ]
    },
    {
      "cell_type": "code",
      "source": [
        "class person:         # Class Person\n",
        "  def __init__(self, fname, lname): # Constructor\n",
        "    self.firstname = fname\n",
        "    self.lastname = lname\n",
        "\n",
        "\n",
        "  def printname(self):              # Print Function\n",
        "    print(self.firstname, \" \", self.lastname)"
      ],
      "metadata": {
        "id": "PQwUCFQox6eG"
      },
      "execution_count": null,
      "outputs": []
    },
    {
      "cell_type": "code",
      "source": [
        "class childclass(person):\n",
        "  def __init__(self, fname, mname, lname):\n",
        "    self.firstname = fname\n",
        "    self.middlename = mname\n",
        "    self.lastname = lname\n",
        "\n",
        "  def printname(self):\n",
        "    print(\"class childclass(person): \", self.firstname, '', self.mname, '', self.lastname)"
      ],
      "metadata": {
        "id": "WPfC1K4gx87K"
      },
      "execution_count": null,
      "outputs": []
    },
    {
      "cell_type": "code",
      "source": [
        "obj1 = childclass('Chhatrapati' , 'Shivaji' , 'Maharaj')"
      ],
      "metadata": {
        "id": "iiGMn7yFyMYX"
      },
      "execution_count": null,
      "outputs": []
    },
    {
      "cell_type": "markdown",
      "source": [
        "***In-class Assignment***"
      ],
      "metadata": {
        "id": "OhTlGzf58WXt"
      }
    },
    {
      "cell_type": "code",
      "source": [
        "# Inheritance Self Practice Assignment\n",
        "\n",
        "class flag:                             # GrandFather class (flag)\n",
        "  def __init__(number, color, shape):   # Initator __init__ takes in three arguments\n",
        "    number.color = color                # GrandFather class has color and shape.\n",
        "    number.shape = shape\n",
        "\n",
        "  def printflag(number):\n",
        "    print(\"Printed from Grandfather class: \", number.color, number.shape)"
      ],
      "metadata": {
        "id": "kwbhQ_My2hVN"
      },
      "execution_count": null,
      "outputs": []
    },
    {
      "cell_type": "code",
      "source": [
        "# Father class countriesdet()\n",
        "class countriesdet(flag):\n",
        "  def __init__(number, color, shape, dimension, ranking):   # Takes attribute of color and shape from father class flag()\n",
        "    number.color = color\n",
        "    number.shape = shape\n",
        "    number.dimension = dimension        # Adds 2 new attributes: dimension and ranking\n",
        "    number.ranking = ranking\n",
        "\n",
        "  def printname(number):\n",
        "    print(\"Printed From Father class: \",\" The color is \", number.color, \"and the shape is \", number.shape, \". The dimension is \", number.dimension, \"and the ranking is \", number.ranking)\n"
      ],
      "metadata": {
        "id": "z_iTrqiF249L"
      },
      "execution_count": null,
      "outputs": []
    },
    {
      "cell_type": "code",
      "source": [
        "obj0 = flag('Orange and White', 'Rectangle')      #Obj0 takes in the attribute for grandfather class flag() for color and shape"
      ],
      "metadata": {
        "id": "NS8NxmVf4u3t"
      },
      "execution_count": null,
      "outputs": []
    },
    {
      "cell_type": "code",
      "source": [
        "obj0.printflag()"
      ],
      "metadata": {
        "colab": {
          "base_uri": "https://localhost:8080/"
        },
        "id": "VNNkynTI4-ij",
        "outputId": "6f1f9d92-6eac-445e-9109-eac4cc815564"
      },
      "execution_count": null,
      "outputs": [
        {
          "output_type": "stream",
          "name": "stdout",
          "text": [
            "Printed from Grandfather class:  Orange and White Rectangle\n"
          ]
        }
      ]
    },
    {
      "cell_type": "code",
      "source": [
        "obj1 = countriesdet('Red and Blue', '2 triangles', '600 x 600' , '1') # Obj1 takes in the 4 attributes for"
      ],
      "metadata": {
        "id": "8Rhma6-33PAD"
      },
      "execution_count": null,
      "outputs": []
    },
    {
      "cell_type": "code",
      "source": [
        "obj1.printname()"
      ],
      "metadata": {
        "colab": {
          "base_uri": "https://localhost:8080/"
        },
        "id": "49z5riVo3aRi",
        "outputId": "fd86b8c0-960b-4008-db33-350b19b148ed"
      },
      "execution_count": null,
      "outputs": [
        {
          "output_type": "stream",
          "name": "stdout",
          "text": [
            "Printed From Father class:   The color is  Red and Blue and the shape is  2 triangles . The dimension is  600 x 600 and the ranking is  1\n"
          ]
        }
      ]
    },
    {
      "cell_type": "code",
      "source": [
        "# Child Class : clothesshop()\n",
        "\n",
        "class clothesshop(countriesdet):\n",
        "\n",
        "  def __init__(number, color, dimension, price):    # Takes in attribute of color and dimension from father class countriesdet() and adds another called price.\n",
        "    number.color = color\n",
        "    number.dimension = dimension\n",
        "    number.price = price                          # Adds attribute, price\n",
        "\n",
        "  def cutclothes(number):\n",
        "    print(\"Printed from childclass : \", \"Cut clothes of color \", number.dimension, \"of shape \", number.dimension, \". The price is $\", number.price)\n"
      ],
      "metadata": {
        "id": "XsoHkXEA5X98"
      },
      "execution_count": null,
      "outputs": []
    },
    {
      "cell_type": "code",
      "source": [
        "obj3 = clothesshop( \"Blue and White\", \"900 x 600\" , 10)"
      ],
      "metadata": {
        "id": "fveDh59F6faP"
      },
      "execution_count": null,
      "outputs": []
    },
    {
      "cell_type": "code",
      "source": [
        "obj3.cutclothes()"
      ],
      "metadata": {
        "id": "49GV56UR6yTj",
        "colab": {
          "base_uri": "https://localhost:8080/"
        },
        "outputId": "b232282f-05db-4609-ea7a-094960b8f72a"
      },
      "execution_count": null,
      "outputs": [
        {
          "output_type": "stream",
          "name": "stdout",
          "text": [
            "Printed from childclass :  Cut clothes of color  900 x 600 of shape  900 x 600 . The price is $ 10\n"
          ]
        }
      ]
    },
    {
      "cell_type": "code",
      "source": [
        "class Person:         # Class Person\n",
        "  def __init__(self, fname, lname): # Constructor\n",
        "    self.firstname = fname\n",
        "    self.lastname = lname\n",
        "\n",
        "\n",
        "  def printname(self):              # Print Function\n",
        "    print(self.firstname, \" \", self.lastname)"
      ],
      "metadata": {
        "id": "T9rcAkVP-znT"
      },
      "execution_count": null,
      "outputs": []
    },
    {
      "cell_type": "code",
      "source": [
        "class Student(Person):\n",
        "  def __init__(self, fname, lname):\n",
        "    super().__init__(fname, lname)"
      ],
      "metadata": {
        "id": "_2ywYmCk-0Vc"
      },
      "execution_count": null,
      "outputs": []
    },
    {
      "cell_type": "code",
      "source": [
        "obj1 = Student('John' , 'Doe')"
      ],
      "metadata": {
        "id": "tDdxW16w_Qso"
      },
      "execution_count": null,
      "outputs": []
    },
    {
      "cell_type": "code",
      "source": [
        "class car:\n",
        "  def __init__(self, name, model):\n",
        "    self.name = name\n",
        "    self.model = model\n",
        "\n",
        "  def print_details(self):\n",
        "    print('class car: ', self.name , self.model)"
      ],
      "metadata": {
        "id": "tTlrpxNG_YKK"
      },
      "execution_count": null,
      "outputs": []
    },
    {
      "cell_type": "code",
      "source": [
        "class audi(car):\n",
        "  def __init__(self,name,model):\n",
        "    super().__init__(name, model)"
      ],
      "metadata": {
        "id": "t164LzgTEKf2"
      },
      "execution_count": null,
      "outputs": []
    },
    {
      "cell_type": "code",
      "source": [
        "obj1 = audi('audi 777', 777)"
      ],
      "metadata": {
        "id": "5HDOZV4GEMr-"
      },
      "execution_count": null,
      "outputs": []
    },
    {
      "cell_type": "code",
      "source": [
        "obj1.print_details()"
      ],
      "metadata": {
        "id": "fGoUYlvYEODi",
        "colab": {
          "base_uri": "https://localhost:8080/"
        },
        "outputId": "efa26f26-5e92-4a11-a48f-273c0f38e555"
      },
      "execution_count": null,
      "outputs": [
        {
          "output_type": "stream",
          "name": "stdout",
          "text": [
            "class car:  audi 777 777\n"
          ]
        }
      ]
    },
    {
      "cell_type": "code",
      "source": [
        "class audi(car):\n",
        "  def __init__(self,name,model,make):\n",
        "    super().__init__(name, model)\n",
        "    self.make = 1978\n",
        "\n",
        "  def print_details(self):\n",
        "    print(self.name,self.model, self.make)"
      ],
      "metadata": {
        "id": "Q2CLJnIZDtza"
      },
      "execution_count": null,
      "outputs": []
    },
    {
      "cell_type": "code",
      "source": [
        "obj1 = audi('audi', 777, 1978)"
      ],
      "metadata": {
        "id": "qZKw2lzNETU3"
      },
      "execution_count": null,
      "outputs": []
    },
    {
      "cell_type": "code",
      "source": [
        "obj1.print_details()"
      ],
      "metadata": {
        "id": "P7n6L0W3DyQ2",
        "colab": {
          "base_uri": "https://localhost:8080/"
        },
        "outputId": "366bebbc-a0c4-4222-e9e1-a6d848346b2d"
      },
      "execution_count": null,
      "outputs": [
        {
          "output_type": "stream",
          "name": "stdout",
          "text": [
            "audi 777 1978\n"
          ]
        }
      ]
    },
    {
      "cell_type": "code",
      "source": [
        "# Practice Session using super()\n",
        "\n",
        "class continent:\n",
        "  def __init__(self, country, countrycode, area):\n",
        "    self.country = country\n",
        "    self.countrycode = countrycode\n",
        "    self.area = area\n",
        "\n",
        "  def print_details(self):\n",
        "    print(self.country, self.countrycode, self.area)\n"
      ],
      "metadata": {
        "id": "OqD0JosHEivD"
      },
      "execution_count": null,
      "outputs": []
    },
    {
      "cell_type": "code",
      "source": [
        "class regional(continent):\n",
        "  super().__init__(country, area)"
      ],
      "metadata": {
        "id": "OIuplhgIGA6o"
      },
      "execution_count": null,
      "outputs": []
    },
    {
      "cell_type": "markdown",
      "source": [
        "***super() in Python Inheritance***"
      ],
      "metadata": {
        "id": "qBnD6eFIjQZh"
      }
    },
    {
      "cell_type": "code",
      "source": [
        "\n",
        "class Person:                         # Created a Parent class\n",
        "  def __init__(self, fname, lname):\n",
        "    self.firstname = fname\n",
        "    self.lastname = lname\n",
        "\n",
        "  def printname(self):\n",
        "    print('Class Person: ', self.firstname, self.lastname)\n"
      ],
      "metadata": {
        "id": "cHCbkyU-is_S"
      },
      "execution_count": null,
      "outputs": []
    },
    {
      "cell_type": "code",
      "source": [
        "class Student(Person):                # Created a child class\n",
        "  def __init__(self, fname, lname):\n",
        "    super().__init__(fname, lname)   #super: inbuilt function,\n",
        "\n",
        "#. Note: Previously it was printing from child class\n",
        "#. After using the super() inbuilt finction, the childclass(Student(Person)) is calling the function from parent class Person.\n",
        "#. Thus, the printname() function from class Person is executed."
      ],
      "metadata": {
        "id": "s5x6RpSkjGlJ"
      },
      "execution_count": null,
      "outputs": []
    },
    {
      "cell_type": "code",
      "source": [
        "obj1 = Student(\"John\" , \"Doe\")"
      ],
      "metadata": {
        "id": "xMrYI0JnjvWb"
      },
      "execution_count": null,
      "outputs": []
    },
    {
      "cell_type": "code",
      "source": [
        "# Example using super() inbuilt function\n",
        "\n",
        "class car:\n",
        "  def __init__(self, name, model):\n",
        "    self.name = name\n",
        "    self.model = model\n",
        "\n",
        "  def printcar(self):               # Print Function in main class\n",
        "    print(self.name, self.model)"
      ],
      "metadata": {
        "id": "QksI_wCYldj-"
      },
      "execution_count": null,
      "outputs": []
    },
    {
      "cell_type": "code",
      "source": [
        "# #Childclass Toyota()\n",
        "\n",
        "# class Toyota(car):\n",
        "#    def __init__(self,name,model):\n",
        "#      super().__init__(name, model)"
      ],
      "metadata": {
        "id": "lZ0_afD2l1Rh"
      },
      "execution_count": null,
      "outputs": []
    },
    {
      "cell_type": "code",
      "source": [
        "# obj1 = Toyota('tundra', 777)"
      ],
      "metadata": {
        "id": "_iBMAHCLmOO3"
      },
      "execution_count": null,
      "outputs": []
    },
    {
      "cell_type": "code",
      "source": [
        "# obj1.printcar()"
      ],
      "metadata": {
        "colab": {
          "base_uri": "https://localhost:8080/"
        },
        "id": "WynMJa7nnFj3",
        "outputId": "ff4f8447-899b-4bd6-cefc-2f9e7a838670"
      },
      "execution_count": null,
      "outputs": [
        {
          "output_type": "stream",
          "name": "stdout",
          "text": [
            "tundra 777\n"
          ]
        }
      ]
    },
    {
      "cell_type": "code",
      "source": [
        "class Toyota(car):\n",
        "  def __init__(self,name, model, make):\n",
        "    super().__init__(name, model)\n",
        "    self.make = 1978\n",
        "\n",
        "  def printcar(self):\n",
        "    print(self.name, self.model, self.make)"
      ],
      "metadata": {
        "id": "rNZC3Bewp2fF"
      },
      "execution_count": null,
      "outputs": []
    },
    {
      "cell_type": "code",
      "source": [
        "obj2 = Toyota(\"Tucson\", \"DX221\", 1978)"
      ],
      "metadata": {
        "id": "mDnJJMLhqHvt"
      },
      "execution_count": null,
      "outputs": []
    },
    {
      "cell_type": "code",
      "source": [
        "obj2.printcar()"
      ],
      "metadata": {
        "colab": {
          "base_uri": "https://localhost:8080/"
        },
        "id": "40jGYqViqipP",
        "outputId": "380ea2a6-24a4-4884-b2e6-453f362065de"
      },
      "execution_count": null,
      "outputs": [
        {
          "output_type": "stream",
          "name": "stdout",
          "text": [
            "Tucson DX221 1978\n"
          ]
        }
      ]
    },
    {
      "cell_type": "code",
      "source": [
        "# Practice Example:\n",
        "#. Sun and Cloud are parent classes while Land and Ocean are child classes\n",
        "\n",
        "class Sun:\n",
        "  def __init__(self, light, shadow):\n",
        "    self.light = light\n",
        "    self.shadow = shadow\n",
        "\n",
        "  def print_details(self):\n",
        "    print(\"The sun gives out \", self.light, self.shadow)"
      ],
      "metadata": {
        "id": "BF3t0gVd5sZl"
      },
      "execution_count": null,
      "outputs": []
    },
    {
      "cell_type": "code",
      "source": [
        "class Cloud:\n",
        "  def __init__(self, rain):\n",
        "    self.rain = rain\n",
        "\n",
        "  def print_details(self):\n",
        "    print(\"The cloud gives out \", self.rain)"
      ],
      "metadata": {
        "id": "aAn0rmPA6YIk"
      },
      "execution_count": null,
      "outputs": []
    },
    {
      "cell_type": "code",
      "source": [
        "class Land(Sun, Cloud):\n",
        "  def __init__(self, light, shadow, crops, soil):\n",
        "    super().__init__(light, shadow)\n",
        "    self.crops = crops\n",
        "    self.soil = soil\n",
        "\n",
        "  def print_details(self):\n",
        "    print(\"Printed from Land: \", self.light, self.shadow, self.crops, self.soil)\n"
      ],
      "metadata": {
        "id": "5gqmUIJ26jVC"
      },
      "execution_count": null,
      "outputs": []
    },
    {
      "cell_type": "code",
      "source": [
        "class Ocean(Sun, Cloud):\n",
        "  def __init__(self, light, rain, fish):\n",
        "    super().__init__(light, rain, fish)\n",
        "    self.fish = fish\n",
        "\n",
        "  def print_details(self):\n",
        "    print(\"Printed from Ocean: \", self.light, self.rain, self.fish)"
      ],
      "metadata": {
        "id": "-iWs52Ab6uq8"
      },
      "execution_count": null,
      "outputs": []
    },
    {
      "cell_type": "code",
      "source": [
        "objSun = Sun(\"Red Light\" , \"Blue Shadow\")"
      ],
      "metadata": {
        "id": "KaHBxR8a9ivO"
      },
      "execution_count": null,
      "outputs": []
    },
    {
      "cell_type": "code",
      "source": [
        "objCloud = Cloud(\"Thunderstorm Rain\")"
      ],
      "metadata": {
        "id": "zWJKWwEb9iyW"
      },
      "execution_count": null,
      "outputs": []
    },
    {
      "cell_type": "code",
      "source": [
        "objLand = Land(\"Yellow Light\", \"Dark Shadow\", \"Rice Crops\", \"Fertile Soil\")"
      ],
      "metadata": {
        "id": "xw6cahyb6qdK"
      },
      "execution_count": null,
      "outputs": []
    },
    {
      "cell_type": "code",
      "source": [
        "objOcean = Ocean(\"Orange Light\", \"Heavy Rain\" , \"Dolphin Fish\")"
      ],
      "metadata": {
        "id": "TyHoWwSm9UUO"
      },
      "execution_count": null,
      "outputs": []
    },
    {
      "cell_type": "code",
      "source": [
        "objSun.print_details()"
      ],
      "metadata": {
        "colab": {
          "base_uri": "https://localhost:8080/"
        },
        "id": "UkP34EGr9g5G",
        "outputId": "49abbf95-300d-4145-852a-8ec48889739a"
      },
      "execution_count": null,
      "outputs": [
        {
          "output_type": "stream",
          "name": "stdout",
          "text": [
            "The sun gives out  Red Light Blue Shadow\n"
          ]
        }
      ]
    },
    {
      "cell_type": "code",
      "source": [
        "objCloud.print_details()"
      ],
      "metadata": {
        "id": "2fT7Ja2n9-Rl"
      },
      "execution_count": null,
      "outputs": []
    },
    {
      "cell_type": "code",
      "source": [
        "objLand.print_details()"
      ],
      "metadata": {
        "colab": {
          "base_uri": "https://localhost:8080/"
        },
        "id": "9UwiMhg3-Atj",
        "outputId": "6f6903ea-fb8c-4430-b6f7-a031a7d8c692"
      },
      "execution_count": null,
      "outputs": [
        {
          "output_type": "stream",
          "name": "stdout",
          "text": [
            "Printed from Land:  Yellow Light Dark Shadow Rice Crops Fertile Soil\n"
          ]
        }
      ]
    },
    {
      "cell_type": "code",
      "source": [
        "objOcean.print_details()"
      ],
      "metadata": {
        "id": "6NIR2hyP-DD7"
      },
      "execution_count": null,
      "outputs": []
    },
    {
      "cell_type": "markdown",
      "source": [
        "**Practice Demonstration: Instance Variable vs Class Variable**\n"
      ],
      "metadata": {
        "id": "8y0uozdlAF8O"
      }
    },
    {
      "cell_type": "code",
      "source": [
        "class a:\n",
        "  var_a1 = \"This is my first print statement inside class a \"\n",
        "  def __init__(self):\n",
        "    self.var_a2 = \"This my second print statement inside function __init__ of class a\"\n",
        "    self.var_a1 = \"Instance variable in class a\"\n",
        "    self.var_tmp1 = \"This is var_tmp1 inside class a\"\n",
        "    self.testprint = \"Test Print from class a function\"\n",
        "\n",
        "class b(a):\n",
        "  var_b1 = \"this is my third print statement inside class b \"\n",
        "  def __init__(self):\n",
        "\n",
        "    self.var_b2 = \"This is my fouth print statement inside function __init__ of class b\"\n",
        "    self.var_a1 = \"Instance variable in class b\"\n",
        "    self.var_tmp1 = \"This is var_tmp1 inside class b\"\n",
        "    self.testprint = \"Test Print from class b function\"\n",
        "\n",
        "    self.var_b1 = \"var_b1 inside __init__ method\"\n",
        "    super().__init__()\n",
        "\n"
      ],
      "metadata": {
        "id": "RN0uuLyZAIDX"
      },
      "execution_count": 3,
      "outputs": []
    },
    {
      "cell_type": "code",
      "source": [
        "obj_a = a()\n",
        "obj_b = b()\n",
        "\n",
        "print('1',obj_a.var_a1)\n",
        "\n",
        "print('2',obj_a.var_tmp1)\n",
        "\n",
        "print('test', obj_a.var_a1)\n",
        "\n",
        "print('3',obj_b.var_a1)\n",
        "\n",
        "print('4',obj_b.var_a2)\n",
        "\n",
        "print('5',obj_b.var_b1)\n",
        "\n",
        "print('6',obj_b.var_b2)\n",
        "\n",
        "print('7',obj_b.var_tmp1)\n",
        "\n",
        "print('8', obj_a.testprint)\n",
        "print('9', obj_b.testprint)\n"
      ],
      "metadata": {
        "id": "L6Osxg2UCbS5",
        "colab": {
          "base_uri": "https://localhost:8080/"
        },
        "outputId": "8945e7e1-7a35-41f8-f046-d89498dce7ad"
      },
      "execution_count": 4,
      "outputs": [
        {
          "output_type": "stream",
          "name": "stdout",
          "text": [
            "1 Instance variable in class a\n",
            "2 This is var_tmp1 inside class a\n",
            "test Instance variable in class a\n",
            "3 Instance variable in class a\n",
            "4 This my second print statement inside function __init__ of class a\n",
            "5 var_b1 inside __init__ method\n",
            "6 This is my fouth print statement inside function __init__ of class b\n",
            "7 This is var_tmp1 inside class a\n",
            "8 Test Print from class a function\n",
            "9 Test Print from class a function\n"
          ]
        }
      ]
    },
    {
      "cell_type": "code",
      "source": [
        "class lady:\n",
        "\n",
        "  lastname = 'Modi'\n",
        "\n",
        "  # Before Getting Married\n",
        "\n",
        "  def __init__(self):\n",
        "\n",
        "    self.lastname = \"Gandhi\"\n",
        "    self.house = \"Delhi\"\n",
        "    self.bankbalance = 10000\n",
        "\n",
        "  # After Getting Married\n",
        "\n",
        "class newlife(lady):\n",
        "\n",
        "  newlife.lastname = \"Basu\"\n",
        "\n",
        "  def __init__(self):\n",
        "\n",
        "    self.lastname = \"Swamy\"\n",
        "    self.house = \"2Mumbai\"\n",
        "    self.bankbalance = 20000\n",
        "\n",
        "    self.newlastname = \"2Swamy\"\n",
        "    self.newlifehouse = \"2Mumbai\"\n",
        "    self.newbankbalance = 20000\n",
        "    #super().__init__()\n"
      ],
      "metadata": {
        "id": "MIv6Z_ZXMX1b"
      },
      "execution_count": null,
      "outputs": []
    },
    {
      "cell_type": "code",
      "source": [
        "obj_lady = lady()\n",
        "obj_newlife = newlife()\n",
        "\n",
        "print('1', obj_lady.lastname)\n",
        "print('2', obj_lady.house)\n",
        "print('3', obj_lady.bankbalance)\n",
        "\n",
        "print('4', obj_newlife.lastname)\n",
        "print('5', obj_newlife.house)\n",
        "print('6', obj_newlife.bankbalance)\n"
      ],
      "metadata": {
        "id": "2KweERMlOCfX"
      },
      "execution_count": null,
      "outputs": []
    },
    {
      "cell_type": "code",
      "source": [
        "class a:\n",
        "  var_a1 = \"This is my first print statement inside class a \"\n",
        "  def __init__(self):\n",
        "    self.var_a2 = \"This my second print statement inside function __init__ of class a\"\n",
        "    self.var_a1 = \"Instance variable in class a\"\n",
        "    self.var_tmp1 = \"This is var_tmp1 inside class a\"\n",
        "    self.testprint = \"Test Print from class a function\"\n",
        "\n",
        "class b(a):\n",
        "  var_b1 = \"this is my third print statement inside class b \"\n",
        "  def __init__(self):\n",
        "\n",
        "    self.var_b2 = \"This is my fouth print statement inside function __init__ of class b\"\n",
        "    self.var_a1 = \"Instance variable in class b\"\n",
        "    self.var_tmp1 = \"This is var_tmp1 inside class b\"\n",
        "    self.testprint = \"Test Print from class b function\"\n",
        "\n",
        "    self.var_b1 = \"var_b1 inside __init__ method\"\n",
        "    super().__init__()\n"
      ],
      "metadata": {
        "id": "y3JGgWTpP1cf"
      },
      "execution_count": 5,
      "outputs": []
    },
    {
      "cell_type": "markdown",
      "source": [
        "***Polymorphism in Object Oriented Programming***"
      ],
      "metadata": {
        "id": "PmApIPmwjqLg"
      }
    },
    {
      "cell_type": "code",
      "source": [
        "# Car, Boat and Plane have a common method name 'move' but they provide their own implementation of the method.\n",
        "#. The code determines which version of the 'move' method to call based on the actual object type.\n",
        "#. This feature is called Polymorphism.\n",
        "\n",
        "# Three different classes, no connection except they have a common method, move()\n",
        "\n",
        "class Car:                          #  class Car\n",
        "  def __init__(self, brand, model):\n",
        "    self.brand = brand\n",
        "    self.model = model\n",
        "\n",
        "  def move(self):                   # method move is overridden in its child classes\n",
        "    print(\"Drive!\")\n",
        "\n",
        "###\n",
        "class Boat:                         # class Boat\n",
        "  def __init__(self, brand, model):\n",
        "    self.brand = brand\n",
        "    self.model = model\n",
        "\n",
        "  def move(self):                   # method move on childclass, Boat() overrides Car\n",
        "    print(\"Sail!\")\n",
        "####\n",
        "class Plane:                        #class Plane\n",
        "  def __init__(self, brand, model):\n",
        "    self.brand = brand\n",
        "    self.model = model\n",
        "\n",
        "  def move(self):                   # method move on childclass, Plane() overrides parent class Car\n",
        "    print(\"Fly!\")\n",
        "\n",
        "### Creating instance of different classes\n",
        "car1 = Car(\"Ford\", \"Mustang\")       #Create a Car class\n",
        "boat1 = Boat(\"Ibiza\", \"Touring 20\") #Create a Boat class\n",
        "plane1 = Plane(\"Boeing\", \"747\")     #Create a Plane class\n",
        "####\n",
        "for x in (car1, boat1, plane1):\n",
        "  x.move()                        # The function"
      ],
      "metadata": {
        "colab": {
          "base_uri": "https://localhost:8080/"
        },
        "id": "4cTKIQ1CFUBT",
        "outputId": "3791e75e-9028-4211-f414-afc6bac25334"
      },
      "execution_count": null,
      "outputs": [
        {
          "output_type": "stream",
          "name": "stdout",
          "text": [
            "Drive!\n",
            "Sail!\n",
            "Fly!\n"
          ]
        }
      ]
    },
    {
      "cell_type": "markdown",
      "source": [
        "***Concepts of Object Oriented Programming***\n",
        "\n",
        "1.   Over Loading\n",
        "2.   Over Ridding\n",
        "3.   Operator Over Loading\n",
        "4.   Polymorphism\n",
        "5.   Encapsulation\n",
        "\n"
      ],
      "metadata": {
        "id": "DM8m8bqbA8ww"
      }
    },
    {
      "cell_type": "code",
      "source": [
        "# Polymorphism concepts\n",
        "\n",
        "l = 'Python Programming'\n",
        "print(len(l))\n",
        "\n",
        "l = [12,23,34,45,56,67,78,89,90]\n",
        "print(len(l))\n",
        "\n",
        "l = (12,3,4,5,66,4,3,3)\n",
        "print(len(l))\n",
        "\n",
        "# len()"
      ],
      "metadata": {
        "colab": {
          "base_uri": "https://localhost:8080/"
        },
        "id": "RtpE1gagC5XL",
        "outputId": "f5718529-67e1-41d2-af16-3d15cc8f2341"
      },
      "execution_count": null,
      "outputs": [
        {
          "output_type": "stream",
          "name": "stdout",
          "text": [
            "18\n",
            "9\n",
            "8\n"
          ]
        }
      ]
    },
    {
      "cell_type": "code",
      "source": [
        "class Person:            # parent class\n",
        "  def __init__(self, fname, mname, lname):\n",
        "    pass\n",
        "  def print_details(self):\n",
        "    print(self.fname, self.mname, self.lname)\n",
        "\n",
        "class student(Person):    # child class\n",
        "  def __init__(self, fname, mname, lname):\n",
        "    pass\n",
        "  def print_details(self):\n",
        "    print(self.fname, self.mname, self.lname)\n"
      ],
      "metadata": {
        "id": "8f4nOdsnD6GT"
      },
      "execution_count": null,
      "outputs": []
    },
    {
      "cell_type": "code",
      "source": [
        "# Example:\n",
        "\n",
        "# Car, Boat and Plane have a common method name 'move' but they provide their own implementation of the method.\n",
        "#. The code determines which version of the 'move' method to call based on the actual object type.\n",
        "#. This feature is called Polymorphism.\n",
        "\n",
        "# Three different classes, no connection except they have a common method, move()\n",
        "\n",
        "class Car:                          #  class Car\n",
        "  def __init__(self, brand, model):\n",
        "    self.brand = brand\n",
        "    self.model = model\n",
        "\n",
        "  def move(self):\n",
        "    print(\"Drive!\")\n",
        "\n",
        "###\n",
        "class Boat:                         # class Boat\n",
        "  def __init__(self, brand, model):\n",
        "    self.brand = brand\n",
        "    self.model = model\n",
        "\n",
        "  def move(self):\n",
        "    print(\"Sail!\")\n",
        "####\n",
        "class Plane:                        #class Plane\n",
        "  def __init__(self, brand, model):\n",
        "    self.brand = brand\n",
        "    self.model = model\n",
        "\n",
        "  def move(self):\n",
        "    print(\"Fly!\")\n",
        "\n",
        "### Creating instance of different classes\n",
        "car1 = Car(\"Ford\", \"Mustang\")       #Create a Car class\n",
        "boat1 = Boat(\"Ibiza\", \"Touring 20\") #Create a Boat class\n",
        "plane1 = Plane(\"Boeing\", \"747\")     #Create a Plane class\n",
        "####\n",
        "for x in (car1, boat1, plane1):\n",
        "  x.move()                        # The function calls the method move from each class"
      ],
      "metadata": {
        "id": "itZ2FUV1JCrS",
        "colab": {
          "base_uri": "https://localhost:8080/"
        },
        "outputId": "181d915c-b4ef-4194-f1bd-8851196a2cf9"
      },
      "execution_count": 6,
      "outputs": [
        {
          "output_type": "stream",
          "name": "stdout",
          "text": [
            "Drive!\n",
            "Sail!\n",
            "Fly!\n"
          ]
        }
      ]
    },
    {
      "cell_type": "code",
      "source": [
        "# Example 2:\n",
        "\n",
        "#. Inheritance & Polymorphism\n",
        "\n",
        "# Polymorphism is implemented here on move() method of different classes.\n",
        "#. move() method for all three classes have different object types. The move() method is called on each object (Car, Boat and Plane)\n",
        "#. Which version of 'move' method is to be used is determined by the code because of the feature of polymorphism.\n",
        "\n",
        "class vehicle:\n",
        "  def __init__(self, brand, model):\n",
        "    self.brand = brand\n",
        "    self.model = model\n",
        "\n",
        "  def move(self):\n",
        "    print('move!!')        # The instance function of parent class vehicle, move() is overridden by the instance classes of the child class - Override\n",
        "\n",
        "class Car(vehicle):\n",
        "  def move(self):         # move method in Car class\n",
        "    print(\"Drive!\")\n",
        "\n",
        "class Boat(vehicle):\n",
        "  def move(self):         # move method in Boat class\n",
        "    print(\"Sail!\")\n",
        "\n",
        "class Plane(vehicle):\n",
        "  def move(self):         # move method in Plane class\n",
        "    print(\"Fly!\")\n",
        "\n",
        "car1 = Car(\"Ford\", \"Mustang\")       #Create a Car class\n",
        "boat1 = Boat(\"Ibiza\", \"Touring 20\") #Create a Boat class\n",
        "plane1 = Plane(\"Boeing\", \"747\")     #Create a Plane class\n",
        "\n",
        "print(vehicle.move)\n",
        "\n",
        "for i in (car1,boat1,plane1):\n",
        "  print(i.brand)\n",
        "  print(i.model)\n",
        "  i.move()              # Same move() method of different object types(car, boat and plane) are called.\n",
        "  print(\"\\r\")"
      ],
      "metadata": {
        "colab": {
          "base_uri": "https://localhost:8080/"
        },
        "id": "ptnrFCJ2JGLh",
        "outputId": "e62062c9-2a98-4336-f83b-0c8034618b86"
      },
      "execution_count": 7,
      "outputs": [
        {
          "output_type": "stream",
          "name": "stdout",
          "text": [
            "<function vehicle.move at 0x7c671a1735b0>\n",
            "Ford\n",
            "Mustang\n",
            "Drive!\n",
            "\r\n",
            "Ibiza\n",
            "Touring 20\n",
            "Sail!\n",
            "\r\n",
            "Boeing\n",
            "747\n",
            "Fly!\n",
            "\r\n"
          ]
        }
      ]
    },
    {
      "cell_type": "markdown",
      "source": [
        "***In-class Assignment for demonstration of :***\n",
        "\n",
        "      1.   Inheritance\n",
        "      2.   Polymorphism\n",
        "      3.   Overriding\n",
        "\n"
      ],
      "metadata": {
        "id": "pgUhXi0Xk0bT"
      }
    },
    {
      "cell_type": "code",
      "source": [
        "#. Parent class: animal_kingdom, Child classes - mammals, birds, reptile and fish, also object types for method ability()\n",
        "\n",
        "class animal_kingdom:                   # Parent class animal_kingdom\n",
        "\n",
        "  def __init__(self, name, country):    #. each child class inherits the attributes of name and country from parent class.\n",
        "    self.name = name\n",
        "    self.country = country\n",
        "\n",
        "  def ability(self):                    # Instance method from parent class animal_kingdom\n",
        "    print(\"You have been created!\")\n",
        "\n",
        "class mammals(animal_kingdom):          # Child class 1, mammals() has a method ability()\n",
        "  def ability(self):\n",
        "    print(\"You can walk!\")\n",
        "\n",
        "class birds(animal_kingdom):            # Child class 2, birds() has a method ability()\n",
        "  def ability(self):\n",
        "    print(\"You can fly!\")\n",
        "\n",
        "class reptile(animal_kingdom):          # Child class 3, reptile() has a method ability()\n",
        "  def ability(self):\n",
        "    print(\"You can crawl!\")\n",
        "\n",
        "class fish(animal_kingdom):             # Child class 4, fish() has a method ability()\n",
        "  def ability(self):\n",
        "    print(\"You can swim!\")\n",
        "\n",
        "#Creating each classes\n",
        "\n",
        "mammalsObj = mammals(\"Bengal Tiger\" , \"Nepal\")\n",
        "birdsObj = birds(\"Bald Eagle\" , \"USA\")\n",
        "reptileObj = reptile(\"Krait Snake\", \"India\")\n",
        "fishObj = fish(\"Blue Whale\", \"Spain\")\n",
        "\n",
        "for i in (mammalsObj, birdsObj, reptileObj, fishObj):   # Print each attributes from child classes.\n",
        "\n",
        "  print(i.name, end = \" \")\n",
        "  print(i.country, end = \" \")\n",
        "\n",
        "  i.ability()               # the ability method is called on each object within the loop.\n",
        "  print(\"\\r\")\n"
      ],
      "metadata": {
        "id": "Ydkivh4sPhHy",
        "colab": {
          "base_uri": "https://localhost:8080/"
        },
        "outputId": "ffee06b2-e320-4ac9-9b47-e777bb3d0d78"
      },
      "execution_count": 8,
      "outputs": [
        {
          "output_type": "stream",
          "name": "stdout",
          "text": [
            "Bengal Tiger Nepal You can walk!\n",
            "\r\n",
            "Bald Eagle USA You can fly!\n",
            "\r\n",
            "Krait Snake India You can crawl!\n",
            "\r\n",
            "Blue Whale Spain You can swim!\n",
            "\r\n"
          ]
        }
      ]
    }
  ]
}