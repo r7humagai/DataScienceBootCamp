{
  "nbformat": 4,
  "nbformat_minor": 0,
  "metadata": {
    "colab": {
      "provenance": []
    },
    "kernelspec": {
      "name": "python3",
      "display_name": "Python 3"
    },
    "language_info": {
      "name": "python"
    }
  },
  "cells": [
    {
      "cell_type": "markdown",
      "source": [
        "----\n",
        "#**Lambda Functions in Python:**\n",
        "\n",
        "----\n",
        "\n",
        "*Lambda functions also known as anonymous functions, are concise and inline functions in Python. They are defined using the `lambda` keyword and are useful for creating simple, short functions without the need for a formal `def` statement. Lambda functions can take multiple arguments but can only contain a single expression. They are often used for tasks like filtering, mapping, and sorting data. Their simplicity and compactness make them a handy tool for creating quick functions in Python.*"
      ],
      "metadata": {
        "id": "VAxs4l5K9bp_"
      }
    },
    {
      "cell_type": "code",
      "source": [
        "# Write a nested loop to compare 2 values of 5 levels\n",
        "# Convert to a lambda function\n",
        "\n",
        "a = 250\n",
        "b = 300\n",
        "\n",
        "if(a > 100):\n",
        "  print (\"Greater than 100\")\n",
        "  if(a > 110):\n",
        "    print(\"Greater than 110\")\n",
        "    if(a > 120):\n",
        "      print(\"Greater than 120\")\n",
        "      if(a > 130):\n",
        "        print(\"Greater than 130\")\n",
        "        if(a > 140):\n",
        "          print(\"Greater than 140\")\n",
        "\n",
        "compare_values = lambda a, threshold, message: message if a > threshold and threshold <= 140 else compare_values(a, threshold + 10, f\"Greater than {threshold + 10}\")\n",
        "\n",
        "a = 250\n",
        "result = compare_values(a, 100, \"Greater than 100\")\n",
        "\n",
        "print(result)"
      ],
      "metadata": {
        "colab": {
          "base_uri": "https://localhost:8080/"
        },
        "id": "vUz4xtHu81nc",
        "outputId": "6e768588-68ca-4b9a-ba4e-020488261f2b"
      },
      "execution_count": 1,
      "outputs": [
        {
          "output_type": "stream",
          "name": "stdout",
          "text": [
            "Greater than 100\n",
            "Greater than 110\n",
            "Greater than 120\n",
            "Greater than 130\n",
            "Greater than 140\n",
            "Greater than 100\n"
          ]
        }
      ]
    },
    {
      "cell_type": "markdown",
      "source": [
        "----\n",
        "\n",
        "**In-Class Assignment**"
      ],
      "metadata": {
        "id": "K8ECPu653DZ5"
      }
    },
    {
      "cell_type": "code",
      "source": [
        "# Lambda Functions Practice\n",
        "\n",
        "percentage = 42\n",
        "\n",
        "if (percentage >= 78):\n",
        "  print('Passed with First Class with Distinction')\n",
        "elif (percentage >= 60):\n",
        "  print('Passed with First Class')\n",
        "elif (percentage >= 40):\n",
        "  print('Passed with Second Class')\n",
        "elif (percentage >= 33):\n",
        "  print('Passsed with Third Class')\n",
        "else:\n",
        "  print('Better luck next time!')\n",
        "\n",
        "\n",
        "result = lambda percentage: \"Passed with First Class with Distinction\" if percentage >= 78 else (\\\n",
        "                            \"Passed with First Class\" if percentage >= 60 else(\\\n",
        "                            \"Passed with Second Class\" if percentage >= 40 else(\\\n",
        "                            \"Passed with Third Class\" if percentage >= 33 else (\\\n",
        "                            \"Better Luck Next Time\"))))\n",
        "result(90)"
      ],
      "metadata": {
        "colab": {
          "base_uri": "https://localhost:8080/",
          "height": 52
        },
        "id": "jyxl9MuI4XmA",
        "outputId": "d0bedc01-84dc-466a-f983-1c08f4be270a"
      },
      "execution_count": 2,
      "outputs": [
        {
          "output_type": "stream",
          "name": "stdout",
          "text": [
            "Passed with Second Class\n"
          ]
        },
        {
          "output_type": "execute_result",
          "data": {
            "text/plain": [
              "'Passed with First Class with Distinction'"
            ],
            "application/vnd.google.colaboratory.intrinsic+json": {
              "type": "string"
            }
          },
          "metadata": {},
          "execution_count": 2
        }
      ]
    },
    {
      "cell_type": "code",
      "source": [
        "quiz_answer = lambda option: \"Right Answer\" if option == 'A' else(\\\n",
        "                             \"Wrong Answer\")\n",
        "\n",
        "quiz_answer('A')"
      ],
      "metadata": {
        "colab": {
          "base_uri": "https://localhost:8080/",
          "height": 35
        },
        "id": "SIhPWAcA9Hfc",
        "outputId": "66954cdc-9b2e-40ef-a57e-6039d1adca73"
      },
      "execution_count": 3,
      "outputs": [
        {
          "output_type": "execute_result",
          "data": {
            "text/plain": [
              "'Right Answer'"
            ],
            "application/vnd.google.colaboratory.intrinsic+json": {
              "type": "string"
            }
          },
          "metadata": {},
          "execution_count": 3
        }
      ]
    }
  ]
}