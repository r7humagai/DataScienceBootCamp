{
  "nbformat": 4,
  "nbformat_minor": 0,
  "metadata": {
    "colab": {
      "provenance": []
    },
    "kernelspec": {
      "name": "python3",
      "display_name": "Python 3"
    },
    "language_info": {
      "name": "python"
    }
  },
  "cells": [
    {
      "cell_type": "markdown",
      "source": [
        "# Dictionary Inbuilt Functions"
      ],
      "metadata": {
        "id": "Rt45HFmwu7uG"
      }
    },
    {
      "cell_type": "code",
      "source": [
        "dir(dict)"
      ],
      "metadata": {
        "id": "ysFzutZHkdeO"
      },
      "execution_count": null,
      "outputs": []
    },
    {
      "cell_type": "code",
      "source": [
        "# Dict Function: clear()\n",
        "#. Removes all elements from a dictionary\n",
        "\n",
        "food = {\n",
        "  \"meal\": \"appetizer\",\n",
        "  \"dish\": \"Zucchini Chips\",\n",
        "  \"price\": 19\n",
        "}\n",
        "\n",
        "food.clear()                    #. Empties the dictionary\n",
        "print(\"After Removal: \", food)\n"
      ],
      "metadata": {
        "colab": {
          "base_uri": "https://localhost:8080/"
        },
        "id": "jF7IG5-9vFIh",
        "outputId": "95a1e278-83af-470d-81bc-5490a70b69a4"
      },
      "execution_count": null,
      "outputs": [
        {
          "output_type": "stream",
          "name": "stdout",
          "text": [
            "After Removal:  {}\n"
          ]
        }
      ]
    },
    {
      "cell_type": "code",
      "source": [
        "# Dict Function: copy()\n",
        "#. Returns with a replica of the specified dictionary\n",
        "\n",
        "food = {\n",
        "  \"meal\": \"appetizer\",\n",
        "  \"dish\": \"Zucchini Chips\",\n",
        "  \"price\": 19\n",
        "}\n",
        "\n",
        "lunch = food.copy()\n",
        "\n",
        "print(\"Food : \", food)\n",
        "print(\"Copy: \", lunch)"
      ],
      "metadata": {
        "id": "c0E_ZleowGWL",
        "colab": {
          "base_uri": "https://localhost:8080/"
        },
        "outputId": "8bd3644e-8634-424d-dff3-bb5b52f79673"
      },
      "execution_count": 3,
      "outputs": [
        {
          "output_type": "stream",
          "name": "stdout",
          "text": [
            "Food :  {'meal': 'appetizer', 'dish': 'Zucchini Chips', 'price': 19}\n",
            "Copy:  {'meal': 'appetizer', 'dish': 'Zucchini Chips', 'price': 19}\n"
          ]
        }
      ]
    },
    {
      "cell_type": "code",
      "source": [
        "# Dict Function: fromkeys()\n",
        "#. Returns a dictionary with the specified keys and the specified value.\n",
        "\n",
        "cars = ('Nissan' , 'Honda' , 'Hyundai')     # key\n",
        "gas = ('Petrol')                            # value\n",
        "car_dict = dict.fromkeys(cars,gas)\n",
        "print(car_dict)\n"
      ],
      "metadata": {
        "colab": {
          "base_uri": "https://localhost:8080/"
        },
        "id": "MkueZS6xw9iv",
        "outputId": "fb145353-5591-452e-f713-f24dc80f64f0"
      },
      "execution_count": 7,
      "outputs": [
        {
          "output_type": "stream",
          "name": "stdout",
          "text": [
            "{'Nissan': 'Petrol', 'Honda': 'Petrol', 'Hyundai': 'Petrol'}\n"
          ]
        }
      ]
    },
    {
      "cell_type": "code",
      "source": [
        "# Dict Function: get()\n",
        "#. Returns the value of the item with the specified key.\n",
        "\n",
        "food = {\n",
        "  \"meal\": \"appetizer\",\n",
        "  \"dish\": \"Zucchini Chips\",\n",
        "  \"price\": 19\n",
        "}\n",
        "\n",
        "print(food.get('dish'))"
      ],
      "metadata": {
        "colab": {
          "base_uri": "https://localhost:8080/"
        },
        "id": "cs-xyKmMzEiw",
        "outputId": "7c4c568c-b9b6-4d60-d253-5df9e0b9fb46"
      },
      "execution_count": 9,
      "outputs": [
        {
          "output_type": "stream",
          "name": "stdout",
          "text": [
            "Zucchini Chips\n"
          ]
        }
      ]
    },
    {
      "cell_type": "code",
      "source": [
        "# Dict Function: items()\n",
        "#. Returns a view object. View Object contains the key-value pairs of the dictionary.\n",
        "\n",
        "food = {\n",
        "  \"meal\": \"appetizer\",\n",
        "  \"dish\": \"Zucchini Chips\",\n",
        "  \"price\": 19\n",
        "}\n",
        "\n",
        "print(food.items())"
      ],
      "metadata": {
        "colab": {
          "base_uri": "https://localhost:8080/"
        },
        "id": "APuAH7JQ0uiB",
        "outputId": "c7097af9-c3e5-4be0-9b5a-11a0faf3d20a"
      },
      "execution_count": 12,
      "outputs": [
        {
          "output_type": "stream",
          "name": "stdout",
          "text": [
            "dict_items([('meal', 'appetizer'), ('dish', 'Zucchini Chips'), ('price', 19)])\n"
          ]
        }
      ]
    },
    {
      "cell_type": "code",
      "source": [
        "# Dict Function: keys()\n",
        "#. Returns the keys of the dictionary as a list\n",
        "\n",
        "food = {\n",
        "  \"meal\": \"appetizer\",\n",
        "  \"dish\": \"Zucchini Chips\",\n",
        "  \"price\": 19\n",
        "}\n",
        "\n",
        "keys_func = food.keys()\n",
        "\n",
        "print(\"Keys: \" , keys_func)             # Prints only the keys\n",
        "print(\"DataType : \", type(keys_func))"
      ],
      "metadata": {
        "colab": {
          "base_uri": "https://localhost:8080/"
        },
        "id": "8VdmeAbP1GZw",
        "outputId": "a19b22e0-7510-41e4-af6b-b9115292aa3b"
      },
      "execution_count": 14,
      "outputs": [
        {
          "output_type": "stream",
          "name": "stdout",
          "text": [
            "Keys:  dict_keys(['meal', 'dish', 'price'])\n",
            "DataType :  <class 'dict_keys'>\n"
          ]
        }
      ]
    },
    {
      "cell_type": "code",
      "source": [
        "# Dict Function: pop()\n",
        "#. Removes the specified item from the dictionary\n",
        "\n",
        "food = {\n",
        "  \"meal\": \"appetizer\",\n",
        "  \"dish\": \"Zucchini Chips\",\n",
        "  \"price\": 19\n",
        "}\n",
        "\n",
        "print(\"Original Dictionary: \", food)\n",
        "\n",
        "food.pop('dish')                      # The key-value pair of 'dish':'Zucchini Chips' is removed\n",
        "\n",
        "print(\"After pop() Function: \", food)"
      ],
      "metadata": {
        "colab": {
          "base_uri": "https://localhost:8080/"
        },
        "id": "et3265b52Be3",
        "outputId": "1e99e0cc-da9b-4fd2-bf1a-34372ba4e5b2"
      },
      "execution_count": 17,
      "outputs": [
        {
          "output_type": "stream",
          "name": "stdout",
          "text": [
            "Original Dictionary:  {'meal': 'appetizer', 'dish': 'Zucchini Chips', 'price': 19}\n",
            "After pop() Function:  {'meal': 'appetizer', 'price': 19}\n"
          ]
        }
      ]
    },
    {
      "cell_type": "code",
      "source": [
        "# Dict Function: popitem()\n",
        "#. Removes the item that was last inserted into the dictionary.\n",
        "#. The removed item is the return value of popitem(), as a tuple\n",
        "\n",
        "food = {\n",
        "  \"meal\": \"appetizer\",\n",
        "  \"dish\": \"Zucchini Chips\",\n",
        "  \"price\": 19\n",
        "}\n",
        "\n",
        "print(\"Before popitem(): \", food)\n",
        "\n",
        "removed_item = food.popitem()\n",
        "print(\"Removed Item: \", removed_item, \"Type: \", type(removed_item))   #. Removed item is a tuple\n",
        "\n",
        "print(\"Food List after removal: \", food)"
      ],
      "metadata": {
        "colab": {
          "base_uri": "https://localhost:8080/"
        },
        "id": "5uVeeo2R24AI",
        "outputId": "3e04adf7-761d-4570-e875-8e7bf78dde17"
      },
      "execution_count": 21,
      "outputs": [
        {
          "output_type": "stream",
          "name": "stdout",
          "text": [
            "Before popitem():  {'meal': 'appetizer', 'dish': 'Zucchini Chips', 'price': 19}\n",
            "Removed Item:  ('price', 19) Type:  <class 'tuple'>\n",
            "Food List after removal:  {'meal': 'appetizer', 'dish': 'Zucchini Chips'}\n"
          ]
        }
      ]
    },
    {
      "cell_type": "code",
      "source": [
        "# Dict Function: setdefault()\n",
        "#. Returns the value of the item with the specified key.\n",
        "#. If the key does not exist, insert the key, with the specified value.\n",
        "\n",
        "food = {\n",
        "  \"meal\": \"appetizer\",\n",
        "  \"dish\": \"Zucchini Chips\",\n",
        "  \"price\": 19\n",
        "}\n",
        "\n",
        "set_default_method = food.setdefault(\"price\" , 19)\n",
        "\n",
        "print(set_default_method)\n",
        "print(food)\n",
        "\n",
        "addtax = food.setdefault(\"Tax\", 2)    #. If the key-value pair does not exist, adds it to the dictionary\n",
        "print(addtax)\n",
        "print(food)\n"
      ],
      "metadata": {
        "colab": {
          "base_uri": "https://localhost:8080/"
        },
        "id": "2c-YsPre3-32",
        "outputId": "b6ddbbc5-b63d-4a7f-dea3-404115654f12"
      },
      "execution_count": 24,
      "outputs": [
        {
          "output_type": "stream",
          "name": "stdout",
          "text": [
            "19\n",
            "{'meal': 'appetizer', 'dish': 'Zucchini Chips', 'price': 19}\n",
            "2\n",
            "{'meal': 'appetizer', 'dish': 'Zucchini Chips', 'price': 19, 'Tax': 2}\n"
          ]
        }
      ]
    },
    {
      "cell_type": "code",
      "source": [
        "# Dict Function: update()\n",
        "#. Inserts the specified item as key-value pairs to the dictionary\n",
        "\n",
        "food = {\n",
        "  \"meal\": \"appetizer\",\n",
        "  \"dish\": \"Zucchini Chips\",\n",
        "  \"price\": 19\n",
        "}\n",
        "\n",
        "print(\"Before Update: \", food)\n",
        "food.update({'calories' : 200})\n",
        "print(\"After Update: \", food)\n"
      ],
      "metadata": {
        "colab": {
          "base_uri": "https://localhost:8080/"
        },
        "id": "SCxGcqzh49d6",
        "outputId": "5ba87c30-c532-403f-aed2-38b5a6433932"
      },
      "execution_count": 25,
      "outputs": [
        {
          "output_type": "stream",
          "name": "stdout",
          "text": [
            "Before Update:  {'meal': 'appetizer', 'dish': 'Zucchini Chips', 'price': 19}\n",
            "After Update:  {'meal': 'appetizer', 'dish': 'Zucchini Chips', 'price': 19, 'calories': 200}\n"
          ]
        }
      ]
    },
    {
      "cell_type": "code",
      "source": [
        "# Dict Function: values()\n",
        "#. Returns a view object with the values of the dictionary as a list\n",
        "\n",
        "food = {\n",
        "  \"meal\": \"appetizer\",\n",
        "  \"dish\": \"Zucchini Chips\",\n",
        "  \"price\": 19\n",
        "}\n",
        "\n",
        "view = food.values()        # Only the values as a list, the type is dict_values\n",
        "print(\"Dictionary: \" , view, type(view))"
      ],
      "metadata": {
        "colab": {
          "base_uri": "https://localhost:8080/"
        },
        "id": "nRojO6S458un",
        "outputId": "9004a5e2-91a3-463f-b6cb-d104ed931098"
      },
      "execution_count": 28,
      "outputs": [
        {
          "output_type": "stream",
          "name": "stdout",
          "text": [
            "Dictionary:  dict_values(['appetizer', 'Zucchini Chips', 19]) <class 'dict_values'>\n"
          ]
        }
      ]
    }
  ]
}