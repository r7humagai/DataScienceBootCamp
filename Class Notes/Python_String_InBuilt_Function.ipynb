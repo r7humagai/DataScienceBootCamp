{
  "cells": [
    {
      "cell_type": "markdown",
      "metadata": {
        "id": "2K4HhAVTOo8u"
      },
      "source": [
        "String In-Built Function:"
      ]
    },
    {
      "cell_type": "markdown",
      "metadata": {},
      "source": [
        "**String In-built Function :**"
      ]
    },
    {
      "cell_type": "code",
      "execution_count": null,
      "metadata": {
        "id": "g9tGP0GtSqao"
      },
      "outputs": [],
      "source": [
        "#dir(temp_str)\n",
        "#dir is a magic function: using it all the time in a development environment.\n",
        "#inBUILT function given by python using for common operations: #\n",
        "\n",
        "dir(str) #displays all the available functions in string"
      ]
    },
    {
      "cell_type": "code",
      "execution_count": null,
      "metadata": {
        "colab": {
          "base_uri": "https://localhost:8080/"
        },
        "id": "czCPxWwaTKn-",
        "outputId": "0daac63d-45a5-49dc-d181-8c90beac8bb2"
      },
      "outputs": [],
      "source": [
        "temp_str = \"hello World\"\n",
        "print(temp_str.capitalize())  #Takes 1st character and capitalizes it"
      ]
    },
    {
      "cell_type": "code",
      "execution_count": null,
      "metadata": {
        "colab": {
          "base_uri": "https://localhost:8080/"
        },
        "id": "3RiziQvLUUuz",
        "outputId": "4062ac20-d5d3-4a72-aca6-464de5a29ddc"
      },
      "outputs": [
        {
          "name": "stdout",
          "output_type": "stream",
          "text": [
            "hello world\n"
          ]
        }
      ],
      "source": [
        "temp_str = \"hEllO World\"\n",
        "print(temp_str.casefold())  #Returns a String with all character in lower case"
      ]
    },
    {
      "cell_type": "code",
      "execution_count": null,
      "metadata": {
        "id": "zKN7FlzKUq7l"
      },
      "outputs": [],
      "source": [
        "temp_str = \"hello World\"\n",
        "\n",
        "print(temp_str.center(18, \"*\"))  #Increase the length of string to 18 and fill it with given string character, here \"*\"\n",
        "#Note if the string is not given, it automatically adds string\n",
        "#Introduced 7 more characters\n",
        "\n",
        "print('Regular length: ', len(temp_str))  #Checking the regular length\n",
        "\n",
        "print(temp_str.center(12,\"*\"))  #Demonstration to check where it starts adding the letter, starts from right.\n"
      ]
    },
    {
      "cell_type": "code",
      "execution_count": null,
      "metadata": {
        "colab": {
          "base_uri": "https://localhost:8080/"
        },
        "id": "wVspQf-3VS3W",
        "outputId": "01030b9a-2dfc-4b29-8d94-bfe5c0acfceb"
      },
      "outputs": [
        {
          "name": "stdout",
          "output_type": "stream",
          "text": [
            "1\n",
            "2\n",
            "0\n"
          ]
        }
      ],
      "source": [
        "#Count Function\n",
        "temp_str = \"Hello World, how is it going World?\"\n",
        "print(temp_str.count(\"how\"))  #Returns how many times the substring appears in a given range\n",
        "#Also: by default picks full string\n",
        "\n",
        "#Practice:\n",
        "print(temp_str.count(\"World\"))  #Returns how many times the substring 'World' appears in a given range\n",
        "#Note: It is case sensitive\n",
        "\n",
        "temp_str = \"Hello World, how is it going World?.casefold()\" #Make all characters lowercase to check case sensitivity\n",
        "print(temp_str.count(\"world\"))\n",
        "\n",
        "#Note: Substring is a smaller part of string"
      ]
    },
    {
      "cell_type": "code",
      "execution_count": null,
      "metadata": {
        "colab": {
          "base_uri": "https://localhost:8080/"
        },
        "id": "4mFT2VQQX-nU",
        "outputId": "e2ae483d-4c3e-4e27-e54a-8f58eb4c4466"
      },
      "outputs": [
        {
          "name": "stdout",
          "output_type": "stream",
          "text": [
            "llo\n",
            "1\n",
            "Regular:  2\n",
            "2\n"
          ]
        }
      ],
      "source": [
        "# How to Give Range\n",
        "# count(value,start,end) # start and end are optional if not given takes full string\n",
        "temp_str = \"Hello World, how is it going World, hello again?\".casefold() #Make all characters lowercase to check case sensitivity\n",
        "\n",
        "print(temp_str[2:5])\n",
        "print(temp_str.count(\"hello\",2))  # Shows only one because the string starts from 2.\n",
        "                                  # So, the first hello is cut off to llo only thus making it not hello\n",
        "                                  # Note: So, the string basically become \"llo world, how is ......, hello again\"\n",
        "                                  # Thus, when we count we just have one hello. #Prints 1\n",
        "\n",
        "print(temp_str.count(\"hello\"))  # Prints 2 because in regular there are two 'hello'\n",
        "\n",
        "#Practice: Checking with world\n",
        "print(temp_str.count(\"world\"))  #Prints 2 because there are two 'world' in the string after casefold lowercases all the alphabets."
      ]
    },
    {
      "cell_type": "code",
      "execution_count": null,
      "metadata": {
        "colab": {
          "base_uri": "https://localhost:8080/"
        },
        "id": "9phAOw9pbod4",
        "outputId": "738bb552-0bbb-42cf-ff3f-440e9e6626bf"
      },
      "outputs": [
        {
          "name": "stdout",
          "output_type": "stream",
          "text": [
            "False\n",
            "True\n",
            "True\n",
            "44\n"
          ]
        }
      ],
      "source": [
        "# Function: endswith : Returns if its the last word with True or False\n",
        "temp_str = \"HeLLo WorLd how is it going? Hello all good!\"\n",
        "# endwith(value, start, end)\n",
        "print(temp_str.endswith(\"god!\"))  # Boolean output\n",
        "                                  # Returns false for this because the string ends with 'good!'\n",
        "                                  # Checks the complete string because no start and end value is given.\n",
        "\n",
        "print(temp_str.endswith(\"Lo\",0,5))  # Takes only the first character(0,5)\n",
        "                                    # Thus, returns True for word 'HeLLo\"\n",
        "\n",
        "# Test:\n",
        "print(temp_str.endswith(\"good\", 0, len(temp_str)-1))  # end: omits the last character \"!\" so outputs true.\n",
        "print(len(temp_str))\n"
      ]
    },
    {
      "cell_type": "code",
      "execution_count": null,
      "metadata": {
        "colab": {
          "base_uri": "https://localhost:8080/"
        },
        "id": "hzdXpC0kdhOi",
        "outputId": "e208e4b4-2c95-4ce8-d6ce-5cf36aa0daa4"
      },
      "outputs": [
        {
          "name": "stdout",
          "output_type": "stream",
          "text": [
            "12\n",
            "35\n",
            "-1\n"
          ]
        }
      ],
      "source": [
        "#Function: Find\n",
        "\n",
        "temp_str = \"HeLLo WorLD how is it going? Hello all good! how are you!\"\n",
        "print(temp_str.find(\"how\")) # Searches through the String and returns the index\n",
        "                            # If recurrent substring, finds the first occurence of the string : lowest index of the substring\n",
        "\n",
        "# Practice:\n",
        "print(temp_str.find(\"all\")) # Searches substring \"all\" and returns the index\n",
        "print(temp_str.find(\"asdlksadajs\")) # Returns -1 if the substring is not found\n"
      ]
    },
    {
      "cell_type": "code",
      "execution_count": null,
      "metadata": {
        "colab": {
          "base_uri": "https://localhost:8080/"
        },
        "id": "kKfzKm9Ke5Io",
        "outputId": "14adc738-a179-468f-e780-6044361d5302"
      },
      "outputs": [
        {
          "name": "stdout",
          "output_type": "stream",
          "text": [
            "Original:\n",
            "HeLLo my name is {fname}, I am a {position}!\n",
            "HeLLo my name is Rohit, I am a Data Scientist!\n",
            "Hello my name is Data Scientist, I am a Rohit!\n"
          ]
        }
      ],
      "source": [
        "#Functions: format\n",
        "temp_str = \"HeLLo my name is {fname}, I am a {position}!\"\n",
        "print (\"Original:\")\n",
        "print(temp_str) # Printing the original for reference\n",
        "\n",
        "# Test1:\n",
        "print(temp_str.format(fname = \"Rohit\", position = \"Data Scientist\"))\n",
        "\n",
        "#Test2:\n",
        "temp_str1 = \"Hello my name is {0}, I am a {1}!\"\n",
        "print(temp_str1.format(\"Data Scientist\",\"Rohit\"))"
      ]
    },
    {
      "cell_type": "code",
      "execution_count": null,
      "metadata": {
        "id": "tao4TTQ6hn3C"
      },
      "outputs": [],
      "source": [
        "# Skipped:\n",
        "# Functions: Format Map\n",
        "# Functions: expandtabs\n",
        "# Functions:"
      ]
    },
    {
      "cell_type": "code",
      "execution_count": null,
      "metadata": {
        "id": "D90W3uVDh5Ln"
      },
      "outputs": [],
      "source": [
        "# replica of find function but this returns error if nothing found"
      ]
    },
    {
      "cell_type": "code",
      "execution_count": null,
      "metadata": {
        "colab": {
          "base_uri": "https://localhost:8080/"
        },
        "id": "4ij0vBVEih27",
        "outputId": "ffe27cb7-fe5a-4777-b829-1e5a1253471d"
      },
      "outputs": [
        {
          "name": "stdout",
          "output_type": "stream",
          "text": [
            "False\n",
            "True\n",
            "True\n"
          ]
        }
      ],
      "source": [
        "# Returns True if only numbers and alphabets are present else returns false\n",
        "temp_str = \"HeLLo WorLD how is it going? Hello all good! how are you!\"\n",
        "temp_str1 = \"HelloWorld123313\"\n",
        "print(temp_str.isalnum())\n",
        "print(temp_str1.isalnum())\n",
        "print(temp_str[0:5].isalnum())\n"
      ]
    },
    {
      "cell_type": "code",
      "execution_count": null,
      "metadata": {
        "colab": {
          "base_uri": "https://localhost:8080/"
        },
        "id": "EPnPVkR8jKlT",
        "outputId": "ef235d89-d650-437f-fbe1-f9911150f248"
      },
      "outputs": [
        {
          "name": "stdout",
          "output_type": "stream",
          "text": [
            "True\n",
            "False\n",
            "False\n"
          ]
        }
      ],
      "source": [
        "# Function\n",
        "# Returns True if only alphabet are present else returns false\n",
        "temp_str = \"HeLLoWorld\"\n",
        "temp_str1 = \"HeLLo WorLD\"\n",
        "temp_str2 = \"HeLLoWorLD1221212\"\n",
        "\n",
        "print(temp_str.isalpha())\n",
        "print(temp_str1.isalpha())\n",
        "print(temp_str2.isalpha())\n",
        "\n"
      ]
    },
    {
      "cell_type": "code",
      "execution_count": null,
      "metadata": {
        "colab": {
          "base_uri": "https://localhost:8080/"
        },
        "id": "EmvbmjmLkkSN",
        "outputId": "7de4d448-38d8-475c-b20b-91e936ac5bf4"
      },
      "outputs": [
        {
          "name": "stdout",
          "output_type": "stream",
          "text": [
            "False\n",
            "True\n",
            "False\n",
            "True\n",
            "False\n"
          ]
        }
      ],
      "source": [
        "# Function: isdecimal\n",
        "# Returns true if only numbers between 0-9 returns false\n",
        "\n",
        "temp_str = \"Hello World\"\n",
        "print(temp_str.isdecimal())\n",
        "\n",
        "temp_str1 = \"123343243243\"\n",
        "print(temp_str1.isdecimal())\n",
        "\n",
        "temp_str2 = \"  12344343434 \"\n",
        "print(temp_str2.isdecimal())\n",
        "\n",
        "unicode_0 = \"\\u0030\"\n",
        "print(unicode_0.isdecimal())  # Also works for unicode\n",
        "                              # Returns True because u0030 represents digit zero '0'\n",
        "\n",
        "unicode_1 = \"\\u0041\"\n",
        "print(unicode_1.isdecimal())  # Returns False because unicode represents alphabet 'a'\n"
      ]
    },
    {
      "cell_type": "code",
      "execution_count": null,
      "metadata": {
        "colab": {
          "base_uri": "https://localhost:8080/"
        },
        "id": "Z0JMr6S_nMfL",
        "outputId": "effed0b1-98f0-4166-eeaa-5cafc16df991"
      },
      "outputs": [
        {
          "name": "stdout",
          "output_type": "stream",
          "text": [
            "True\n",
            "False\n",
            "True\n",
            "False\n"
          ]
        }
      ],
      "source": [
        "# Function: isdigit\n",
        "# Returns true if the given string is digit or not\n",
        "\n",
        "temp_str = \"0123435343434334\"\n",
        "temp_str1 = \"HellO WorlD\"\n",
        "unicode_0 = \"\\u0030\"  #ad. digit '0'\n",
        "unicode_1 = \"\\u0041\"  #ad. alphabet 'a'\n",
        "\n",
        "print(temp_str.isdigit())\n",
        "print(temp_str1.isdigit())\n",
        "print(unicode_0.isdigit())  # Returns true because the unicode corresponds to digit 0\n",
        "print(unicode_1.isdigit())  # Returns false because the unicode corresponsds to digit a"
      ]
    },
    {
      "cell_type": "markdown",
      "metadata": {
        "id": "MvuUKow5ZnQJ"
      },
      "source": [
        "*String In-Built Functions Continued*"
      ]
    },
    {
      "cell_type": "code",
      "execution_count": null,
      "metadata": {
        "colab": {
          "base_uri": "https://localhost:8080/"
        },
        "id": "F51UYXlYZsXO",
        "outputId": "6df50fa4-ccdb-4c51-e7ec-53fbf3bbaae7"
      },
      "outputs": [
        {
          "name": "stdout",
          "output_type": "stream",
          "text": [
            "km²\n",
            "False\n",
            "True\n"
          ]
        }
      ],
      "source": [
        "# Note: difference between isdigit and isdecimal\n",
        "\n",
        "temp_str = \"\\u00B2\"         # For subscript 2\n",
        "print('km\\u00B2')\n",
        "\n",
        "print(temp_str.isdecimal()) # is not a decimal\n",
        "print(temp_str.isdigit())   # is a digit\n"
      ]
    },
    {
      "cell_type": "code",
      "execution_count": null,
      "metadata": {
        "colab": {
          "base_uri": "https://localhost:8080/"
        },
        "id": "PMIAgnqwa1Lf",
        "outputId": "f5ba933f-0f58-4cea-d837-76dac9af0299"
      },
      "outputs": [
        {
          "name": "stdout",
          "output_type": "stream",
          "text": [
            "False\n",
            "True\n",
            "True\n",
            "True\n"
          ]
        }
      ],
      "source": [
        "# Function: isidentifier\n",
        "# Note: a python identifier is the name given to identify a variable, class, function.. ex: if, str, float\n",
        "\n",
        "temp_str = \"Hello World\"\n",
        "print(temp_str.isidentifier())  # Returns false because 'Hello World' is not a identifier\n",
        "\n",
        "temp_str2 = \"if\"\n",
        "print(temp_str2.isidentifier()) # Returns true because 'if' is a identifier\n",
        "\n",
        "temp_str3 = \"str\"\n",
        "print(temp_str3.isidentifier()) # Returns true because 'str' is a identifier for String\n",
        "\n",
        "# Test:\n",
        "temp_str4 = \"aabbccccd\"\n",
        "print(temp_str4.isidentifier()) # Returns true because it also works with variable declaration\n",
        "\n"
      ]
    },
    {
      "cell_type": "code",
      "execution_count": null,
      "metadata": {
        "colab": {
          "base_uri": "https://localhost:8080/"
        },
        "id": "lNo_I5kDb1Wu",
        "outputId": "3953413c-166e-46aa-be17-432849a36c15"
      },
      "outputs": [
        {
          "name": "stdout",
          "output_type": "stream",
          "text": [
            "False\n",
            "True\n"
          ]
        }
      ],
      "source": [
        "# Function: islower outputs in boolean\n",
        "\n",
        "temp_str = \"Hello WoRLD\"\n",
        "temp_str2 = \"hello world\"\n",
        "\n",
        "print(temp_str.islower())   # returns false\n",
        "print(temp_str2.islower())  # returns true\n",
        "\n",
        "# Note: only checks the alphabets in the given string, ignores if the string has numeric value."
      ]
    },
    {
      "cell_type": "code",
      "execution_count": null,
      "metadata": {
        "colab": {
          "base_uri": "https://localhost:8080/"
        },
        "id": "nTpq299db-pc",
        "outputId": "62c7e72e-c50b-4d9f-bc4a-a406320133cb"
      },
      "outputs": [
        {
          "name": "stdout",
          "output_type": "stream",
          "text": [
            "False\n",
            "True\n"
          ]
        }
      ],
      "source": [
        "# Function: isspace()\n",
        "# Returns True only if white spaces else returns False\n",
        "\n",
        "temp_str = \"Hello World\"\n",
        "temp_str2 = \" \"\n",
        "\n",
        "print(temp_str.isspace())\n",
        "print(temp_str2.isspace())\n"
      ]
    },
    {
      "cell_type": "code",
      "execution_count": null,
      "metadata": {
        "colab": {
          "base_uri": "https://localhost:8080/"
        },
        "id": "f5ikWU8xeBKj",
        "outputId": "22bd600d-5286-4556-f0d1-2ef7fdfd5965"
      },
      "outputs": [
        {
          "name": "stdout",
          "output_type": "stream",
          "text": [
            "True\n",
            "False\n"
          ]
        }
      ],
      "source": [
        "# Function: istitle()\n",
        "# Returns True if first character of each letter is capitalized\n",
        "\n",
        "temp_str = \"Hello World\"\n",
        "temp_str2 = \"Hello WORLD\"\n",
        "\n",
        "print(temp_str.istitle())\n",
        "print(temp_str2.istitle())\n"
      ]
    },
    {
      "cell_type": "code",
      "execution_count": null,
      "metadata": {
        "colab": {
          "base_uri": "https://localhost:8080/"
        },
        "id": "nuRtvfT3eJf4",
        "outputId": "a66b3d02-bee4-4201-a466-fb818ff9ae36"
      },
      "outputs": [
        {
          "name": "stdout",
          "output_type": "stream",
          "text": [
            "False\n",
            "True\n"
          ]
        }
      ],
      "source": [
        "# Function: isupper()\n",
        "# Returns True if 'all' the characters in the string is uppercase, only applicable for alphabets, ignores numbers and spaces.\n",
        "\n",
        "temp_str = \"Hello World\"\n",
        "temp_str2 = \"HELLO WORLD 122122 ALOPDKDL\"\n",
        "\n",
        "print(temp_str.isupper())\n",
        "print(temp_str2.isupper())\n"
      ]
    },
    {
      "cell_type": "code",
      "execution_count": null,
      "metadata": {
        "colab": {
          "base_uri": "https://localhost:8080/"
        },
        "id": "rzx375VCfuuK",
        "outputId": "cbda5569-a8d6-446a-abd8-4e978d57be8b"
      },
      "outputs": [
        {
          "name": "stdout",
          "output_type": "stream",
          "text": [
            "Hello#World#How#are#you\n",
            "Hello World How are you\n"
          ]
        }
      ],
      "source": [
        "# Function: join()\n",
        "# Iterables are list, tuple\n",
        "# Only works with String\n",
        "list_temp = [\"Hello\", \"World\", \"How\", \"are\", \"you\"]\n",
        "print(\"#\".join(list_temp))    # Combines the strings in the list using the join condition. Here, \"#\"\n",
        "\n",
        "print(\" \".join(list_temp))    # Combine the strings in the list and put a space between them"
      ]
    },
    {
      "cell_type": "code",
      "execution_count": null,
      "metadata": {
        "id": "pGSU2Ww3hYhZ"
      },
      "outputs": [],
      "source": [
        "# Function: jumped"
      ]
    },
    {
      "cell_type": "code",
      "execution_count": null,
      "metadata": {
        "colab": {
          "base_uri": "https://localhost:8080/"
        },
        "id": "ENp8VgmHhcFF",
        "outputId": "f36bbcad-d205-46a6-c4e8-2cff305d11fa"
      },
      "outputs": [
        {
          "name": "stdout",
          "output_type": "stream",
          "text": [
            "hello world\n"
          ]
        }
      ],
      "source": [
        "# Function: lower()\n",
        "\n",
        "temp_str = \"Hello World\"\n",
        "print(temp_str.lower())   # brings all the characters to lower case\n",
        "\n",
        "# Note: casefold() works for other languages too, but lower() only works on english alphabet\n"
      ]
    },
    {
      "cell_type": "code",
      "execution_count": null,
      "metadata": {
        "colab": {
          "base_uri": "https://localhost:8080/"
        },
        "id": "sqNkTzkGhgOz",
        "outputId": "7e55a7e1-f658-48d3-f6ee-01a9567e4a78"
      },
      "outputs": [
        {
          "name": "stdout",
          "output_type": "stream",
          "text": [
            "Hello World.      \n",
            "        Hello World.\n"
          ]
        }
      ],
      "source": [
        "# Function: lstrip()\n",
        "\n",
        "temp_str = \"        Hello World.      \"\n",
        "print(temp_str.lstrip())                # leftstrip: removes whitespaces from left side\n",
        "\n",
        "# Functtion: rstrip()\n",
        "\n",
        "print(temp_str.rstrip())                # rightstrip: removes whitespaces from right side"
      ]
    },
    {
      "cell_type": "code",
      "execution_count": null,
      "metadata": {
        "colab": {
          "base_uri": "https://localhost:8080/"
        },
        "id": "PRi_B05MjaKR",
        "outputId": "a76add72-a01f-4167-a952-2488baa6527a"
      },
      "outputs": [
        {
          "name": "stdout",
          "output_type": "stream",
          "text": [
            "('i could eat ', 'apples', ' all day')\n",
            "('i could eat apples all day', '', '')\n"
          ]
        }
      ],
      "source": [
        "# Function: partition()\n",
        "\n",
        "temp_str = \"i could eat apples all day\"\n",
        "\n",
        "print(temp_str.partition(\"apples\"))       # Partitions the given substring from the string\n",
        "print(temp_str.partition(\"applesa32\"))    # Returns entire string if the substring is not found, add: \",\""
      ]
    },
    {
      "cell_type": "code",
      "execution_count": null,
      "metadata": {
        "colab": {
          "base_uri": "https://localhost:8080/"
        },
        "id": "rY4jZOGlkC1-",
        "outputId": "56e7916d-59c6-4d38-df2d-1fe0b80035f1"
      },
      "outputs": [
        {
          "name": "stdout",
          "output_type": "stream",
          "text": [
            "I could eat apples  day, thats  i can say\n",
            "I could eat mango all day, thats all i can say\n",
            "I could eat mango many day, thats many i can say\n"
          ]
        }
      ],
      "source": [
        "# Function: replace()\n",
        "\n",
        "temp_str = \"I could eat apples all day, thats all i can say\"\n",
        "\n",
        "print(temp_str.replace('all',''))                                     # Removes specified substring from the string and replaces it\n",
        "print(temp_str.replace(\"apples\", \"mango\"))                            # Replace apples with mango\n",
        "print(temp_str.replace(\"all\", \"many\"). replace(\"apples\", \"mango\"))    # can be used multiple times\n"
      ]
    },
    {
      "cell_type": "code",
      "execution_count": null,
      "metadata": {
        "colab": {
          "base_uri": "https://localhost:8080/"
        },
        "id": "eVZTC9vblejX",
        "outputId": "f0d11910-a09e-453c-e088-1268d71dc9bf"
      },
      "outputs": [
        {
          "name": "stdout",
          "output_type": "stream",
          "text": [
            "['I could eat apples all day', ' thats all i can say']\n"
          ]
        }
      ],
      "source": [
        "# Function: split()\n",
        "\n",
        "temp_str = \"I could eat apples all day, thats all i can say\"\n",
        "\n",
        "print(temp_str.split(\",\"))    # Finds the given substring, splits String from there"
      ]
    },
    {
      "cell_type": "code",
      "execution_count": null,
      "metadata": {
        "colab": {
          "base_uri": "https://localhost:8080/"
        },
        "id": "cH8D9RGTnQ03",
        "outputId": "337045c2-3f76-487d-db64-ff97355c8373"
      },
      "outputs": [
        {
          "name": "stdout",
          "output_type": "stream",
          "text": [
            "True\n",
            "True\n"
          ]
        }
      ],
      "source": [
        "\n",
        "temp_str = \"I could eat apples all day, thats all i can say\"\n",
        "print(temp_str.startswith(\"I\"))                               # Case Sensitive\n",
        "print(temp_str.startswith(\"could\", 2))\n"
      ]
    },
    {
      "cell_type": "code",
      "execution_count": null,
      "metadata": {
        "colab": {
          "base_uri": "https://localhost:8080/"
        },
        "id": "G-SpkjG9nyet",
        "outputId": "15341a22-3b5e-414a-99f7-0312af37cb72"
      },
      "outputs": [
        {
          "name": "stdout",
          "output_type": "stream",
          "text": [
            "I COULD EAT apples ALL day\n"
          ]
        }
      ],
      "source": [
        "#Function: swapcase()\n",
        "\n",
        "temp_str = \"i could eat APPLES all DAY\"\n",
        "print(temp_str.swapcase())              # Swaps uppercase and lowercase\n"
      ]
    },
    {
      "cell_type": "code",
      "execution_count": null,
      "metadata": {
        "colab": {
          "base_uri": "https://localhost:8080/"
        },
        "id": "vmQueRAkoA2v",
        "outputId": "220d0e53-7f22-45c7-ae63-819b5697e665"
      },
      "outputs": [
        {
          "name": "stdout",
          "output_type": "stream",
          "text": [
            "I Eat Apple All Day\n"
          ]
        }
      ],
      "source": [
        "# Function: title()\n",
        "\n",
        "temp_str = \"i eat apple all day\"\n",
        "print(temp_str.title())           # Converts first letter of each word in String to Uppercase\n",
        "\n",
        "# Note: istitle() vs title()\n",
        "#       istitle() is boolean to check, title() is for conversion"
      ]
    },
    {
      "cell_type": "code",
      "execution_count": null,
      "metadata": {
        "colab": {
          "base_uri": "https://localhost:8080/"
        },
        "id": "qTdZ2BghorK9",
        "outputId": "7cf537cc-ccd5-4438-ac34-53edbe5379c1"
      },
      "outputs": [
        {
          "name": "stdout",
          "output_type": "stream",
          "text": [
            "Iscouldseatsapplessallsdayssthatssallsiscanssay\n"
          ]
        }
      ],
      "source": [
        "# Function: translate()\n",
        "\n",
        "temp_str = \"I could eat apples all day, thats all i can say\"\n",
        "\n",
        "print(temp_str.translate(temp_str))\n"
      ]
    },
    {
      "cell_type": "code",
      "execution_count": null,
      "metadata": {
        "colab": {
          "base_uri": "https://localhost:8080/"
        },
        "id": "LWl6_gBzpb0i",
        "outputId": "e25ad4ac-317a-42ea-ebc5-57b19f3fb26c"
      },
      "outputs": [
        {
          "name": "stdout",
          "output_type": "stream",
          "text": [
            "{83: 78}\n",
            "{83: 80, 82: 90}\n",
            "{'car': 'Ford', 'model': 'Focus'}\n",
            "Focus\n"
          ]
        }
      ],
      "source": [
        "# Python Dictionary\n",
        "\n",
        "temp_str = {83:80, 83:78}\n",
        "print(temp_str)             # Essentially, since 83 had two keys: 80 and 78 thus duplication\n",
        "                            # Removes the duplicate key, and only gives latest\n",
        "\n",
        "temp_str = {83:80, 82: 90}\n",
        "print(temp_str)             # Since, both keys are original, both prints\n",
        "\n",
        "temp_str3 = {'car': 'Ford', \"model\": \"Mustang\", \"model\": \"Focus\"}   # Duplicate model key, thus prints the latest model: Focus\n",
        "print(temp_str3)\n",
        "\n",
        "# Note: Dictionary only works with keys not indexes, if you want to find the value, remember the key.\n",
        "\n",
        "print(temp_str3['model'])   # Prints the value for the key, not the key itself\n"
      ]
    },
    {
      "cell_type": "code",
      "execution_count": null,
      "metadata": {
        "colab": {
          "base_uri": "https://localhost:8080/"
        },
        "id": "dZUel0vYquhX",
        "outputId": "ca7e21b0-ca75-4669-b6af-3e4496de0238"
      },
      "outputs": [
        {
          "name": "stdout",
          "output_type": "stream",
          "text": [
            "{'name': 'John', 'age': 34, 'country': 'England'}\n"
          ]
        }
      ],
      "source": [
        "# Dictionary: Print key and value\n",
        "\n",
        "thisdict = dict ( name = \"John\", age = 34, country = \"England\")\n",
        "print(thisdict)                                                   # Prints the key and value of the dictionary"
      ]
    },
    {
      "cell_type": "code",
      "execution_count": 1,
      "metadata": {
        "colab": {
          "base_uri": "https://localhost:8080/",
          "height": 35
        },
        "id": "Cm1CM_Z1qO3i",
        "outputId": "6005ea51-bb6b-4442-eb86-d42157f473c0"
      },
      "outputs": [
        {
          "data": {
            "application/vnd.google.colaboratory.intrinsic+json": {
              "type": "string"
            },
            "text/plain": [
              "'Hello Pam! Phhhhh Pen'"
            ]
          },
          "execution_count": 1,
          "metadata": {},
          "output_type": "execute_result"
        }
      ],
      "source": [
        "# Function: translate()\n",
        "# Note: ASCII Codes: here, 83(S) and 80(P)\n",
        "\n",
        "# Ascii Code Value of S is 83 defaultly we replace it with 80 here which is P\n",
        "temp_dict = {83:80}                 # ASCII Value of 83 converted to 80\n",
        "temp_str = \"Hello Sam! Shhhhh Sen\"\n",
        "temp_str.translate(temp_dict)\n"
      ]
    }
  ],
  "metadata": {
    "colab": {
      "provenance": []
    },
    "kernelspec": {
      "display_name": "Python 3",
      "name": "python3"
    },
    "language_info": {
      "codemirror_mode": {
        "name": "ipython",
        "version": 3
      },
      "file_extension": ".py",
      "mimetype": "text/x-python",
      "name": "python",
      "nbconvert_exporter": "python",
      "pygments_lexer": "ipython3",
      "version": "3.10.5"
    }
  },
  "nbformat": 4,
  "nbformat_minor": 0
}
