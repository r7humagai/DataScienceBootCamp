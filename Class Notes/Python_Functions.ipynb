{
  "nbformat": 4,
  "nbformat_minor": 0,
  "metadata": {
    "colab": {
      "provenance": []
    },
    "kernelspec": {
      "name": "python3",
      "display_name": "Python 3"
    },
    "language_info": {
      "name": "python"
    }
  },
  "cells": [
    {
      "cell_type": "markdown",
      "source": [
        "#**Functions in Python\n",
        "\n",
        "\n",
        "1.   Built-in Functions (https://docs.python.org/3/library/functions.html)\n",
        "2.   User Defined Functions\n",
        "\n"
      ],
      "metadata": {
        "id": "amnEGZB0G4KB"
      }
    },
    {
      "cell_type": "code",
      "source": [
        "# Type Casting Functions\n",
        "# int(), float(), complex(), bool(), str(), list(), tuple(), set(), and dict().\n",
        "# ^ These 9 functions are used for type casting functions.\n",
        "# Assignment: Convert from one data type to another."
      ],
      "metadata": {
        "id": "AycRSYT9HRwJ"
      },
      "execution_count": null,
      "outputs": []
    },
    {
      "cell_type": "code",
      "source": [
        "int1 = 1947\n",
        "print(float(int1))\n",
        "print(complex(int1))\n",
        "print(bool(int1))\n",
        "print(str(int1))\n",
        "# print(list(int1))   # TypeError: 'int' object is not iterable.\n",
        "# print(tuple(int1))  # TypeError: 'int' object is not iterable.\n",
        "# print(set)(int1))   # TypeError: 'int object is not iterable.\n",
        "# print(dict(int1))   # TypeError: 'int' object is not iterable.\n"
      ],
      "metadata": {
        "colab": {
          "base_uri": "https://localhost:8080/"
        },
        "id": "-WQ5AbUrHnCy",
        "outputId": "d888258c-c36c-4349-a9c5-95f9ed0d060f"
      },
      "execution_count": null,
      "outputs": [
        {
          "output_type": "stream",
          "name": "stdout",
          "text": [
            "1947.0\n",
            "(1947+0j)\n",
            "True\n",
            "1947\n"
          ]
        }
      ]
    },
    {
      "cell_type": "code",
      "source": [
        "# Number datatypes:\n",
        "# bin(), oct(), hex()\n",
        "\n",
        "for i in range(10,100):\n",
        "  print('Decimal: ' , i)\n",
        "  print('Binary: ', bin(i))\n",
        "  print('Octa Decimal: ', oct(i))\n",
        "  print('Hexadecimal: ', hex(i))\n",
        "  print(\"\\r\")"
      ],
      "metadata": {
        "id": "IH7FvpDPI0xw"
      },
      "execution_count": null,
      "outputs": []
    },
    {
      "cell_type": "code",
      "source": [
        "for i in range(1,100):\n",
        "  print('Decimal: ' , i, end = \"\")\n",
        "  print('\\tBinary: ', bin(i), end = \"\")\n",
        "  print('\\tOcta Decimal: ', oct(i), end = \"\")\n",
        "  print(\"\\tHexadecimal: \", hex(i), end = \"\")\n",
        "  print(\"\\r\")"
      ],
      "metadata": {
        "id": "_HM1muVCKCEQ"
      },
      "execution_count": null,
      "outputs": []
    },
    {
      "cell_type": "code",
      "source": [
        "# User defined functions provide flexibility so the same code can be used in different places.\n",
        "\n",
        "# eg.\n",
        "def sum_of_two(a,b):\n",
        "  return(a+b)"
      ],
      "metadata": {
        "id": "UJa60QnVMeSV"
      },
      "execution_count": null,
      "outputs": []
    },
    {
      "cell_type": "code",
      "source": [
        "sum_of_two(1947, -1949)"
      ],
      "metadata": {
        "colab": {
          "base_uri": "https://localhost:8080/"
        },
        "id": "xd-Qb8blMxKX",
        "outputId": "99717d59-cefd-42c6-def3-95b5b8e2f1cd"
      },
      "execution_count": null,
      "outputs": [
        {
          "output_type": "execute_result",
          "data": {
            "text/plain": [
              "-2"
            ]
          },
          "metadata": {},
          "execution_count": 24
        }
      ]
    },
    {
      "cell_type": "code",
      "source": [
        "word = 'neven'\n",
        "\n",
        "def palin(str1):\n",
        "\n",
        "  if str1 == str1[::-1]:              # Using Reverse Slicing\n",
        "    return \"is a palindrome\"\n",
        "  else:\n",
        "    return \"is not a palindrome\"\n",
        "\n",
        "print(palin(word))"
      ],
      "metadata": {
        "colab": {
          "base_uri": "https://localhost:8080/"
        },
        "id": "bJEUsiunU5En",
        "outputId": "1b89e8a3-e023-4681-eb4d-91fe69cb3dca"
      },
      "execution_count": null,
      "outputs": [
        {
          "output_type": "stream",
          "name": "stdout",
          "text": [
            "neven\n",
            "neven\n",
            "is a palindrome\n"
          ]
        }
      ]
    },
    {
      "cell_type": "markdown",
      "source": [
        "*In-class Assignment [ 08/21 ]: Functions in Python*"
      ],
      "metadata": {
        "id": "6Vr0HHJpAWH0"
      }
    },
    {
      "cell_type": "code",
      "execution_count": null,
      "metadata": {
        "id": "QRiMxm7mEF2C"
      },
      "outputs": [],
      "source": [
        "# Functions Practice\n",
        "#. Question 1:\n",
        "#. Given a input of words separated by hyphen, return in alphabetical order.\n",
        "\n",
        "def word_alpha(sentence):\n",
        "\n",
        "  words = sentence.split(\"-\")\n",
        "  sorted_list = sorted(words)\n",
        "  joined_sentence = '-'.join(sorted_list)       # type of joined_sentence is string\n",
        "\n",
        "  print(joined_sentence)\n",
        "\n",
        "sentence = input(\"Enter the words separated by a hyphen '-' : \")\n",
        "word_alpha(sentence)"
      ]
    },
    {
      "cell_type": "code",
      "source": [
        "# Question 2:\n",
        "\n",
        "#. Write a function that accepts a string and count consonants and vowels in that string.\n",
        "\n",
        "def vc_counter(sentence):   #Function vc_counter takes in string input\n",
        "\n",
        "  print(sentence)\n",
        "\n",
        "  vowel_counter = 0         # Counter for each vowels and consonants\n",
        "  consonant_counter = 0\n",
        "\n",
        "  for i in sentence:\n",
        "      if i.isalpha():             # only go through the loop for alphabets\n",
        "        if i == \"a\" or i == \"e\" or i == \"i\" or i == \"o\" or i == \"u\":\n",
        "          vowel_counter += 1\n",
        "        else:\n",
        "          consonant_counter += 1\n",
        "\n",
        "  print(\"Vowels: \", vowel_counter)\n",
        "  print(\"Consonant: \", consonant_counter)\n",
        "\n",
        "# User Input outside the function:\n",
        "user_input = input(\"Please enter a sentence: \")\n",
        "vc_counter(user_input)"
      ],
      "metadata": {
        "id": "CMBkRCg4Fej_"
      },
      "execution_count": null,
      "outputs": []
    },
    {
      "cell_type": "code",
      "source": [
        "# Question 3:\n",
        "\n",
        "# Check whether a number is perfect or not.\n",
        "# Constraints: Sum of numbers' positive divisors should equal number.\n",
        "#              Should equal half of all its positive divisors.\n",
        "\n",
        "\n",
        "#num = 16\n",
        "#num = 6\n",
        "#num = 28\n",
        "\n",
        "def perfect_number(num):\n",
        "  sum_of_divisors = 0\n",
        "\n",
        "  for i in range(1, num):\n",
        "    if num % i == 0:\n",
        "      sum_of_divisors += i\n",
        "  print(\"Sum of divisors: \", sum_of_divisors)\n",
        "\n",
        "  if sum_of_divisors == num and ((sum_of_divisors+num)/2) == num:\n",
        "    print (\"Its a perfect number!\")\n",
        "  else:\n",
        "    print(\"Its not a perfect number!\")\n",
        "\n",
        "user_input = int(input(\"Enter a positive integer: \"))\n",
        "perfect_number(user_input)\n"
      ],
      "metadata": {
        "id": "4voV0jHBNiOH"
      },
      "execution_count": null,
      "outputs": []
    },
    {
      "cell_type": "markdown",
      "source": [
        "*Homework Assignments [ DUE 08/22 ]*"
      ],
      "metadata": {
        "id": "0mMTcH0RAe70"
      }
    },
    {
      "cell_type": "code",
      "source": [
        "#Q4. Question 4:\n",
        "# Program to print \"twin prime numbers\" less than 1000. Note: if two consecutive odd numbers are both prime, they are called twin prime numbers.\n",
        "prime_numbers = []\n",
        "for i in range(2,1001):\n",
        "  for j in range(2,i):\n",
        "    if i % j == 0 and i%2 == 0:\n",
        "      break\n",
        "    else:\n",
        "      prime_numbers.append(i)\n",
        "\n",
        "print(prime_numbers)\n",
        "twin = []\n",
        "\n",
        "for i in prime_numbers:\n",
        "  if i % 2 != 0 and i+1 not in prime_numbers:\n",
        "    break\n",
        "  else:\n",
        "    print (i, \"and\", i+1)\n",
        "\n",
        "print(twin)"
      ],
      "metadata": {
        "id": "6eEIYkOfOLJK"
      },
      "execution_count": null,
      "outputs": []
    },
    {
      "cell_type": "code",
      "source": [
        "# Function to check if a number is prime\n",
        "def is_prime(num):\n",
        "    if num <= 1:\n",
        "        return False\n",
        "    if num == 2:\n",
        "        return True\n",
        "    if num % 2 == 0:\n",
        "        return False\n",
        "    for i in range(3, int(num**0.5) + 1, 2):\n",
        "        if num % i == 0:\n",
        "            return False\n",
        "    return True\n",
        "\n",
        "# Initialize an empty list to store the odd prime numbers\n",
        "odd_prime_numbers = []\n",
        "\n",
        "# Loop through odd numbers from 1 to 1000\n",
        "for num in range(3, 1001, 2):\n",
        "    if is_prime(num):\n",
        "        # If the number is prime, append it to the list\n",
        "        odd_prime_numbers.append(num)\n",
        "\n",
        "# Print the list of odd prime numbers\n",
        "print(odd_prime_numbers)"
      ],
      "metadata": {
        "id": "FnVUuOYCBiiZ"
      },
      "execution_count": null,
      "outputs": []
    },
    {
      "cell_type": "code",
      "source": [
        "# Function to check if a number is prime\n",
        "def is_prime(num):\n",
        "    if num <= 1:\n",
        "        return False\n",
        "    if num == 2:\n",
        "        return True\n",
        "    if num % 2 == 0:\n",
        "        return False\n",
        "    for i in range(3, int(num**0.5) + 1, 2):\n",
        "        if num % i == 0:\n",
        "            return False\n",
        "    return True\n",
        "\n",
        "\n",
        "# Loop through numbers from 1 to 1000\n",
        "for num in range(1, 1000):\n",
        "    if is_prime(num) and is_prime(num + 2):\n",
        "        print(f\"({num}, {num + 2})\")"
      ],
      "metadata": {
        "id": "mJ3q_HXBDC0q"
      },
      "execution_count": null,
      "outputs": []
    },
    {
      "cell_type": "code",
      "source": [
        "#. Question 1.\n",
        "#. Python program to find pairs of twin prime numbers below 1000.\n",
        "#. Twin Prime Numbers: [3,5] , [5,7]\n",
        "#. ---- Logical Breaking ----\n",
        "#. first part: iterate till 1000\n",
        "#. second part: only check for odd numbers.\n",
        "#. third part: both numbers should be prime"
      ],
      "metadata": {
        "id": "F_rDhjCYLnBn"
      },
      "execution_count": null,
      "outputs": []
    },
    {
      "cell_type": "code",
      "source": [
        "#.\n",
        "n = int(input(\"Enter the Max Range: \"))\n",
        "\n",
        "def check_prime_number(num):    #. Driver code for odd number : Takes in number and returns true if it is odd.\n",
        "  for i in range(2,num):\n",
        "    if num%i == 0:\n",
        "      return False\n",
        "  return True\n",
        "\n",
        "def print_prime_pairs(n):        #. Main Function\n",
        "  for k in range(3,n,2):\n",
        "    if check_prime_number(k) and check_prime_number(k+2):\n",
        "      print(\"Pair Prime Numbers\",k,k+2)\n",
        "\n",
        "print_prime_pairs(n)"
      ],
      "metadata": {
        "id": "ok3HS_dtMagp"
      },
      "execution_count": null,
      "outputs": []
    },
    {
      "cell_type": "code",
      "source": [
        "#. Question 2.\n",
        "# Python program to find the prime factorization of a number. Example: 56 -> 2 x 2 x 2 x 7\n",
        "\n",
        "#. Approach: i. Divide the number until it becomes 1.\n",
        "\n",
        "n = int(input(\"Enter the number for prime factorization: \"))\n",
        "# n = 56\n",
        "\n",
        "def prime_factors(num):\n",
        "  factors = []\n",
        "  divisor = 2\n",
        "  while num > 1:\n",
        "    while num % divisor == 0:\n",
        "      num = num / divisor\n",
        "      factors.append(str(divisor))\n",
        "    divisor = divisor + 1\n",
        "  return factors\n",
        "\n",
        "def show_prime_factorization(n):\n",
        "  factors = prime_factors(n)\n",
        "  return \" x \".join(factors)\n",
        "\n",
        "show_prime_factorization(n)"
      ],
      "metadata": {
        "id": "3_Z9H19IJaND"
      },
      "execution_count": null,
      "outputs": []
    },
    {
      "cell_type": "code",
      "source": [
        "#. Question 3:\n",
        "# Python program to check if the two given numbers are amicable.\n",
        "# [Amicable numbers -> if the sum of the proper divisors of each is equal to the other number. eg. 220 and 284 ]\n",
        "\n",
        "# x = int(input(\"Enter first number: \"))\n",
        "# y = int(input(\"Enter second number: \"))\n",
        "\n",
        "def get_proper_divisor_sum(num):\n",
        "  sum = 0\n",
        "  for k in range(1,num):\n",
        "    if num % k == 0:\n",
        "      sum = sum + k\n",
        "  return sum\n",
        "\n",
        "def check_ambicale_numbers(x,y):\n",
        "\n",
        "  if get_proper_divisor_sum(x) == y and get_proper_divisor_sum(y) == x:\n",
        "    print(\"These are ambicale numbers: \",x,y)\n",
        "  else:\n",
        "    print(\"Not Ambicale\")\n",
        "\n",
        "check_ambicale_numbers(220, 284)\n"
      ],
      "metadata": {
        "id": "r8hVw49vJfkf"
      },
      "execution_count": null,
      "outputs": []
    },
    {
      "cell_type": "code",
      "source": [
        "# Q4. Swap first and last element of the list\n",
        "\n",
        "# a = [1, 2, 5, 10, '1']\n",
        "# print(\"Original List: \", a)\n",
        "# temp = []\n",
        "# for i in a:\n",
        "#   temp = a[(len(a) - 1)]      #. temp takes the value of last element\n",
        "#   a[(len(a) - 1)] = a[0]      #. last element takes the value of first element\n",
        "#   a[0] = temp                 #. first element takes the value of temp which had the value of last element\n",
        "\n",
        "# print(\"After swap: \", a )\n"
      ],
      "metadata": {
        "id": "EZog1xb9bkKG"
      },
      "execution_count": null,
      "outputs": []
    },
    {
      "cell_type": "code",
      "execution_count": null,
      "metadata": {
        "id": "YhMtyTq3FK9Y"
      },
      "outputs": [],
      "source": [
        "# swap 1st and last element of list\n",
        "\n",
        "a=[1,2,5,10,'1']\n",
        "\n",
        "# remove functions work on values which we might not know\n",
        "# pop works at indexs more suitable\n",
        "# clear removes everything from list which is not suggested\n",
        "def swap_elements(list_temp):\n",
        "  first=list_temp.pop(0)\n",
        "  last=list_temp.pop(-1)\n",
        "  list_temp.insert(0,last)\n",
        "  list_temp.append(first)\n",
        "  print(list_temp)\n",
        "\n",
        "swap_elements(a.copy())\n",
        "print(a)"
      ]
    },
    {
      "cell_type": "code",
      "source": [
        "# swap 1st and last element of list\n",
        "a=[1,2,5,10,'1']\n",
        "\n",
        "def swap_elements(list_temp):\n",
        "  list_temp[0],list_temp[-1]=list_temp[-1],list_temp[0]\n",
        "  return list_temp\n",
        "\n",
        "swap_elements(a)"
      ],
      "metadata": {
        "id": "tTTdCAA7hpq4"
      },
      "execution_count": null,
      "outputs": []
    }
  ]
}