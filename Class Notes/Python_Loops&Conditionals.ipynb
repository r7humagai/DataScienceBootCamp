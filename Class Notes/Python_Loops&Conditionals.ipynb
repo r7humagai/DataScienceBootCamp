{
  "nbformat": 4,
  "nbformat_minor": 0,
  "metadata": {
    "colab": {
      "provenance": []
    },
    "kernelspec": {
      "name": "python3",
      "display_name": "Python 3"
    },
    "language_info": {
      "name": "python"
    }
  },
  "cells": [
    {
      "cell_type": "markdown",
      "source": [
        "**Loops & Conditionals**\n",
        "\n",
        "\n",
        "*   If-Else\n",
        "*   For Conditionals\n",
        "*   While Loop\n",
        "*   Nested Loop Statement"
      ],
      "metadata": {
        "id": "J5mhjIEGYlFn"
      }
    },
    {
      "cell_type": "markdown",
      "source": [
        "If Else Practice Questions:\n",
        "\n",
        "1.   Class Assignments\n",
        "2.   Take Home Assignments\n"
      ],
      "metadata": {
        "id": "STv79dSHs6KX"
      }
    },
    {
      "cell_type": "code",
      "execution_count": null,
      "metadata": {
        "colab": {
          "base_uri": "https://localhost:8080/"
        },
        "id": "RTF1NNfdmYsr",
        "outputId": "6746186e-e719-436e-e1c6-50ed29951571"
      },
      "outputs": [
        {
          "output_type": "stream",
          "name": "stdout",
          "text": [
            "The number is not divisible by 7.\n"
          ]
        }
      ],
      "source": [
        "#IfElseCondition Practice\n",
        "\n",
        "# Q1. check is a number is divisible by 7 or not\n",
        "\n",
        "a = 48\n",
        "if a % 7 == 0:        # Check the remainder and if it equals 0, it is divisible\n",
        "  print (\"The number is divisible by 7.\")\n",
        "else:\n",
        "  print (\"The number is not divisible by 7.\")"
      ]
    },
    {
      "cell_type": "code",
      "source": [
        "# Q2. Write a program to print hello if a number is multiple of five or 3 else print bye\n",
        "# Modulus operator: Remainder is zero(0) if the number is divisible\n",
        "# Note: Multiple vs Divisible. 10 is the multiple of 5, 10 is divisible by 5, essentially same thing.\n",
        "\n",
        "a = 41\n",
        "if (a % 5 == 0) or ( a % 3 == 0):   # Modulus operator returns the remainder\n",
        "  print (\"hello\")\n",
        "else:\n",
        "  print (\"bye\")\n"
      ],
      "metadata": {
        "id": "PEyciJIPnhuQ"
      },
      "execution_count": null,
      "outputs": []
    },
    {
      "cell_type": "code",
      "source": [
        "# Note: Indentation\n",
        "\n",
        "x = 1\n",
        "if(x == 1):\n",
        "  print(\"hello\")\n",
        "  print (\"world\")   # This line only prints after\n",
        "\n",
        "y = 1\n",
        "if (y == 2):\n",
        "  print(\"hello\")\n",
        "print (\"world\")     # This line prints regardless\n"
      ],
      "metadata": {
        "id": "PQu6bIJIrfMT"
      },
      "execution_count": null,
      "outputs": []
    },
    {
      "cell_type": "code",
      "source": [
        "# User Input Function\n",
        "\n",
        "input_message = input()\n",
        "print(input_message)\n",
        "print(type(input_message))        # Default type is string\n",
        "\n",
        "# the type can be changed\n",
        "\n",
        "input_message_name = input(\"Enter the name: \")    # By default takes in as string\n",
        "input_message_int = int(input_message_name)       # Changed it into a number\n",
        "input_message_float = float(input_message_name)   # Changed it into a float\n"
      ],
      "metadata": {
        "id": "YRnm2786sN4a"
      },
      "execution_count": null,
      "outputs": []
    },
    {
      "cell_type": "code",
      "source": [
        "# Practice Question:\n",
        "# Q. Write a python program that will check for the following conditions:\n",
        "#    If the light is green – Car is allowed to go\n",
        "#    If the light is yellow – Car has to wait\n",
        "#    If the light is red – Car has to stop\n",
        "#.   Other signal – unrecognized signal. Example black, blue, etc…\n",
        "\n",
        "input_message_light = input (\"Color of Light: \").lower()    # Taking User Input, lower() lowercases all characters\n",
        "\n",
        "if(input_message_light) == \"green\":\n",
        "  print(\"Car is allowed to go!\")\n",
        "elif(input_message_light) == \"yellow\":\n",
        "  print(\"Car has to wait!\")\n",
        "elif(input_message_light) == \"red\":\n",
        "  print(\"Car has to stop!\")\n",
        "else:\n",
        "  print(\"Unrecognized Signal!\")\n"
      ],
      "metadata": {
        "colab": {
          "base_uri": "https://localhost:8080/"
        },
        "id": "xjcAxowtsXE2",
        "outputId": "4a35c8ea-5650-4f55-a139-c9591ed95ea1"
      },
      "execution_count": null,
      "outputs": [
        {
          "output_type": "stream",
          "name": "stdout",
          "text": [
            "Color of Light: Red\n",
            "Car has to stop!\n"
          ]
        }
      ]
    },
    {
      "cell_type": "code",
      "source": [
        "# Practice Question\n",
        "'''\n",
        "Write a program to trace your subject mark. Your program should fulfill the following conditions:\n",
        "\n",
        "If the subject mark is below 0 and above 100, print “error: mark should be between 0 and 100 only”\n",
        "Students will fail in the subject if their mark is below 50.\n",
        "Students will pass in the subject if they score 50 and above.\n",
        "If subject mark is between 50 and 60, grade student as good.\n",
        "If subject mark is between 60 and 80, grade student as very good.\n",
        "If subject mark is between 80 and 100, grade student as outstanding.\n",
        "\n",
        "Make sure to print their mark in every statement to prove that the condition is fulfilled.\n",
        "Moreover, name, class, and section should be also displayed along with the marks.\n",
        "'''\n",
        "score_input_name  = input (\"Enter the Student's name: \")\n",
        "score_input_class = input (\"Enter the Student's class: \")\n",
        "score_input_section = input (\"Enter the Student's section: \")\n",
        "score_input = input(\"Enter the Student's score: \")\n",
        "score = float(score_input)\n",
        "\n",
        "print(\"Name: \"+ score_input_name), print(\"Class: \" + score_input_class), print(\"Section: \"+score_input_section)\n",
        "\n",
        "if(score < 0 or score > 100):\n",
        "  print(\"Score: \"+ str(score) +\" Error: Mark should be between 0 and 100 only\")\n",
        "elif(score <= 60 and score >= 50 ):\n",
        "  print(\"Score: \"+ str(score) + \" Pass! Good!\")\n",
        "elif(score <= 80 and score > 60):\n",
        "  print (\"Score: \" + str(score) + \" Pass! Very Good! \")\n",
        "elif(score <= 100 and score > 80):\n",
        "  print(\"Score: \" + str(score) + \" Pass! Outstanding!\")\n",
        "else:\n",
        "  print(\"Score: \"+ str(score) +\" Student has failed the exam! \")\n",
        "\n",
        "# Third condition should be nested if statement\n",
        "# Note: For Concatenation, if using a ',' instead of '+', don't need to change the type\n"
      ],
      "metadata": {
        "id": "_gLTmlMNvFK_"
      },
      "execution_count": null,
      "outputs": []
    },
    {
      "cell_type": "markdown",
      "source": [
        "*Homework Assignment [DUE 08/14] on Python Basic Operators(If/Else)*"
      ],
      "metadata": {
        "id": "Nq0vASZfbVpN"
      }
    },
    {
      "cell_type": "code",
      "source": [
        "# Q1.\n",
        "\n",
        "empl_input_salary = float(input(\"Enter the salary: \"))\n",
        "empl_input_yos = float(input(\"Enter the years of service: \"))\n",
        "\n",
        "print(\"Years of Service:\", empl_input_yos)\n",
        "\n",
        "if(empl_input_yos > 5):\n",
        "  bonus = empl_input_salary * 0.05\n",
        "  print(\"Bonus: $\", bonus)\n",
        "else:\n",
        "  print(\"No Bonus!\")\n"
      ],
      "metadata": {
        "id": "Kr9MThp5r1nx",
        "colab": {
          "base_uri": "https://localhost:8080/"
        },
        "outputId": "d952eafb-cde3-46e7-993e-84aa9a758eef"
      },
      "execution_count": null,
      "outputs": [
        {
          "output_type": "stream",
          "name": "stdout",
          "text": [
            "Enter the salary: 20000\n",
            "Enter the years of service: 3\n",
            "Years of Service: 3.0\n",
            "No Bonus!\n"
          ]
        }
      ]
    },
    {
      "cell_type": "code",
      "source": [
        "# Q2.\n",
        "\n",
        "length = float(input(\"Enter the length: \"))\n",
        "breadth = float(input(\"Enter the breadth: \"))\n",
        "\n",
        "if(length == breadth):\n",
        "  print(\"Its a square! \")\n",
        "else:\n",
        "  print(\"Its a rectangle! \")"
      ],
      "metadata": {
        "id": "uzb97HsZszPv"
      },
      "execution_count": null,
      "outputs": []
    },
    {
      "cell_type": "code",
      "source": [
        "# Q3:\n",
        "\n",
        "value1 = int(input(\"Enter the first value: \"))\n",
        "value2 = int(input(\"Enter the second value: \"))\n",
        "\n",
        "if(value1 > value2): print(\"The greater value is: \", value1)\n",
        "elif (value2 > value1): print(\"The greater value is: \", value2)\n",
        "else: print(\"Both the value are equal.\")\n"
      ],
      "metadata": {
        "id": "PHNs3-fiv48f",
        "colab": {
          "base_uri": "https://localhost:8080/"
        },
        "outputId": "3143a2ec-e6fc-4cc9-d7e3-95ccb47be50a"
      },
      "execution_count": null,
      "outputs": [
        {
          "output_type": "stream",
          "name": "stdout",
          "text": [
            "Enter the first value: 25\n",
            "Enter the second value: 26\n",
            "The greater value is:  26\n"
          ]
        }
      ]
    },
    {
      "cell_type": "code",
      "source": [
        "# Q4:\n",
        "\n",
        "discount = 10/100\n",
        "unitcost = 100\n",
        "quantity = int(input(\"Please enter the quantity: \"))\n",
        "cost = quantity * unitcost\n",
        "\n",
        "print(\"Total Cost is: $\")\n",
        "\n",
        "if(cost > 1000):\n",
        "  unitcost  = unitcost - unitcost * discount\n",
        "  print(unitcost * quantity)\n",
        "else:\n",
        "  print(unitcost * quantity)"
      ],
      "metadata": {
        "id": "vH3J_Ndj09hs",
        "colab": {
          "base_uri": "https://localhost:8080/"
        },
        "outputId": "4359f446-4356-401e-bd71-9f94b8308d74"
      },
      "execution_count": null,
      "outputs": [
        {
          "output_type": "stream",
          "name": "stdout",
          "text": [
            "Please enter the quantity: 9\n",
            "Total Cost is: $\n",
            "900\n"
          ]
        }
      ]
    },
    {
      "cell_type": "code",
      "source": [
        "# Q5: Grading system\n",
        "\n",
        "score = float(input(\"Enter the score: \"))\n",
        "\n",
        "print (\"Grade: \")\n",
        "\n",
        "if(score < 0 or score > 100):\n",
        "  print(\"Invalid Response!\")\n",
        "elif (score < 25): print (\"F\")\n",
        "elif (score < 45 and score >= 25): print(\"E\")\n",
        "elif (score < 50 and score >= 45): print(\"D\")\n",
        "elif (score < 60 and score >= 50): print(\"C\")\n",
        "elif (score < 80 and score >= 60): print(\"B\")\n",
        "else: print (\"A\")\n"
      ],
      "metadata": {
        "colab": {
          "base_uri": "https://localhost:8080/"
        },
        "id": "rN4kQpeU8OEy",
        "outputId": "126bc6ba-98eb-4a33-bf43-b466b1b6e987"
      },
      "execution_count": null,
      "outputs": [
        {
          "output_type": "stream",
          "name": "stdout",
          "text": [
            "Enter the score: 45\n",
            "Grade: \n",
            "D\n"
          ]
        }
      ]
    },
    {
      "cell_type": "code",
      "source": [
        "# Q6. Oldest and Youngest of the three given ages.\n",
        "\n",
        "personA = int(input(\"Enter the first person's age: \"))\n",
        "personB = int(input(\"Enter the second person's age: \"))\n",
        "personC = int(input(\"Enter the third person's age: \"))\n",
        "\n",
        "# 3 if condition each Test one is oldest, 2 nested if in each assuming remaining are youngest\n",
        "\n",
        "if(personA >= personB and personA >= personC):  #Test: PersonA is oldest\n",
        "  if (personB > personC):                       # Test: B and C for youngest\n",
        "    print(\"PersonC is youngest.\")\n",
        "  else:\n",
        "    print(\"PersonB is youngest.\")\n",
        "  print(\"PersonA is oldest\")\n",
        "\n",
        "elif(personB >= personA and personB >= personC):  # Test: PersonB is oldest\n",
        "  if (personA > personC):                         # Test: A and C for youngest\n",
        "    print(\"PersonC is youngest.\")\n",
        "  else:\n",
        "    print(\"PersonA is youngest. \")\n",
        "  print(\"PersonB is the oldest.\")\n",
        "\n",
        "elif(personC >= personA and personC >= personB):    # Test: PersonC is oldest\n",
        "  if(personA > personB):                            # Test: A and B for youngest\n",
        "    print(\"PersonB is youngest. \")\n",
        "  else:\n",
        "    print(\"Person A is youngest. \")\n",
        "  print(\"PersonC is the oldest.\")\n"
      ],
      "metadata": {
        "id": "7QdIZHDVJQfW"
      },
      "execution_count": null,
      "outputs": []
    },
    {
      "cell_type": "code",
      "source": [
        "# Q7. Absolute value of a number regular method.\n",
        "\n",
        "user_input = int(input(\"Enter a number: \"))\n",
        "\n",
        "if user_input < 0:\n",
        "  user_input *= -1\n",
        "  print(user_input)≥\n",
        "else:\n",
        "  print(user_input)\n"
      ],
      "metadata": {
        "colab": {
          "base_uri": "https://localhost:8080/"
        },
        "id": "RPlBpb7qMsp6",
        "outputId": "46903415-146a-4bd1-91dd-78ca4ef12e03"
      },
      "execution_count": null,
      "outputs": [
        {
          "output_type": "stream",
          "name": "stdout",
          "text": [
            "Enter a number: -20\n",
            "20\n"
          ]
        }
      ]
    },
    {
      "cell_type": "code",
      "source": [
        "# Q7. Absolute value of a number using abs()\n",
        "\n",
        "user_input = int(input(\"Enter a number: \"))\n",
        "user_input = abs(user_input)      #Python built in function abs()\n",
        "print(\"The output value is: \", (user_input))\n"
      ],
      "metadata": {
        "colab": {
          "base_uri": "https://localhost:8080/"
        },
        "id": "KOT5M7MYEJR-",
        "outputId": "2ac3dcb9-3daa-495c-f595-8cc343168eca"
      },
      "execution_count": null,
      "outputs": [
        {
          "output_type": "stream",
          "name": "stdout",
          "text": [
            "Enter a number: -1\n",
            "The output value is:  1\n"
          ]
        }
      ]
    },
    {
      "cell_type": "code",
      "source": [
        "# Q8.\n",
        "\n",
        "class_held = int(input(\"Enter the number of classes held: \"))\n",
        "class_attend = int(input(\"Enter the number of classes attended: \"))\n",
        "\n",
        "per_class_attend = ((class_attend)/class_held)\n",
        "\n",
        "print(\"Percentage of classes attended: \", round(per_class_attend * 100 , 2) , \"%\")\n",
        "if (per_class_attend < 0.75) : print(\"You are not allowed to sit in exam! \")\n",
        "else: print(\"You are allowed to sit in exam. \")\n"
      ],
      "metadata": {
        "id": "dAczVFPIEwyD",
        "colab": {
          "base_uri": "https://localhost:8080/"
        },
        "outputId": "7cfe19a3-b06b-4d5e-a7f8-5743b0a4cf04"
      },
      "execution_count": null,
      "outputs": [
        {
          "output_type": "stream",
          "name": "stdout",
          "text": [
            "Enter the number of classes held: 60\n",
            "Enter the number of classes attended: 40\n",
            "Percentage of classes attended:  66.67 %\n",
            "You are not allowed to sit in exam! \n"
          ]
        }
      ]
    },
    {
      "cell_type": "code",
      "source": [
        "# Q9.\n",
        "\n",
        "class_held = int(input(\"Enter the number of classes held: \"))\n",
        "class_attend = int(input(\"Enter the number of classes attended: \"))\n",
        "\n",
        "per_class_attend = ((class_attend)/class_held)\n",
        "\n",
        "medical_cause = \"y\"\n",
        "\n",
        "print(\"Percentage of classes attended: \", round(per_class_attend * 100 ,2) , \"%\")\n",
        "if (per_class_attend < 0.75):\n",
        "  medical_cause = input(\"Do you have a medical cause(Y/N): \").lower()\n",
        "  if (medical_cause == \"n\"):\n",
        "    print(\"You are not allowed to sit in exam! \")\n",
        "if(per_class_attend >= 0.75 or medical_cause == \"y\"): print(\"You are allowed to sit in exam. \")\n"
      ],
      "metadata": {
        "id": "hq6NxAcSIej9",
        "colab": {
          "base_uri": "https://localhost:8080/"
        },
        "outputId": "e99dfa08-da3d-4ac5-b7f6-d298accc0b01"
      },
      "execution_count": null,
      "outputs": [
        {
          "output_type": "stream",
          "name": "stdout",
          "text": [
            "Enter the number of classes held: 100\n",
            "Enter the number of classes attended: 76\n",
            "Percentage of classes attended:  76.0 %\n",
            "You are allowed to sit in exam. \n"
          ]
        }
      ]
    },
    {
      "cell_type": "code",
      "execution_count": null,
      "metadata": {
        "id": "5_Ro6G0jluUr"
      },
      "outputs": [],
      "source": [
        "#Tuesday August 15, 2023 : For Loop"
      ]
    },
    {
      "cell_type": "code",
      "source": [
        "# For Loop in lists\n",
        "\n",
        "lst1 = [12,23,34,56,67,89,90,21,32,43,54,65,76,87,98,99]\n",
        "for i in lst1:\n",
        "  print(\"Value of i: \", i)    #Fetches 1 value at a time\n"
      ],
      "metadata": {
        "id": "wcndLDaupoLo"
      },
      "execution_count": null,
      "outputs": []
    },
    {
      "cell_type": "code",
      "source": [
        "# For Loop in Tuple\n",
        "\n",
        "tup1 = ('apple' , 'banana' , 'cherries' , 'dates' , 'eggfruit' , 'fig' , 'grapes' , 'honeyfruit')\n",
        "\n",
        "for i in tup1:\n",
        "  print( \"Value of i \", i)    #Fetches 1 value at a time in a tuple"
      ],
      "metadata": {
        "id": "X1RMoHy7qJmA"
      },
      "execution_count": null,
      "outputs": []
    },
    {
      "cell_type": "code",
      "source": [
        "# For Loop in Sets\n",
        "\n",
        "set1 = {'apple' , 'banana' , 'cherries' , 'dates' , 'eggfruit' , 'fig' , 'grapes' , 'honeyfruit', 12,23,34,56,67,89,90,21,32,43,54,65,76,87,98,99}\n",
        "\n",
        "for i in set1:\n",
        "  print( \" Value of i \", i)   #Values will be displayed in unordered manner because set is collection of \"unordered\" element"
      ],
      "metadata": {
        "id": "rPupX6C9qfqz"
      },
      "execution_count": null,
      "outputs": []
    },
    {
      "cell_type": "code",
      "source": [
        "# For Loop in Strings\n",
        "\n",
        "str1 = \"Peppa prefer Python Programming\"\n",
        "print(len(str1))              # Since the length is 31, the above str1 has 31 elements including the spaces between\n",
        "\n",
        "for i in str1:\n",
        "  print(\" Value of i \" , i)   # Every single alphabet is considered to be an element, and it will run that much number of times.\n"
      ],
      "metadata": {
        "id": "HT6iD_ajq8Yk"
      },
      "execution_count": null,
      "outputs": []
    },
    {
      "cell_type": "code",
      "source": [
        "# For Loop in Dictionaries\n",
        "\n",
        "dict1 = {'a' : \"apple\" , 'b' : \"ball\" , 'c' : \"cat\", 'd': \"doll\"}\n",
        "\n",
        "for i in dict1:\n",
        "  print(\"Value of i \" , i)   # to print the keys a, b, c, d\n",
        "\n",
        "print(\"\\n\")   # line break\n",
        "\n",
        "for i in dict1:\n",
        "  print(\"Value of i \" , dict1[i])  # to print the values\n"
      ],
      "metadata": {
        "id": "foKl0Xefrbeb"
      },
      "execution_count": null,
      "outputs": []
    },
    {
      "cell_type": "code",
      "source": [
        "# Range Function\n",
        "# range (start, stop, step)\n",
        "\n",
        "for i in range(0,10,1):         #0, 1, 2, 3, 4, 5, 6, 7, 8, 9\n",
        "  print('Value of i' , i)\n"
      ],
      "metadata": {
        "colab": {
          "base_uri": "https://localhost:8080/"
        },
        "id": "J9KYfMVsrGBF",
        "outputId": "788a2484-622c-447c-bb9f-55542ef7e44d"
      },
      "execution_count": null,
      "outputs": [
        {
          "output_type": "stream",
          "name": "stdout",
          "text": [
            "Value of i 0\n",
            "Value of i 1\n",
            "Value of i 2\n",
            "Value of i 3\n",
            "Value of i 4\n",
            "Value of i 5\n",
            "Value of i 6\n",
            "Value of i 7\n",
            "Value of i 8\n",
            "Value of i 9\n"
          ]
        }
      ]
    },
    {
      "cell_type": "code",
      "source": [
        "# Printing Patterns using For Loops\n",
        "\n",
        "for i in range(10):           # 0,1,2,3,4,5,6,7,8,9\n",
        "  for j in range(10):         # 0,1,2,3,4,5,6,7,8,9\n",
        "    print(\"*\" , end = \" \")    # The end parameter in the print function is used to add any string.\n",
        "  print(\"\\r\")                 # \\r changes the line\n",
        "\n",
        "  # \"\\r\" - carriage return : differences to \\n: space difference\n"
      ],
      "metadata": {
        "colab": {
          "base_uri": "https://localhost:8080/"
        },
        "id": "Sd8-52MdvZPF",
        "outputId": "241b408a-1ddb-40ce-8f9a-a523ba67117d"
      },
      "execution_count": null,
      "outputs": [
        {
          "output_type": "stream",
          "name": "stdout",
          "text": [
            "* * * * * * * * * * \r\n",
            "* * * * * * * * * * \r\n",
            "* * * * * * * * * * \r\n",
            "* * * * * * * * * * \r\n",
            "* * * * * * * * * * \r\n",
            "* * * * * * * * * * \r\n",
            "* * * * * * * * * * \r\n",
            "* * * * * * * * * * \r\n",
            "* * * * * * * * * * \r\n",
            "* * * * * * * * * * \r\n"
          ]
        }
      ]
    },
    {
      "cell_type": "code",
      "source": [
        "# Print Numbers using For Loops\n",
        "k = 0\n",
        "for i in range(10):\n",
        "  for j in range(10):\n",
        "    k +=1\n",
        "    print(k, end = \" \")\n",
        "\n",
        "  print(\"\\r\")"
      ],
      "metadata": {
        "id": "Eh6DsWLUvhLL"
      },
      "execution_count": null,
      "outputs": []
    },
    {
      "cell_type": "code",
      "source": [
        "# Asterix Pyramid using 3 for loops\n",
        "\n",
        "for i in range(10):\n",
        "  for j in range(0, 10-i):\n",
        "    print(\" \" , end = \"\")\n",
        "  for k in range(0, i+1):\n",
        "    print(\"* \" , end = \"\")\n",
        "  print(\"\\r\")"
      ],
      "metadata": {
        "colab": {
          "base_uri": "https://localhost:8080/"
        },
        "id": "PIMSXO-5yQbH",
        "outputId": "38b5f68b-b4b3-4a6c-ca95-11dddcdb0103"
      },
      "execution_count": null,
      "outputs": [
        {
          "output_type": "stream",
          "name": "stdout",
          "text": [
            "          * \r\n",
            "         * * \r\n",
            "        * * * \r\n",
            "       * * * * \r\n",
            "      * * * * * \r\n",
            "     * * * * * * \r\n",
            "    * * * * * * * \r\n",
            "   * * * * * * * * \r\n",
            "  * * * * * * * * * \r\n",
            " * * * * * * * * * * \r\n"
          ]
        }
      ]
    },
    {
      "cell_type": "code",
      "source": [
        "# Inverse Pyramid using For Loops\n",
        "\n",
        "for i in range(10):\n",
        "  for j in range(0, i+1):\n",
        "    print(\" \" , end = \"\")\n",
        "\n",
        "  for k in range(0, 10-i):\n",
        "    print(\" *\" , end = \"\")\n",
        "\n",
        "  print(\"\\r\")"
      ],
      "metadata": {
        "colab": {
          "base_uri": "https://localhost:8080/"
        },
        "id": "vp2MU1pK07_W",
        "outputId": "2aa22e0a-851f-465d-b266-809294dc9624"
      },
      "execution_count": null,
      "outputs": [
        {
          "output_type": "stream",
          "name": "stdout",
          "text": [
            "  * * * * * * * * * *\r\n",
            "   * * * * * * * * *\r\n",
            "    * * * * * * * *\r\n",
            "     * * * * * * *\r\n",
            "      * * * * * *\r\n",
            "       * * * * *\r\n",
            "        * * * *\r\n",
            "         * * *\r\n",
            "          * *\r\n",
            "           *\r\n"
          ]
        }
      ]
    },
    {
      "cell_type": "code",
      "source": [
        "# HourGlass using For Loop\n",
        "\n",
        "for i in range(10):\n",
        "  for j in range(0, i+1):\n",
        "    print(\" \" , end = \"\")\n",
        "  for k in range(0, 10-i):\n",
        "    print(\"* \" , end = \"\")\n",
        "\n",
        "  print(\"\\r\")\n",
        "\n",
        "for i in range(1,10):\n",
        "  for j in range(0, 10-i):\n",
        "    print(\" \" , end = \"\")\n",
        "  for k in range(0, i+1):\n",
        "    print(\" *\" , end = \"\")\n",
        "\n",
        "  print(\"\\r\")\n",
        "\n",
        "\n"
      ],
      "metadata": {
        "colab": {
          "base_uri": "https://localhost:8080/"
        },
        "id": "Cqc_Ok4C21gS",
        "outputId": "4f31f731-862b-4504-cfde-2fdfbbcd8db2"
      },
      "execution_count": null,
      "outputs": [
        {
          "output_type": "stream",
          "name": "stdout",
          "text": [
            " * * * * * * * * * * \r\n",
            "  * * * * * * * * * \r\n",
            "   * * * * * * * * \r\n",
            "    * * * * * * * \r\n",
            "     * * * * * * \r\n",
            "      * * * * * \r\n",
            "       * * * * \r\n",
            "        * * * \r\n",
            "         * * \r\n",
            "          * \r\n",
            "          * *\r\n",
            "         * * *\r\n",
            "        * * * *\r\n",
            "       * * * * *\r\n",
            "      * * * * * *\r\n",
            "     * * * * * * *\r\n",
            "    * * * * * * * *\r\n",
            "   * * * * * * * * *\r\n",
            "  * * * * * * * * * *\r\n"
          ]
        }
      ]
    },
    {
      "cell_type": "code",
      "source": [
        "# Double Pyramid\n",
        "\n",
        "for i in range(10):\n",
        "  for j in range(0, 9-i):\n",
        "    print(\" \" , end = \"\")\n",
        "  for k in range(0, i+1):\n",
        "    print(\" *\" , end = \"\")\n",
        "\n",
        "  print(\"\\r\")\n",
        "\n",
        "for i in range(10):\n",
        "  for j in range(0, i+1):\n",
        "    print(\" \" , end = \"\")\n",
        "  for k in range(0, 9-i):\n",
        "    print(\" *\" , end = \"\")\n",
        "\n",
        "  print(\"\\r\")\n"
      ],
      "metadata": {
        "id": "L4VEhzqz_QSP"
      },
      "execution_count": null,
      "outputs": []
    },
    {
      "cell_type": "code",
      "source": [
        "# Hollow Triange for all:\n",
        "# i. Hourglass\n",
        "# ii. Double Pyramid\n",
        "# iii. Square"
      ],
      "metadata": {
        "id": "gf46Ip793RNp"
      },
      "execution_count": null,
      "outputs": []
    },
    {
      "cell_type": "code",
      "source": [
        "# Hollow Triangle with 10 rows\n",
        "\n",
        "for i in range(1, 11):\n",
        "  for j in range(1, 20):\n",
        "    if (i == 10) or (i+j == 11) or (j-i == 9):\n",
        "      print(\"*\" , end = \"\")\n",
        "    else:\n",
        "      print(\" \", end = \"\")\n",
        "  print(\"\\r\")\n"
      ],
      "metadata": {
        "id": "w2_IFdNJeOG3",
        "colab": {
          "base_uri": "https://localhost:8080/"
        },
        "outputId": "569e26c1-8c3e-4b52-9c67-17eba93bef57"
      },
      "execution_count": null,
      "outputs": [
        {
          "output_type": "stream",
          "name": "stdout",
          "text": [
            "         *         \r\n",
            "        * *        \r\n",
            "       *   *       \r\n",
            "      *     *      \r\n",
            "     *       *     \r\n",
            "    *         *    \r\n",
            "   *           *   \r\n",
            "  *             *  \r\n",
            " *               * \r\n",
            "*******************\r\n"
          ]
        }
      ]
    },
    {
      "cell_type": "code",
      "source": [
        "# Hollow Triangle with 10 rows\n",
        "\n",
        "for i in range(1, 11):\n",
        "  for j in range(1, 20):\n",
        "    if (i == 10) or (i+j == 11) or (j-i == 9):\n",
        "      print(\"*\" , end = \"\")\n",
        "    else:\n",
        "      print(\" \", end = \"\")\n",
        "  print(\"\\r\")"
      ],
      "metadata": {
        "colab": {
          "base_uri": "https://localhost:8080/"
        },
        "id": "A6oAHvv_Lei1",
        "outputId": "f939db22-6094-4185-c4ce-19236aface14"
      },
      "execution_count": null,
      "outputs": [
        {
          "output_type": "stream",
          "name": "stdout",
          "text": [
            "         *         \r\n",
            "        * *        \r\n",
            "       *   *       \r\n",
            "      *     *      \r\n",
            "     *       *     \r\n",
            "    *         *    \r\n",
            "   *           *   \r\n",
            "  *             *  \r\n",
            " *               * \r\n",
            "*******************\r\n"
          ]
        }
      ]
    },
    {
      "cell_type": "markdown",
      "source": [
        "Take-Home Assignments, DUE:  [08/16: Wednesday]"
      ],
      "metadata": {
        "id": "ZM4up5BKoG7z"
      }
    },
    {
      "cell_type": "code",
      "source": [
        "# Regular Pyramid Patter with Alphabets: 10 Rows : A -> J\n",
        "\n",
        "for i in range(10):\n",
        "  alpha = ord(\"A\")\n",
        "\n",
        "  for j in range(11-i):\n",
        "    print(\" \", end = \"\")\n",
        "\n",
        "  for j in range(0,i+1):\n",
        "    print(chr(alpha), end = \" \")\n",
        "    alpha += 1\n",
        "\n",
        "  print(\"\\r\")"
      ],
      "metadata": {
        "id": "-wchm5zWk3Bv",
        "colab": {
          "base_uri": "https://localhost:8080/"
        },
        "outputId": "92599a4b-7a4c-44b4-e081-9acdf3add87d"
      },
      "execution_count": null,
      "outputs": [
        {
          "output_type": "stream",
          "name": "stdout",
          "text": [
            "           A \r\n",
            "          A B \r\n",
            "         A B C \r\n",
            "        A B C D \r\n",
            "       A B C D E \r\n",
            "      A B C D E F \r\n",
            "     A B C D E F G \r\n",
            "    A B C D E F G H \r\n",
            "   A B C D E F G H I \r\n",
            "  A B C D E F G H I J \r\n"
          ]
        }
      ]
    },
    {
      "cell_type": "code",
      "source": [
        "# Inverted Pyramid with Alphabet : 10 Rows A -> J\n",
        "\n",
        "for i in range(10):\n",
        "  alpha = ord(\"A\")\n",
        "  for j in range(0,i+1):\n",
        "    print(\" \", end = \"\")\n",
        "\n",
        "  for j in range(0,10-i):\n",
        "    print(chr(alpha), end = \" \")\n",
        "    alpha += 1\n",
        "  print(\"\\r\")"
      ],
      "metadata": {
        "id": "5LLKcQ1SlSuF",
        "colab": {
          "base_uri": "https://localhost:8080/"
        },
        "outputId": "e24dca2c-ce27-4393-9ec3-dc7725d4bbc9"
      },
      "execution_count": null,
      "outputs": [
        {
          "output_type": "stream",
          "name": "stdout",
          "text": [
            " A B C D E F G H I J \r\n",
            "  A B C D E F G H I \r\n",
            "   A B C D E F G H \r\n",
            "    A B C D E F G \r\n",
            "     A B C D E F \r\n",
            "      A B C D E \r\n",
            "       A B C D \r\n",
            "        A B C \r\n",
            "         A B \r\n",
            "          A \r\n"
          ]
        }
      ]
    },
    {
      "cell_type": "code",
      "source": [
        "# Inverted Pyramid with Numbers: Rows: 10 : 1 -> 10\n",
        "\n",
        "for i in range(10):\n",
        "  num = 1\n",
        "  for j in range(0,i+1):\n",
        "    print(\" \", end = \"\")\n",
        "\n",
        "  for j in range(0, 10-i):\n",
        "    print(num, end = \" \")\n",
        "    num += 1\n",
        "  print(\"\\r\")\n"
      ],
      "metadata": {
        "id": "Q--QnQ3umMpt",
        "colab": {
          "base_uri": "https://localhost:8080/"
        },
        "outputId": "5e7120be-3155-4ce9-d14d-6189fe27d4b5"
      },
      "execution_count": null,
      "outputs": [
        {
          "output_type": "stream",
          "name": "stdout",
          "text": [
            " 1 2 3 4 5 6 7 8 9 10 \r\n",
            "  1 2 3 4 5 6 7 8 9 \r\n",
            "   1 2 3 4 5 6 7 8 \r\n",
            "    1 2 3 4 5 6 7 \r\n",
            "     1 2 3 4 5 6 \r\n",
            "      1 2 3 4 5 \r\n",
            "       1 2 3 4 \r\n",
            "        1 2 3 \r\n",
            "         1 2 \r\n",
            "          1 \r\n"
          ]
        }
      ]
    },
    {
      "cell_type": "markdown",
      "source": [
        "**ForLoop Practice Questions [08/15]: Tuesday Session 2**"
      ],
      "metadata": {
        "id": "Y2IO6H1RakNZ"
      }
    },
    {
      "cell_type": "code",
      "source": [
        "# Q1.\n",
        "\n",
        "a = [1,2,3,4,5,11,1,2,6,1,8]\n",
        "print(\"Original List:   \", a)\n",
        "b = []\n",
        "\n",
        "for i in a:\n",
        "  if i in b:\n",
        "    print(\"Removed Element: \", i)\n",
        "  if i not in b:\n",
        "    b.append(i)\n",
        "\n",
        "a = b\n",
        "print(\"\\nFinal List: \", a)\n",
        "\n"
      ],
      "metadata": {
        "colab": {
          "base_uri": "https://localhost:8080/"
        },
        "id": "f1Mkm5n5bsXS",
        "outputId": "8ca38c75-5829-4763-dbb5-831569213c46"
      },
      "execution_count": null,
      "outputs": [
        {
          "output_type": "stream",
          "name": "stdout",
          "text": [
            "Original List:    [1, 2, 3, 4, 5, 11, 1, 2, 6, 1, 8]\n",
            "Removed Element:  1\n",
            "Removed Element:  2\n",
            "Removed Element:  1\n",
            "\n",
            "Final List:  [1, 2, 3, 4, 5, 11, 6, 8]\n"
          ]
        }
      ]
    },
    {
      "cell_type": "code",
      "source": [
        "# Q1. [Secondary Approach]\n",
        "\n",
        "a = [1,2,3,4,5,11,1,2,6,1,8]\n",
        "print(\"Original List:   \", a)\n",
        "\n",
        "print(set(a))                   # Removes repeated element and puts them in ascending order\n"
      ],
      "metadata": {
        "colab": {
          "base_uri": "https://localhost:8080/"
        },
        "id": "isYn3WEFWLud",
        "outputId": "5c554176-879e-468e-cccc-457c17abcda9"
      },
      "execution_count": null,
      "outputs": [
        {
          "output_type": "stream",
          "name": "stdout",
          "text": [
            "Original List:    [1, 2, 3, 4, 5, 11, 1, 2, 6, 1, 8]\n",
            "{1, 2, 3, 4, 5, 6, 8, 11}\n"
          ]
        }
      ]
    },
    {
      "cell_type": "code",
      "source": [
        "# Q2. Print all prime numbers below 100\n",
        "\n",
        "count = 0\n",
        "for i in range(2, 100):\n",
        "  for j in range(2,100):\n",
        "    if(i % j == 0):\n",
        "      break\n",
        "  if i == j :\n",
        "    count += 1\n",
        "    print(i, end = \" \")\n",
        "\n",
        "print(\"\\r\")\n",
        "print(\"Numbers of prime numbers: \",count)"
      ],
      "metadata": {
        "id": "oewYpP8xcMpL",
        "colab": {
          "base_uri": "https://localhost:8080/"
        },
        "outputId": "a98b2ba4-fdff-4532-d718-f3cc809dffc4"
      },
      "execution_count": null,
      "outputs": [
        {
          "output_type": "stream",
          "name": "stdout",
          "text": [
            "2 3 5 7 11 13 17 19 23 29 31 37 41 43 47 53 59 61 67 71 73 79 83 89 97 \r\n",
            "Numbers of prime numbers:  25\n"
          ]
        }
      ]
    },
    {
      "cell_type": "code",
      "source": [
        "# Q2. [Secondary Approach using list and append()]\n",
        "\n",
        "list_of_prime_numbers = []\n",
        "for k in range(2,100):\n",
        "  flag = True\n",
        "  for s in range (2,k):\n",
        "    if k%s == 0:\n",
        "      flag = False\n",
        "      break\n",
        "  if flag:\n",
        "    list_of_prime_numbers.append(k)\n",
        "\n",
        "print(list_of_prime_numbers)\n",
        "\n",
        "for primes in list_of_prime_numbers:\n",
        "  print(primes, \"is a prime number\")"
      ],
      "metadata": {
        "id": "uCGO6L9GX0lL"
      },
      "execution_count": null,
      "outputs": []
    },
    {
      "cell_type": "code",
      "source": [
        "# Q3. Print list in reverse order using for loop\n",
        "\n",
        "a = [1,2,3,4,5,11,1,2,6,1,8]\n",
        "print(\"Number of items in list: \",len(a))\n",
        "\n",
        "print(\"Original List:\\t\", a)\n",
        "b = []\n",
        "\n",
        "for value in range(len(a)):   # Iterate for amount of original list's length\n",
        "  b.append(a.pop())           # Since pop() function takes out the last element\n",
        "\n",
        "print(\"Reversed List:\\t\", b)\n"
      ],
      "metadata": {
        "colab": {
          "base_uri": "https://localhost:8080/"
        },
        "id": "GuirGHrMtDeR",
        "outputId": "8421bbdf-980c-4547-f329-241b2294f9f8"
      },
      "execution_count": null,
      "outputs": [
        {
          "output_type": "stream",
          "name": "stdout",
          "text": [
            "Number of items in list:  11\n",
            "Original List:\t [1, 2, 3, 4, 5, 11, 1, 2, 6, 1, 8]\n",
            "Reversed List:\t [8, 1, 6, 2, 1, 11, 5, 4, 3, 2, 1]\n"
          ]
        }
      ]
    },
    {
      "cell_type": "code",
      "source": [
        "# Q3: Alternate Approach\n",
        "\n",
        "a = [1,2,3,4,5,11,1,2,6,1,8]\n",
        "reverse_list = []\n",
        "\n",
        "for k in range(len(a)-1, -1, -1):     # Iterate from reverse\n",
        "  reverse_list.append(a[k])\n",
        "print(reverse_list)"
      ],
      "metadata": {
        "colab": {
          "base_uri": "https://localhost:8080/"
        },
        "id": "_LX0WhsZbcAu",
        "outputId": "de57021d-c9d8-40af-be2f-8d693111d401"
      },
      "execution_count": null,
      "outputs": [
        {
          "output_type": "stream",
          "name": "stdout",
          "text": [
            "[8, 1, 6, 2, 1, 11, 5, 4, 3, 2, 1]\n"
          ]
        }
      ]
    },
    {
      "cell_type": "code",
      "source": [
        "# Q4. Print Multiplication table of 13 using for loop\n",
        "\n",
        "for count in range(1,11):\n",
        "  print(13, 'X' , count, '', 13 * count)\n",
        "\n"
      ],
      "metadata": {
        "id": "4ktp75P8tNBx",
        "colab": {
          "base_uri": "https://localhost:8080/"
        },
        "outputId": "9a0ef34a-a93b-401c-dcb1-159bc51b0bb9"
      },
      "execution_count": null,
      "outputs": [
        {
          "output_type": "stream",
          "name": "stdout",
          "text": [
            "13 X 1 = 13\n",
            "13 X 2 = 26\n",
            "13 X 3 = 39\n",
            "13 X 4 = 52\n",
            "13 X 5 = 65\n",
            "13 X 6 = 78\n",
            "13 X 7 = 91\n",
            "13 X 8 = 104\n",
            "13 X 9 = 117\n",
            "13 X 10 = 130\n"
          ]
        }
      ]
    },
    {
      "cell_type": "markdown",
      "source": [
        "**Practice Session [08/16]"
      ],
      "metadata": {
        "id": "k8W1lWEAexzQ"
      }
    },
    {
      "cell_type": "code",
      "source": [
        "#Q1. Python Program to count the total number of digits in a number\n",
        "\n",
        "number  = (input(\"Enter a number: \"))\n",
        "counter = 0\n",
        "\n",
        "for i in number:\n",
        "  counter += 1\n",
        "\n",
        "\n",
        "print(\"Count: \",counter)"
      ],
      "metadata": {
        "colab": {
          "base_uri": "https://localhost:8080/"
        },
        "id": "qSBbHoxYe5Pt",
        "outputId": "8e928aa3-2c83-4eec-f875-8e9e3e36503b"
      },
      "execution_count": null,
      "outputs": [
        {
          "output_type": "stream",
          "name": "stdout",
          "text": [
            "Enter a number: 245\n",
            "Count:  3\n"
          ]
        }
      ]
    },
    {
      "cell_type": "code",
      "source": [
        "# Q2. Write a program to find greatest common divisor(GCD) or highest common factor(HCF) of given two numbers.\n",
        "\n",
        "num1 = int(input(\"Enter the first number: \"))\n",
        "num2 = int(input(\"Enter the second number:\"))\n",
        "\n",
        "for i in range(min(num1, num2),-1,-1):\n",
        "  if (num1 % i == 0 and num2 % i == 0):\n",
        "    print(\"The HCF is: \", i)\n",
        "    break\n"
      ],
      "metadata": {
        "colab": {
          "base_uri": "https://localhost:8080/"
        },
        "id": "FVQk_Qwmgt79",
        "outputId": "e06bc100-5e7d-4d41-bd28-53c3fafb9827"
      },
      "execution_count": null,
      "outputs": [
        {
          "output_type": "stream",
          "name": "stdout",
          "text": [
            "Enter the first number: 15\n",
            "Enter the second number:80\n",
            "The HCF is:  5\n"
          ]
        }
      ]
    },
    {
      "cell_type": "code",
      "source": [
        "#Q. Write a Program in Python to find the factorial of a given number using for loop.\n",
        "\n",
        "#num = 7\n",
        "num = int(input(\"Enter a number to determine its factorial: \"))\n",
        "factorial = 1\n",
        "\n",
        "for i in range(1, num+1):\n",
        "  factorial = factorial * i\n",
        "print(factorial)\n"
      ],
      "metadata": {
        "colab": {
          "base_uri": "https://localhost:8080/"
        },
        "id": "rpTdaULunWvp",
        "outputId": "be838c15-8938-4376-da21-0e291a71fd23"
      },
      "execution_count": null,
      "outputs": [
        {
          "output_type": "stream",
          "name": "stdout",
          "text": [
            "Enter a number to determine its factorial: 7\n",
            "pre-value of factorial:  1\n",
            "pre-value of factorial:  1\n",
            "pre-value of factorial:  2\n",
            "pre-value of factorial:  6\n",
            "pre-value of factorial:  24\n",
            "pre-value of factorial:  120\n",
            "pre-value of factorial:  720\n",
            "5040\n"
          ]
        }
      ]
    },
    {
      "cell_type": "code",
      "source": [
        "#Q. Write a program in python to separate positive and negative number from a list using for loop\n",
        "\n",
        "list_num = [1,-1,3,-5,-7,-9,10,14,]\n",
        "\n",
        "#num = int(input(\"Enter a number\"))\n",
        "positive_list = []\n",
        "negative_list = []\n",
        "print(\"Original List:\", list_num, \"\\n\")\n",
        "\n",
        "for i in list_num:\n",
        "  if  i>= 0:\n",
        "    positive_list.append(i)\n",
        "  elif i < 0:\n",
        "    negative_list.append(i)\n",
        "\n",
        "\n",
        "print(\"Positive Numbers : \", positive_list)\n",
        "print(\"Negative Numbers :\", negative_list)\n"
      ],
      "metadata": {
        "colab": {
          "base_uri": "https://localhost:8080/"
        },
        "id": "zXxpbevNpgHb",
        "outputId": "dda61fff-988f-41b2-8bc2-bed28af24155"
      },
      "execution_count": null,
      "outputs": [
        {
          "output_type": "stream",
          "name": "stdout",
          "text": [
            "Original List: [1, -1, 3, -5, -7, -9, 10, 14] \n",
            "\n",
            "Positive Numbers :  [1, 3, 10, 14]\n",
            "Negative Numbers : [-1, -5, -7, -9]\n"
          ]
        }
      ]
    },
    {
      "cell_type": "code",
      "source": [
        "#Q3. Display fibonacci series upto 10 terms\n",
        "\n",
        "num1 = 0\n",
        "num2 = 1\n",
        "x  = int(input(\"Enter the number of terms to generate fibonacci number: \"))\n",
        "print(num1)\n",
        "print(num2)\n",
        "\n",
        "for i in range(1,x-1):\n",
        "  num3 = num1 + num2\n",
        "  print(num3)\n",
        "  num1 = num2\n",
        "  num2 = num3\n",
        "\n"
      ],
      "metadata": {
        "id": "wHoPwO1NtSwq"
      },
      "execution_count": null,
      "outputs": []
    }
  ]
}