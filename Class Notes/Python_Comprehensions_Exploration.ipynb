{
  "nbformat": 4,
  "nbformat_minor": 0,
  "metadata": {
    "colab": {
      "provenance": []
    },
    "kernelspec": {
      "name": "python3",
      "display_name": "Python 3"
    },
    "language_info": {
      "name": "python"
    }
  },
  "cells": [
    {
      "cell_type": "markdown",
      "source": [
        "----\n",
        "#**Comprehensions in Python: Lists, Dictionaries, Sets, and Generators**\n",
        "\n",
        "1. **List Comprehension:**\n",
        "   - *Description:* List comprehensions are a concise way to create lists in Python. They provide a compact syntax for generating new lists by applying an expression to each item in an iterable, optionally filtering items based on a condition.\n",
        "   - *Use Case:* List comprehensions are useful when you want to create a new list by transforming or filtering elements from an existing iterable.\n",
        "\n",
        "2. **Dictionary Comprehension:**\n",
        "   - *Description:* Dictionary comprehensions allow you to create dictionaries using a compact syntax. They define key-value pairs by applying expressions to items in an iterable, with an optional condition for filtering.\n",
        "   - *Use Case:* Dictionary comprehensions are handy when you need to create dictionaries from an iterable, such as mapping values to keys or filtering data.\n",
        "\n",
        "3. **Set Comprehension:**\n",
        "   - *Description:* Set comprehensions provide a way to create sets efficiently. Like list comprehensions, they apply an expression to each item in an iterable and allow for filtering based on a condition.\n",
        "   - *Use Case:* Set comprehensions are useful when you want to create unique sets of values from an iterable while applying transformations or filters.\n",
        "\n",
        "4. **Generator Comprehension:**\n",
        "   - *Description:* Generator comprehensions offer a memory-efficient way to create generators, which are iterable objects. They generate values on-the-fly, applying expressions to items in an iterable and optionally filtering elements.\n",
        "   - *Use Case:* Generator comprehensions are suitable when you want to work with large data sets or create iterators that don't load all values into memory at once.\n",
        "----\n"
      ],
      "metadata": {
        "id": "1jGoVaAjAgT6"
      }
    },
    {
      "cell_type": "code",
      "source": [
        "# List Comprehension\n",
        "for i in range(100):\n",
        "  print(i, end = ', ')"
      ],
      "metadata": {
        "colab": {
          "base_uri": "https://localhost:8080/"
        },
        "id": "nm7n6s9oAwht",
        "outputId": "95ec8add-d7d2-4b7b-bed2-4aa36793134e"
      },
      "execution_count": 52,
      "outputs": [
        {
          "output_type": "stream",
          "name": "stdout",
          "text": [
            "0, 1, 2, 3, 4, 5, 6, 7, 8, 9, 10, 11, 12, 13, 14, 15, 16, 17, 18, 19, 20, 21, 22, 23, 24, 25, 26, 27, 28, 29, 30, 31, 32, 33, 34, 35, 36, 37, 38, 39, 40, 41, 42, 43, 44, 45, 46, 47, 48, 49, 50, 51, 52, 53, 54, 55, 56, 57, 58, 59, 60, 61, 62, 63, 64, 65, 66, 67, 68, 69, 70, 71, 72, 73, 74, 75, 76, 77, 78, 79, 80, 81, 82, 83, 84, 85, 86, 87, 88, 89, 90, 91, 92, 93, 94, 95, 96, 97, 98, 99, "
          ]
        }
      ]
    },
    {
      "cell_type": "code",
      "source": [
        "# Applying list comprehension to above loop\n",
        "\n",
        "lst_comp1 = [i for i in range(100)]\n",
        "print(lst_comp1)"
      ],
      "metadata": {
        "colab": {
          "base_uri": "https://localhost:8080/"
        },
        "id": "attaRoSrA42W",
        "outputId": "87615179-e74c-4e08-f6c0-4d8a2ea958c0"
      },
      "execution_count": 53,
      "outputs": [
        {
          "output_type": "stream",
          "name": "stdout",
          "text": [
            "[0, 1, 2, 3, 4, 5, 6, 7, 8, 9, 10, 11, 12, 13, 14, 15, 16, 17, 18, 19, 20, 21, 22, 23, 24, 25, 26, 27, 28, 29, 30, 31, 32, 33, 34, 35, 36, 37, 38, 39, 40, 41, 42, 43, 44, 45, 46, 47, 48, 49, 50, 51, 52, 53, 54, 55, 56, 57, 58, 59, 60, 61, 62, 63, 64, 65, 66, 67, 68, 69, 70, 71, 72, 73, 74, 75, 76, 77, 78, 79, 80, 81, 82, 83, 84, 85, 86, 87, 88, 89, 90, 91, 92, 93, 94, 95, 96, 97, 98, 99]\n"
          ]
        }
      ]
    },
    {
      "cell_type": "code",
      "source": [
        "# Print all numbers from 0 to 99, divisible by three\n",
        "\n",
        "# Regular Method:\n",
        "\n",
        "for i in range(100):\n",
        "  if i % 3 == 0:\n",
        "    print(i, end = ',')"
      ],
      "metadata": {
        "colab": {
          "base_uri": "https://localhost:8080/"
        },
        "id": "-MGjrpswBT75",
        "outputId": "38d1776e-4119-4123-8779-8eb8df78132a"
      },
      "execution_count": 54,
      "outputs": [
        {
          "output_type": "stream",
          "name": "stdout",
          "text": [
            "0,3,6,9,12,15,18,21,24,27,30,33,36,39,42,45,48,51,54,57,60,63,66,69,72,75,78,81,84,87,90,93,96,99,"
          ]
        }
      ]
    },
    {
      "cell_type": "code",
      "source": [
        "# List Comprehension Method\n",
        "\n",
        "lst_comp2 = [i for i in range(100) if i % 3 == 0]\n",
        "print(lst_comp2)\n",
        "print(type(lst_comp2))"
      ],
      "metadata": {
        "colab": {
          "base_uri": "https://localhost:8080/"
        },
        "id": "ksftAm_WB5s7",
        "outputId": "06e46f31-39fb-4f58-c078-c2cb9857f22e"
      },
      "execution_count": 55,
      "outputs": [
        {
          "output_type": "stream",
          "name": "stdout",
          "text": [
            "[0, 3, 6, 9, 12, 15, 18, 21, 24, 27, 30, 33, 36, 39, 42, 45, 48, 51, 54, 57, 60, 63, 66, 69, 72, 75, 78, 81, 84, 87, 90, 93, 96, 99]\n",
            "<class 'list'>\n"
          ]
        }
      ]
    },
    {
      "cell_type": "code",
      "source": [
        "# For String datas\n",
        "# Regular Method:\n",
        "\n",
        "fruits_lst = ['apple','banana','cherries','dates','eggfruit','fig','graphs']\n",
        "for i in fruits_lst:\n",
        "  if'a' in i:\n",
        "    print(i)"
      ],
      "metadata": {
        "colab": {
          "base_uri": "https://localhost:8080/"
        },
        "id": "tL5aWgtyCC-G",
        "outputId": "6c8f1bce-afd5-41d3-95e5-15b60aba4f22"
      },
      "execution_count": 56,
      "outputs": [
        {
          "output_type": "stream",
          "name": "stdout",
          "text": [
            "apple\n",
            "banana\n",
            "dates\n",
            "graphs\n"
          ]
        }
      ]
    },
    {
      "cell_type": "code",
      "source": [
        "# List Comprehension Method\n",
        "\n",
        "fruits_lst = ['apple','banana','cherries','dates','eggfruit','fig','graphs']\n",
        "\n",
        "lst_comp3 = [i for i in fruits_lst if 'a' in i]\n",
        "print(lst_comp3)"
      ],
      "metadata": {
        "colab": {
          "base_uri": "https://localhost:8080/"
        },
        "id": "8-1XGwMYCXSw",
        "outputId": "456e5cc9-2442-4ff8-a050-f90fef77e505"
      },
      "execution_count": 57,
      "outputs": [
        {
          "output_type": "stream",
          "name": "stdout",
          "text": [
            "['apple', 'banana', 'dates', 'graphs']\n"
          ]
        }
      ]
    },
    {
      "cell_type": "code",
      "source": [
        "# In-class Practice Assignment:\n",
        "\n",
        "fruits_lst = ['apple','banana','cherries','dates','eggfruit','fig','graphs']\n",
        "# Regular Method\n",
        "for i in fruits_lst:\n",
        "  if 'apple' not in i:\n",
        "    print(i)\n"
      ],
      "metadata": {
        "colab": {
          "base_uri": "https://localhost:8080/"
        },
        "id": "F9nK5ndOC8pV",
        "outputId": "58aaef66-5efc-4416-ad1d-e4cc9aa06c4e"
      },
      "execution_count": 58,
      "outputs": [
        {
          "output_type": "stream",
          "name": "stdout",
          "text": [
            "banana\n",
            "cherries\n",
            "dates\n",
            "eggfruit\n",
            "fig\n",
            "graphs\n"
          ]
        }
      ]
    },
    {
      "cell_type": "code",
      "source": [
        "fruits_lst = ['apple','banana','cherries','dates','eggfruit','fig','graphs']\n",
        "\n",
        "lst_comp4 = [i for i in fruits_lst if 'apple' not in i]\n",
        "print(lst_comp4)"
      ],
      "metadata": {
        "colab": {
          "base_uri": "https://localhost:8080/"
        },
        "id": "oMJO-AlqDgId",
        "outputId": "1520a27e-e14b-4ce3-fa3b-0a3a52b2b625"
      },
      "execution_count": 59,
      "outputs": [
        {
          "output_type": "stream",
          "name": "stdout",
          "text": [
            "['banana', 'cherries', 'dates', 'eggfruit', 'fig', 'graphs']\n"
          ]
        }
      ]
    },
    {
      "cell_type": "code",
      "source": [
        "# All the fruits that ARE NOT of apple kind\n",
        "\n",
        "apples_fruits_lst = ['apple','custard apple','green apple','dates','eggfruit','fire red apple','graphs']\n",
        "\n",
        "lst_comp4 = [i for i in fruits_lst if 'apple' not in i]\n",
        "print(lst_comp4)"
      ],
      "metadata": {
        "colab": {
          "base_uri": "https://localhost:8080/"
        },
        "id": "DPZmezGvETKW",
        "outputId": "c729945f-2081-4395-e8a7-e213ac9ea697"
      },
      "execution_count": 60,
      "outputs": [
        {
          "output_type": "stream",
          "name": "stdout",
          "text": [
            "['banana', 'cherries', 'dates', 'eggfruit', 'fig', 'graphs']\n"
          ]
        }
      ]
    },
    {
      "cell_type": "code",
      "source": [
        "# All the fruits that ARE of the apple kind\n",
        "\n",
        "apples_fruits_lst = ['apple','custard apple','green apple','dates','eggfruit','fire red apple','graphs']\n",
        "\n",
        "lst_comp5 = [i for i in apples_fruits_lst if 'apple' in i]\n",
        "print(lst_comp5)"
      ],
      "metadata": {
        "colab": {
          "base_uri": "https://localhost:8080/"
        },
        "id": "kO07qdN-EiWD",
        "outputId": "6eaa0884-a21c-415c-fc80-69dfa6e23633"
      },
      "execution_count": 61,
      "outputs": [
        {
          "output_type": "stream",
          "name": "stdout",
          "text": [
            "['apple', 'custard apple', 'green apple', 'fire red apple']\n"
          ]
        }
      ]
    },
    {
      "cell_type": "code",
      "source": [
        "# All the fruits that ARE of the apple kind\n",
        "# Using: Print statement inside the list\n",
        "\n",
        "apples_fruits_lst = ['apple','custard apple','green apple','dates','eggfruit','fire red apple','graphs']\n",
        "\n",
        "lst_comp5 = [print(i) for i in apples_fruits_lst if 'apple' in i]\n"
      ],
      "metadata": {
        "colab": {
          "base_uri": "https://localhost:8080/"
        },
        "id": "XacodVwHFLmK",
        "outputId": "8f3536c8-031a-47bb-8ff3-095c9440ba9e"
      },
      "execution_count": 62,
      "outputs": [
        {
          "output_type": "stream",
          "name": "stdout",
          "text": [
            "apple\n",
            "custard apple\n",
            "green apple\n",
            "fire red apple\n"
          ]
        }
      ]
    },
    {
      "cell_type": "code",
      "source": [
        "# Practice Example\n",
        "# Regular Method\n",
        "\n",
        "types = ['indian', 'american', 'nepali']\n",
        "fruits = ['apple', 'mango', 'pineapple']\n",
        "\n",
        "for i in types:\n",
        "  for j in fruits:\n",
        "    if 'apple' in j:\n",
        "      print(i, j)"
      ],
      "metadata": {
        "colab": {
          "base_uri": "https://localhost:8080/"
        },
        "id": "cnTjNwfXFnJj",
        "outputId": "4d0d7752-b176-43f5-cfed-517e2cae2804"
      },
      "execution_count": 63,
      "outputs": [
        {
          "output_type": "stream",
          "name": "stdout",
          "text": [
            "indian apple\n",
            "indian pineapple\n",
            "american apple\n",
            "american pineapple\n",
            "nepali apple\n",
            "nepali pineapple\n"
          ]
        }
      ]
    },
    {
      "cell_type": "code",
      "source": [
        "# List Comprehension Method\n",
        "\n",
        "types = ['indian', 'american', 'nepali']\n",
        "fruits = ['apple', 'mango', 'pineapple']\n",
        "\n",
        "lst_comp6 = [[i,j] for i in types for j in fruits if 'apple' in j]\n",
        "lst_comp6"
      ],
      "metadata": {
        "colab": {
          "base_uri": "https://localhost:8080/"
        },
        "id": "j_CxIbU4Gqzu",
        "outputId": "b4d24431-d5ae-4e1c-bffb-e219f0932b09"
      },
      "execution_count": 64,
      "outputs": [
        {
          "output_type": "execute_result",
          "data": {
            "text/plain": [
              "[['indian', 'apple'],\n",
              " ['indian', 'pineapple'],\n",
              " ['american', 'apple'],\n",
              " ['american', 'pineapple'],\n",
              " ['nepali', 'apple'],\n",
              " ['nepali', 'pineapple']]"
            ]
          },
          "metadata": {},
          "execution_count": 64
        }
      ]
    },
    {
      "cell_type": "code",
      "source": [
        "# Practice Question: Print all the items in list starts with 'c' or 'C'\n",
        "# Regular Method\n",
        "\n",
        "names = ['Ch', 'Dh','Eh', 'cb', 'Tb', 'Td']\n",
        "\n",
        "for i in names:\n",
        "  if i.startswith('C') or i.startswith('c'):\n",
        "    print(i)\n",
        "\n"
      ],
      "metadata": {
        "colab": {
          "base_uri": "https://localhost:8080/"
        },
        "id": "5uS6ehVaIo-N",
        "outputId": "cd9a5fa1-eaee-44f9-9d39-11d5f8cd1322"
      },
      "execution_count": 65,
      "outputs": [
        {
          "output_type": "stream",
          "name": "stdout",
          "text": [
            "Ch\n",
            "cb\n"
          ]
        }
      ]
    },
    {
      "cell_type": "code",
      "source": [
        "# List Comprehension Method\n",
        "names = ['Ch', 'Dh','Eh', 'cb', 'Tb', 'Td']\n",
        "\n",
        "lst_comp7 = [i for i in names if i.startswith('C') or i.startswith('c')]\n",
        "print(lst_comp7)\n",
        "print(type(lst_comp7))\n"
      ],
      "metadata": {
        "colab": {
          "base_uri": "https://localhost:8080/"
        },
        "id": "AP0TU_CZI7SP",
        "outputId": "994b0d51-2778-4a57-fa7c-4d871b38d80c"
      },
      "execution_count": 66,
      "outputs": [
        {
          "output_type": "stream",
          "name": "stdout",
          "text": [
            "['Ch', 'cb']\n",
            "<class 'list'>\n"
          ]
        }
      ]
    },
    {
      "cell_type": "code",
      "source": [
        "lst_matrix = [i for i in range(3)]\n",
        "print(lst_matrix)\n"
      ],
      "metadata": {
        "colab": {
          "base_uri": "https://localhost:8080/"
        },
        "id": "wnyXME6VMvgQ",
        "outputId": "6f459688-ac5b-4b83-85fa-157833ea116b"
      },
      "execution_count": 67,
      "outputs": [
        {
          "output_type": "stream",
          "name": "stdout",
          "text": [
            "[0, 1, 2]\n"
          ]
        }
      ]
    },
    {
      "cell_type": "code",
      "source": [
        "lst_matrix0 = [i for i in range(3) for j in range(3)]\n",
        "print(lst_matrix0)\n",
        "print()\n",
        "\n",
        "lst_matrix = [[i for i in range(3)] for j in range(3)]\n",
        "print(lst_matrix)"
      ],
      "metadata": {
        "colab": {
          "base_uri": "https://localhost:8080/"
        },
        "id": "9ZKISofoLcHx",
        "outputId": "8a9a5572-2f24-46bb-b3fd-f6da54760a32"
      },
      "execution_count": 68,
      "outputs": [
        {
          "output_type": "stream",
          "name": "stdout",
          "text": [
            "[0, 0, 0, 1, 1, 1, 2, 2, 2]\n",
            "\n",
            "[[0, 1, 2], [0, 1, 2], [0, 1, 2]]\n"
          ]
        }
      ]
    },
    {
      "cell_type": "code",
      "source": [
        "# Regular Implementation\n",
        "\n",
        "for j in range(3):\n",
        "  for i in range(3):\n",
        "    print(i)\n"
      ],
      "metadata": {
        "colab": {
          "base_uri": "https://localhost:8080/"
        },
        "id": "yz4nkVz3NFqJ",
        "outputId": "36f2d86a-56a3-481d-c7d7-0d7514d10e42"
      },
      "execution_count": 69,
      "outputs": [
        {
          "output_type": "stream",
          "name": "stdout",
          "text": [
            "0\n",
            "1\n",
            "2\n",
            "0\n",
            "1\n",
            "2\n",
            "0\n",
            "1\n",
            "2\n"
          ]
        }
      ]
    },
    {
      "cell_type": "code",
      "source": [
        "lst_str = [i for i in 'Python Programming']\n",
        "lst_str"
      ],
      "metadata": {
        "id": "cHfTlF6ZNY5D",
        "colab": {
          "base_uri": "https://localhost:8080/"
        },
        "outputId": "c512c6db-0561-4d49-acec-f5267f9e8496"
      },
      "execution_count": 70,
      "outputs": [
        {
          "output_type": "execute_result",
          "data": {
            "text/plain": [
              "['P',\n",
              " 'y',\n",
              " 't',\n",
              " 'h',\n",
              " 'o',\n",
              " 'n',\n",
              " ' ',\n",
              " 'P',\n",
              " 'r',\n",
              " 'o',\n",
              " 'g',\n",
              " 'r',\n",
              " 'a',\n",
              " 'm',\n",
              " 'm',\n",
              " 'i',\n",
              " 'n',\n",
              " 'g']"
            ]
          },
          "metadata": {},
          "execution_count": 70
        }
      ]
    },
    {
      "cell_type": "code",
      "source": [
        "# Practice Question: Print all numbers from 0 to 100 that are both divisible by 5 and 10 using nested loop\n",
        "\n",
        "# List Comprehension Method\n",
        "\n",
        "lst1 = [i for i in range(101) if i % 5 == 0 if i % 10 == 0]\n",
        "print(lst1)"
      ],
      "metadata": {
        "colab": {
          "base_uri": "https://localhost:8080/"
        },
        "id": "nR-_Y2uDNwQZ",
        "outputId": "2f9b067d-4ffd-4bc5-cf7f-1caf1fc23ef0"
      },
      "execution_count": 71,
      "outputs": [
        {
          "output_type": "stream",
          "name": "stdout",
          "text": [
            "[0, 10, 20, 30, 40, 50, 60, 70, 80, 90, 100]\n"
          ]
        }
      ]
    },
    {
      "cell_type": "code",
      "source": [
        "# Regular Implementation:\n",
        "\n",
        "for i in range(101):\n",
        "  if i % 5 == 0:\n",
        "    if i % 10 == 0:\n",
        "      print(i , end = ', ')\n"
      ],
      "metadata": {
        "colab": {
          "base_uri": "https://localhost:8080/"
        },
        "id": "GR0gnUEfONzs",
        "outputId": "997378fa-0f06-4829-97ab-688071010f87"
      },
      "execution_count": 72,
      "outputs": [
        {
          "output_type": "stream",
          "name": "stdout",
          "text": [
            "0, 10, 20, 30, 40, 50, 60, 70, 80, 90, 100, "
          ]
        }
      ]
    },
    {
      "cell_type": "code",
      "source": [
        "# Using 2D array\n",
        "ndim2array = [[10, 20, 30], [40, 50, 60], [70, 80, 90]]\n",
        "\n",
        "# Create a new 2D array with elements that are the product of the corresponding elements from ndim2array\n",
        "lst1 = [[i * j for i in row] for j in ndim2array for row in ndim2array]\n",
        "\n",
        "print(lst1)\n"
      ],
      "metadata": {
        "id": "QV7cwYDUPXrw",
        "colab": {
          "base_uri": "https://localhost:8080/"
        },
        "outputId": "0e0b5539-ae55-41bd-cd42-885ef8074442"
      },
      "execution_count": 73,
      "outputs": [
        {
          "output_type": "stream",
          "name": "stdout",
          "text": [
            "[[[10, 20, 30, 10, 20, 30, 10, 20, 30, 10, 20, 30, 10, 20, 30, 10, 20, 30, 10, 20, 30, 10, 20, 30, 10, 20, 30, 10, 20, 30], [10, 20, 30, 10, 20, 30, 10, 20, 30, 10, 20, 30, 10, 20, 30, 10, 20, 30, 10, 20, 30, 10, 20, 30, 10, 20, 30, 10, 20, 30, 10, 20, 30, 10, 20, 30, 10, 20, 30, 10, 20, 30, 10, 20, 30, 10, 20, 30, 10, 20, 30, 10, 20, 30, 10, 20, 30, 10, 20, 30], [10, 20, 30, 10, 20, 30, 10, 20, 30, 10, 20, 30, 10, 20, 30, 10, 20, 30, 10, 20, 30, 10, 20, 30, 10, 20, 30, 10, 20, 30, 10, 20, 30, 10, 20, 30, 10, 20, 30, 10, 20, 30, 10, 20, 30, 10, 20, 30, 10, 20, 30, 10, 20, 30, 10, 20, 30, 10, 20, 30, 10, 20, 30, 10, 20, 30, 10, 20, 30, 10, 20, 30, 10, 20, 30, 10, 20, 30, 10, 20, 30, 10, 20, 30, 10, 20, 30, 10, 20, 30]], [[10, 20, 30, 10, 20, 30, 10, 20, 30, 10, 20, 30, 10, 20, 30, 10, 20, 30, 10, 20, 30, 10, 20, 30, 10, 20, 30, 10, 20, 30, 10, 20, 30, 10, 20, 30, 10, 20, 30, 10, 20, 30, 10, 20, 30, 10, 20, 30, 10, 20, 30, 10, 20, 30, 10, 20, 30, 10, 20, 30, 10, 20, 30, 10, 20, 30, 10, 20, 30, 10, 20, 30, 10, 20, 30, 10, 20, 30, 10, 20, 30, 10, 20, 30, 10, 20, 30, 10, 20, 30, 10, 20, 30, 10, 20, 30, 10, 20, 30, 10, 20, 30, 10, 20, 30, 10, 20, 30, 10, 20, 30, 10, 20, 30, 10, 20, 30, 10, 20, 30], [10, 20, 30, 10, 20, 30, 10, 20, 30, 10, 20, 30, 10, 20, 30, 10, 20, 30, 10, 20, 30, 10, 20, 30, 10, 20, 30, 10, 20, 30, 10, 20, 30, 10, 20, 30, 10, 20, 30, 10, 20, 30, 10, 20, 30, 10, 20, 30, 10, 20, 30, 10, 20, 30, 10, 20, 30, 10, 20, 30, 10, 20, 30, 10, 20, 30, 10, 20, 30, 10, 20, 30, 10, 20, 30, 10, 20, 30, 10, 20, 30, 10, 20, 30, 10, 20, 30, 10, 20, 30, 10, 20, 30, 10, 20, 30, 10, 20, 30, 10, 20, 30, 10, 20, 30, 10, 20, 30, 10, 20, 30, 10, 20, 30, 10, 20, 30, 10, 20, 30, 10, 20, 30, 10, 20, 30, 10, 20, 30, 10, 20, 30, 10, 20, 30, 10, 20, 30, 10, 20, 30, 10, 20, 30, 10, 20, 30, 10, 20, 30], [10, 20, 30, 10, 20, 30, 10, 20, 30, 10, 20, 30, 10, 20, 30, 10, 20, 30, 10, 20, 30, 10, 20, 30, 10, 20, 30, 10, 20, 30, 10, 20, 30, 10, 20, 30, 10, 20, 30, 10, 20, 30, 10, 20, 30, 10, 20, 30, 10, 20, 30, 10, 20, 30, 10, 20, 30, 10, 20, 30, 10, 20, 30, 10, 20, 30, 10, 20, 30, 10, 20, 30, 10, 20, 30, 10, 20, 30, 10, 20, 30, 10, 20, 30, 10, 20, 30, 10, 20, 30, 10, 20, 30, 10, 20, 30, 10, 20, 30, 10, 20, 30, 10, 20, 30, 10, 20, 30, 10, 20, 30, 10, 20, 30, 10, 20, 30, 10, 20, 30, 10, 20, 30, 10, 20, 30, 10, 20, 30, 10, 20, 30, 10, 20, 30, 10, 20, 30, 10, 20, 30, 10, 20, 30, 10, 20, 30, 10, 20, 30, 10, 20, 30, 10, 20, 30, 10, 20, 30, 10, 20, 30, 10, 20, 30, 10, 20, 30, 10, 20, 30, 10, 20, 30, 10, 20, 30, 10, 20, 30]], [[10, 20, 30, 10, 20, 30, 10, 20, 30, 10, 20, 30, 10, 20, 30, 10, 20, 30, 10, 20, 30, 10, 20, 30, 10, 20, 30, 10, 20, 30, 10, 20, 30, 10, 20, 30, 10, 20, 30, 10, 20, 30, 10, 20, 30, 10, 20, 30, 10, 20, 30, 10, 20, 30, 10, 20, 30, 10, 20, 30, 10, 20, 30, 10, 20, 30, 10, 20, 30, 10, 20, 30, 10, 20, 30, 10, 20, 30, 10, 20, 30, 10, 20, 30, 10, 20, 30, 10, 20, 30, 10, 20, 30, 10, 20, 30, 10, 20, 30, 10, 20, 30, 10, 20, 30, 10, 20, 30, 10, 20, 30, 10, 20, 30, 10, 20, 30, 10, 20, 30, 10, 20, 30, 10, 20, 30, 10, 20, 30, 10, 20, 30, 10, 20, 30, 10, 20, 30, 10, 20, 30, 10, 20, 30, 10, 20, 30, 10, 20, 30, 10, 20, 30, 10, 20, 30, 10, 20, 30, 10, 20, 30, 10, 20, 30, 10, 20, 30, 10, 20, 30, 10, 20, 30, 10, 20, 30, 10, 20, 30, 10, 20, 30, 10, 20, 30, 10, 20, 30, 10, 20, 30, 10, 20, 30, 10, 20, 30, 10, 20, 30, 10, 20, 30, 10, 20, 30, 10, 20, 30], [10, 20, 30, 10, 20, 30, 10, 20, 30, 10, 20, 30, 10, 20, 30, 10, 20, 30, 10, 20, 30, 10, 20, 30, 10, 20, 30, 10, 20, 30, 10, 20, 30, 10, 20, 30, 10, 20, 30, 10, 20, 30, 10, 20, 30, 10, 20, 30, 10, 20, 30, 10, 20, 30, 10, 20, 30, 10, 20, 30, 10, 20, 30, 10, 20, 30, 10, 20, 30, 10, 20, 30, 10, 20, 30, 10, 20, 30, 10, 20, 30, 10, 20, 30, 10, 20, 30, 10, 20, 30, 10, 20, 30, 10, 20, 30, 10, 20, 30, 10, 20, 30, 10, 20, 30, 10, 20, 30, 10, 20, 30, 10, 20, 30, 10, 20, 30, 10, 20, 30, 10, 20, 30, 10, 20, 30, 10, 20, 30, 10, 20, 30, 10, 20, 30, 10, 20, 30, 10, 20, 30, 10, 20, 30, 10, 20, 30, 10, 20, 30, 10, 20, 30, 10, 20, 30, 10, 20, 30, 10, 20, 30, 10, 20, 30, 10, 20, 30, 10, 20, 30, 10, 20, 30, 10, 20, 30, 10, 20, 30, 10, 20, 30, 10, 20, 30, 10, 20, 30, 10, 20, 30, 10, 20, 30, 10, 20, 30, 10, 20, 30, 10, 20, 30, 10, 20, 30, 10, 20, 30, 10, 20, 30, 10, 20, 30, 10, 20, 30, 10, 20, 30, 10, 20, 30, 10, 20, 30, 10, 20, 30, 10, 20, 30, 10, 20, 30, 10, 20, 30], [10, 20, 30, 10, 20, 30, 10, 20, 30, 10, 20, 30, 10, 20, 30, 10, 20, 30, 10, 20, 30, 10, 20, 30, 10, 20, 30, 10, 20, 30, 10, 20, 30, 10, 20, 30, 10, 20, 30, 10, 20, 30, 10, 20, 30, 10, 20, 30, 10, 20, 30, 10, 20, 30, 10, 20, 30, 10, 20, 30, 10, 20, 30, 10, 20, 30, 10, 20, 30, 10, 20, 30, 10, 20, 30, 10, 20, 30, 10, 20, 30, 10, 20, 30, 10, 20, 30, 10, 20, 30, 10, 20, 30, 10, 20, 30, 10, 20, 30, 10, 20, 30, 10, 20, 30, 10, 20, 30, 10, 20, 30, 10, 20, 30, 10, 20, 30, 10, 20, 30, 10, 20, 30, 10, 20, 30, 10, 20, 30, 10, 20, 30, 10, 20, 30, 10, 20, 30, 10, 20, 30, 10, 20, 30, 10, 20, 30, 10, 20, 30, 10, 20, 30, 10, 20, 30, 10, 20, 30, 10, 20, 30, 10, 20, 30, 10, 20, 30, 10, 20, 30, 10, 20, 30, 10, 20, 30, 10, 20, 30, 10, 20, 30, 10, 20, 30, 10, 20, 30, 10, 20, 30, 10, 20, 30, 10, 20, 30, 10, 20, 30, 10, 20, 30, 10, 20, 30, 10, 20, 30, 10, 20, 30, 10, 20, 30, 10, 20, 30, 10, 20, 30, 10, 20, 30, 10, 20, 30, 10, 20, 30, 10, 20, 30, 10, 20, 30, 10, 20, 30, 10, 20, 30, 10, 20, 30, 10, 20, 30, 10, 20, 30, 10, 20, 30, 10, 20, 30, 10, 20, 30, 10, 20, 30, 10, 20, 30, 10, 20, 30]], [[40, 50, 60, 40, 50, 60, 40, 50, 60, 40, 50, 60, 40, 50, 60, 40, 50, 60, 40, 50, 60, 40, 50, 60, 40, 50, 60, 40, 50, 60], [40, 50, 60, 40, 50, 60, 40, 50, 60, 40, 50, 60, 40, 50, 60, 40, 50, 60, 40, 50, 60, 40, 50, 60, 40, 50, 60, 40, 50, 60, 40, 50, 60, 40, 50, 60, 40, 50, 60, 40, 50, 60, 40, 50, 60, 40, 50, 60, 40, 50, 60, 40, 50, 60, 40, 50, 60, 40, 50, 60], [40, 50, 60, 40, 50, 60, 40, 50, 60, 40, 50, 60, 40, 50, 60, 40, 50, 60, 40, 50, 60, 40, 50, 60, 40, 50, 60, 40, 50, 60, 40, 50, 60, 40, 50, 60, 40, 50, 60, 40, 50, 60, 40, 50, 60, 40, 50, 60, 40, 50, 60, 40, 50, 60, 40, 50, 60, 40, 50, 60, 40, 50, 60, 40, 50, 60, 40, 50, 60, 40, 50, 60, 40, 50, 60, 40, 50, 60, 40, 50, 60, 40, 50, 60, 40, 50, 60, 40, 50, 60]], [[40, 50, 60, 40, 50, 60, 40, 50, 60, 40, 50, 60, 40, 50, 60, 40, 50, 60, 40, 50, 60, 40, 50, 60, 40, 50, 60, 40, 50, 60, 40, 50, 60, 40, 50, 60, 40, 50, 60, 40, 50, 60, 40, 50, 60, 40, 50, 60, 40, 50, 60, 40, 50, 60, 40, 50, 60, 40, 50, 60, 40, 50, 60, 40, 50, 60, 40, 50, 60, 40, 50, 60, 40, 50, 60, 40, 50, 60, 40, 50, 60, 40, 50, 60, 40, 50, 60, 40, 50, 60, 40, 50, 60, 40, 50, 60, 40, 50, 60, 40, 50, 60, 40, 50, 60, 40, 50, 60, 40, 50, 60, 40, 50, 60, 40, 50, 60, 40, 50, 60], [40, 50, 60, 40, 50, 60, 40, 50, 60, 40, 50, 60, 40, 50, 60, 40, 50, 60, 40, 50, 60, 40, 50, 60, 40, 50, 60, 40, 50, 60, 40, 50, 60, 40, 50, 60, 40, 50, 60, 40, 50, 60, 40, 50, 60, 40, 50, 60, 40, 50, 60, 40, 50, 60, 40, 50, 60, 40, 50, 60, 40, 50, 60, 40, 50, 60, 40, 50, 60, 40, 50, 60, 40, 50, 60, 40, 50, 60, 40, 50, 60, 40, 50, 60, 40, 50, 60, 40, 50, 60, 40, 50, 60, 40, 50, 60, 40, 50, 60, 40, 50, 60, 40, 50, 60, 40, 50, 60, 40, 50, 60, 40, 50, 60, 40, 50, 60, 40, 50, 60, 40, 50, 60, 40, 50, 60, 40, 50, 60, 40, 50, 60, 40, 50, 60, 40, 50, 60, 40, 50, 60, 40, 50, 60, 40, 50, 60, 40, 50, 60], [40, 50, 60, 40, 50, 60, 40, 50, 60, 40, 50, 60, 40, 50, 60, 40, 50, 60, 40, 50, 60, 40, 50, 60, 40, 50, 60, 40, 50, 60, 40, 50, 60, 40, 50, 60, 40, 50, 60, 40, 50, 60, 40, 50, 60, 40, 50, 60, 40, 50, 60, 40, 50, 60, 40, 50, 60, 40, 50, 60, 40, 50, 60, 40, 50, 60, 40, 50, 60, 40, 50, 60, 40, 50, 60, 40, 50, 60, 40, 50, 60, 40, 50, 60, 40, 50, 60, 40, 50, 60, 40, 50, 60, 40, 50, 60, 40, 50, 60, 40, 50, 60, 40, 50, 60, 40, 50, 60, 40, 50, 60, 40, 50, 60, 40, 50, 60, 40, 50, 60, 40, 50, 60, 40, 50, 60, 40, 50, 60, 40, 50, 60, 40, 50, 60, 40, 50, 60, 40, 50, 60, 40, 50, 60, 40, 50, 60, 40, 50, 60, 40, 50, 60, 40, 50, 60, 40, 50, 60, 40, 50, 60, 40, 50, 60, 40, 50, 60, 40, 50, 60, 40, 50, 60, 40, 50, 60, 40, 50, 60]], [[40, 50, 60, 40, 50, 60, 40, 50, 60, 40, 50, 60, 40, 50, 60, 40, 50, 60, 40, 50, 60, 40, 50, 60, 40, 50, 60, 40, 50, 60, 40, 50, 60, 40, 50, 60, 40, 50, 60, 40, 50, 60, 40, 50, 60, 40, 50, 60, 40, 50, 60, 40, 50, 60, 40, 50, 60, 40, 50, 60, 40, 50, 60, 40, 50, 60, 40, 50, 60, 40, 50, 60, 40, 50, 60, 40, 50, 60, 40, 50, 60, 40, 50, 60, 40, 50, 60, 40, 50, 60, 40, 50, 60, 40, 50, 60, 40, 50, 60, 40, 50, 60, 40, 50, 60, 40, 50, 60, 40, 50, 60, 40, 50, 60, 40, 50, 60, 40, 50, 60, 40, 50, 60, 40, 50, 60, 40, 50, 60, 40, 50, 60, 40, 50, 60, 40, 50, 60, 40, 50, 60, 40, 50, 60, 40, 50, 60, 40, 50, 60, 40, 50, 60, 40, 50, 60, 40, 50, 60, 40, 50, 60, 40, 50, 60, 40, 50, 60, 40, 50, 60, 40, 50, 60, 40, 50, 60, 40, 50, 60, 40, 50, 60, 40, 50, 60, 40, 50, 60, 40, 50, 60, 40, 50, 60, 40, 50, 60, 40, 50, 60, 40, 50, 60, 40, 50, 60, 40, 50, 60], [40, 50, 60, 40, 50, 60, 40, 50, 60, 40, 50, 60, 40, 50, 60, 40, 50, 60, 40, 50, 60, 40, 50, 60, 40, 50, 60, 40, 50, 60, 40, 50, 60, 40, 50, 60, 40, 50, 60, 40, 50, 60, 40, 50, 60, 40, 50, 60, 40, 50, 60, 40, 50, 60, 40, 50, 60, 40, 50, 60, 40, 50, 60, 40, 50, 60, 40, 50, 60, 40, 50, 60, 40, 50, 60, 40, 50, 60, 40, 50, 60, 40, 50, 60, 40, 50, 60, 40, 50, 60, 40, 50, 60, 40, 50, 60, 40, 50, 60, 40, 50, 60, 40, 50, 60, 40, 50, 60, 40, 50, 60, 40, 50, 60, 40, 50, 60, 40, 50, 60, 40, 50, 60, 40, 50, 60, 40, 50, 60, 40, 50, 60, 40, 50, 60, 40, 50, 60, 40, 50, 60, 40, 50, 60, 40, 50, 60, 40, 50, 60, 40, 50, 60, 40, 50, 60, 40, 50, 60, 40, 50, 60, 40, 50, 60, 40, 50, 60, 40, 50, 60, 40, 50, 60, 40, 50, 60, 40, 50, 60, 40, 50, 60, 40, 50, 60, 40, 50, 60, 40, 50, 60, 40, 50, 60, 40, 50, 60, 40, 50, 60, 40, 50, 60, 40, 50, 60, 40, 50, 60, 40, 50, 60, 40, 50, 60, 40, 50, 60, 40, 50, 60, 40, 50, 60, 40, 50, 60, 40, 50, 60, 40, 50, 60, 40, 50, 60, 40, 50, 60], [40, 50, 60, 40, 50, 60, 40, 50, 60, 40, 50, 60, 40, 50, 60, 40, 50, 60, 40, 50, 60, 40, 50, 60, 40, 50, 60, 40, 50, 60, 40, 50, 60, 40, 50, 60, 40, 50, 60, 40, 50, 60, 40, 50, 60, 40, 50, 60, 40, 50, 60, 40, 50, 60, 40, 50, 60, 40, 50, 60, 40, 50, 60, 40, 50, 60, 40, 50, 60, 40, 50, 60, 40, 50, 60, 40, 50, 60, 40, 50, 60, 40, 50, 60, 40, 50, 60, 40, 50, 60, 40, 50, 60, 40, 50, 60, 40, 50, 60, 40, 50, 60, 40, 50, 60, 40, 50, 60, 40, 50, 60, 40, 50, 60, 40, 50, 60, 40, 50, 60, 40, 50, 60, 40, 50, 60, 40, 50, 60, 40, 50, 60, 40, 50, 60, 40, 50, 60, 40, 50, 60, 40, 50, 60, 40, 50, 60, 40, 50, 60, 40, 50, 60, 40, 50, 60, 40, 50, 60, 40, 50, 60, 40, 50, 60, 40, 50, 60, 40, 50, 60, 40, 50, 60, 40, 50, 60, 40, 50, 60, 40, 50, 60, 40, 50, 60, 40, 50, 60, 40, 50, 60, 40, 50, 60, 40, 50, 60, 40, 50, 60, 40, 50, 60, 40, 50, 60, 40, 50, 60, 40, 50, 60, 40, 50, 60, 40, 50, 60, 40, 50, 60, 40, 50, 60, 40, 50, 60, 40, 50, 60, 40, 50, 60, 40, 50, 60, 40, 50, 60, 40, 50, 60, 40, 50, 60, 40, 50, 60, 40, 50, 60, 40, 50, 60, 40, 50, 60, 40, 50, 60, 40, 50, 60, 40, 50, 60, 40, 50, 60]], [[70, 80, 90, 70, 80, 90, 70, 80, 90, 70, 80, 90, 70, 80, 90, 70, 80, 90, 70, 80, 90, 70, 80, 90, 70, 80, 90, 70, 80, 90], [70, 80, 90, 70, 80, 90, 70, 80, 90, 70, 80, 90, 70, 80, 90, 70, 80, 90, 70, 80, 90, 70, 80, 90, 70, 80, 90, 70, 80, 90, 70, 80, 90, 70, 80, 90, 70, 80, 90, 70, 80, 90, 70, 80, 90, 70, 80, 90, 70, 80, 90, 70, 80, 90, 70, 80, 90, 70, 80, 90], [70, 80, 90, 70, 80, 90, 70, 80, 90, 70, 80, 90, 70, 80, 90, 70, 80, 90, 70, 80, 90, 70, 80, 90, 70, 80, 90, 70, 80, 90, 70, 80, 90, 70, 80, 90, 70, 80, 90, 70, 80, 90, 70, 80, 90, 70, 80, 90, 70, 80, 90, 70, 80, 90, 70, 80, 90, 70, 80, 90, 70, 80, 90, 70, 80, 90, 70, 80, 90, 70, 80, 90, 70, 80, 90, 70, 80, 90, 70, 80, 90, 70, 80, 90, 70, 80, 90, 70, 80, 90]], [[70, 80, 90, 70, 80, 90, 70, 80, 90, 70, 80, 90, 70, 80, 90, 70, 80, 90, 70, 80, 90, 70, 80, 90, 70, 80, 90, 70, 80, 90, 70, 80, 90, 70, 80, 90, 70, 80, 90, 70, 80, 90, 70, 80, 90, 70, 80, 90, 70, 80, 90, 70, 80, 90, 70, 80, 90, 70, 80, 90, 70, 80, 90, 70, 80, 90, 70, 80, 90, 70, 80, 90, 70, 80, 90, 70, 80, 90, 70, 80, 90, 70, 80, 90, 70, 80, 90, 70, 80, 90, 70, 80, 90, 70, 80, 90, 70, 80, 90, 70, 80, 90, 70, 80, 90, 70, 80, 90, 70, 80, 90, 70, 80, 90, 70, 80, 90, 70, 80, 90], [70, 80, 90, 70, 80, 90, 70, 80, 90, 70, 80, 90, 70, 80, 90, 70, 80, 90, 70, 80, 90, 70, 80, 90, 70, 80, 90, 70, 80, 90, 70, 80, 90, 70, 80, 90, 70, 80, 90, 70, 80, 90, 70, 80, 90, 70, 80, 90, 70, 80, 90, 70, 80, 90, 70, 80, 90, 70, 80, 90, 70, 80, 90, 70, 80, 90, 70, 80, 90, 70, 80, 90, 70, 80, 90, 70, 80, 90, 70, 80, 90, 70, 80, 90, 70, 80, 90, 70, 80, 90, 70, 80, 90, 70, 80, 90, 70, 80, 90, 70, 80, 90, 70, 80, 90, 70, 80, 90, 70, 80, 90, 70, 80, 90, 70, 80, 90, 70, 80, 90, 70, 80, 90, 70, 80, 90, 70, 80, 90, 70, 80, 90, 70, 80, 90, 70, 80, 90, 70, 80, 90, 70, 80, 90, 70, 80, 90, 70, 80, 90], [70, 80, 90, 70, 80, 90, 70, 80, 90, 70, 80, 90, 70, 80, 90, 70, 80, 90, 70, 80, 90, 70, 80, 90, 70, 80, 90, 70, 80, 90, 70, 80, 90, 70, 80, 90, 70, 80, 90, 70, 80, 90, 70, 80, 90, 70, 80, 90, 70, 80, 90, 70, 80, 90, 70, 80, 90, 70, 80, 90, 70, 80, 90, 70, 80, 90, 70, 80, 90, 70, 80, 90, 70, 80, 90, 70, 80, 90, 70, 80, 90, 70, 80, 90, 70, 80, 90, 70, 80, 90, 70, 80, 90, 70, 80, 90, 70, 80, 90, 70, 80, 90, 70, 80, 90, 70, 80, 90, 70, 80, 90, 70, 80, 90, 70, 80, 90, 70, 80, 90, 70, 80, 90, 70, 80, 90, 70, 80, 90, 70, 80, 90, 70, 80, 90, 70, 80, 90, 70, 80, 90, 70, 80, 90, 70, 80, 90, 70, 80, 90, 70, 80, 90, 70, 80, 90, 70, 80, 90, 70, 80, 90, 70, 80, 90, 70, 80, 90, 70, 80, 90, 70, 80, 90, 70, 80, 90, 70, 80, 90]], [[70, 80, 90, 70, 80, 90, 70, 80, 90, 70, 80, 90, 70, 80, 90, 70, 80, 90, 70, 80, 90, 70, 80, 90, 70, 80, 90, 70, 80, 90, 70, 80, 90, 70, 80, 90, 70, 80, 90, 70, 80, 90, 70, 80, 90, 70, 80, 90, 70, 80, 90, 70, 80, 90, 70, 80, 90, 70, 80, 90, 70, 80, 90, 70, 80, 90, 70, 80, 90, 70, 80, 90, 70, 80, 90, 70, 80, 90, 70, 80, 90, 70, 80, 90, 70, 80, 90, 70, 80, 90, 70, 80, 90, 70, 80, 90, 70, 80, 90, 70, 80, 90, 70, 80, 90, 70, 80, 90, 70, 80, 90, 70, 80, 90, 70, 80, 90, 70, 80, 90, 70, 80, 90, 70, 80, 90, 70, 80, 90, 70, 80, 90, 70, 80, 90, 70, 80, 90, 70, 80, 90, 70, 80, 90, 70, 80, 90, 70, 80, 90, 70, 80, 90, 70, 80, 90, 70, 80, 90, 70, 80, 90, 70, 80, 90, 70, 80, 90, 70, 80, 90, 70, 80, 90, 70, 80, 90, 70, 80, 90, 70, 80, 90, 70, 80, 90, 70, 80, 90, 70, 80, 90, 70, 80, 90, 70, 80, 90, 70, 80, 90, 70, 80, 90, 70, 80, 90, 70, 80, 90], [70, 80, 90, 70, 80, 90, 70, 80, 90, 70, 80, 90, 70, 80, 90, 70, 80, 90, 70, 80, 90, 70, 80, 90, 70, 80, 90, 70, 80, 90, 70, 80, 90, 70, 80, 90, 70, 80, 90, 70, 80, 90, 70, 80, 90, 70, 80, 90, 70, 80, 90, 70, 80, 90, 70, 80, 90, 70, 80, 90, 70, 80, 90, 70, 80, 90, 70, 80, 90, 70, 80, 90, 70, 80, 90, 70, 80, 90, 70, 80, 90, 70, 80, 90, 70, 80, 90, 70, 80, 90, 70, 80, 90, 70, 80, 90, 70, 80, 90, 70, 80, 90, 70, 80, 90, 70, 80, 90, 70, 80, 90, 70, 80, 90, 70, 80, 90, 70, 80, 90, 70, 80, 90, 70, 80, 90, 70, 80, 90, 70, 80, 90, 70, 80, 90, 70, 80, 90, 70, 80, 90, 70, 80, 90, 70, 80, 90, 70, 80, 90, 70, 80, 90, 70, 80, 90, 70, 80, 90, 70, 80, 90, 70, 80, 90, 70, 80, 90, 70, 80, 90, 70, 80, 90, 70, 80, 90, 70, 80, 90, 70, 80, 90, 70, 80, 90, 70, 80, 90, 70, 80, 90, 70, 80, 90, 70, 80, 90, 70, 80, 90, 70, 80, 90, 70, 80, 90, 70, 80, 90, 70, 80, 90, 70, 80, 90, 70, 80, 90, 70, 80, 90, 70, 80, 90, 70, 80, 90, 70, 80, 90, 70, 80, 90, 70, 80, 90, 70, 80, 90], [70, 80, 90, 70, 80, 90, 70, 80, 90, 70, 80, 90, 70, 80, 90, 70, 80, 90, 70, 80, 90, 70, 80, 90, 70, 80, 90, 70, 80, 90, 70, 80, 90, 70, 80, 90, 70, 80, 90, 70, 80, 90, 70, 80, 90, 70, 80, 90, 70, 80, 90, 70, 80, 90, 70, 80, 90, 70, 80, 90, 70, 80, 90, 70, 80, 90, 70, 80, 90, 70, 80, 90, 70, 80, 90, 70, 80, 90, 70, 80, 90, 70, 80, 90, 70, 80, 90, 70, 80, 90, 70, 80, 90, 70, 80, 90, 70, 80, 90, 70, 80, 90, 70, 80, 90, 70, 80, 90, 70, 80, 90, 70, 80, 90, 70, 80, 90, 70, 80, 90, 70, 80, 90, 70, 80, 90, 70, 80, 90, 70, 80, 90, 70, 80, 90, 70, 80, 90, 70, 80, 90, 70, 80, 90, 70, 80, 90, 70, 80, 90, 70, 80, 90, 70, 80, 90, 70, 80, 90, 70, 80, 90, 70, 80, 90, 70, 80, 90, 70, 80, 90, 70, 80, 90, 70, 80, 90, 70, 80, 90, 70, 80, 90, 70, 80, 90, 70, 80, 90, 70, 80, 90, 70, 80, 90, 70, 80, 90, 70, 80, 90, 70, 80, 90, 70, 80, 90, 70, 80, 90, 70, 80, 90, 70, 80, 90, 70, 80, 90, 70, 80, 90, 70, 80, 90, 70, 80, 90, 70, 80, 90, 70, 80, 90, 70, 80, 90, 70, 80, 90, 70, 80, 90, 70, 80, 90, 70, 80, 90, 70, 80, 90, 70, 80, 90, 70, 80, 90, 70, 80, 90, 70, 80, 90, 70, 80, 90, 70, 80, 90]]]\n"
          ]
        }
      ]
    },
    {
      "cell_type": "code",
      "source": [
        "# 2D array\n",
        "ndim2array = [[10, 20, 30], [40, 50, 60], [70, 80, 90]]\n",
        "\n",
        "# Iterate over rows and columns of the 2D array and print the product of corresponding elements\n",
        "for row in ndim2array:\n",
        "    for element in row:\n",
        "        print(element, end=\" \")\n",
        "    print()\n",
        "\n",
        "# Print the original 2D array and its type\n",
        "print(ndim2array)\n",
        "print(type(ndim2array))\n"
      ],
      "metadata": {
        "id": "RFd7wKFlQfaI",
        "colab": {
          "base_uri": "https://localhost:8080/"
        },
        "outputId": "859516a1-11f3-418b-a96f-0f591bc5f40a"
      },
      "execution_count": 74,
      "outputs": [
        {
          "output_type": "stream",
          "name": "stdout",
          "text": [
            "10 20 30 \n",
            "40 50 60 \n",
            "70 80 90 \n",
            "[[10, 20, 30], [40, 50, 60], [70, 80, 90]]\n",
            "<class 'list'>\n"
          ]
        }
      ]
    },
    {
      "cell_type": "markdown",
      "source": [
        "**Dictionary Comprehension**"
      ],
      "metadata": {
        "id": "1jnk6q7SQgSM"
      }
    },
    {
      "cell_type": "code",
      "source": [
        "# Regular\n",
        "\n",
        "for i in range(10):\n",
        "  print(f\"{i}: Item{i}\")\n",
        "\n",
        "print(type(i))\n"
      ],
      "metadata": {
        "colab": {
          "base_uri": "https://localhost:8080/"
        },
        "id": "ujX4goNTTa7n",
        "outputId": "e7d836f1-2701-4340-9bd6-8a07eaa6bb3a"
      },
      "execution_count": 75,
      "outputs": [
        {
          "output_type": "stream",
          "name": "stdout",
          "text": [
            "0: Item0\n",
            "1: Item1\n",
            "2: Item2\n",
            "3: Item3\n",
            "4: Item4\n",
            "5: Item5\n",
            "6: Item6\n",
            "7: Item7\n",
            "8: Item8\n",
            "9: Item9\n",
            "<class 'int'>\n"
          ]
        }
      ]
    },
    {
      "cell_type": "code",
      "source": [
        "dictCompre = {i : f\"Item{i}\" for i in range(10)}\n",
        "dictCompre"
      ],
      "metadata": {
        "colab": {
          "base_uri": "https://localhost:8080/"
        },
        "id": "4C_GIZfGTAIL",
        "outputId": "ce81afb2-e7e8-4250-9989-f84b65eff900"
      },
      "execution_count": 76,
      "outputs": [
        {
          "output_type": "execute_result",
          "data": {
            "text/plain": [
              "{0: 'Item0',\n",
              " 1: 'Item1',\n",
              " 2: 'Item2',\n",
              " 3: 'Item3',\n",
              " 4: 'Item4',\n",
              " 5: 'Item5',\n",
              " 6: 'Item6',\n",
              " 7: 'Item7',\n",
              " 8: 'Item8',\n",
              " 9: 'Item9'}"
            ]
          },
          "metadata": {},
          "execution_count": 76
        }
      ]
    },
    {
      "cell_type": "markdown",
      "source": [
        "**Set Comprehension**"
      ],
      "metadata": {
        "id": "8blxyQ-WUwtW"
      }
    },
    {
      "cell_type": "code",
      "source": [
        "# Set Comprehension Implementastion\n",
        "\n",
        "#set_values = {'apple', 'ball', 'pineapple', 'apple', 'banana', 'banana'}\n",
        "dict_values = ['apple', 'ball', 'pineapple', 'apple', 'banana', 'banana']\n",
        "\n",
        "\n",
        "unique_stuffs = {i for i in dict_values}\n",
        "print(unique_stuffs)\n",
        "print(type(unique_stuffs))\n",
        "\n",
        "print()\n",
        "print('-Comparing to Dictionary Comprehension-')\n",
        "print()\n",
        "\n",
        "non_unique_stuffs = [i for i in dict_values]\n",
        "print(non_unique_stuffs)\n",
        "print(type(non_unique_stuffs))\n"
      ],
      "metadata": {
        "colab": {
          "base_uri": "https://localhost:8080/"
        },
        "id": "1pTE_t1bUyU0",
        "outputId": "03a1c324-4e8b-460a-f5ba-20aded1ec332"
      },
      "execution_count": 77,
      "outputs": [
        {
          "output_type": "stream",
          "name": "stdout",
          "text": [
            "{'banana', 'ball', 'pineapple', 'apple'}\n",
            "<class 'set'>\n",
            "\n",
            "-Comparing to Dictionary Comprehension-\n",
            "\n",
            "['apple', 'ball', 'pineapple', 'apple', 'banana', 'banana']\n",
            "<class 'list'>\n"
          ]
        }
      ]
    },
    {
      "cell_type": "code",
      "source": [
        "# Regular Implementation\n",
        "\n",
        "#set_values = {'apple', 'ball', 'pineapple', 'apple', 'banana', 'banana'}\n",
        "dict_values = ['apple', 'ball', 'pineapple', 'apple', 'banana', 'banana']\n",
        "\n",
        "unique_stuffs = set()\n",
        "\n",
        "for i in dict_values:\n",
        "  unique_stuffs.add(i)\n",
        "\n",
        "print(unique_stuffs)\n",
        "print(type(unique_stuffs))"
      ],
      "metadata": {
        "colab": {
          "base_uri": "https://localhost:8080/"
        },
        "id": "9ocWLbnhUyYe",
        "outputId": "5772adf5-9627-4cfa-8f2e-1f5d8d17bddc"
      },
      "execution_count": 78,
      "outputs": [
        {
          "output_type": "stream",
          "name": "stdout",
          "text": [
            "{'banana', 'ball', 'pineapple', 'apple'}\n",
            "<class 'set'>\n"
          ]
        }
      ]
    },
    {
      "cell_type": "markdown",
      "source": [
        "**In-Class Assignment**"
      ],
      "metadata": {
        "id": "iNARUgkh29-3"
      }
    },
    {
      "cell_type": "code",
      "source": [
        "# List Comprehensions\n",
        "\n",
        "# Task: Print length of each word in a sentence\n",
        "\n",
        "sentence = \"This is a data science course in Takeo\"\n",
        "\n",
        "# Regular Implementation:\n",
        "\n",
        "for i in sentence.split():\n",
        "  print(len(i) , end = ' ')\n",
        "\n",
        "# List comprehension Method\n",
        "\n",
        "length = [len(i) for i in sentence.split()]\n",
        "print(\"\\nThe length for each word is \", length)\n",
        "print(type(length))\n"
      ],
      "metadata": {
        "colab": {
          "base_uri": "https://localhost:8080/"
        },
        "id": "Wpuga2ux3Awl",
        "outputId": "061bfc8c-375f-40f3-a8be-d10842933a05"
      },
      "execution_count": 79,
      "outputs": [
        {
          "output_type": "stream",
          "name": "stdout",
          "text": [
            "4 2 1 4 7 6 2 5 \n",
            "The length for each word is  [4, 2, 1, 4, 7, 6, 2, 5]\n",
            "<class 'list'>\n"
          ]
        }
      ]
    },
    {
      "cell_type": "code",
      "source": [
        "sentence = \"first second third\"\n",
        "word1 = sentence.split()\n",
        "print(word1)\n",
        "type(word1)\n"
      ],
      "metadata": {
        "colab": {
          "base_uri": "https://localhost:8080/"
        },
        "id": "YnSKMkEwHRWY",
        "outputId": "a902cefe-b87f-4f93-b4bf-516b68a3d67f"
      },
      "execution_count": 80,
      "outputs": [
        {
          "output_type": "stream",
          "name": "stdout",
          "text": [
            "['first', 'second', 'third']\n"
          ]
        },
        {
          "output_type": "execute_result",
          "data": {
            "text/plain": [
              "list"
            ]
          },
          "metadata": {},
          "execution_count": 80
        }
      ]
    },
    {
      "cell_type": "code",
      "source": [
        "# Dictionary Comprehension\n",
        "# Task: Split each word in the string sentence and put them in a dictionary by: key: value -> word -> length of word\n",
        "\n",
        "sentence2 = \"This is a data science course in Takeo\"\n",
        "\n",
        "word_length_regular = {}\n",
        "\n",
        "# Regular Implementation:\n",
        "\n",
        "for word in sentence2.split():\n",
        "  word_length_regular[word] = len(word)\n",
        "\n",
        "print(\"Regular Method: \",word_length_regular)\n",
        "\n",
        "# Dictionary Comprehension Method:\n",
        "\n",
        "word_length_comp = {word:len(word) for word in sentence2.split()}\n",
        "print(\"Comprehension Method: \",word_length_comp)\n",
        "print(type(word_length_comp))\n"
      ],
      "metadata": {
        "colab": {
          "base_uri": "https://localhost:8080/"
        },
        "id": "vrPLzpFW6Vst",
        "outputId": "a1cda8b3-eb56-4049-9a42-bcf80e25283f"
      },
      "execution_count": 81,
      "outputs": [
        {
          "output_type": "stream",
          "name": "stdout",
          "text": [
            "Regular Method:  {'This': 4, 'is': 2, 'a': 1, 'data': 4, 'science': 7, 'course': 6, 'in': 2, 'Takeo': 5}\n",
            "Comprehension Method:  {'This': 4, 'is': 2, 'a': 1, 'data': 4, 'science': 7, 'course': 6, 'in': 2, 'Takeo': 5}\n",
            "<class 'dict'>\n"
          ]
        }
      ]
    },
    {
      "cell_type": "code",
      "source": [
        "# Set Comprehension\n",
        "\n",
        "# Regular implementation:\n",
        "\n",
        "# Two list:\n",
        "\n",
        "num_divisible_by5 = [5,10,15,20,25,30]\n",
        "my_favourite_numbers = [3,4,7,8, 15, 30, 25]\n",
        "\n",
        "union_set = set()   # Empty set\n",
        "list_union = []\n",
        "\n",
        "for num1 in num_divisible_by5:\n",
        "  union_set.add(num1)\n",
        "  list_union.append(num1)\n",
        "\n",
        "for num2 in my_favourite_numbers:\n",
        "  union_set.add(num2)\n",
        "  list_union.append(num2)\n",
        "\n",
        "print(\"List: \", list_union)\n",
        "\n",
        "\n",
        "print(\"Regular Implement:\", union_set)\n",
        "\n",
        "# Set Comprehension Method:\n",
        "\n",
        "union_set2 = {numa for numa in num_divisible_by5}.union({numb for numb in my_favourite_numbers})\n",
        "\n",
        "print('Union Method:', union_set2)\n",
        "print(type(union_set2))\n"
      ],
      "metadata": {
        "colab": {
          "base_uri": "https://localhost:8080/"
        },
        "id": "RP4AQOf072HZ",
        "outputId": "221d47d5-a162-4ff9-f70b-83135253c3af"
      },
      "execution_count": 82,
      "outputs": [
        {
          "output_type": "stream",
          "name": "stdout",
          "text": [
            "List:  [5, 10, 15, 20, 25, 30, 3, 4, 7, 8, 15, 30, 25]\n",
            "Regular Implement: {3, 4, 5, 7, 8, 10, 15, 20, 25, 30}\n",
            "Union Method: {3, 4, 5, 7, 8, 10, 15, 20, 25, 30}\n",
            "<class 'set'>\n"
          ]
        }
      ]
    },
    {
      "cell_type": "code",
      "source": [
        "# List Comprehension vs Generator Comprehensions\n",
        "\n",
        "# List\n",
        "numbers = [i for i in range(100)]\n",
        "print(numbers)"
      ],
      "metadata": {
        "colab": {
          "base_uri": "https://localhost:8080/"
        },
        "id": "UhnrSJX9A5nU",
        "outputId": "d6d4967b-c3bf-4207-cb53-05b32c38ae93"
      },
      "execution_count": 83,
      "outputs": [
        {
          "output_type": "stream",
          "name": "stdout",
          "text": [
            "[0, 1, 2, 3, 4, 5, 6, 7, 8, 9, 10, 11, 12, 13, 14, 15, 16, 17, 18, 19, 20, 21, 22, 23, 24, 25, 26, 27, 28, 29, 30, 31, 32, 33, 34, 35, 36, 37, 38, 39, 40, 41, 42, 43, 44, 45, 46, 47, 48, 49, 50, 51, 52, 53, 54, 55, 56, 57, 58, 59, 60, 61, 62, 63, 64, 65, 66, 67, 68, 69, 70, 71, 72, 73, 74, 75, 76, 77, 78, 79, 80, 81, 82, 83, 84, 85, 86, 87, 88, 89, 90, 91, 92, 93, 94, 95, 96, 97, 98, 99]\n"
          ]
        }
      ]
    },
    {
      "cell_type": "code",
      "source": [
        "# Generator: Does not store data in memory, making it memory-efficient\n",
        "from timeit import timeit\n",
        "\n",
        "# Creating a generator comprehension for numbers from 0 to 99\n",
        "gen_comp = (i for i in range(100))\n",
        "print(type(gen_comp))  # Confirms the type as <class 'generator'>\n",
        "\n",
        "# Measuring execution time for list comprehension (faster but memory-intensive)\n",
        "list_comp_time = timeit(\"[i for i in range(100)]\")\n",
        "print(\"Time for List Comprehension:\", list_comp_time)\n",
        "\n",
        "# Measuring execution time for generator comprehension (slower but memory-efficient)\n",
        "gen_comp_time = timeit(\"[(i for i in range(100))]\")\n",
        "print(\"Time for Generator Comprehension:\", gen_comp_time)\n"
      ],
      "metadata": {
        "colab": {
          "base_uri": "https://localhost:8080/"
        },
        "id": "5aslRnG0BwUU",
        "outputId": "ae59e548-f69c-4e56-a26f-ab4c795da96b"
      },
      "execution_count": 90,
      "outputs": [
        {
          "output_type": "stream",
          "name": "stdout",
          "text": [
            "<class 'generator'>\n",
            "4.693191003999999\n",
            "0.7018502660000081\n"
          ]
        }
      ]
    },
    {
      "cell_type": "markdown",
      "source": [
        "The results:\n",
        "- Time for List Comprehension: 4.693191003999999\n",
        "- Time for Generator Comprehension: 0.7018502660000081\n",
        "\n",
        "These results illustrate the performance difference between list comprehensions (faster but memory-intensive) and generator comprehensions (slower but memory-efficient). Generator comprehensions are valuable when working with large datasets that don't fit entirely in memory, optimizing memory usage and processing speed."
      ],
      "metadata": {
        "id": "z_LWiJg9zWVH"
      }
    }
  ]
}