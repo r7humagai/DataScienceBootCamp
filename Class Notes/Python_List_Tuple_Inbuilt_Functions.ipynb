{
  "nbformat": 4,
  "nbformat_minor": 0,
  "metadata": {
    "colab": {
      "provenance": []
    },
    "kernelspec": {
      "name": "python3",
      "display_name": "Python 3"
    },
    "language_info": {
      "name": "python"
    }
  },
  "cells": [
    {
      "cell_type": "markdown",
      "source": [
        "# List Inbuilt Functions"
      ],
      "metadata": {
        "id": "v3_HkNRIvCBw"
      }
    },
    {
      "cell_type": "code",
      "source": [
        "dir(list)"
      ],
      "metadata": {
        "id": "s3nGpFS3kSkF"
      },
      "execution_count": null,
      "outputs": []
    },
    {
      "cell_type": "code",
      "source": [
        "# List Function: append()\n",
        "#. Appends an element to the end of the list.\n",
        "\n",
        "car_brands = ['Nissan' , 'Honda' , 'Fiat', 'Toyota']\n",
        "print('Original List: ', car_brands)\n",
        "car_brands.append('Volkswagon')\n",
        "print('After append: ', car_brands)   #Volkswagon is added to the list after append()."
      ],
      "metadata": {
        "id": "wqiynT9ylgtg"
      },
      "execution_count": null,
      "outputs": []
    },
    {
      "cell_type": "code",
      "source": [
        "# List Function: clear()\n",
        "#. Removes all the elements from the list.\n",
        "\n",
        "car_brands = ['Nissan' , 'Honda' , 'Fiat', 'Toyota']\n",
        "print('Original List: ', car_brands)\n",
        "car_brands.clear()\n",
        "print('After clear : ', car_brands) #. The list is empty"
      ],
      "metadata": {
        "id": "Gj6J81nYmU9u"
      },
      "execution_count": null,
      "outputs": []
    },
    {
      "cell_type": "code",
      "source": [
        "# List Function: copy()\n",
        "#. Returns a copy of the specified list, or can be used when needing to copy the whole list\n",
        "\n",
        "car_brands = ['Nissan' , 'Honda' , 'Fiat', 'Toyota']\n",
        "copy_car_brands = car_brands.copy()\n",
        "print(\"Copy Car Brands: \", copy_car_brands)   #.copy_car_brands[] is the exact replica of original list"
      ],
      "metadata": {
        "id": "hy5zoqokmqbA"
      },
      "execution_count": null,
      "outputs": []
    },
    {
      "cell_type": "code",
      "source": [
        "# List Function: count()\n",
        "#. Returns the number of occurence of specified elements in the list.\n",
        "\n",
        "student_origin = ['Nepal' , 'India', 'USA', 'Nepal', 'Bangladesh', 'Pakistan', 'USA', 'Nepal', 'Nepal']\n",
        "\n",
        "nepali_students = student_origin.count('Nepal')     # 4 : 4 elements in the list are 'Nepal'\n",
        "print(\"Nepali Students: \", nepali_students, \" Type:\", type(nepali_students))\n",
        "\n",
        "usa_students = student_origin.count('USA')\n",
        "print(\"USA Students: \", usa_students)\n",
        "\n",
        "bangladesh_students = student_origin.count('Bangladesh')\n",
        "print(\"Bangladeshi Students: \", bangladesh_students)"
      ],
      "metadata": {
        "id": "mzZ5TXQ3nKoe"
      },
      "execution_count": null,
      "outputs": []
    },
    {
      "cell_type": "code",
      "source": [
        "# List Function: extend()\n",
        "#. adds the specified list elements(or any other iterable) to the end of the current list\n",
        "\n",
        "DS_Students = ['Nepal' , 'USA' , 'China', 'Russia']\n",
        "FrontEnd_Students = ['Germany', 'Poland']\n",
        "\n",
        "DS_Students.extend(FrontEnd_Students)   #. Adds the elements of FrontEnd_Students to DS_Students\n",
        "\n",
        "print(\"DS Students\" , DS_Students)"
      ],
      "metadata": {
        "id": "XQYqQ_UAoW_f"
      },
      "execution_count": null,
      "outputs": []
    },
    {
      "cell_type": "code",
      "source": [
        "# List Function: index()\n",
        "#. returns the position at the first occurence of the specified value.\n",
        "\n",
        "std_origin = ['Nepal' , 'India', 'USA', 'Nepal', 'Bangladesh', 'Pakistan', 'USA', 'Nepal', 'Nepal']\n",
        "\n",
        "where_is_nepal = std_origin.index('Nepal')\n",
        "print(\"Nepal index: \", where_is_nepal)\n",
        "\n",
        "where_is_bangladesh = std_origin.index('Bangladesh')\n",
        "print(\"Bangladesh index: \", where_is_bangladesh)\n",
        "\n",
        "# Note. only the first occurence"
      ],
      "metadata": {
        "id": "t076vBPto_VW"
      },
      "execution_count": null,
      "outputs": []
    },
    {
      "cell_type": "code",
      "source": [
        "# List Function: insert()\n",
        "#. inserts the specified value at the specified position(index)\n",
        "\n",
        "std_origin = ['Nepal' , 'India', 'USA', 'Nepal', 'Bangladesh', 'Pakistan', 'USA', 'Nepal', 'Nepal']\n",
        "std_origin.insert(2, \"China\")\n",
        "print(\"Student Origin Countries: \", std_origin)   #. China is added to index number 2"
      ],
      "metadata": {
        "id": "bXRPB0q3p0IP"
      },
      "execution_count": null,
      "outputs": []
    },
    {
      "cell_type": "code",
      "source": [
        "# List Function: pop()\n",
        "#. removes the element at the specified position. By default, removes the last positoned element\n",
        "\n",
        "std_origin = ['Nepal' , 'India', 'USA', 'Nepal', 'Bangladesh', 'Pakistan', 'USA', 'Nepal']\n",
        "\n",
        "std_origin.pop(1)   #. 'India' in index(1) is removed\n",
        "print(\"Student List:\", std_origin)"
      ],
      "metadata": {
        "id": "6GtpdW5UqRFD"
      },
      "execution_count": null,
      "outputs": []
    },
    {
      "cell_type": "code",
      "source": [
        "# List Function: remove()\n",
        "#. removes the first occurrence of the element with the specified value.\n",
        "\n",
        "std_origin = ['Nepal' , 'India', 'USA', 'Nepal', 'Bangladesh', 'Pakistan', 'USA', 'Nepal']\n",
        "\n",
        "std_origin.remove('Nepal')      #. Index0, 'Nepal' has been removed\n",
        "print(\"Student List:\", std_origin)"
      ],
      "metadata": {
        "id": "IxpRD6Z_q48J"
      },
      "execution_count": null,
      "outputs": []
    },
    {
      "cell_type": "code",
      "source": [
        "# List Function: reverse()\n",
        "#. Reverses the sorting order of the elements.\n",
        "\n",
        "std_origin = ['Nepal' , 'India', 'USA', 'Nepal', 'Bangladesh', 'Pakistan', 'USA']\n",
        "print (\"Original List: \", std_origin)\n",
        "std_origin.reverse()\n",
        "print(\"Reversed List: \", std_origin)    #. USA should be on index 0.\n"
      ],
      "metadata": {
        "id": "jFVnJKfSrOif"
      },
      "execution_count": null,
      "outputs": []
    },
    {
      "cell_type": "code",
      "source": [
        "# List Function: sort()\n",
        "#. Sorts the list ascending by default, also can be used with a function to decide sorting criteria.\n",
        "\n",
        "std_origin = ['Nepal' , 'India', 'USA', 'Nepal', 'Bangladesh', 'Pakistan', 'USA']\n",
        "std_origin.sort()\n",
        "print(\"Sorted List: \", std_origin)\n"
      ],
      "metadata": {
        "id": "aeczS1YUrmju"
      },
      "execution_count": null,
      "outputs": []
    },
    {
      "cell_type": "markdown",
      "source": [
        "# Tuple Inbuilt Functions"
      ],
      "metadata": {
        "id": "O6TpU8PktXeE"
      }
    },
    {
      "cell_type": "code",
      "source": [
        "dir(tuple)"
      ],
      "metadata": {
        "id": "3Nfa9p7bkU2A"
      },
      "execution_count": null,
      "outputs": []
    },
    {
      "cell_type": "code",
      "source": [
        "# Tuple Function: count()\n",
        "#. Returns the number of times the specified value appears in the tuple\n",
        "\n",
        "random_tuple = (5,6,7,45,58,96,12,5,6)\n",
        "counter = random_tuple.count(5)\n",
        "\n",
        "print(\"Occurrence of '5': \", counter)"
      ],
      "metadata": {
        "id": "0uZxPfeYtn5O"
      },
      "execution_count": null,
      "outputs": []
    },
    {
      "cell_type": "code",
      "source": [
        "# Tuple Function: index()\n",
        "#. Searches for the first occurrence of the specified value and returns its position.\n",
        "\n",
        "random_tuple = (5,6,7,45,58,96,12,5,6)\n",
        "counter = random_tuple.index(7)\n",
        "\n",
        "print(\"'7' appears in index: \",counter)"
      ],
      "metadata": {
        "id": "UIcXUL5UuFn6"
      },
      "execution_count": null,
      "outputs": []
    }
  ]
}