{
  "cells": [
    {
      "cell_type": "markdown",
      "source": [
        "Case Study: Employee Master Class\n",
        "\n",
        "---\n",
        "Employee Class:\n",
        "\n",
        "1.   Employee Class\n",
        "\n",
        "     *Attributes: *\n",
        "  *   employeeID: unique identifier for each employee\n",
        "  *   employeeName: First and Last Name the employee\n",
        "  *   salary: Salary of the employee\n",
        "  *   jobPosition: Job Position of the employee\n",
        "  *   employeeAge: Age of the employee\n",
        "\n",
        "2.   Employment_Management_System Class\n",
        "\n",
        "     *Attributes: *\n",
        "  *  empl_list : stores Employee Objects, represents Employee databasse.\n",
        "     *Methods: *\n",
        "  *  add_employee(employee): adds a new Employee\n",
        "  *  delete_employee_byID(employee): deletes an employee, uses employeeID to search\n",
        "  *  delete_employee_byName(employeeName): deletes an employee, uses employeeName to search, if two employees have same first and last name, prints the name and lets the user choose by ID.\n",
        "  *  update_name(oldEmployee, new Employee): update the Employee name, searches by name\n",
        "  *  update_name_by_id(employeeID, updated_salary) : Updates the empployee's salary, searches employee by employeeID\n",
        "  *  update_jobPosition(employeeID, employeeAge): Updates the employee's Age, searches by their ID\n",
        "  *  get_details_id(employeeID): Retrieves employee details, searches by employeeID\n",
        "  *  get_details_by_name(employeeName): Retrieves employee details, searches by employeeName\n",
        "  *  display(): Displays employee details on the console\n",
        "  *  writetotxt(): Creates a text file and stores employee details\n",
        "\n",
        "-----"
      ],
      "metadata": {
        "id": "962P0XS_b5y7"
      }
    },
    {
      "cell_type": "code",
      "source": [
        "'''Required Functions:'''\n",
        "# add employeeid :\n",
        "# Add employee name\n",
        "# Delete Employee\n",
        "# Update Name\n",
        "# Update Salary\n",
        "# Update Job Position\n",
        "# delete by name\n",
        "# get details by id\n",
        "# get details by name"
      ],
      "metadata": {
        "id": "WjgGhrSpmJsr"
      },
      "execution_count": null,
      "outputs": []
    },
    {
      "cell_type": "code",
      "execution_count": null,
      "metadata": {
        "id": "YDWtE5WJXq2P"
      },
      "outputs": [],
      "source": [
        "# Employee Master Class\n",
        "\n",
        "class Employee:\n",
        "  update_employee_id = 1\n",
        "\n",
        "  def __init__(self, employeeName, salary, jobPosition, employeeAge):\n",
        "\n",
        "    self.employeeID = Employee.update_employee_id\n",
        "    Employee.update_employee_id += 1\n",
        "\n",
        "    self.employeeName = employeeName\n",
        "    self.salary = salary\n",
        "    self.jobPosition = jobPosition\n",
        "\n",
        "    self.employeeAge = employeeAge\n",
        "\n",
        "class Employement_Management_System:\n",
        "\n",
        "  def __init__(self):\n",
        "    self.empl_list = []\n",
        "\n",
        "  def add_employee(self, employee):\n",
        "    self.empl_list.append(employee)\n",
        "    return f\"Added {employee.employeeName}\\n\"\n",
        "\n",
        "  def delete_employee_byID(self, employeeID):\n",
        "    for employee in self.empl_list:\n",
        "      if employee.employeeID == employeeID:   # Changed to delete employee by employeeID from employeeName\n",
        "        self.empl_list.remove(employee)           # Changed to remove the whole object of specified employee\n",
        "        return f\"Deleted employee with ID {employeeID}\"\n",
        "    return \"Employee Not Found!\"\n",
        "\n",
        "  def delete_employee_byName(self, employeeName):\n",
        "    matching_employees = []\n",
        "    for employee in self.empl_list:\n",
        "        if employee.employeeName == employeeName:\n",
        "            matching_employees.append(employee)\n",
        "\n",
        "    if not matching_employees:\n",
        "        return False\n",
        "\n",
        "    print(\"Employees with the same name:\")\n",
        "    index = 0  # Initialize an index variable\n",
        "    for emp in matching_employees:\n",
        "        print(f\"ID {emp.employeeID}: {emp.employeeName}\")\n",
        "        index += 1\n",
        "\n",
        "    id_to_remove = int(input(\"Enter the ID of the employee you want to remove: \"))\n",
        "    for i in range(index):  # Use the index to iterate through matching employees\n",
        "        employee = matching_employees[i]\n",
        "        if employee.employeeID == id_to_remove:\n",
        "            self.empl_list.remove(employee)\n",
        "            return True\n",
        "    return False\n",
        "\n",
        "\n",
        "  def update_name(self, oldEmployeeName, newEmployeeName):\n",
        "    for employee in self.empl_list:\n",
        "        if employee.employeeName == oldEmployeeName:\n",
        "            employee.employeeName = newEmployeeName\n",
        "            return f\"Name Updated for {newEmployeeName} by name.\\n\"\n",
        "    return \"Not Found! Update Name by Name not found!\"\n",
        "\n",
        "  def update_name_by_id(self, employeeID, newEmployeeName):   # This method changes the employeename by ID\n",
        "    for employee in self.empl_list:\n",
        "      if employee.employeeID == employeeID:\n",
        "        employee.employeeName = newEmployeeName\n",
        "        return f\"Name Updated for {newEmployeeName} by ID.\\n\"\n",
        "    return \"Not Found! Update Name by ID Not found!\"\n",
        "\n",
        "\n",
        "  def update_salary(self,employeeID, updated_salary):\n",
        "    for employee in self.empl_list:\n",
        "      if employee.employeeID == employeeID:             # Changed to update employeeSalary from employeeID\n",
        "        employee.salary = updated_salary\n",
        "        return f\"Updated Salary\"\n",
        "    return \"Not Found: Update Salary Not Performed!\"\n",
        "\n",
        "  def update_jobPosition(self,employeeID, newJobPosition):\n",
        "    for employee in self.empl_list:\n",
        "      if employee.employeeID == employeeID:         # Changed to update Job Position by employeeID\n",
        "          employee.jobPosition = newJobPosition\n",
        "          return f\"Updated Job Position\"\n",
        "    return \"Not found! Update Job Position not Performed!\"\n",
        "\n",
        "  def update_employee_age(self, employeeID, employeeAge):\n",
        "    for employee in self.empl_list:\n",
        "      if employee.employeeID == employeeID:\n",
        "        employee.employeeAge = employeeAge\n",
        "        return \"Updated Age!\"\n",
        "    return \"Not Found! Update Age could not be Performed!\"\n",
        "\n",
        "\n",
        "  def get_details_by_id(self, employeeID):\n",
        "    for employee in self.empl_list:\n",
        "      if employee.employeeID == employeeID:\n",
        "        return f\"Employee ID: {employee.employeeID}, Name: {employee.employeeName}, Salary: {employee.salary}, Position: {employee.jobPosition}, Age: {employee.employeeAge}\"\n",
        "\n",
        "  def get_details_by_name(self, employeeName):\n",
        "    for employee in self.empl_list:\n",
        "      if employee.employeeName == employeeName:\n",
        "        return f\"Employee ID: {employee.employeeID}, Name: {employee.employeeName}, Salary: {employee.salary}, Position: {employee.jobPosition}, Age: {employee.employeeAge}\"\n",
        "\n",
        "  def display(self):\n",
        "    for employee in self.empl_list:\n",
        "      print(f\"Employee ID: {employee.employeeID}\")\n",
        "      print(f\"Name: {employee.employeeName}\")\n",
        "      print(f\"Salary: {employee.salary}\")\n",
        "      print(f\"Job Position: {employee.jobPosition}\")\n",
        "      print(f\"Age: {employee.employeeAge}\")\n",
        "      print(\"------\")\n",
        "\n",
        "  # New Addition: Print to text file method (09/10)\n",
        "  def writetotxt(self):\n",
        "    with open(\"emp_detailsin_txt.txt\", \"w\") as ftxt:\n",
        "      for employee in self.empl_list:\n",
        "        ftxt.write(f\"Employee ID: {employee.employeeID}\\n\")\n",
        "        ftxt.write(f\"Name: {employee.employeeName}\\n\")\n",
        "        ftxt.write(f\"Salary: {employee.salary}\\n\")\n",
        "        ftxt.write(f\"Job Position: {employee.jobPosition}\\n\")\n",
        "        ftxt.write(f\"Age: {employee.employeeAge}\\n\")\n",
        "        ftxt.write(\"------\\n\")\n",
        "\n",
        "    print(\"Employee details have been saved to 'empl_detailsin_txt.txt'.\")\n",
        "\n",
        "  # New Addition: CSV File Save and Load(09/11)\n",
        "\n",
        "  def writetocsv(self):\n",
        "    with open(\"emp_detailsin_csv.csv\", \"w\") as fcsv:\n",
        "      for employee in self.empl_list:\n",
        "        fcsv.write([employee.employeeID, employee.employeeName, employee.salary, employee.jobPosition, employee.employeeAge])\n",
        "\n",
        "    print(\"Saved to emp_detailsin_csv.csv\")\n",
        "\n",
        "  def readfromcsv(self, filename):\n",
        "    try:\n",
        "      with open(\"emp_detailsin_csv.csv\",\"r\") as fcsv:\n",
        "        lines = fcsv.readlines()\n",
        "\n",
        "        for i in lines:\n",
        "          individual_data = i.strip().split(',')\n",
        "          if(len(individual_data)) == 5:\n",
        "            employeeID, employeeName, salary, jobPosition, employeeAge = individual_data\n",
        "\n",
        "            # Creating a object again\n",
        "            csvEmployee = Employee(employeeName, salary, jobPosition, employeeAge)\n",
        "\n",
        "            csvEmployee.employeeID = int(employeeID)        # Changed: employeeID is converted to int\n",
        "            self.empl_list.append(csvEmployee)             # Append the information from csv file to the list empl_list\n",
        "\n",
        "        print(\"Successfully loaded!\")\n",
        "    except FileNotFoundError:\n",
        "      print(\"File Not found!\")\n"
      ]
    },
    {
      "cell_type": "markdown",
      "source": [
        "      (Case Scenario)\n",
        "      # Presentation Testing:\n",
        "      #. Anurag - 50000 - Data Scientist - 35\n",
        "      #. Rohit Sharma - 45000 - Sofware Engineer - 30\n",
        "      #. Nirusha Maharjan - 40000 - Learning Catalyst - 21\n",
        "      #. Rohit Sharma - 42000 - Java Developer - 32\n",
        "      #. Narendra Modi - 70000 - Prime Minister - 65\n",
        "      #. Joe Biden - 100000 - President - 70\n",
        "      #. Mark Zuckerberg - 90000 - CEO Facebook - 45\n",
        "\n",
        "      (Test Implementations)\n",
        "      1. Add the above employees to the database\n",
        "      2. Delete Mark Zuckerberg by ID(7)\n",
        "      3. Delete Joe Biden by Name\n",
        "      4. Update Anurag name to Anurag Arun(Search Name Method)\n",
        "      5. Delete Rohit Sharma(Java Developer) (ID: 4 /Not ID:2)\n",
        "      6. Update Narendra Modi Salary to 80000 (ID: 5)\n",
        "      7. Update Anurag Arun Job Position to Senior Data Scientist\n",
        "      8.Update Nirusha Maharjan Age to 22 (ID:3)\n",
        "      9. Display All employees\n",
        "      10. Exit the program"
      ],
      "metadata": {
        "id": "k6DQLv2d1OYJ"
      }
    },
    {
      "cell_type": "markdown",
      "source": [
        "          Test Instance: Employee object is hard coded to skip add employees"
      ],
      "metadata": {
        "id": "R8XvjW99IXw-"
      }
    },
    {
      "cell_type": "code",
      "execution_count": null,
      "metadata": {
        "id": "Swb2rpshXq2S",
        "colab": {
          "base_uri": "https://localhost:8080/",
          "height": 35
        },
        "outputId": "2ad4910d-3341-47cd-ba68-6eddbcf778aa"
      },
      "outputs": [
        {
          "output_type": "execute_result",
          "data": {
            "text/plain": [
              "'Added Mark Zuckerberg\\n'"
            ],
            "application/vnd.google.colaboratory.intrinsic+json": {
              "type": "string"
            }
          },
          "metadata": {},
          "execution_count": 13
        }
      ],
      "source": [
        "#Test Instance:\n",
        "objMain = Employement_Management_System()\n",
        "\n",
        "employeeadd = Employee(\"Anurag\", 50000, \"Data Scientist\", 30)\n",
        "result = objMain.add_employee(employeeadd)\n",
        "\n",
        "employeeadd = Employee(\"Rohit Sharma\", 45000, \"Softwre Engineer\", 28)\n",
        "objMain.add_employee(employeeadd)\n",
        "\n",
        "employeeadd = Employee(\"Nirusha Maharjan\", 40000, \"Learning Catalyst\", 21)\n",
        "objMain.add_employee(employeeadd)\n",
        "\n",
        "employeeadd = Employee(\"Rohit Sharma\", 42000, \"Java Developer\", 32)\n",
        "objMain.add_employee(employeeadd)\n",
        "\n",
        "employeeadd = Employee(\"Narendra Modi\", 70000, \"Prime Minister\", 65)\n",
        "objMain.add_employee(employeeadd)\n",
        "\n",
        "employeeadd = Employee(\"Joe Biden\", 100000, \"President\", 70)\n",
        "objMain.add_employee(employeeadd)\n",
        "\n",
        "employeeadd = Employee(\"Mark Zuckerberg\", 90000, \"CEO Facebook\", 45)\n",
        "objMain.add_employee(employeeadd)\n"
      ]
    },
    {
      "cell_type": "code",
      "execution_count": null,
      "metadata": {
        "id": "Ftedga32Xq2T"
      },
      "outputs": [],
      "source": [
        "# Menu- Driven Presentation Interface\n",
        "#objMain = Employement_Management_System()\n",
        "\n",
        "while True:\n",
        "    print(\"Please choose an option: \")\n",
        "    print(\"1. Add Employee\")\n",
        "    print(\"2. Delete Employee by ID\")\n",
        "    print(\"3. Delete Employee by Name\")\n",
        "    print(\"4. Update Employee Name by Name\")\n",
        "    print(\"5. Update Employee Name by ID\")\n",
        "    print(\"6. Update Employee Salary\")\n",
        "    print(\"7. Update Employee Job Position\")\n",
        "    print(\"8. Update Employee Age\")\n",
        "    print(\"9. Get Employee Details by ID\")\n",
        "    print(\"10. Get Employee Details by Name\")\n",
        "    print(\"11. Display all Employees\")\n",
        "    print(\"12. Write to a Text File\")\n",
        "    print(\"13. Write to a CSV File\")\n",
        "    print(\"14. Read from a CSV File\")\n",
        "    print(\"0. Exit\")\n",
        "\n",
        "    try:\n",
        "      choice = int(input(\"Enter your choice: \"))\n",
        "    except ValueError:\n",
        "      print(\"Invalid choice. Please enter a valid option.\")\n",
        "      continue\n",
        "\n",
        "    if choice == 1:\n",
        "      name = input(\"Enter the employee's name: \")\n",
        "      salary = input(\"Enter the salary: $\")\n",
        "      jobPosition = input(\"Enter the job Position\")\n",
        "      age = input(\"Enter the employee's age: \")\n",
        "\n",
        "      result = objMain.add_employee(Employee(name, salary, jobPosition, age))\n",
        "      print(result)\n",
        "\n",
        "    elif choice == 2:\n",
        "      uinputID = int(input(\"Enter the employee ID to delete: \"))\n",
        "      result = objMain.delete_employee_byID(uinputID)\n",
        "      print(result)\n",
        "\n",
        "    elif choice == 3:\n",
        "      uinputNAME = input(\"Enter the employee name to delete: \")\n",
        "      result = objMain.delete_employee_byName(uinputNAME)\n",
        "      if result:\n",
        "          print(f\"{uinputNAME} deleted successfully!\")\n",
        "      else:\n",
        "          print(\"Employee not found.\")\n",
        "\n",
        "    elif choice == 4:\n",
        "      oldEmployeeName = input(\"Enter the old employee name: \")\n",
        "      newEmployeeName = input(\"Enter the new employee name: \")\n",
        "      result = objMain.update_name(oldEmployeeName, newEmployeeName)\n",
        "      print(result)\n",
        "\n",
        "    elif choice == 5:\n",
        "      uinputID2 = int(input(\"Enter the employee ID to update name: \"))\n",
        "      newEmployeeName = input(\"Enter the new employee name: \")\n",
        "      result = objMain.update_name_by_id(uinputID2, newEmployeeName)\n",
        "      print(result)\n",
        "\n",
        "    elif choice == 6:\n",
        "      uinputID3 = int(input(\"Enter the employee ID to update salary: \"))\n",
        "      updated_salary = input(\"Enter the updated salary: $\")\n",
        "      result = objMain.update_salary(uinputID3, updated_salary)\n",
        "      print(result)\n",
        "\n",
        "    elif choice == 7:\n",
        "      uinput4 = int(input(\"Enter the employee ID to update job position: \"))\n",
        "      uinput5 = input(\"Enter the new job position: \")\n",
        "      result = objMain.update_jobPosition(uinput4, uinput5)\n",
        "      print(result)\n",
        "\n",
        "    elif choice == 8:\n",
        "      uinput6 = int(input(\"Enter the employee ID to update age: \"))\n",
        "      uinput7 = int(input(\"Enter the updated age: \"))\n",
        "      result = objMain.update_employee_age(uinput6, uinput7)\n",
        "      print(result)\n",
        "\n",
        "    elif choice == 9:\n",
        "      uinput8 = int(input(\"Enter the employee ID to get details: \"))\n",
        "      details = objMain.get_details_by_id(uinput8)\n",
        "      if details:\n",
        "          print(details)\n",
        "      else:\n",
        "          print(\"Employee not found.\")\n",
        "\n",
        "    elif choice == 10:\n",
        "      uinput9 = input(\"Enter the employee name to get details: \")\n",
        "      details = objMain.get_details_by_name(uinput9)\n",
        "      if details:\n",
        "          print(details)\n",
        "      else:\n",
        "          print(\"Employee not found.\")\n",
        "\n",
        "    elif choice == 11:\n",
        "      objMain.display()\n",
        "\n",
        "    elif choice == 12:        # New Addition: To Print to text file\n",
        "      objMain.writetotxt()\n",
        "\n",
        "    elif choice == 13:\n",
        "      objMain.writetocsv()\n",
        "\n",
        "    elif choice == 14:\n",
        "      objMain.readfromcsv()\n",
        "\n",
        "    elif choice == 0:\n",
        "      objMain.writetotxt()    # Changed: Also write the data to text file when exiting\n",
        "\n",
        "      print(\"Logging off!\")\n",
        "      break"
      ]
    },
    {
      "cell_type": "markdown",
      "source": [
        "        TXT Testing"
      ],
      "metadata": {
        "id": "B5JetT8kgIth"
      }
    },
    {
      "cell_type": "code",
      "source": [
        "f = open(\"emp_detailsin_txt.txt\", \"r\")"
      ],
      "metadata": {
        "id": "8JP_2nNeFCGY"
      },
      "execution_count": null,
      "outputs": []
    },
    {
      "cell_type": "code",
      "source": [
        "f.read()"
      ],
      "metadata": {
        "id": "fOmY6ovUFKwG"
      },
      "execution_count": null,
      "outputs": []
    },
    {
      "cell_type": "markdown",
      "source": [
        "        CSV Testing"
      ],
      "metadata": {
        "id": "nvsEbG-PgNNZ"
      }
    },
    {
      "cell_type": "markdown",
      "source": [
        "        Note: Test Instance 2: with hard-coded values for Object 'test_ems'"
      ],
      "metadata": {
        "id": "MbspciEbqbJ7"
      }
    },
    {
      "cell_type": "code",
      "source": [
        "# Create an instance of Employement_Management_System\n",
        "test_ems = Employement_Management_System()"
      ],
      "metadata": {
        "id": "lmvOk9bDtAhb"
      },
      "execution_count": null,
      "outputs": []
    },
    {
      "cell_type": "code",
      "source": [
        "# Add Employee\n",
        "employeeadd = Employee(\"Anurag\", 50000, \"Data Scientist\", 30)\n",
        "result = test_ems.add_employee(employeeadd)\n",
        "print(result)"
      ],
      "metadata": {
        "id": "wftPqgEst4xs"
      },
      "execution_count": null,
      "outputs": []
    },
    {
      "cell_type": "code",
      "source": [
        "# Add another employee\n",
        "employeeadd = Employee(\"Rohit Sharma\", 45000, \"Softwre Engineer\", 28)\n",
        "result = test_ems.add_employee(employeeadd)\n",
        "print(result)\n",
        "\n",
        "employeeadd = Employee(\"Nirusha Maharjan\", 40000, \"Learning Catalyst\", 21)\n",
        "result = test_ems.add_employee(employeeadd)\n",
        "print(result)\n",
        "\n",
        "employeeadd = Employee(\"Narendra Modi\", 100000, \"Prime Minister\", 60)\n",
        "result = test_ems.add_employee(employeeadd)\n",
        "print(result)\n",
        "\n",
        "employeeadd = Employee(\"Joe Biden\", 120000, \"President\", 65)\n",
        "result = test_ems.add_employee(employeeadd)\n",
        "print(result)"
      ],
      "metadata": {
        "id": "crPbubE4t6dS"
      },
      "execution_count": null,
      "outputs": []
    },
    {
      "cell_type": "code",
      "source": [
        "# Delete Employee by ID\n",
        "result = test_ems.delete_employee_byID(5)     # Delete Joe biden\n",
        "print(result)"
      ],
      "metadata": {
        "id": "vuJAivrkt7oi"
      },
      "execution_count": null,
      "outputs": []
    },
    {
      "cell_type": "code",
      "source": [
        "# Delete Employee by Name\n",
        "result = test_ems.delete_employee_byName(\"Narendra Modi\") # Delete Narendra Modi\n",
        "print(result)"
      ],
      "metadata": {
        "id": "HrCOuH3kt885"
      },
      "execution_count": null,
      "outputs": []
    },
    {
      "cell_type": "code",
      "source": [
        "# Update Employee Name by Name\n",
        "result = test_ems.update_name(\"Anurag\", \"Anurag Arun\")    # Rename Anurag to Anurag Arun, Search by name\n",
        "print(result)"
      ],
      "metadata": {
        "id": "_1BgXHvqt-H6"
      },
      "execution_count": null,
      "outputs": []
    },
    {
      "cell_type": "code",
      "source": [
        "# Update Employee Name by ID\n",
        "result = test_ems.update_name_by_id(1, \"Anurag Arun Edlabadkar\")  # Rename Anurag Arun to Anurag Arun Edlabadkar, search by id (1)\n",
        "print(result)"
      ],
      "metadata": {
        "id": "0TNEtyGdt_T2"
      },
      "execution_count": null,
      "outputs": []
    },
    {
      "cell_type": "code",
      "source": [
        "# Update Employee Salary\n",
        "result = test_ems.update_salary(2, 48000)   # Update Salary Rohit to 48000, Searched by ID\n",
        "print(result)"
      ],
      "metadata": {
        "id": "FIJyIvPluApS"
      },
      "execution_count": null,
      "outputs": []
    },
    {
      "cell_type": "code",
      "source": [
        "# Update Employee Job Position\n",
        "result = test_ems.update_jobPosition(2, \"Senior Engineer\")    # Update Job Position of Rohit to Senior Engineer, Search by ID\n",
        "print(result)"
      ],
      "metadata": {
        "id": "uH9XDS53uBxq"
      },
      "execution_count": null,
      "outputs": []
    },
    {
      "cell_type": "code",
      "source": [
        "# Update Employee Age\n",
        "result = test_ems.update_employee_age(2, 29)    # Update Age of Rohit to 29, Search by ID\n",
        "print(result)"
      ],
      "metadata": {
        "id": "_IJwomnvuC3E"
      },
      "execution_count": null,
      "outputs": []
    },
    {
      "cell_type": "code",
      "source": [
        "# Get Employee Details by ID\n",
        "details = test_ems.get_details_by_id(2) # Get Details of specific Employee, here, id = 2\n",
        "print(details)"
      ],
      "metadata": {
        "id": "V7fJB3BwuD1T"
      },
      "execution_count": null,
      "outputs": []
    },
    {
      "cell_type": "code",
      "source": [
        "# Get Employee Details by Name\n",
        "details = test_ems.get_details_by_name(\"Anurag Arun Edlabadkar\")\n",
        "print(details)\n"
      ],
      "metadata": {
        "id": "JJ4qDbABuE-p"
      },
      "execution_count": null,
      "outputs": []
    },
    {
      "cell_type": "code",
      "source": [
        "# Display All Employee Details\n",
        "test_ems.display()"
      ],
      "metadata": {
        "id": "QwflvH8fuF4I"
      },
      "execution_count": null,
      "outputs": []
    }
  ],
  "metadata": {
    "kernelspec": {
      "display_name": "Python 3",
      "language": "python",
      "name": "python3"
    },
    "language_info": {
      "codemirror_mode": {
        "name": "ipython",
        "version": 3
      },
      "file_extension": ".py",
      "mimetype": "text/x-python",
      "name": "python",
      "nbconvert_exporter": "python",
      "pygments_lexer": "ipython3",
      "version": "3.10.5"
    },
    "orig_nbformat": 4,
    "colab": {
      "provenance": []
    }
  },
  "nbformat": 4,
  "nbformat_minor": 0
}