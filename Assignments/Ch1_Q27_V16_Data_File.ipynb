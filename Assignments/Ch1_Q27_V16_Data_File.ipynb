{
  "nbformat": 4,
  "nbformat_minor": 0,
  "metadata": {
    "colab": {
      "provenance": [],
      "authorship_tag": "ABX9TyNKjZqFjNC8YFzQpU21BsTS"
    },
    "kernelspec": {
      "name": "python3",
      "display_name": "Python 3"
    },
    "language_info": {
      "name": "python"
    }
  },
  "cells": [
    {
      "cell_type": "code",
      "execution_count": 37,
      "metadata": {
        "id": "-n6M0gHNzxj6"
      },
      "outputs": [],
      "source": [
        "import pandas as pd\n",
        "import numpy as np"
      ]
    },
    {
      "cell_type": "code",
      "source": [
        "path = '/content/Ch1_Q27_V16_Data_File.xlsx'"
      ],
      "metadata": {
        "id": "-zZUw_560Cw4"
      },
      "execution_count": 38,
      "outputs": []
    },
    {
      "cell_type": "code",
      "source": [
        "df_q5_raw = pd.read_excel(path)"
      ],
      "metadata": {
        "id": "FdRoeydt0mSX"
      },
      "execution_count": 39,
      "outputs": []
    },
    {
      "cell_type": "code",
      "source": [
        "df_q5_raw.head(7)\n",
        "# Cleansing the data\n",
        "# Taking only the necessary column\n",
        "\n",
        "df_q5_raw = df_q5_raw.iloc[0:, 0:5]\n",
        "df_q5_raw.head(5)\n",
        "\n",
        "#Checking if there are any null values\n",
        "df_q5_raw.isnull().sum()    # There are no null values\n",
        "df_q5 = df_q5_raw\n",
        "print(df_q5.head(5))"
      ],
      "metadata": {
        "colab": {
          "base_uri": "https://localhost:8080/"
        },
        "id": "Dw6W5LjN0rVB",
        "outputId": "b9166cf5-cc7c-41bd-d2c6-b468c0586d85"
      },
      "execution_count": 40,
      "outputs": [
        {
          "output_type": "stream",
          "name": "stdout",
          "text": [
            "   Individual  Income  Age Sex Married\n",
            "0           1      87   46   F       Y\n",
            "1           2      97   52   M       Y\n",
            "2           3      44   25   F       Y\n",
            "3           4     115   53   F       Y\n",
            "4           5      73   37   M       Y\n"
          ]
        }
      ]
    },
    {
      "cell_type": "code",
      "source": [
        "df_q5.shape"
      ],
      "metadata": {
        "colab": {
          "base_uri": "https://localhost:8080/"
        },
        "id": "x0C0D1eb2eHb",
        "outputId": "f5100373-d6cd-40fd-b25d-419490fbd3f9"
      },
      "execution_count": 41,
      "outputs": [
        {
          "output_type": "execute_result",
          "data": {
            "text/plain": [
              "(890, 5)"
            ]
          },
          "metadata": {},
          "execution_count": 41
        }
      ]
    },
    {
      "cell_type": "code",
      "source": [
        "#Question a:\n",
        "'Count the number of males and females in the data.'\n",
        "number_of_males = (df_q5['Sex'] == 'M').sum()\n",
        "number_of_females = (df_q5['Sex'] == 'F').sum()\n",
        "\n",
        "print(\"The number of males: \", number_of_males)\n",
        "print(\"The number of females: \", number_of_females)"
      ],
      "metadata": {
        "colab": {
          "base_uri": "https://localhost:8080/"
        },
        "id": "2L162yUO1XpR",
        "outputId": "a882f4df-c12c-4d17-be53-8e19b7b67d9f"
      },
      "execution_count": 42,
      "outputs": [
        {
          "output_type": "stream",
          "name": "stdout",
          "text": [
            "The number of males:  507\n",
            "The number of females:  383\n"
          ]
        }
      ]
    },
    {
      "cell_type": "code",
      "source": [
        "#Question b:\n",
        "'b. What percentage of males and females are married? (Round your answers to 2 decimal places.)'\n",
        "\n",
        "number_of_married_males = ((df_q5['Sex'] == 'M') & (df_q5['Married'] == 'Y')).sum()\n",
        "print(number_of_married_males)\n",
        "\n",
        "number_of_married_females = ((df_q5['Sex'] == 'F') & (df_q5['Married'] == 'Y')).sum()\n",
        "print(number_of_married_females)\n",
        "\n",
        "print(\"Percentage of married males: {:.2f}%\".format((number_of_married_males/number_of_males) * 100))\n",
        "print(\"Percentage of married females: {:.2f}%\".format((number_of_married_females/number_of_females)*100))"
      ],
      "metadata": {
        "colab": {
          "base_uri": "https://localhost:8080/"
        },
        "id": "nn-GeZT-1tAo",
        "outputId": "87cbc13a-e79b-4ef0-a95a-e2bf4be05176"
      },
      "execution_count": 43,
      "outputs": [
        {
          "output_type": "stream",
          "name": "stdout",
          "text": [
            "335\n",
            "249\n",
            "Percentage of married males: 66.07%\n",
            "Percentage of married females: 65.01%\n"
          ]
        }
      ]
    },
    {
      "cell_type": "code",
      "source": [
        "#Question c:\n",
        "'c. Of the 10 individuals with the highest income, how many are married males?'\n",
        "\n",
        "# Listing the 10 individuals with highest income\n",
        "\n",
        "df_highestIncome10 = df_q5.sort_values(['Income'], ascending = False).head(10)\n",
        "\n",
        "# Get the data of married males from this list\n",
        "df_marriedMales = df_highestIncome10[(df_highestIncome10['Sex'] == 'M') & (df_highestIncome10['Married'] == 'Y')]\n",
        "print (f\"Of the 10 individuals with the highest income, {df_marriedMales.shape[0]} are married males.\\n\")\n",
        "print(df_marriedMales)"
      ],
      "metadata": {
        "colab": {
          "base_uri": "https://localhost:8080/"
        },
        "id": "aDvOeVQ91tD6",
        "outputId": "397e9407-8814-4a48-ad78-38fa9324f864"
      },
      "execution_count": 44,
      "outputs": [
        {
          "output_type": "stream",
          "name": "stdout",
          "text": [
            "Of the 10 individuals with the highest income, 7 are married males.\n",
            "\n",
            "     Individual  Income  Age Sex Married\n",
            "271         272     160   55   M       Y\n",
            "363         364     140   52   M       Y\n",
            "389         390     129   55   M       Y\n",
            "625         626     128   56   M       Y\n",
            "622         623     128   53   M       Y\n",
            "857         858     126   52   M       Y\n",
            "674         675     126   55   M       Y\n"
          ]
        }
      ]
    }
  ]
}