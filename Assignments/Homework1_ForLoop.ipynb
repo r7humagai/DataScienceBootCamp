{
  "nbformat": 4,
  "nbformat_minor": 0,
  "metadata": {
    "colab": {
      "provenance": []
    },
    "kernelspec": {
      "name": "python3",
      "display_name": "Python 3"
    },
    "language_info": {
      "name": "python"
    }
  },
  "cells": [
    {
      "cell_type": "markdown",
      "source": [
        "## Take-Home Assignments [08/18]\n",
        "\n",
        "Question 1. Write a Python program to find those numbers which are divisible by 7 and multiples of 5, between 1500 and 2700 (both included).\n",
        "\n",
        "Question 2. Write a Python program to count the number of even and odd numbers in a series of numbers\n",
        "\n",
        "Sample numbers : numbers = (1, 2, 3, 4, 5, 6, 7, 8, 9)\n",
        "\n",
        "Question 3. Write a Python program that prints all the numbers from 0 to 6 except 3 and 6.\n",
        "\n",
        "Expected Output : 0 1 2 4 5"
      ],
      "metadata": {
        "id": "eScM2sQebAM7"
      }
    },
    {
      "cell_type": "code",
      "source": [
        "#Q1. Python program to find the numbers that are both divisible by 7 and multiples of 5 [1500,2700]\n",
        "# First approach: using for loop to test if each number in the range satisfies both condition.\n",
        "\n",
        "low_range = 1500\n",
        "high_range = 2700\n",
        "div7_mul5 = []       # Creating a new empty list\n",
        "#print(type(div7_mul5))\n",
        "\n",
        "count = 0\n",
        "\n",
        "for i in range(low_range, high_range+1):\n",
        "  if i % 7 == 0 and i % 5 == 0:           # Two conditions\n",
        "    div7_mul5.append(i)                      # Add the numbers that satisfy both conditions into the set\n",
        "    count += 1\n",
        "\n",
        "print(count, \"numbers in this range [1500,2700] are divisible by 7 and are also multiples of 5\")\n",
        "print(div7_mul5)           # Print the set containing the values"
      ],
      "metadata": {
        "colab": {
          "base_uri": "https://localhost:8080/"
        },
        "id": "dqsXBLgkcL2L",
        "outputId": "a25e981d-c972-49f7-f350-0fb86eeb01aa"
      },
      "execution_count": 32,
      "outputs": [
        {
          "output_type": "stream",
          "name": "stdout",
          "text": [
            "35 numbers in this range [1500,2700] are divisible by 7 and are also multiples of 5\n",
            "[1505, 1540, 1575, 1610, 1645, 1680, 1715, 1750, 1785, 1820, 1855, 1890, 1925, 1960, 1995, 2030, 2065, 2100, 2135, 2170, 2205, 2240, 2275, 2310, 2345, 2380, 2415, 2450, 2485, 2520, 2555, 2590, 2625, 2660, 2695]\n"
          ]
        }
      ]
    },
    {
      "cell_type": "code",
      "source": [
        "#Q1. Python program to find the numbers that are both divisible by 7 and multiples of 5 [1500,2700]\n",
        "# Second approach: Using set inbuilt function: intersection()\n",
        "#                  find numbers that satisfy each condition, put them in different sets and find the intersection of the two sets using set inbuilt function\n",
        "\n",
        "low_range = 1500\n",
        "high_range = 2700\n",
        "\n",
        "div7 = set()\n",
        "mul5 = set()\n",
        "\n",
        "for i in range(low_range, high_range+1):\n",
        "  if i % 7 == 0:\n",
        "    div7.add(i)\n",
        "  if i % 5 ==0:\n",
        "    mul5.add(i)\n",
        "\n",
        "div7_mul5 = div7.intersection(mul5)   # Using the intersection() function of set to find the elements that are in both set.\n",
        "\n",
        "print(div7_mul5)\n",
        "print(\"Sorted Set:\" , sorted(div7_mul5))"
      ],
      "metadata": {
        "colab": {
          "base_uri": "https://localhost:8080/"
        },
        "id": "cRCKhnhBl5PX",
        "outputId": "ab4dacd0-690f-4e83-9d9e-f81ee85d4ee8"
      },
      "execution_count": 36,
      "outputs": [
        {
          "output_type": "stream",
          "name": "stdout",
          "text": [
            "{1540, 1925, 2310, 2695, 1680, 2065, 2450, 1820, 2205, 2590, 1575, 1960, 2345, 1715, 2100, 2485, 1855, 2240, 2625, 1610, 1995, 2380, 1750, 2135, 2520, 1505, 1890, 2275, 2660, 1645, 2030, 2415, 1785, 2170, 2555}\n",
            "Sorted Set: [1505, 1540, 1575, 1610, 1645, 1680, 1715, 1750, 1785, 1820, 1855, 1890, 1925, 1960, 1995, 2030, 2065, 2100, 2135, 2170, 2205, 2240, 2275, 2310, 2345, 2380, 2415, 2450, 2485, 2520, 2555, 2590, 2625, 2660, 2695]\n"
          ]
        }
      ]
    },
    {
      "cell_type": "code",
      "source": [
        "#Q2. Python program to count the number of even and odd numbers in a series of numbers.\n",
        "# Sample numbers: numbers  = (1,2,3,4,5,6,7,8,9)\n",
        "\n",
        "sample_list = (1,2,3,4,5,6,7,8,9)\n",
        "even_count = 0        # Create two int variables as counters of each type of number\n",
        "odd_count = 0\n",
        "\n",
        "for i in sample_list:       # loop through the list\n",
        "  if i % 2 == 0:            # numbers divisible by 2 are even\n",
        "    even_count += 1\n",
        "  else:                     # all the remaining numbers\n",
        "    odd_count += 1\n",
        "\n",
        "print(\"Even Numbers Count:\",even_count, \"\\n\" \"Odd Numbers Count: \", odd_count)"
      ],
      "metadata": {
        "colab": {
          "base_uri": "https://localhost:8080/"
        },
        "id": "Upz_Af-6gqRX",
        "outputId": "74725898-3796-46b2-b929-be56e8708a7a"
      },
      "execution_count": 28,
      "outputs": [
        {
          "output_type": "stream",
          "name": "stdout",
          "text": [
            "Even Numbers Count: 4 \n",
            "Odd Numbers Count:  5\n"
          ]
        }
      ]
    },
    {
      "cell_type": "code",
      "source": [
        "#Q3. Python program to print all numbers from 0 to 6 except 3 and 6.\n",
        "# Expected Output: 0 1 2 4 5\n",
        "\n",
        "for i in range(0, 6+1):     # Looping through the given range\n",
        "  if i != 3 and i!= 6:      # Testing if the number is either 3 or 6\n",
        "    print (i, end = \" \")\n"
      ],
      "metadata": {
        "colab": {
          "base_uri": "https://localhost:8080/"
        },
        "id": "IDkspY5xiGR9",
        "outputId": "79c376e7-7353-4309-f4c9-3455f7c5fbe0"
      },
      "execution_count": 27,
      "outputs": [
        {
          "output_type": "stream",
          "name": "stdout",
          "text": [
            "0 1 2 4 5 "
          ]
        }
      ]
    }
  ]
}
