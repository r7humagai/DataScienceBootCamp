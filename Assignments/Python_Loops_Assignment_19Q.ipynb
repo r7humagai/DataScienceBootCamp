{
  "nbformat": 4,
  "nbformat_minor": 0,
  "metadata": {
    "colab": {
      "provenance": []
    },
    "kernelspec": {
      "name": "python3",
      "display_name": "Python 3"
    },
    "language_info": {
      "name": "python"
    }
  },
  "cells": [
    {
      "cell_type": "markdown",
      "source": [
        "----\n",
        "Question 1. Swap two numbers using 3rd variable\n",
        "\n",
        "----"
      ],
      "metadata": {
        "id": "Vyb_Y2VFjWos"
      }
    },
    {
      "cell_type": "code",
      "source": [
        "a = 19\n",
        "b = 17\n",
        "temp = None     # Swapping using third variable temp\n",
        "\n",
        "print(f\"Original: a: {a} b: {b}\")\n",
        "\n",
        "temp = a\n",
        "a = b\n",
        "b = temp\n",
        "print(f\"After swap: a: {a} b: {b}\")\n",
        "\n"
      ],
      "metadata": {
        "colab": {
          "base_uri": "https://localhost:8080/"
        },
        "id": "hvExl2W8jYVF",
        "outputId": "176c1fea-4fbb-499c-d3b5-ed271f8ce93b"
      },
      "execution_count": 41,
      "outputs": [
        {
          "output_type": "stream",
          "name": "stdout",
          "text": [
            "Original: a: 19 b: 17\n",
            "After swap: a: 17 b: 19\n"
          ]
        }
      ]
    },
    {
      "cell_type": "markdown",
      "source": [
        "----\n",
        "Question 2: Swap two numbers without using 3rd variable\n",
        "\n",
        "----"
      ],
      "metadata": {
        "id": "Vs9PKK4Cy6HA"
      }
    },
    {
      "cell_type": "code",
      "source": [
        "# Question 2\n",
        "# Without using third variable\n",
        "\n",
        "a = 19\n",
        "b = 17\n",
        "\n",
        "print(f\"Original: a: {a} b: {b}\")\n",
        "\n",
        "# Using arithmetic operation:\n",
        "a = a + b\n",
        "b = a - b\n",
        "a = a - b\n",
        "\n",
        "print(f\"After swap: a: {a} b: {b}\")\n"
      ],
      "metadata": {
        "colab": {
          "base_uri": "https://localhost:8080/"
        },
        "id": "WXUBvG6ukFuo",
        "outputId": "74ff105b-9874-4ece-cc5c-3968afeb4019"
      },
      "execution_count": 42,
      "outputs": [
        {
          "output_type": "stream",
          "name": "stdout",
          "text": [
            "Original: a: 19 b: 17\n",
            "After swap: a: 17 b: 19\n"
          ]
        }
      ]
    },
    {
      "cell_type": "markdown",
      "source": [
        "----\n",
        "Question 3. Remove duplicate elements from a list without converting to tuple\n",
        "\n",
        "----"
      ],
      "metadata": {
        "id": "YJcVdpVSzC7o"
      }
    },
    {
      "cell_type": "code",
      "source": [
        "# Question 3. Method 1\n",
        "# Typecasting Method\n",
        "# Remove duplicate elements from a list without using tuple\n",
        "\n",
        "lst1 = [12,13,15,16,17,65,67,13,15,17]\n",
        "print(\"Original List: \", lst1)\n",
        "\n",
        "# Type Casting Method\n",
        "\n",
        "lst1 = list(set(lst1))\n",
        "print(\"New List: \", lst1)\n"
      ],
      "metadata": {
        "colab": {
          "base_uri": "https://localhost:8080/"
        },
        "id": "f2NvNnPIlgqx",
        "outputId": "fb5d5490-805c-499c-c189-2162a493cf3a"
      },
      "execution_count": 43,
      "outputs": [
        {
          "output_type": "stream",
          "name": "stdout",
          "text": [
            "Original List:  [12, 13, 15, 16, 17, 65, 67, 13, 15, 17]\n",
            "New List:  [65, 67, 12, 13, 15, 16, 17]\n"
          ]
        }
      ]
    },
    {
      "cell_type": "code",
      "source": [
        "# Question 3. Method 2\n",
        "# for-loop method\n",
        "# Remove duplicate elements from a list without using tuple\n",
        "\n",
        "lst1 = [12,13,15,16,17,65,67,13,15,17]\n",
        "print(\"Original List: \", lst1)\n",
        "temp_list = []\n",
        "\n",
        "for i in lst1:\n",
        "  if i not in temp_list:\n",
        "    temp_list.append(i)\n",
        "\n",
        "lst1 = temp_list\n",
        "\n",
        "print(\"New List: \", lst1)\n",
        "\n"
      ],
      "metadata": {
        "colab": {
          "base_uri": "https://localhost:8080/"
        },
        "id": "5MgYFXS5mYuF",
        "outputId": "d5b5ea6f-7691-4d10-efe4-565b5eb343ee"
      },
      "execution_count": 44,
      "outputs": [
        {
          "output_type": "stream",
          "name": "stdout",
          "text": [
            "Original List:  [12, 13, 15, 16, 17, 65, 67, 13, 15, 17]\n",
            "New List:  [12, 13, 15, 16, 17, 65, 67]\n"
          ]
        }
      ]
    },
    {
      "cell_type": "markdown",
      "source": [
        "----\n",
        "Question 4: Write a loop to print following series\n",
        "\n",
        "10, 20, 30,...., 300\n",
        "\n",
        "\n",
        "----"
      ],
      "metadata": {
        "id": "L1XU3X34zZ54"
      }
    },
    {
      "cell_type": "code",
      "source": [
        "#Q4.\n",
        "for i in range(10, 300+1, 10):\n",
        "  print (i, end = ', ')"
      ],
      "metadata": {
        "colab": {
          "base_uri": "https://localhost:8080/"
        },
        "id": "UwRbll81pSf8",
        "outputId": "ee659020-a3ba-45fa-d8a2-08e6373168f6"
      },
      "execution_count": 45,
      "outputs": [
        {
          "output_type": "stream",
          "name": "stdout",
          "text": [
            "10, 20, 30, 40, 50, 60, 70, 80, 90, 100, 110, 120, 130, 140, 150, 160, 170, 180, 190, 200, 210, 220, 230, 240, 250, 260, 270, 280, 290, 300, "
          ]
        }
      ]
    },
    {
      "cell_type": "markdown",
      "source": [
        "----\n",
        "Question 5. Write a loop to print following series\n",
        "\n",
        "105,98,91,....,7\n",
        "\n",
        "----"
      ],
      "metadata": {
        "id": "GBzUp6Sazk9L"
      }
    },
    {
      "cell_type": "code",
      "source": [
        "#Q5.\n",
        "for i in range(105, 7-1, -7):\n",
        "  print(i, end = ', ')"
      ],
      "metadata": {
        "colab": {
          "base_uri": "https://localhost:8080/"
        },
        "id": "niA45RbJphQX",
        "outputId": "15110636-d93b-4348-aa98-d951ff95a49e"
      },
      "execution_count": 46,
      "outputs": [
        {
          "output_type": "stream",
          "name": "stdout",
          "text": [
            "105, 98, 91, 84, 77, 70, 63, 56, 49, 42, 35, 28, 21, 14, 7, "
          ]
        }
      ]
    },
    {
      "cell_type": "markdown",
      "source": [
        "----\n",
        "Question 6. Write a program to print number names of digits in a number like\n",
        "\n",
        "      SAMPLE INPUT 231\n",
        "      SAMPLE OUTPUT TWO THREE ONE\n",
        "\n",
        "\n",
        "----"
      ],
      "metadata": {
        "id": "HwJ2awPdzz-G"
      }
    },
    {
      "cell_type": "code",
      "source": [
        "# Question 6\n",
        "# integer to String\n",
        "\n",
        "def intToString(value):\n",
        "  str_dict = []\n",
        "  conv_dict = { 0 : 'Zero',\n",
        "                1 : 'One',\n",
        "                2 : 'Two',\n",
        "                3 : 'Three',\n",
        "                4 : 'Four',\n",
        "                5 : 'Five',\n",
        "                6 : 'Six',\n",
        "                7 : 'Seven',\n",
        "                8 : 'Eight',\n",
        "                9 : 'Nine',\n",
        "              }\n",
        "\n",
        "  while value > 0:\n",
        "    digit = value % 10\n",
        "    str_dict.append(conv_dict.get(digit).upper())\n",
        "    value = value // 10\n",
        "\n",
        "  str_dict.reverse()\n",
        "\n",
        "  return str_dict\n",
        "\n",
        "def main():\n",
        "  user_input = int(input(\"Enter a number: \"))\n",
        "  result = intToString(user_input)\n",
        "\n",
        "  for word in result:\n",
        "    print(word, end = ' ')\n",
        "\n",
        "\n",
        "main()"
      ],
      "metadata": {
        "id": "1czjEw-rpqyx",
        "colab": {
          "base_uri": "https://localhost:8080/"
        },
        "outputId": "ab422748-faeb-485f-97f8-a830f24d7a50"
      },
      "execution_count": 47,
      "outputs": [
        {
          "output_type": "stream",
          "name": "stdout",
          "text": [
            "Enter a number: 567\n",
            "FIVE SIX SEVEN "
          ]
        }
      ]
    },
    {
      "cell_type": "markdown",
      "source": [
        "----\n",
        "Question 7: Write a program to print Fibonacci series till n terms take n =50\n",
        "\n",
        "\n",
        "----"
      ],
      "metadata": {
        "id": "HwkGFpva0E0c"
      }
    },
    {
      "cell_type": "code",
      "source": [
        "# Question 7\n",
        "# Fibonacci Series\n",
        "def fibonacci_num(n):\n",
        "\n",
        "  if n<=0:\n",
        "    return []\n",
        "\n",
        "  elif n == 1:\n",
        "    return [0]\n",
        "\n",
        "  elif n == 2:\n",
        "    return [0,1]\n",
        "\n",
        "  else:\n",
        "    fib_list = fibonacci_num(n-1)\n",
        "    fib_list.append(fib_list[-1] + fib_list[-2])\n",
        "\n",
        "    return fib_list\n",
        "\n",
        "def main():\n",
        "\n",
        "  user_input = 50\n",
        "  fib_sequence = fibonacci_num(user_input)\n",
        "\n",
        "  print (f\"The fibonacci sequence until {user_input} is {fib_sequence}\")\n",
        "\n",
        "main()\n"
      ],
      "metadata": {
        "colab": {
          "base_uri": "https://localhost:8080/"
        },
        "id": "Em_BXssyTRXQ",
        "outputId": "d153165b-7d86-493b-a887-cf59a88a5374"
      },
      "execution_count": 48,
      "outputs": [
        {
          "output_type": "stream",
          "name": "stdout",
          "text": [
            "The fibonacci sequence until 50 is [0, 1, 1, 2, 3, 5, 8, 13, 21, 34, 55, 89, 144, 233, 377, 610, 987, 1597, 2584, 4181, 6765, 10946, 17711, 28657, 46368, 75025, 121393, 196418, 317811, 514229, 832040, 1346269, 2178309, 3524578, 5702887, 9227465, 14930352, 24157817, 39088169, 63245986, 102334155, 165580141, 267914296, 433494437, 701408733, 1134903170, 1836311903, 2971215073, 4807526976, 7778742049]\n"
          ]
        }
      ]
    },
    {
      "cell_type": "markdown",
      "source": [
        "----\n",
        "Question 8. Write a program to print factorial of a number\n",
        "\n",
        "----"
      ],
      "metadata": {
        "id": "gy3uJDvN0LY-"
      }
    },
    {
      "cell_type": "code",
      "source": [
        "# Question 8\n",
        "# Program to print the factorial of a number\n",
        "\n",
        "def fact_calc(n):\n",
        "  fact_list = []\n",
        "  for i in range(1, n+1):\n",
        "    if n % i == 0:\n",
        "      fact_list.append(i)\n",
        "  return fact_list\n",
        "\n",
        "\n",
        "def main():\n",
        "  num = int(input(\"Enter a number: \"))\n",
        "  factors = fact_calc(num)                # factors list\n",
        "  #print(type(factors))\n",
        "  print(f\"Factors of {num} are {factors}\")\n",
        "\n",
        "main()\n"
      ],
      "metadata": {
        "colab": {
          "base_uri": "https://localhost:8080/"
        },
        "id": "n4kp2TAKp7nG",
        "outputId": "b47a9c93-9916-4c36-de3e-d31f0606b535"
      },
      "execution_count": 49,
      "outputs": [
        {
          "output_type": "stream",
          "name": "stdout",
          "text": [
            "Enter a number: 78\n",
            "Factors of 78 are [1, 2, 3, 6, 13, 26, 39, 78]\n"
          ]
        }
      ]
    },
    {
      "cell_type": "markdown",
      "source": [
        "----\n",
        "Question 9. Write a program to check if a number is Armstrong or not\n",
        "\n",
        "\n",
        "----"
      ],
      "metadata": {
        "id": "IRrmedHj0VQ2"
      }
    },
    {
      "cell_type": "code",
      "source": [
        "# Question 9\n",
        "# Program to check if a number is armstrong or not\n",
        "\n",
        "def check_armstrong(num):\n",
        "\n",
        "  num_list = []\n",
        "  iter_num = num\n",
        "\n",
        "  while iter_num > 1:\n",
        "    digit = iter_num % 10\n",
        "    num_list.append(digit)\n",
        "    iter_num = iter_num // 10\n",
        "\n",
        "  num_list.reverse()\n",
        "  sum_of_num = 0\n",
        "  for i in num_list:\n",
        "    sum_of_num += i ** len(num_list)\n",
        "\n",
        "  return sum_of_num\n",
        "\n",
        "def main():\n",
        "  test_input = 9474\n",
        "  check_number = check_armstrong(test_input)\n",
        "  print(\"Test: \")\n",
        "  if check_number == test_input:\n",
        "    print(f\"{test_input} is an armstrong number.\")\n",
        "  else:\n",
        "    print(f\"{test_input} is not an armstrong number.\")\n",
        "\n",
        "  print(\"---\")\n",
        "\n",
        "  user_input = int(input(\"Enter a number to check if it is a armstrong number: \"))\n",
        "  check_number = check_armstrong(user_input)\n",
        "\n",
        "  if check_number == user_input:\n",
        "    print(f\"{user_input} is an armstrong number.\")\n",
        "  else:\n",
        "    print(f\"{user_input} is not an armstrong number.\")\n",
        "\n",
        "main()\n"
      ],
      "metadata": {
        "colab": {
          "base_uri": "https://localhost:8080/"
        },
        "id": "6zOEI5aXueGI",
        "outputId": "03d5773b-7b9c-49f2-95fc-38615bc43325"
      },
      "execution_count": 50,
      "outputs": [
        {
          "output_type": "stream",
          "name": "stdout",
          "text": [
            "Test: \n",
            "9474 is an armstrong number.\n",
            "---\n",
            "Enter a number to check if it is a armstrong number: 1234\n",
            "1234 is not an armstrong number.\n"
          ]
        }
      ]
    },
    {
      "cell_type": "markdown",
      "source": [
        "----\n",
        "Question 10. Write a program to convert binary to decimal\n",
        "\n",
        "----"
      ],
      "metadata": {
        "id": "g2k6r_Sk0bZU"
      }
    },
    {
      "cell_type": "code",
      "source": [
        "# Question 10\n",
        "# Convert binary to decimal\n",
        "binary_number = \"100101\"  #Note. Error Corrected: convert int to String: int object is not subscriptable\n",
        "\n",
        "power_value = 1\n",
        "decimal_output = 0\n",
        "\n",
        "for digit in binary_number[::-1]:\n",
        "  if (digit == '1'):\n",
        "    decimal_output += power_value\n",
        "    power_value = power_value * 2\n",
        "  elif (digit == '0'):\n",
        "    power_value = power_value * 2\n",
        "\n",
        "print(decimal_output)"
      ],
      "metadata": {
        "id": "GDRV4m6v2scb",
        "colab": {
          "base_uri": "https://localhost:8080/"
        },
        "outputId": "704f4dc5-3d4b-409e-dd42-bc3255fbc585"
      },
      "execution_count": 51,
      "outputs": [
        {
          "output_type": "stream",
          "name": "stdout",
          "text": [
            "37\n"
          ]
        }
      ]
    },
    {
      "cell_type": "markdown",
      "source": [
        "----\n",
        "Question 11. Write a program to convert decimal to binary\n",
        "\n",
        "----"
      ],
      "metadata": {
        "id": "wKE-1tmN0jN7"
      }
    },
    {
      "cell_type": "code",
      "source": [
        "# Question 11\n",
        "\n",
        "# Convert decimal to binary\n",
        "\n",
        "decimal_number = 22\n",
        "binary_output = \"\"\n",
        "\n",
        "while decimal_number > 0:\n",
        "  remainder = decimal_number % 2\n",
        "  binary_output = str(remainder) + binary_output\n",
        "  decimal_number //= 2      # Floor Division by 2\n",
        "\n",
        "print(binary_output)\n",
        "\n"
      ],
      "metadata": {
        "id": "NsNJVaZ3219z",
        "colab": {
          "base_uri": "https://localhost:8080/"
        },
        "outputId": "30a3f868-b47a-4bf3-ef1b-4d0048de51c9"
      },
      "execution_count": 52,
      "outputs": [
        {
          "output_type": "stream",
          "name": "stdout",
          "text": [
            "10110\n"
          ]
        }
      ]
    },
    {
      "cell_type": "markdown",
      "source": [
        "----\n",
        "Question 12. Write a program to check if number is palindrome on not (Without converting to string)\n",
        "\n",
        "\n",
        "----"
      ],
      "metadata": {
        "id": "rmmPhstZ0rlV"
      }
    },
    {
      "cell_type": "code",
      "source": [
        "# Question 12 : List Append Method\n",
        "\n",
        "def palindrome_check(num):\n",
        "  original_num_list = []\n",
        "  reversed_digit_list = []\n",
        "\n",
        "  while num > 0:\n",
        "    digit = num % 10\n",
        "    reversed_digit_list.append(digit)\n",
        "    num = num // 10\n",
        "\n",
        "  print(\"Data type: \", type(reversed_digit_list[0]))\n",
        "\n",
        "  original_num_list = reversed_digit_list\n",
        "  original_num_list.reverse()\n",
        "\n",
        "  if reversed_digit_list == original_num_list:\n",
        "    return True\n",
        "  else:\n",
        "    return False\n",
        "\n",
        "def main():\n",
        "  user_input_num = int(input(\"Enter a number to check if it is palindrome or not: \"))\n",
        "  if palindrome_check(user_input_num):\n",
        "    print(f\"The number {user_input_num} is palindrome!\")\n",
        "  else:\n",
        "    print(f\"The number {user_input_num} is not palindrome!\")\n",
        "\n",
        "main()"
      ],
      "metadata": {
        "id": "sTcOE9rS27aG",
        "colab": {
          "base_uri": "https://localhost:8080/"
        },
        "outputId": "bd1255c2-3982-417e-b37d-d2a4638fcd80"
      },
      "execution_count": 53,
      "outputs": [
        {
          "output_type": "stream",
          "name": "stdout",
          "text": [
            "Enter a number to check if it is palindrome or not: 12321\n",
            "Data type:  <class 'int'>\n",
            "The number 12321 is palindrome!\n"
          ]
        }
      ]
    },
    {
      "cell_type": "markdown",
      "source": [
        "----\n",
        "Question 13. Write a program to print all numbers which are divisible by 13 but not by 3 between 100 and 500\n",
        "\n",
        "\n",
        "----"
      ],
      "metadata": {
        "id": "Z37h8MpT06kb"
      }
    },
    {
      "cell_type": "code",
      "source": [
        "# Question 13:\n",
        "# Program to print all numbers which are divisible by 13, but not by 3 between 100 and 500\n",
        "\n",
        "for i in range(100, 500+1):\n",
        "  if i % 13 == 0 and i % 3 != 0:\n",
        "    print(i, end = \", \")\n"
      ],
      "metadata": {
        "colab": {
          "base_uri": "https://localhost:8080/"
        },
        "id": "40IxkYEObgjV",
        "outputId": "80573c0c-d8ee-429a-f8bd-cd6733c52b1a"
      },
      "execution_count": 54,
      "outputs": [
        {
          "output_type": "stream",
          "name": "stdout",
          "text": [
            "104, 130, 143, 169, 182, 208, 221, 247, 260, 286, 299, 325, 338, 364, 377, 403, 416, 442, 455, 481, 494, "
          ]
        }
      ]
    },
    {
      "cell_type": "markdown",
      "source": [
        "----\n",
        "Question 14. Write a Python program to convert temperatures to and from Celsius and Fahrenheit.\n",
        "\n",
        "\n",
        "----"
      ],
      "metadata": {
        "id": "Ag4iTEOa1HcP"
      }
    },
    {
      "cell_type": "code",
      "source": [
        "# Question 14:\n",
        "# Python program to convert temperatures to and from Celsius and Fahrenheit\n",
        "# Formulas: C = (F-32)*5/9.    F = C * 9/5 + 32\n",
        "\n",
        "def conv_to_celsius(fahrenheit_input):\n",
        "  return (fahrenheit_input - 32) * 5/9\n",
        "\n",
        "def conv_to_fahrenheit(celsius_input):\n",
        "  return (celsius_input * 9/5) + 32\n",
        "\n",
        "def main():\n",
        "\n",
        "  user_input = float(input(\"Enter a number to convert: \"))\n",
        "\n",
        "  print(\"What conversion are you trying to perform? \")\n",
        "  print(\"1.Celsius to Fahrenheit\\n2.Fahrenheit to Celsius\\n\")\n",
        "  choice = int(input(\"Enter the choice: [1,2]: \"))\n",
        "\n",
        "  if choice == 1:\n",
        "    print(conv_to_fahrenheit(user_input), 'degree fahrenheit')\n",
        "\n",
        "  elif choice == 2:\n",
        "    print(conv_to_celsius(user_input),'degree celsius')\n",
        "\n",
        "  else:\n",
        "    print(\"Wrong Choice!\")\n",
        "main()"
      ],
      "metadata": {
        "colab": {
          "base_uri": "https://localhost:8080/"
        },
        "id": "OOsGBcGOcQAN",
        "outputId": "e08c6d3d-0118-447a-c732-7476096992c1"
      },
      "execution_count": 55,
      "outputs": [
        {
          "output_type": "stream",
          "name": "stdout",
          "text": [
            "Enter a number to convert: 72\n",
            "What conversion are you trying to perform? \n",
            "1.Celsius to Fahrenheit\n",
            "2.Fahrenheit to Celsius\n",
            "\n",
            "Enter the choice: [1,2]: 2\n",
            "22.22222222222222 degree celsius\n"
          ]
        }
      ]
    },
    {
      "cell_type": "markdown",
      "source": [
        "----\n",
        "\n",
        "Question 15. Write a Python program that takes two digits m (row) and n (column) as input and generates a two-dimensional array. The element value in the i-th row and j-th column of the array should be i*j. else it will be 0\n",
        "\n",
        "\n",
        "----"
      ],
      "metadata": {
        "id": "7b-Z7QYX1XED"
      }
    },
    {
      "cell_type": "markdown",
      "source": [
        "        # Python program that takes two digits m(row) and n(column) as input\n",
        "        # Generate a two-dimensional array\n",
        "        # The element value in the i-th row and j-th column should be i*j\n",
        "        # else will be 0"
      ],
      "metadata": {
        "id": "JSmjxrSOWwHD"
      }
    },
    {
      "cell_type": "code",
      "source": [
        "# Question 15:\n",
        "\n",
        "# Input the number of rows and columns\n",
        "m = int(input(\"Enter the number of rows (m): \"))\n",
        "#m = 5 - > Test Input\n",
        "n = int(input(\"Enter the number of columns (n): \"))\n",
        "# n = 5 -> Test Input\n",
        "\n",
        "# Initialize an empty 2D and multi-dimensional array\n",
        "two_dimensional_array = []\n",
        "multi_dimensional_array = []\n",
        "\n",
        "# Fill the array using nested loops\n",
        "for i in range(m):\n",
        "    row = []\n",
        "    for j in range(n):\n",
        "        row.append(i * j)\n",
        "    two_dimensional_array.append(row)   # Make each 1D list\n",
        "\n",
        "for row in two_dimensional_array:       # Combine each 1D list to make a multidimensional list\n",
        "    multi_dimensional_array.append(row)\n",
        "\n",
        "print(multi_dimensional_array)\n",
        "#print(type(multi_dimensional_array))\n",
        "# print(multi_dimensional_array[3][3]) -> Test Print"
      ],
      "metadata": {
        "colab": {
          "base_uri": "https://localhost:8080/"
        },
        "id": "WZ13dvSkmTKX",
        "outputId": "f07da77b-0fd9-4d00-d847-f24eddc9bd9b"
      },
      "execution_count": 56,
      "outputs": [
        {
          "output_type": "stream",
          "name": "stdout",
          "text": [
            "Enter the number of rows (m): 5\n",
            "Enter the number of columns (n): 5\n",
            "[[0, 0, 0, 0, 0], [0, 1, 2, 3, 4], [0, 2, 4, 6, 8], [0, 3, 6, 9, 12], [0, 4, 8, 12, 16]]\n"
          ]
        }
      ]
    },
    {
      "cell_type": "markdown",
      "source": [
        "----\n",
        "Question 16. Write a Python program that accepts a string and calculates the number of digits and letters.\n",
        "\n",
        "    Sample Data: Python 3.2\n",
        "    Expected Output:\n",
        "    Letters 6\n",
        "    Digits 2\n",
        "\n",
        "\n",
        "\n",
        "----"
      ],
      "metadata": {
        "id": "3x38BbbD1i-Y"
      }
    },
    {
      "cell_type": "code",
      "source": [
        "# Question 16:\n",
        "\n",
        "def check_digits_and_letters(user_string):\n",
        "  alphabets_counter = 0\n",
        "  number_counter = 0\n",
        "  special_char = 0\n",
        "\n",
        "  for element in user_string:\n",
        "    if element.isalpha():\n",
        "      alphabets_counter += 1\n",
        "    elif element.isdigit():\n",
        "      number_counter += 1\n",
        "    elif not element.isalnum():\n",
        "      special_char += 1\n",
        "\n",
        "  return alphabets_counter, number_counter, special_char\n",
        "\n",
        "def main():\n",
        "  user_string_input = input(\"Enter a string to check the number of digits and letters in it : \")\n",
        "  letters, digit, spec_char = check_digits_and_letters(user_string_input)\n",
        "\n",
        "  print(\"Number of letters: \", letters )\n",
        "  print(\"Number of digits: \", digit)\n",
        "  print(\"Number of Special Characters: \", spec_char)\n",
        "\n",
        "main()"
      ],
      "metadata": {
        "colab": {
          "base_uri": "https://localhost:8080/"
        },
        "id": "uRm-Cv_GTlPz",
        "outputId": "7a367c24-5646-44d8-db33-6c8d29affeef"
      },
      "execution_count": 57,
      "outputs": [
        {
          "output_type": "stream",
          "name": "stdout",
          "text": [
            "Enter a string to check the number of digits and letters in it : Data Science *3.2\n",
            "Number of letters:  11\n",
            "Number of digits:  2\n",
            "Number of Special Characters:  4\n"
          ]
        }
      ]
    },
    {
      "cell_type": "markdown",
      "source": [
        "----\n",
        "Question 17. Print all possible combination for a string or a word\n",
        "\n",
        "    Sample input “ABC”\n",
        "    Sample output\n",
        "    BAC\n",
        "    CAB\n",
        "    CBA\n",
        "    ACB\n",
        "    BCA\n",
        "----"
      ],
      "metadata": {
        "id": "o8L_FIj-10dU"
      }
    },
    {
      "cell_type": "code",
      "source": [
        "# Question 17:\n",
        "# Recursion method\n",
        "def generate_permutations(current_permutation, remaining_characters):\n",
        "\n",
        "  if len(remaining_characters) == 0:\n",
        "    print(current_permutation)\n",
        "  else:\n",
        "    for i in range(len(remaining_characters)):\n",
        "      new_permutation = current_permutation + remaining_characters[i]\n",
        "      new_remaining = remaining_characters[:i] + remaining_characters[i + 1:]\n",
        "      generate_permutations(new_permutation, new_remaining)\n",
        "\n",
        "def main():\n",
        "\n",
        "  user_input = input(\"Enter a word or string: \")\n",
        "  generate_permutations(\"\", user_input)\n",
        "\n",
        "main()"
      ],
      "metadata": {
        "colab": {
          "base_uri": "https://localhost:8080/"
        },
        "id": "GnEbvcflweI-",
        "outputId": "86a5c698-f0e3-481c-ae66-dd2ec8c87c54"
      },
      "execution_count": 58,
      "outputs": [
        {
          "output_type": "stream",
          "name": "stdout",
          "text": [
            "Enter a word or string: CATS\n",
            "CATS\n",
            "CAST\n",
            "CTAS\n",
            "CTSA\n",
            "CSAT\n",
            "CSTA\n",
            "ACTS\n",
            "ACST\n",
            "ATCS\n",
            "ATSC\n",
            "ASCT\n",
            "ASTC\n",
            "TCAS\n",
            "TCSA\n",
            "TACS\n",
            "TASC\n",
            "TSCA\n",
            "TSAC\n",
            "SCAT\n",
            "SCTA\n",
            "SACT\n",
            "SATC\n",
            "STCA\n",
            "STAC\n"
          ]
        }
      ]
    },
    {
      "cell_type": "markdown",
      "source": [
        "----\n",
        "Question 18. Write a Python program to check if a triangle is equilateral, isosceles or scalene. Take 3 inputs for each side\n",
        "\n",
        "    Equilateral Triangle -> all sides are equal\n",
        "    Isoceles Triangle -> at least 2 sides are equal\n",
        "    Scalene Triangle -> no sides are equal\n",
        "\n",
        "\n",
        "----"
      ],
      "metadata": {
        "id": "VNYPD3hP2L7d"
      }
    },
    {
      "cell_type": "code",
      "source": [
        "# Question 18:\n",
        "# Python Program to check if a triangle is equilateral, isosceles, or scalene\n",
        "# Take 3 inputs for each side.\n",
        "\n",
        "def triangle_check(side1, side2, side3):\n",
        "\n",
        "  if side1 == side2 == side3:\n",
        "    return \"Equilateral Triangle\"\n",
        "  elif side1 == side2 or side2 == side3 or side1 == side3:\n",
        "    return \"Isoceles Triangle\"\n",
        "  else:\n",
        "    return \"Scalene Triangle\"\n",
        "\n",
        "\n",
        "def main():\n",
        "\n",
        "  print(\"Triange Type Check\\n\")\n",
        "  user_input1 = float(input(\"Enter the first side: \"))\n",
        "  user_input2 = float(input(\"Enter the second side: \"))\n",
        "  user_input3 = float(input(\"Enter the third side: \"))\n",
        "\n",
        "  print(triangle_check(user_input1, user_input2, user_input3))\n",
        "\n",
        "\n",
        "main()\n"
      ],
      "metadata": {
        "colab": {
          "base_uri": "https://localhost:8080/"
        },
        "id": "KF4YJNpdzsRR",
        "outputId": "3259ac26-a63f-447b-81fd-0bdd25431505"
      },
      "execution_count": 59,
      "outputs": [
        {
          "output_type": "stream",
          "name": "stdout",
          "text": [
            "Triange Type Check\n",
            "\n",
            "Enter the first side: 3\n",
            "Enter the second side: 3\n",
            "Enter the third side: 4\n",
            "Isoceles Triangle\n"
          ]
        }
      ]
    },
    {
      "cell_type": "markdown",
      "source": [
        "----\n",
        "Question 19. Write a Python program to get the next day of a given date.\n",
        "\n",
        "    Expected Output:\n",
        "    Input a year: 2016                                                      \n",
        "    Input a month [1-12]: 08                                                \n",
        "    Input a day [1-31]: 23                                                  \n",
        "    The next date is [yyyy-mm-dd] 2016-8-24\n",
        "\n",
        "\n",
        "----\n"
      ],
      "metadata": {
        "id": "FfcWTnHF2cQq"
      }
    },
    {
      "cell_type": "code",
      "source": [
        "# Question 19\n",
        "# Python program to get the next day of a given date.\n",
        "\n",
        "def date_clicker(year, month, day):\n",
        "\n",
        "  if day <= 31:\n",
        "    day += 1\n",
        "  elif day > 31:\n",
        "    day = 1\n",
        "    if month <= 12:\n",
        "      month += 1\n",
        "    elif month > 12:\n",
        "      month = 1\n",
        "      year += 1\n",
        "\n",
        "  return year, month, day\n",
        "\n",
        "def main():\n",
        "  year_input = int(input(\"Input a year: \"))\n",
        "  month_input = int(input(\"Input a month: \"))\n",
        "  day_input = int(input(\"Enter a day: \"))\n",
        "\n",
        "  year_output, month_output, day_output = date_clicker(year_input, month_input, day_input)\n",
        "\n",
        "  date_format = \"{}-{}-{}\".format(year_output, month_output, day_output)\n",
        "  print(f\"The next date is [{date_format}]\")\n",
        "\n",
        "main()"
      ],
      "metadata": {
        "colab": {
          "base_uri": "https://localhost:8080/"
        },
        "id": "FeKYaofmAuoK",
        "outputId": "a0897b96-9fc6-4eeb-f9e2-97688086dca8"
      },
      "execution_count": 61,
      "outputs": [
        {
          "output_type": "stream",
          "name": "stdout",
          "text": [
            "Input a year: 2023\n",
            "Input a month: 9\n",
            "Enter a day: 10\n",
            "The next date is [2023-9-11]\n"
          ]
        }
      ]
    }
  ]
}
