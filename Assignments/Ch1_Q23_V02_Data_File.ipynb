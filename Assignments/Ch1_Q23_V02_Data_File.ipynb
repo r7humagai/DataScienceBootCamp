{
  "nbformat": 4,
  "nbformat_minor": 0,
  "metadata": {
    "colab": {
      "provenance": [],
      "authorship_tag": "ABX9TyM21r5L8KD4zfG+STuCWMJ0"
    },
    "kernelspec": {
      "name": "python3",
      "display_name": "Python 3"
    },
    "language_info": {
      "name": "python"
    }
  },
  "cells": [
    {
      "cell_type": "code",
      "execution_count": 28,
      "metadata": {
        "id": "VmXcoakLtkW6"
      },
      "outputs": [],
      "source": [
        "import pandas as pd\n",
        "import numpy as np"
      ]
    },
    {
      "cell_type": "code",
      "source": [
        "path = '/content/Ch1_Q23_V02_Data_File.xlsx'"
      ],
      "metadata": {
        "id": "1vbIFEbQttLo"
      },
      "execution_count": 29,
      "outputs": []
    },
    {
      "cell_type": "code",
      "source": [
        "df_q4_raw = pd.read_excel(path)"
      ],
      "metadata": {
        "id": "TdNlI_cwt3pR"
      },
      "execution_count": 30,
      "outputs": []
    },
    {
      "cell_type": "code",
      "source": [
        "# Cleaning the dataset\n",
        "df_q4_raw.head(10)\n",
        "\n",
        "# Taking only the necessary columns\n",
        "\n",
        "df_q4_clean = df_q4_raw.iloc[0:,0:5]\n",
        "\n",
        "# Check if there is any null values\n",
        "df_q4_clean.isna().sum()    # There are no null values in this df"
      ],
      "metadata": {
        "colab": {
          "base_uri": "https://localhost:8080/"
        },
        "id": "hWT5wg0yt_i4",
        "outputId": "a7540ff6-80dd-4d8a-f710-5588d8cc10a2"
      },
      "execution_count": 31,
      "outputs": [
        {
          "output_type": "execute_result",
          "data": {
            "text/plain": [
              "x1    0\n",
              "x2    0\n",
              "x3    0\n",
              "x4    0\n",
              "x5    0\n",
              "dtype: int64"
            ]
          },
          "metadata": {},
          "execution_count": 31
        }
      ]
    },
    {
      "cell_type": "code",
      "source": [
        "print(df_q4_clean.head(5))"
      ],
      "metadata": {
        "colab": {
          "base_uri": "https://localhost:8080/"
        },
        "id": "6_309T84uuCX",
        "outputId": "29c06d9c-6880-4cce-9862-3edaeb7bc95b"
      },
      "execution_count": 32,
      "outputs": [
        {
          "output_type": "stream",
          "name": "stdout",
          "text": [
            "   x1    x2   x3  x4        x5\n",
            "0   1   Own  172   2  0.054587\n",
            "1   0  Rent  183   3  0.009077\n",
            "2   1   Own  172  60  0.938140\n",
            "3   0  Rent  148   7  0.020797\n",
            "4   1   Own  194   7  0.008174\n"
          ]
        }
      ]
    },
    {
      "cell_type": "code",
      "source": [
        "'''\n",
        "Question a:\n",
        "Subset the data set to include only x2, x3, and x4.\n",
        "How many missing values are there in these three variables?\n",
        "'''\n",
        "\n",
        "df_subseta = df_q4_clean.loc[:, ['x2','x3','x4']]\n",
        "print(df_subseta.isna().sum(), \"\\n\")\n",
        "# No missing values\n",
        "\n",
        "print(df_subseta)"
      ],
      "metadata": {
        "colab": {
          "base_uri": "https://localhost:8080/"
        },
        "id": "CHO1ikBbuyff",
        "outputId": "e5f2a7dd-0743-4f7f-e969-8cac4a4de0c9"
      },
      "execution_count": 33,
      "outputs": [
        {
          "output_type": "stream",
          "name": "stdout",
          "text": [
            "x2    0\n",
            "x3    0\n",
            "x4    0\n",
            "dtype: int64 \n",
            "\n",
            "      x2   x3  x4\n",
            "0    Own  172   2\n",
            "1   Rent  183   3\n",
            "2    Own  172  60\n",
            "3   Rent  148   7\n",
            "4    Own  194   7\n",
            "..   ...  ...  ..\n",
            "95  Rent  209  16\n",
            "96  Rent  204   7\n",
            "97  Rent  114  52\n",
            "98  Rent  128  10\n",
            "99   Own  155  10\n",
            "\n",
            "[100 rows x 3 columns]\n"
          ]
        }
      ]
    },
    {
      "cell_type": "code",
      "source": [
        "'''\n",
        "Question b:\n",
        "Remove all observations that have “Own” as the value for x2.\n",
        "Then remove all observations that have values lower than 150 for x3.\n",
        "How many observations remain in the data set?\n",
        "'''\n",
        "#Task 1\n",
        "df_q4_task1 = df_q4_clean[df_q4_clean['x2'] != \"Own\"]\n",
        "\n",
        "#Task2\n",
        "df_q4_task2 = df_q4_task1[df_q4_task1['x3'] > 150]\n",
        "# To check how many observations are there\n",
        "print(\"Number of Observations: \",df_q4_task2.shape[0], \"\\n\")\n",
        "print(df_q4_task2)"
      ],
      "metadata": {
        "colab": {
          "base_uri": "https://localhost:8080/"
        },
        "id": "SdS0sm3au2Oo",
        "outputId": "9525284f-f821-4ee3-b7e0-2f2b7d7c52fb"
      },
      "execution_count": 34,
      "outputs": [
        {
          "output_type": "stream",
          "name": "stdout",
          "text": [
            "Number of Observations:  26 \n",
            "\n",
            "    x1    x2   x3  x4        x5\n",
            "1    0  Rent  183   3  0.009077\n",
            "9    0  Rent  164  15  0.004495\n",
            "11   0  Rent  156  27  0.057231\n",
            "13   0  Rent  219  22  0.022706\n",
            "14   0  Rent  173  26  0.969233\n",
            "20   0  Rent  218  59  0.021796\n",
            "29   0  Rent  166   9  0.468196\n",
            "32   0  Rent  162  44  0.003414\n",
            "33   0  Rent  183  40  0.005908\n",
            "34   0  Rent  200  19  0.005501\n",
            "36   0  Rent  179   4  0.001544\n",
            "37   0  Rent  187  51  0.004931\n",
            "40   0  Rent  209   3  0.028299\n",
            "44   0  Rent  184  54  0.019936\n",
            "52   0  Rent  188  52  0.394119\n",
            "59   0  Rent  166  28  0.027852\n",
            "73   0  Rent  163  59  0.038614\n",
            "74   0  Rent  184  35  0.680381\n",
            "75   0  Rent  168  59  0.007326\n",
            "77   0  Rent  161  16  0.048316\n",
            "85   0  Rent  215  58  0.005424\n",
            "86   0  Rent  191  27  0.000896\n",
            "92   0  Rent  217  13  0.003076\n",
            "94   0  Rent  200   6  0.314209\n",
            "95   0  Rent  209  16  0.666483\n",
            "96   0  Rent  204   7  0.000385\n"
          ]
        }
      ]
    }
  ]
}