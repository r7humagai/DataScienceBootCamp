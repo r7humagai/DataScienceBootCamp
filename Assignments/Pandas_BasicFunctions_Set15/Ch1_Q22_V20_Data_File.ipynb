{
  "nbformat": 4,
  "nbformat_minor": 0,
  "metadata": {
    "colab": {
      "provenance": [],
      "authorship_tag": "ABX9TyMmjfSvCBEEIfKrxoPixAuu"
    },
    "kernelspec": {
      "name": "python3",
      "display_name": "Python 3"
    },
    "language_info": {
      "name": "python"
    }
  },
  "cells": [
    {
      "cell_type": "code",
      "execution_count": 36,
      "metadata": {
        "id": "QUx1Dk2pmCGg"
      },
      "outputs": [],
      "source": [
        "import pandas as pd\n",
        "import numpy as np"
      ]
    },
    {
      "cell_type": "code",
      "source": [
        "path = '/content/Ch1_Q22_V20_Data_File.xlsx'"
      ],
      "metadata": {
        "id": "I1BSBHw5mKkd"
      },
      "execution_count": 37,
      "outputs": []
    },
    {
      "cell_type": "code",
      "source": [
        "df_q3_raw = pd.read_excel(path)\n",
        "print(df_q3_raw.head(5))\n",
        "print(df_q3_raw.shape)"
      ],
      "metadata": {
        "colab": {
          "base_uri": "https://localhost:8080/"
        },
        "id": "1A35EOJ7mNIp",
        "outputId": "2ce2dc2e-997d-4e8f-c785-3689e1744d0e"
      },
      "execution_count": 38,
      "outputs": [
        {
          "output_type": "stream",
          "name": "stdout",
          "text": [
            "    x1   x2         x3  x4  Unnamed: 4  Unnamed: 5  \\\n",
            "0  109  133 1957-08-27   0         NaN         NaN   \n",
            "1  514  577 1985-05-14   0         NaN         NaN   \n",
            "2  207  452 1981-02-10   1         NaN         NaN   \n",
            "3   87   93 1974-10-08   1         NaN         NaN   \n",
            "4  152  254 1971-09-16   0         NaN         NaN   \n",
            "\n",
            "                                          Unnamed: 6  Unnamed: 7  \\\n",
            "0                                                NaN         NaN   \n",
            "1                                                NaN         NaN   \n",
            "2  a. Subset the data set to include only observa...         NaN   \n",
            "3                                                NaN         NaN   \n",
            "4                                                NaN         NaN   \n",
            "\n",
            "                                          Unnamed: 8  Unnamed: 9 Unnamed: 10  \n",
            "0  The accompanying data set contains four variab...         NaN         NaN  \n",
            "1                                                NaN         NaN         NaN  \n",
            "2                                                NaN         NaN         NaN  \n",
            "3                                                NaN         NaN         NaN  \n",
            "4                                                NaN         NaN         NaN  \n",
            "(52, 11)\n"
          ]
        }
      ]
    },
    {
      "cell_type": "code",
      "source": [
        "# Cleaning the dataset\n",
        "# Selecting the necessary columns\n",
        "\n",
        "df_q3_clean = df_q3_raw.iloc[0: ,0:4]\n",
        "print(df_q3_clean.head(5), \"\\n\")\n",
        "print(df_q3_clean.shape, \"\\n\")\n",
        "print(df_q3_clean.isnull().sum())     # There are no null values)"
      ],
      "metadata": {
        "colab": {
          "base_uri": "https://localhost:8080/"
        },
        "id": "GPCTL5ppm8-p",
        "outputId": "410a1b37-3926-4742-b65c-edb446ea2b5d"
      },
      "execution_count": 39,
      "outputs": [
        {
          "output_type": "stream",
          "name": "stdout",
          "text": [
            "    x1   x2         x3  x4\n",
            "0  109  133 1957-08-27   0\n",
            "1  514  577 1985-05-14   0\n",
            "2  207  452 1981-02-10   1\n",
            "3   87   93 1974-10-08   1\n",
            "4  152  254 1971-09-16   0 \n",
            "\n",
            "(52, 4) \n",
            "\n",
            "x1    0\n",
            "x2    0\n",
            "x3    0\n",
            "x4    0\n",
            "dtype: int64\n"
          ]
        }
      ]
    },
    {
      "cell_type": "code",
      "source": [
        "# Checking the datatypes\n",
        "df_q3_clean.dtypes"
      ],
      "metadata": {
        "colab": {
          "base_uri": "https://localhost:8080/"
        },
        "id": "8eD0ClTXpnnZ",
        "outputId": "95bdd4ee-012e-42e0-cda5-a73b13ab6aa1"
      },
      "execution_count": 40,
      "outputs": [
        {
          "output_type": "execute_result",
          "data": {
            "text/plain": [
              "x1             int64\n",
              "x2             int64\n",
              "x3    datetime64[ns]\n",
              "x4             int64\n",
              "dtype: object"
            ]
          },
          "metadata": {},
          "execution_count": 40
        }
      ]
    },
    {
      "cell_type": "code",
      "source": [
        "'''\n",
        "Question a\n",
        "Subset the data set to include only observations that have a date on or after May 1, 1975 for x3. How many observations are in the subset data?\n",
        "'''\n",
        "# Change the 'x3' column to datetime format\n",
        "df_q3_clean['x3'] = pd.to_datetime(df_q3_clean['x3'])\n",
        "\n",
        "# df_subsetA contains only the datas that are on or after May1,1975\n",
        "df_subsetA = df_q3_clean.loc[df_q3_clean['x3'] >= '1975-05-1']\n",
        "print(\"Observations in df_subset \", df_subsetA.shape[0],\"\\n\")\n",
        "print(df_subsetA)"
      ],
      "metadata": {
        "colab": {
          "base_uri": "https://localhost:8080/"
        },
        "id": "3fQLRjfMoMKo",
        "outputId": "e7b69fbc-897d-4018-e0a9-c3f60c78f330"
      },
      "execution_count": 41,
      "outputs": [
        {
          "output_type": "stream",
          "name": "stdout",
          "text": [
            "Observations in df_subset  25 \n",
            "\n",
            "     x1   x2         x3  x4\n",
            "1   514  577 1985-05-14   0\n",
            "2   207  452 1981-02-10   1\n",
            "5   356  348 1999-10-27   1\n",
            "6   580  561 1993-03-03   0\n",
            "7   158  147 1989-12-26   0\n",
            "9    50   92 1982-12-17   1\n",
            "10  228  232 1984-02-04   0\n",
            "12  162  141 1979-01-12   0\n",
            "17   41  160 1996-09-15   0\n",
            "20  277  175 1994-06-22   1\n",
            "22  195  170 1978-01-24   1\n",
            "23  300  364 1991-02-27   0\n",
            "29  569  336 1984-07-06   0\n",
            "30  391  326 1989-03-27   0\n",
            "31  180   99 1978-04-03   0\n",
            "33  176  213 1982-04-06   0\n",
            "35  107  179 1990-03-06   0\n",
            "38  239  306 1984-05-08   1\n",
            "39   90  168 1997-08-20   1\n",
            "40  242  241 1980-03-14   1\n",
            "42   56   64 1995-09-01   1\n",
            "43  460  173 1983-09-15   1\n",
            "45  253  145 1995-12-16   1\n",
            "46  231  269 1984-05-11   0\n",
            "50  235  237 1981-03-08   0\n"
          ]
        }
      ]
    },
    {
      "cell_type": "code",
      "source": [
        "'''\n",
        "Question b\n",
        "Subset the original data set based on the binary 1/0 values for x4. How many observations are in each of the two subsets?\n",
        "'''\n",
        "\n",
        "df_zeroValues = df_q3_clean.loc[df_q3_clean['x4'] == 0]\n",
        "print(df_zeroValues.head(5), \"\\n\")\n",
        "df_oneValues = df_q3_clean.loc[df_q3_clean['x4'] == 1]\n",
        "print(df_oneValues.head(5), \"\\n\")\n",
        "\n",
        "print('Observations in 0 values for x4', df_zeroValues.shape[0])\n",
        "print('Observations in 1 values for x4', df_oneValues.shape[0])"
      ],
      "metadata": {
        "colab": {
          "base_uri": "https://localhost:8080/"
        },
        "id": "Fg9uSOOzoMbl",
        "outputId": "238a4a49-4f0a-4035-f15d-cbf610d2a6ad"
      },
      "execution_count": 42,
      "outputs": [
        {
          "output_type": "stream",
          "name": "stdout",
          "text": [
            "    x1   x2         x3  x4\n",
            "0  109  133 1957-08-27   0\n",
            "1  514  577 1985-05-14   0\n",
            "4  152  254 1971-09-16   0\n",
            "6  580  561 1993-03-03   0\n",
            "7  158  147 1989-12-26   0 \n",
            "\n",
            "     x1   x2         x3  x4\n",
            "2   207  452 1981-02-10   1\n",
            "3    87   93 1974-10-08   1\n",
            "5   356  348 1999-10-27   1\n",
            "9    50   92 1982-12-17   1\n",
            "11  386  487 1958-09-21   1 \n",
            "\n",
            "Observations in 0 values for x4 28\n",
            "Observations in 1 values for x4 24\n"
          ]
        }
      ]
    }
  ]
}
