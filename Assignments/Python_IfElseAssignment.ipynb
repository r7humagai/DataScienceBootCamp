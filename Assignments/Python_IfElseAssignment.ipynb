{
  "nbformat": 4,
  "nbformat_minor": 0,
  "metadata": {
    "colab": {
      "provenance": []
    },
    "kernelspec": {
      "name": "python3",
      "display_name": "Python 3"
    },
    "language_info": {
      "name": "python"
    }
  },
  "cells": [
    {
      "cell_type": "markdown",
      "source": [
        "If Else Practice Questions:\n",
        "\n",
        "1.   Class Assignments\n",
        "2.   Take Home Assignments\n"
      ],
      "metadata": {
        "id": "STv79dSHs6KX"
      }
    },
    {
      "cell_type": "code",
      "execution_count": null,
      "metadata": {
        "colab": {
          "base_uri": "https://localhost:8080/"
        },
        "id": "RTF1NNfdmYsr",
        "outputId": "6746186e-e719-436e-e1c6-50ed29951571"
      },
      "outputs": [
        {
          "output_type": "stream",
          "name": "stdout",
          "text": [
            "The number is not divisible by 7.\n"
          ]
        }
      ],
      "source": [
        "#IfElseCondition Practice\n",
        "\n",
        "# Q1. check is a number is divisible by 7 or not\n",
        "\n",
        "a = 48\n",
        "if a % 7 == 0:        # Check the remainder and if it equals 0, it is divisible\n",
        "  print (\"The number is divisible by 7.\")\n",
        "else:\n",
        "  print (\"The number is not divisible by 7.\")"
      ]
    },
    {
      "cell_type": "code",
      "source": [
        "# Q2. Write a program to print hello if a number is multiple of five or 3 else print bye\n",
        "# Modulus operator: Remainder is zero(0) if the number is divisible\n",
        "# Note: Multiple vs Divisible. 10 is the multiple of 5, 10 is divisible by 5, essentially same thing.\n",
        "\n",
        "a = 41\n",
        "if (a % 5 == 0) or ( a % 3 == 0):   # Modulus operator returns the remainder\n",
        "  print (\"hello\")\n",
        "else:\n",
        "  print (\"bye\")\n"
      ],
      "metadata": {
        "id": "PEyciJIPnhuQ"
      },
      "execution_count": null,
      "outputs": []
    },
    {
      "cell_type": "code",
      "source": [
        "# Note: Indentation\n",
        "\n",
        "x = 1\n",
        "if(x == 1):\n",
        "  print(\"hello\")\n",
        "  print (\"world\")   # This line only prints after\n",
        "\n",
        "y = 1\n",
        "if (y == 2):\n",
        "  print(\"hello\")\n",
        "print (\"world\")     # This line prints regardless\n"
      ],
      "metadata": {
        "id": "PQu6bIJIrfMT"
      },
      "execution_count": null,
      "outputs": []
    },
    {
      "cell_type": "code",
      "source": [
        "# User Input Function\n",
        "\n",
        "input_message = input()\n",
        "print(input_message)\n",
        "print(type(input_message))        # Default type is string\n",
        "\n",
        "# the type can be changed\n",
        "\n",
        "input_message_name = input(\"Enter the name: \")    # By default takes in as string\n",
        "input_message_int = int(input_message_name)       # Changed it into a number\n",
        "input_message_float = float(input_message_name)   # Changed it into a float\n"
      ],
      "metadata": {
        "id": "YRnm2786sN4a"
      },
      "execution_count": null,
      "outputs": []
    },
    {
      "cell_type": "code",
      "source": [
        "# Practice Question:\n",
        "# Q. Write a python program that will check for the following conditions:\n",
        "#    If the light is green – Car is allowed to go\n",
        "#    If the light is yellow – Car has to wait\n",
        "#    If the light is red – Car has to stop\n",
        "#.   Other signal – unrecognized signal. Example black, blue, etc…\n",
        "\n",
        "input_message_light = input (\"Color of Light: \").lower()    # Taking User Input, lower() lowercases all characters\n",
        "\n",
        "if(input_message_light) == \"green\":\n",
        "  print(\"Car is allowed to go!\")\n",
        "elif(input_message_light) == \"yellow\":\n",
        "  print(\"Car has to wait!\")\n",
        "elif(input_message_light) == \"red\":\n",
        "  print(\"Car has to stop!\")\n",
        "else:\n",
        "  print(\"Unrecognized Signal!\")\n"
      ],
      "metadata": {
        "colab": {
          "base_uri": "https://localhost:8080/"
        },
        "id": "xjcAxowtsXE2",
        "outputId": "4a35c8ea-5650-4f55-a139-c9591ed95ea1"
      },
      "execution_count": null,
      "outputs": [
        {
          "output_type": "stream",
          "name": "stdout",
          "text": [
            "Color of Light: Red\n",
            "Car has to stop!\n"
          ]
        }
      ]
    },
    {
      "cell_type": "code",
      "source": [
        "# Practice Question\n",
        "'''\n",
        "Write a program to trace your subject mark. Your program should fulfill the following conditions:\n",
        "\n",
        "If the subject mark is below 0 and above 100, print “error: mark should be between 0 and 100 only”\n",
        "Students will fail in the subject if their mark is below 50.\n",
        "Students will pass in the subject if they score 50 and above.\n",
        "If subject mark is between 50 and 60, grade student as good.\n",
        "If subject mark is between 60 and 80, grade student as very good.\n",
        "If subject mark is between 80 and 100, grade student as outstanding.\n",
        "\n",
        "Make sure to print their mark in every statement to prove that the condition is fulfilled.\n",
        "Moreover, name, class, and section should be also displayed along with the marks.\n",
        "'''\n",
        "score_input_name  = input (\"Enter the Student's name: \")\n",
        "score_input_class = input (\"Enter the Student's class: \")\n",
        "score_input_section = input (\"Enter the Student's section: \")\n",
        "score_input = input(\"Enter the Student's score: \")\n",
        "score = float(score_input)\n",
        "\n",
        "print(\"Name: \"+ score_input_name), print(\"Class: \" + score_input_class), print(\"Section: \"+score_input_section)\n",
        "\n",
        "if(score < 0 or score > 100):\n",
        "  print(\"Score: \"+ str(score) +\" Error: Mark should be between 0 and 100 only\")\n",
        "elif(score <= 60 and score >= 50 ):\n",
        "  print(\"Score: \"+ str(score) + \" Pass! Good!\")\n",
        "elif(score <= 80 and score > 60):\n",
        "  print (\"Score: \" + str(score) + \" Pass! Very Good! \")\n",
        "elif(score <= 100 and score > 80):\n",
        "  print(\"Score: \" + str(score) + \" Pass! Outstanding!\")\n",
        "else:\n",
        "  print(\"Score: \"+ str(score) +\" Student has failed the exam! \")\n",
        "\n",
        "# Third condition should be nested if statement\n",
        "# Note: For Concatenation, if using a ',' instead of '+', don't need to change the type\n"
      ],
      "metadata": {
        "id": "_gLTmlMNvFK_"
      },
      "execution_count": null,
      "outputs": []
    },
    {
      "cell_type": "code",
      "execution_count": null,
      "metadata": {
        "id": "NVYeN-fBrrHt"
      },
      "outputs": [],
      "source": [
        "# Homework Assignment [DUE 08/14] on Python Basic Operators(If/Else)"
      ]
    },
    {
      "cell_type": "code",
      "source": [
        "# Q1.\n",
        "\n",
        "empl_input_salary = float(input(\"Enter the salary: \"))\n",
        "empl_input_yos = float(input(\"Enter the years of service: \"))\n",
        "\n",
        "print(\"Years of Service:\", empl_input_yos)\n",
        "\n",
        "if(empl_input_yos > 5):\n",
        "  bonus = empl_input_salary * 0.05\n",
        "  print(\"Bonus: $\", bonus)\n",
        "else:\n",
        "  print(\"No Bonus!\")\n"
      ],
      "metadata": {
        "id": "Kr9MThp5r1nx",
        "colab": {
          "base_uri": "https://localhost:8080/"
        },
        "outputId": "d952eafb-cde3-46e7-993e-84aa9a758eef"
      },
      "execution_count": null,
      "outputs": [
        {
          "output_type": "stream",
          "name": "stdout",
          "text": [
            "Enter the salary: 20000\n",
            "Enter the years of service: 3\n",
            "Years of Service: 3.0\n",
            "No Bonus!\n"
          ]
        }
      ]
    },
    {
      "cell_type": "code",
      "source": [
        "# Q2.\n",
        "\n",
        "length = float(input(\"Enter the length: \"))\n",
        "breadth = float(input(\"Enter the breadth: \"))\n",
        "\n",
        "if(length == breadth):\n",
        "  print(\"Its a square! \")\n",
        "else:\n",
        "  print(\"Its a rectangle! \")"
      ],
      "metadata": {
        "id": "uzb97HsZszPv"
      },
      "execution_count": null,
      "outputs": []
    },
    {
      "cell_type": "code",
      "source": [
        "# Q3:\n",
        "\n",
        "value1 = int(input(\"Enter the first value: \"))\n",
        "value2 = int(input(\"Enter the second value: \"))\n",
        "\n",
        "if(value1 > value2): print(\"The greater value is: \", value1)\n",
        "elif (value2 > value1): print(\"The greater value is: \", value2)\n",
        "else: print(\"Both the value are equal.\")\n"
      ],
      "metadata": {
        "id": "PHNs3-fiv48f",
        "colab": {
          "base_uri": "https://localhost:8080/"
        },
        "outputId": "3143a2ec-e6fc-4cc9-d7e3-95ccb47be50a"
      },
      "execution_count": null,
      "outputs": [
        {
          "output_type": "stream",
          "name": "stdout",
          "text": [
            "Enter the first value: 25\n",
            "Enter the second value: 26\n",
            "The greater value is:  26\n"
          ]
        }
      ]
    },
    {
      "cell_type": "code",
      "source": [
        "# Q4:\n",
        "\n",
        "discount = 10/100\n",
        "unitcost = 100\n",
        "quantity = int(input(\"Please enter the quantity: \"))\n",
        "cost = quantity * unitcost\n",
        "\n",
        "print(\"Total Cost is: $\")\n",
        "\n",
        "if(cost > 1000):\n",
        "  unitcost  = unitcost - unitcost * discount\n",
        "  print(unitcost * quantity)\n",
        "else:\n",
        "  print(unitcost * quantity)"
      ],
      "metadata": {
        "id": "vH3J_Ndj09hs",
        "colab": {
          "base_uri": "https://localhost:8080/"
        },
        "outputId": "4359f446-4356-401e-bd71-9f94b8308d74"
      },
      "execution_count": null,
      "outputs": [
        {
          "output_type": "stream",
          "name": "stdout",
          "text": [
            "Please enter the quantity: 9\n",
            "Total Cost is: $\n",
            "900\n"
          ]
        }
      ]
    },
    {
      "cell_type": "code",
      "source": [
        "# Q5: Grading system\n",
        "\n",
        "score = float(input(\"Enter the score: \"))\n",
        "\n",
        "print (\"Grade: \")\n",
        "\n",
        "if(score < 0 or score > 100):\n",
        "  print(\"Invalid Response!\")\n",
        "elif (score < 25): print (\"F\")\n",
        "elif (score < 45 and score >= 25): print(\"E\")\n",
        "elif (score < 50 and score >= 45): print(\"D\")\n",
        "elif (score < 60 and score >= 50): print(\"C\")\n",
        "elif (score < 80 and score >= 60): print(\"B\")\n",
        "else: print (\"A\")\n"
      ],
      "metadata": {
        "colab": {
          "base_uri": "https://localhost:8080/"
        },
        "id": "rN4kQpeU8OEy",
        "outputId": "126bc6ba-98eb-4a33-bf43-b466b1b6e987"
      },
      "execution_count": null,
      "outputs": [
        {
          "output_type": "stream",
          "name": "stdout",
          "text": [
            "Enter the score: 45\n",
            "Grade: \n",
            "D\n"
          ]
        }
      ]
    },
    {
      "cell_type": "code",
      "source": [
        "# Q6. Oldest and Youngest of the three given ages.\n",
        "\n",
        "personA = int(input(\"Enter the first person's age: \"))\n",
        "personB = int(input(\"Enter the second person's age: \"))\n",
        "personC = int(input(\"Enter the third person's age: \"))\n",
        "\n",
        "# 3 if condition each Test one is oldest, 2 nested if in each assuming remaining are youngest\n",
        "\n",
        "if(personA >= personB and personA >= personC):  #Test: PersonA is oldest\n",
        "  if (personB > personC):                       # Test: B and C for youngest\n",
        "    print(\"PersonC is youngest.\")\n",
        "  else:\n",
        "    print(\"PersonB is youngest.\")\n",
        "  print(\"PersonA is oldest\")\n",
        "\n",
        "elif(personB >= personA and personB >= personC):  # Test: PersonB is oldest\n",
        "  if (personA > personC):                         # Test: A and C for youngest\n",
        "    print(\"PersonC is youngest.\")\n",
        "  else:\n",
        "    print(\"PersonA is youngest. \")\n",
        "  print(\"PersonB is the oldest.\")\n",
        "\n",
        "elif(personC >= personA and personC >= personB):    # Test: PersonC is oldest\n",
        "  if(personA > personB):                            # Test: A and B for youngest\n",
        "    print(\"PersonB is youngest. \")\n",
        "  else:\n",
        "    print(\"Person A is youngest. \")\n",
        "  print(\"PersonC is the oldest.\")\n"
      ],
      "metadata": {
        "id": "7QdIZHDVJQfW"
      },
      "execution_count": null,
      "outputs": []
    },
    {
      "cell_type": "code",
      "source": [
        "# Q7. Absolute value of a number regular method.\n",
        "\n",
        "user_input = int(input(\"Enter a number: \"))\n",
        "\n",
        "if user_input < 0:\n",
        "  user_input *= -1\n",
        "  print(user_input)\n",
        "else:\n",
        "  print(user_input)\n"
      ],
      "metadata": {
        "colab": {
          "base_uri": "https://localhost:8080/"
        },
        "id": "RPlBpb7qMsp6",
        "outputId": "46903415-146a-4bd1-91dd-78ca4ef12e03"
      },
      "execution_count": null,
      "outputs": [
        {
          "output_type": "stream",
          "name": "stdout",
          "text": [
            "Enter a number: -20\n",
            "20\n"
          ]
        }
      ]
    },
    {
      "cell_type": "code",
      "source": [
        "# Q7. Absolute value of a number using abs()\n",
        "\n",
        "user_input = int(input(\"Enter a number: \"))\n",
        "user_input = abs(user_input)      #Python built in function abs()\n",
        "print(\"The output value is: \", (user_input))\n"
      ],
      "metadata": {
        "colab": {
          "base_uri": "https://localhost:8080/"
        },
        "id": "KOT5M7MYEJR-",
        "outputId": "2ac3dcb9-3daa-495c-f595-8cc343168eca"
      },
      "execution_count": null,
      "outputs": [
        {
          "output_type": "stream",
          "name": "stdout",
          "text": [
            "Enter a number: -1\n",
            "The output value is:  1\n"
          ]
        }
      ]
    },
    {
      "cell_type": "code",
      "source": [
        "# Q8.\n",
        "\n",
        "class_held = int(input(\"Enter the number of classes held: \"))\n",
        "class_attend = int(input(\"Enter the number of classes attended: \"))\n",
        "\n",
        "per_class_attend = ((class_attend)/class_held)\n",
        "\n",
        "print(\"Percentage of classes attended: \", round(per_class_attend * 100 , 2) , \"%\")\n",
        "if (per_class_attend < 0.75) : print(\"You are not allowed to sit in exam! \")\n",
        "else: print(\"You are allowed to sit in exam. \")\n"
      ],
      "metadata": {
        "id": "dAczVFPIEwyD",
        "colab": {
          "base_uri": "https://localhost:8080/"
        },
        "outputId": "7cfe19a3-b06b-4d5e-a7f8-5743b0a4cf04"
      },
      "execution_count": null,
      "outputs": [
        {
          "output_type": "stream",
          "name": "stdout",
          "text": [
            "Enter the number of classes held: 60\n",
            "Enter the number of classes attended: 40\n",
            "Percentage of classes attended:  66.67 %\n",
            "You are not allowed to sit in exam! \n"
          ]
        }
      ]
    },
    {
      "cell_type": "code",
      "source": [
        "# Q9.\n",
        "\n",
        "class_held = int(input(\"Enter the number of classes held: \"))\n",
        "class_attend = int(input(\"Enter the number of classes attended: \"))\n",
        "\n",
        "per_class_attend = ((class_attend)/class_held)\n",
        "\n",
        "medical_cause = \"y\"\n",
        "\n",
        "print(\"Percentage of classes attended: \", round(per_class_attend * 100 ,2) , \"%\")\n",
        "if (per_class_attend < 0.75):\n",
        "  medical_cause = input(\"Do you have a medical cause(Y/N): \").lower()\n",
        "  if (medical_cause == \"n\"):\n",
        "    print(\"You are not allowed to sit in exam! \")\n",
        "if(per_class_attend >= 0.75 or medical_cause == \"y\"): print(\"You are allowed to sit in exam. \")\n"
      ],
      "metadata": {
        "id": "hq6NxAcSIej9",
        "colab": {
          "base_uri": "https://localhost:8080/"
        },
        "outputId": "e99dfa08-da3d-4ac5-b7f6-d298accc0b01"
      },
      "execution_count": null,
      "outputs": [
        {
          "output_type": "stream",
          "name": "stdout",
          "text": [
            "Enter the number of classes held: 100\n",
            "Enter the number of classes attended: 76\n",
            "Percentage of classes attended:  76.0 %\n",
            "You are allowed to sit in exam. \n"
          ]
        }
      ]
    },
    {
      "cell_type": "code",
      "source": [],
      "metadata": {
        "id": "VSK2J7XdM--j"
      },
      "execution_count": null,
      "outputs": []
    }
  ]
}