{
  "nbformat": 4,
  "nbformat_minor": 0,
  "metadata": {
    "colab": {
      "provenance": []
    },
    "kernelspec": {
      "name": "python3",
      "display_name": "Python 3"
    },
    "language_info": {
      "name": "python"
    }
  },
  "cells": [
    {
      "cell_type": "markdown",
      "source": [
        "----\n",
        "#**Data PreProcessing & Linear Regression : Housing Prices**\n",
        "\n",
        "**Abstract:**\n",
        "\n",
        "*This assignment focuses on the pre-processing and analysis of housing price data using linear regression. It begins with data loading and handling missing values, proceeds to encode categorical data, and then splits the dataset for model training and testing. Linear regression is applied to model the relationship between property area and housing prices, facilitating predictions for specific property sizes. The assignment further demonstrates the visualization of the linear regression line and the manual validation of predictions, providing a comprehensive overview of data analysis and prediction in the context of housing prices.*\n",
        "\n",
        "\n",
        "**Technologies:**\n",
        "*Python, Pandas, NumPy, Matplotlib, scikit-learn, SimpleImputer.*\n",
        "\n",
        "-----"
      ],
      "metadata": {
        "id": "vUy-hwC8wrU2"
      }
    },
    {
      "cell_type": "markdown",
      "source": [
        "Importing necessary libraries"
      ],
      "metadata": {
        "id": "BZsvblCokTmk"
      }
    },
    {
      "cell_type": "code",
      "execution_count": 25,
      "metadata": {
        "id": "_55AA7RGizuV"
      },
      "outputs": [],
      "source": [
        "import pandas as pd\n",
        "import numpy as np\n",
        "import matplotlib.pyplot as plt"
      ]
    },
    {
      "cell_type": "markdown",
      "source": [
        "Loading up the data into a dataframe"
      ],
      "metadata": {
        "id": "I9loPPitkZeZ"
      }
    },
    {
      "cell_type": "code",
      "source": [
        "path = '/content/housingprice_assignment.xlsx'\n",
        "df = pd.read_excel(path)\n",
        "print(df.head(5))\n",
        "print()\n",
        "print(df.tail(5))\n",
        "print(df.shape)"
      ],
      "metadata": {
        "colab": {
          "base_uri": "https://localhost:8080/"
        },
        "id": "0hjdFutvkONb",
        "outputId": "1607281d-bec4-463a-940e-584d8326474f"
      },
      "execution_count": 26,
      "outputs": [
        {
          "output_type": "stream",
          "name": "stdout",
          "text": [
            "    cities    area   price\n",
            "0  Seattle  2100.0  450000\n",
            "1    Miami  2200.0  465000\n",
            "2   Austin  2300.0  480000\n",
            "3   Denver  2300.0  490000\n",
            "4  Seattle  2400.0  495000\n",
            "\n",
            "     cities    area   price\n",
            "25    Miami  3675.0  725000\n",
            "26   Austin  3715.0  740000\n",
            "27   Denver  3800.0  755000\n",
            "28  Seattle  3912.0  760000\n",
            "29    Miami  4000.0  780000\n",
            "(30, 3)\n"
          ]
        }
      ]
    },
    {
      "cell_type": "markdown",
      "source": [
        "#**Selecting Independent & Dependent Variables**\n",
        "'Area' is the independent variable while 'price' is the dependent variable.\n",
        "\n",
        "The dataframe will be split into two numpy arrays to store each of the variables."
      ],
      "metadata": {
        "id": "uXpdb995m_7v"
      }
    },
    {
      "cell_type": "code",
      "source": [
        "cityArea = df.iloc[0: , 0:2].values     # Independent Variable 'area'\n",
        "price = df.iloc[0: ,2:3 ].values    # Dependent Variable 'price'"
      ],
      "metadata": {
        "id": "DoFy77JjnDky"
      },
      "execution_count": 27,
      "outputs": []
    },
    {
      "cell_type": "code",
      "source": [
        "cityArea"
      ],
      "metadata": {
        "id": "SwcsLB5jsV8C",
        "colab": {
          "base_uri": "https://localhost:8080/"
        },
        "outputId": "cc81ddc6-4242-454d-994f-bbba8f7c9a0b"
      },
      "execution_count": 28,
      "outputs": [
        {
          "output_type": "execute_result",
          "data": {
            "text/plain": [
              "array([['Seattle', 2100.0],\n",
              "       ['Miami', 2200.0],\n",
              "       ['Austin', 2300.0],\n",
              "       ['Denver', 2300.0],\n",
              "       ['Seattle', 2400.0],\n",
              "       ['Miami', 2500.0],\n",
              "       ['Austin', 2600.0],\n",
              "       ['Denver', 2600.0],\n",
              "       ['Seattle', 2700.0],\n",
              "       ['Miami', nan],\n",
              "       ['Austin', 2700.0],\n",
              "       ['Denver', 2800.0],\n",
              "       ['Seattle', 2800.0],\n",
              "       ['Miami', 2900.0],\n",
              "       ['Austin', 2900.0],\n",
              "       ['Denver', 3000.0],\n",
              "       ['Seattle', 3100.0],\n",
              "       ['Miami', 3100.0],\n",
              "       ['Austin', 3200.0],\n",
              "       ['Denver', 3200.0],\n",
              "       ['Seattle', 3300.0],\n",
              "       ['Miami', 3300.0],\n",
              "       ['Austin', 3400.0],\n",
              "       ['Denver', 3500.0],\n",
              "       ['Seattle', 3600.0],\n",
              "       ['Miami', 3675.0],\n",
              "       ['Austin', 3715.0],\n",
              "       ['Denver', 3800.0],\n",
              "       ['Seattle', 3912.0],\n",
              "       ['Miami', 4000.0]], dtype=object)"
            ]
          },
          "metadata": {},
          "execution_count": 28
        }
      ]
    },
    {
      "cell_type": "code",
      "source": [
        "price"
      ],
      "metadata": {
        "id": "5kMn6aX0sYsH",
        "colab": {
          "base_uri": "https://localhost:8080/"
        },
        "outputId": "a6ffa9ab-8f49-4c8f-909e-c044fe5e5ad6"
      },
      "execution_count": 29,
      "outputs": [
        {
          "output_type": "execute_result",
          "data": {
            "text/plain": [
              "array([[450000],\n",
              "       [465000],\n",
              "       [480000],\n",
              "       [490000],\n",
              "       [495000],\n",
              "       [520000],\n",
              "       [540000],\n",
              "       [550000],\n",
              "       [555000],\n",
              "       [565000],\n",
              "       [565000],\n",
              "       [575000],\n",
              "       [585000],\n",
              "       [590000],\n",
              "       [600000],\n",
              "       [610000],\n",
              "       [610000],\n",
              "       [630000],\n",
              "       [635000],\n",
              "       [670000],\n",
              "       [680000],\n",
              "       [690000],\n",
              "       [700000],\n",
              "       [710000],\n",
              "       [715000],\n",
              "       [725000],\n",
              "       [740000],\n",
              "       [755000],\n",
              "       [760000],\n",
              "       [780000]])"
            ]
          },
          "metadata": {},
          "execution_count": 29
        }
      ]
    },
    {
      "cell_type": "markdown",
      "source": [
        "#**Managing Missing Data**\n",
        "Checking if there is any missing values in the array."
      ],
      "metadata": {
        "id": "TaMfQ56blnDX"
      }
    },
    {
      "cell_type": "code",
      "source": [
        "print(np.isnan(cityArea[0: ,1:2].astype(float)).sum())\n",
        "print(np.isnan(price).sum())"
      ],
      "metadata": {
        "colab": {
          "base_uri": "https://localhost:8080/"
        },
        "id": "t-BHXsqSl7BH",
        "outputId": "94f8b5be-a1ad-47e7-f144-b79473767077"
      },
      "execution_count": 30,
      "outputs": [
        {
          "output_type": "stream",
          "name": "stdout",
          "text": [
            "1\n",
            "0\n"
          ]
        }
      ]
    },
    {
      "cell_type": "markdown",
      "source": [
        "There is 1 missing value in area column.\n",
        "\n",
        "We can use SimpleImputer method of sklearn library to solve this."
      ],
      "metadata": {
        "id": "oh4kVMZtmSib"
      }
    },
    {
      "cell_type": "code",
      "source": [
        "from sklearn.impute import SimpleImputer\n",
        "\n",
        "imputer = SimpleImputer(missing_values = np.nan, strategy = 'most_frequent')\n",
        "imputer.fit(cityArea[0: ,1:2])\n",
        "\n",
        "cityArea[0: ,1:2] = imputer.transform(cityArea[0: ,1:2])\n",
        "print(cityArea)"
      ],
      "metadata": {
        "colab": {
          "base_uri": "https://localhost:8080/"
        },
        "id": "VrlsFyHjmyfZ",
        "outputId": "21beef13-d31f-4b3e-b0e8-d624467c4f8d"
      },
      "execution_count": 31,
      "outputs": [
        {
          "output_type": "stream",
          "name": "stdout",
          "text": [
            "[['Seattle' 2100.0]\n",
            " ['Miami' 2200.0]\n",
            " ['Austin' 2300.0]\n",
            " ['Denver' 2300.0]\n",
            " ['Seattle' 2400.0]\n",
            " ['Miami' 2500.0]\n",
            " ['Austin' 2600.0]\n",
            " ['Denver' 2600.0]\n",
            " ['Seattle' 2700.0]\n",
            " ['Miami' 2300.0]\n",
            " ['Austin' 2700.0]\n",
            " ['Denver' 2800.0]\n",
            " ['Seattle' 2800.0]\n",
            " ['Miami' 2900.0]\n",
            " ['Austin' 2900.0]\n",
            " ['Denver' 3000.0]\n",
            " ['Seattle' 3100.0]\n",
            " ['Miami' 3100.0]\n",
            " ['Austin' 3200.0]\n",
            " ['Denver' 3200.0]\n",
            " ['Seattle' 3300.0]\n",
            " ['Miami' 3300.0]\n",
            " ['Austin' 3400.0]\n",
            " ['Denver' 3500.0]\n",
            " ['Seattle' 3600.0]\n",
            " ['Miami' 3675.0]\n",
            " ['Austin' 3715.0]\n",
            " ['Denver' 3800.0]\n",
            " ['Seattle' 3912.0]\n",
            " ['Miami' 4000.0]]\n"
          ]
        }
      ]
    },
    {
      "cell_type": "markdown",
      "source": [
        "#**Encoding Categorical Data - Independent Values**\n",
        "Start by checking if there are non-numerical values in the array: 'areaCity' and 'price'"
      ],
      "metadata": {
        "id": "mItBQGxkm2FF"
      }
    },
    {
      "cell_type": "code",
      "source": [
        "print(type(cityArea[0,0]))    # String\n",
        "print(type(cityArea[0,1]))    # Float\n",
        "\n",
        "print(type(price[0,0]))       # int64"
      ],
      "metadata": {
        "colab": {
          "base_uri": "https://localhost:8080/"
        },
        "id": "RmuKalgZp_JX",
        "outputId": "617007ff-a2e2-40d0-f970-82cb8c3a0399"
      },
      "execution_count": 32,
      "outputs": [
        {
          "output_type": "stream",
          "name": "stdout",
          "text": [
            "<class 'str'>\n",
            "<class 'float'>\n",
            "<class 'numpy.int64'>\n"
          ]
        }
      ]
    },
    {
      "cell_type": "markdown",
      "source": [
        "The first column of array 'cityArea' is of String datatype,\n",
        "we need to encode it to make it numerical format for machine\n",
        "to understand."
      ],
      "metadata": {
        "id": "HnUY0GsYvg4P"
      }
    },
    {
      "cell_type": "markdown",
      "source": [
        "We can import OneHotEncoder from sklearn library to convert Categorial Data into numerical format for machine to understand."
      ],
      "metadata": {
        "id": "wp8kzgC6wgi0"
      }
    },
    {
      "cell_type": "code",
      "source": [
        "from sklearn.preprocessing import OneHotEncoder\n",
        "transformer = [('encoder', OneHotEncoder(), [0])]   # Apply OneHotEncoder to first column of array."
      ],
      "metadata": {
        "id": "rcuE5ijhw_cr"
      },
      "execution_count": 33,
      "outputs": []
    },
    {
      "cell_type": "markdown",
      "source": [
        "We can import 'ColumnTransformer' utility from sklearn library to apply transformation to our columns."
      ],
      "metadata": {
        "id": "r7nGbvEfvxRJ"
      }
    },
    {
      "cell_type": "code",
      "source": [
        "from sklearn.compose import ColumnTransformer\n",
        "ct = ColumnTransformer(transformers = transformer, remainder = 'passthrough')"
      ],
      "metadata": {
        "id": "3OvFUrBYwZAf"
      },
      "execution_count": 34,
      "outputs": []
    },
    {
      "cell_type": "markdown",
      "source": [
        "Apply the Encoding and Transformation to necessary array."
      ],
      "metadata": {
        "id": "01AmuqPSxHlc"
      }
    },
    {
      "cell_type": "code",
      "source": [
        "# fit the column transformer on the data\n",
        "ct.fit(cityArea)"
      ],
      "metadata": {
        "colab": {
          "base_uri": "https://localhost:8080/",
          "height": 119
        },
        "id": "8n8lMR2_xzGC",
        "outputId": "38a41b78-9514-4278-bfa6-2cbd0c340980"
      },
      "execution_count": 35,
      "outputs": [
        {
          "output_type": "execute_result",
          "data": {
            "text/plain": [
              "ColumnTransformer(remainder='passthrough',\n",
              "                  transformers=[('encoder', OneHotEncoder(), [0])])"
            ],
            "text/html": [
              "<style>#sk-container-id-3 {color: black;background-color: white;}#sk-container-id-3 pre{padding: 0;}#sk-container-id-3 div.sk-toggleable {background-color: white;}#sk-container-id-3 label.sk-toggleable__label {cursor: pointer;display: block;width: 100%;margin-bottom: 0;padding: 0.3em;box-sizing: border-box;text-align: center;}#sk-container-id-3 label.sk-toggleable__label-arrow:before {content: \"▸\";float: left;margin-right: 0.25em;color: #696969;}#sk-container-id-3 label.sk-toggleable__label-arrow:hover:before {color: black;}#sk-container-id-3 div.sk-estimator:hover label.sk-toggleable__label-arrow:before {color: black;}#sk-container-id-3 div.sk-toggleable__content {max-height: 0;max-width: 0;overflow: hidden;text-align: left;background-color: #f0f8ff;}#sk-container-id-3 div.sk-toggleable__content pre {margin: 0.2em;color: black;border-radius: 0.25em;background-color: #f0f8ff;}#sk-container-id-3 input.sk-toggleable__control:checked~div.sk-toggleable__content {max-height: 200px;max-width: 100%;overflow: auto;}#sk-container-id-3 input.sk-toggleable__control:checked~label.sk-toggleable__label-arrow:before {content: \"▾\";}#sk-container-id-3 div.sk-estimator input.sk-toggleable__control:checked~label.sk-toggleable__label {background-color: #d4ebff;}#sk-container-id-3 div.sk-label input.sk-toggleable__control:checked~label.sk-toggleable__label {background-color: #d4ebff;}#sk-container-id-3 input.sk-hidden--visually {border: 0;clip: rect(1px 1px 1px 1px);clip: rect(1px, 1px, 1px, 1px);height: 1px;margin: -1px;overflow: hidden;padding: 0;position: absolute;width: 1px;}#sk-container-id-3 div.sk-estimator {font-family: monospace;background-color: #f0f8ff;border: 1px dotted black;border-radius: 0.25em;box-sizing: border-box;margin-bottom: 0.5em;}#sk-container-id-3 div.sk-estimator:hover {background-color: #d4ebff;}#sk-container-id-3 div.sk-parallel-item::after {content: \"\";width: 100%;border-bottom: 1px solid gray;flex-grow: 1;}#sk-container-id-3 div.sk-label:hover label.sk-toggleable__label {background-color: #d4ebff;}#sk-container-id-3 div.sk-serial::before {content: \"\";position: absolute;border-left: 1px solid gray;box-sizing: border-box;top: 0;bottom: 0;left: 50%;z-index: 0;}#sk-container-id-3 div.sk-serial {display: flex;flex-direction: column;align-items: center;background-color: white;padding-right: 0.2em;padding-left: 0.2em;position: relative;}#sk-container-id-3 div.sk-item {position: relative;z-index: 1;}#sk-container-id-3 div.sk-parallel {display: flex;align-items: stretch;justify-content: center;background-color: white;position: relative;}#sk-container-id-3 div.sk-item::before, #sk-container-id-3 div.sk-parallel-item::before {content: \"\";position: absolute;border-left: 1px solid gray;box-sizing: border-box;top: 0;bottom: 0;left: 50%;z-index: -1;}#sk-container-id-3 div.sk-parallel-item {display: flex;flex-direction: column;z-index: 1;position: relative;background-color: white;}#sk-container-id-3 div.sk-parallel-item:first-child::after {align-self: flex-end;width: 50%;}#sk-container-id-3 div.sk-parallel-item:last-child::after {align-self: flex-start;width: 50%;}#sk-container-id-3 div.sk-parallel-item:only-child::after {width: 0;}#sk-container-id-3 div.sk-dashed-wrapped {border: 1px dashed gray;margin: 0 0.4em 0.5em 0.4em;box-sizing: border-box;padding-bottom: 0.4em;background-color: white;}#sk-container-id-3 div.sk-label label {font-family: monospace;font-weight: bold;display: inline-block;line-height: 1.2em;}#sk-container-id-3 div.sk-label-container {text-align: center;}#sk-container-id-3 div.sk-container {/* jupyter's `normalize.less` sets `[hidden] { display: none; }` but bootstrap.min.css set `[hidden] { display: none !important; }` so we also need the `!important` here to be able to override the default hidden behavior on the sphinx rendered scikit-learn.org. See: https://github.com/scikit-learn/scikit-learn/issues/21755 */display: inline-block !important;position: relative;}#sk-container-id-3 div.sk-text-repr-fallback {display: none;}</style><div id=\"sk-container-id-3\" class=\"sk-top-container\"><div class=\"sk-text-repr-fallback\"><pre>ColumnTransformer(remainder=&#x27;passthrough&#x27;,\n",
              "                  transformers=[(&#x27;encoder&#x27;, OneHotEncoder(), [0])])</pre><b>In a Jupyter environment, please rerun this cell to show the HTML representation or trust the notebook. <br />On GitHub, the HTML representation is unable to render, please try loading this page with nbviewer.org.</b></div><div class=\"sk-container\" hidden><div class=\"sk-item sk-dashed-wrapped\"><div class=\"sk-label-container\"><div class=\"sk-label sk-toggleable\"><input class=\"sk-toggleable__control sk-hidden--visually\" id=\"sk-estimator-id-7\" type=\"checkbox\" ><label for=\"sk-estimator-id-7\" class=\"sk-toggleable__label sk-toggleable__label-arrow\">ColumnTransformer</label><div class=\"sk-toggleable__content\"><pre>ColumnTransformer(remainder=&#x27;passthrough&#x27;,\n",
              "                  transformers=[(&#x27;encoder&#x27;, OneHotEncoder(), [0])])</pre></div></div></div><div class=\"sk-parallel\"><div class=\"sk-parallel-item\"><div class=\"sk-item\"><div class=\"sk-label-container\"><div class=\"sk-label sk-toggleable\"><input class=\"sk-toggleable__control sk-hidden--visually\" id=\"sk-estimator-id-8\" type=\"checkbox\" ><label for=\"sk-estimator-id-8\" class=\"sk-toggleable__label sk-toggleable__label-arrow\">encoder</label><div class=\"sk-toggleable__content\"><pre>[0]</pre></div></div></div><div class=\"sk-serial\"><div class=\"sk-item\"><div class=\"sk-estimator sk-toggleable\"><input class=\"sk-toggleable__control sk-hidden--visually\" id=\"sk-estimator-id-9\" type=\"checkbox\" ><label for=\"sk-estimator-id-9\" class=\"sk-toggleable__label sk-toggleable__label-arrow\">OneHotEncoder</label><div class=\"sk-toggleable__content\"><pre>OneHotEncoder()</pre></div></div></div></div></div></div><div class=\"sk-parallel-item\"><div class=\"sk-item\"><div class=\"sk-label-container\"><div class=\"sk-label sk-toggleable\"><input class=\"sk-toggleable__control sk-hidden--visually\" id=\"sk-estimator-id-10\" type=\"checkbox\" ><label for=\"sk-estimator-id-10\" class=\"sk-toggleable__label sk-toggleable__label-arrow\">remainder</label><div class=\"sk-toggleable__content\"><pre>[1]</pre></div></div></div><div class=\"sk-serial\"><div class=\"sk-item\"><div class=\"sk-estimator sk-toggleable\"><input class=\"sk-toggleable__control sk-hidden--visually\" id=\"sk-estimator-id-11\" type=\"checkbox\" ><label for=\"sk-estimator-id-11\" class=\"sk-toggleable__label sk-toggleable__label-arrow\">passthrough</label><div class=\"sk-toggleable__content\"><pre>passthrough</pre></div></div></div></div></div></div></div></div></div></div>"
            ]
          },
          "metadata": {},
          "execution_count": 35
        }
      ]
    },
    {
      "cell_type": "code",
      "source": [
        "# Transform the data using the fitted ColumnTransformer\n",
        "transformed_data = ct.transform(cityArea)\n",
        "\n",
        "# Convert the tranformed data into an array\n",
        "cityArea = np.array(transformed_data)"
      ],
      "metadata": {
        "id": "GzxjT0EuzCSn"
      },
      "execution_count": 36,
      "outputs": []
    },
    {
      "cell_type": "code",
      "source": [
        "cityArea"
      ],
      "metadata": {
        "id": "mVucim5g504i",
        "colab": {
          "base_uri": "https://localhost:8080/"
        },
        "outputId": "a43d624a-9f23-4d5e-fac3-b9cb7c05d9c2"
      },
      "execution_count": 37,
      "outputs": [
        {
          "output_type": "execute_result",
          "data": {
            "text/plain": [
              "array([[0.0, 0.0, 0.0, 1.0, 2100.0],\n",
              "       [0.0, 0.0, 1.0, 0.0, 2200.0],\n",
              "       [1.0, 0.0, 0.0, 0.0, 2300.0],\n",
              "       [0.0, 1.0, 0.0, 0.0, 2300.0],\n",
              "       [0.0, 0.0, 0.0, 1.0, 2400.0],\n",
              "       [0.0, 0.0, 1.0, 0.0, 2500.0],\n",
              "       [1.0, 0.0, 0.0, 0.0, 2600.0],\n",
              "       [0.0, 1.0, 0.0, 0.0, 2600.0],\n",
              "       [0.0, 0.0, 0.0, 1.0, 2700.0],\n",
              "       [0.0, 0.0, 1.0, 0.0, 2300.0],\n",
              "       [1.0, 0.0, 0.0, 0.0, 2700.0],\n",
              "       [0.0, 1.0, 0.0, 0.0, 2800.0],\n",
              "       [0.0, 0.0, 0.0, 1.0, 2800.0],\n",
              "       [0.0, 0.0, 1.0, 0.0, 2900.0],\n",
              "       [1.0, 0.0, 0.0, 0.0, 2900.0],\n",
              "       [0.0, 1.0, 0.0, 0.0, 3000.0],\n",
              "       [0.0, 0.0, 0.0, 1.0, 3100.0],\n",
              "       [0.0, 0.0, 1.0, 0.0, 3100.0],\n",
              "       [1.0, 0.0, 0.0, 0.0, 3200.0],\n",
              "       [0.0, 1.0, 0.0, 0.0, 3200.0],\n",
              "       [0.0, 0.0, 0.0, 1.0, 3300.0],\n",
              "       [0.0, 0.0, 1.0, 0.0, 3300.0],\n",
              "       [1.0, 0.0, 0.0, 0.0, 3400.0],\n",
              "       [0.0, 1.0, 0.0, 0.0, 3500.0],\n",
              "       [0.0, 0.0, 0.0, 1.0, 3600.0],\n",
              "       [0.0, 0.0, 1.0, 0.0, 3675.0],\n",
              "       [1.0, 0.0, 0.0, 0.0, 3715.0],\n",
              "       [0.0, 1.0, 0.0, 0.0, 3800.0],\n",
              "       [0.0, 0.0, 0.0, 1.0, 3912.0],\n",
              "       [0.0, 0.0, 1.0, 0.0, 4000.0]], dtype=object)"
            ]
          },
          "metadata": {},
          "execution_count": 37
        }
      ]
    },
    {
      "cell_type": "markdown",
      "source": [
        "#**Enconding Categorial Data - Dependent Variable**"
      ],
      "metadata": {
        "id": "65uZZpumxKC6"
      }
    },
    {
      "cell_type": "code",
      "source": [
        "print(type(price[0,0]))    # int64"
      ],
      "metadata": {
        "colab": {
          "base_uri": "https://localhost:8080/"
        },
        "id": "jSyYYY7AxOQe",
        "outputId": "5c8be590-775c-42d4-c46c-e8d2a1a103db"
      },
      "execution_count": 38,
      "outputs": [
        {
          "output_type": "stream",
          "name": "stdout",
          "text": [
            "<class 'numpy.int64'>\n"
          ]
        }
      ]
    },
    {
      "cell_type": "markdown",
      "source": [
        "Since, the datatype of price array's elements are numerical(int64), we don't need encoding."
      ],
      "metadata": {
        "id": "7kI6ueTCxg8j"
      }
    },
    {
      "cell_type": "markdown",
      "source": [
        "#**Splitting the dataset into Train Set & Test Set**"
      ],
      "metadata": {
        "id": "RHsPZyqT6ZqV"
      }
    },
    {
      "cell_type": "markdown",
      "source": [
        "Importing the method 'train_test_split' from sklearn library"
      ],
      "metadata": {
        "id": "mbcKXHdYCXFh"
      }
    },
    {
      "cell_type": "code",
      "source": [
        "from sklearn.model_selection import train_test_split"
      ],
      "metadata": {
        "id": "_XOq45lpCfBj"
      },
      "execution_count": 39,
      "outputs": []
    },
    {
      "cell_type": "markdown",
      "source": [
        "Split the data into Training Set & Test Set in 80:20 ratio.\n",
        "\n",
        "Lock the random output to state 1."
      ],
      "metadata": {
        "id": "b30PBoruxqNg"
      }
    },
    {
      "cell_type": "code",
      "source": [
        "area_train, area_test, price_train, price_test = train_test_split(cityArea[0: ,4:5], price, test_size = 0.2, random_state = 1)"
      ],
      "metadata": {
        "id": "vqaSaKq66iBx"
      },
      "execution_count": 40,
      "outputs": []
    },
    {
      "cell_type": "code",
      "source": [
        "print(area_train, \"\\n\\n\", area_test, \"\\n\\n\", price_train, \"\\n\\n\", price_test)"
      ],
      "metadata": {
        "id": "MeYiDwNRCruu",
        "colab": {
          "base_uri": "https://localhost:8080/"
        },
        "outputId": "a464ff65-3a7b-4ef2-c781-0dcef898274a"
      },
      "execution_count": 41,
      "outputs": [
        {
          "output_type": "stream",
          "name": "stdout",
          "text": [
            "[[3715.0]\n",
            " [2300.0]\n",
            " [3600.0]\n",
            " [3400.0]\n",
            " [3500.0]\n",
            " [2400.0]\n",
            " [2300.0]\n",
            " [3675.0]\n",
            " [2600.0]\n",
            " [3200.0]\n",
            " [2900.0]\n",
            " [2600.0]\n",
            " [3800.0]\n",
            " [2200.0]\n",
            " [3100.0]\n",
            " [2100.0]\n",
            " [3000.0]\n",
            " [4000.0]\n",
            " [3912.0]\n",
            " [2300.0]\n",
            " [2700.0]\n",
            " [2800.0]\n",
            " [2800.0]\n",
            " [2500.0]] \n",
            "\n",
            " [[3100.0]\n",
            " [3300.0]\n",
            " [2700.0]\n",
            " [3200.0]\n",
            " [2900.0]\n",
            " [3300.0]] \n",
            "\n",
            " [[740000]\n",
            " [490000]\n",
            " [715000]\n",
            " [700000]\n",
            " [710000]\n",
            " [495000]\n",
            " [480000]\n",
            " [725000]\n",
            " [540000]\n",
            " [635000]\n",
            " [590000]\n",
            " [550000]\n",
            " [755000]\n",
            " [465000]\n",
            " [610000]\n",
            " [450000]\n",
            " [610000]\n",
            " [780000]\n",
            " [760000]\n",
            " [565000]\n",
            " [555000]\n",
            " [585000]\n",
            " [575000]\n",
            " [520000]] \n",
            "\n",
            " [[630000]\n",
            " [690000]\n",
            " [565000]\n",
            " [670000]\n",
            " [600000]\n",
            " [680000]]\n"
          ]
        }
      ]
    },
    {
      "cell_type": "markdown",
      "source": [
        "#**Linear Regression**\n",
        "Visualizing the data: Area / Prices using a Scatter Plot"
      ],
      "metadata": {
        "id": "IFlVaxcdDBAL"
      }
    },
    {
      "cell_type": "code",
      "source": [
        "plt.figure(figsize = (6,3))\n",
        "\n",
        "plt.scatter(area_train, price_train, color = 'red', marker = 'o')\n",
        "\n",
        "plt.xlabel('Area')\n",
        "plt.ylabel('Prices')\n",
        "\n",
        "plt.title('Housing: Area by Housing')\n",
        "plt.grid(True)\n",
        "\n",
        "plt.show()"
      ],
      "metadata": {
        "colab": {
          "base_uri": "https://localhost:8080/",
          "height": 333
        },
        "id": "VbLVLrb9DRhy",
        "outputId": "d6cbce33-99d6-4db4-aff7-9f23e28fbd88"
      },
      "execution_count": 42,
      "outputs": [
        {
          "output_type": "display_data",
          "data": {
            "text/plain": [
              "<Figure size 600x300 with 1 Axes>"
            ],
            "image/png": "[encoded data removed]"
          },
          "metadata": {}
        }
      ]
    },
    {
      "cell_type": "markdown",
      "source": [
        "#**Prediction using Linear Regression**\n",
        "Importing the 'LinearRegression' from sklearn library"
      ],
      "metadata": {
        "id": "CCBlZMZGHLSQ"
      }
    },
    {
      "cell_type": "code",
      "source": [
        "from sklearn.linear_model import LinearRegression"
      ],
      "metadata": {
        "id": "_asBedL5HUNc"
      },
      "execution_count": 43,
      "outputs": []
    },
    {
      "cell_type": "code",
      "source": [
        "reg_housing = LinearRegression()\n",
        "reg_housing.fit(area_train, price_train)"
      ],
      "metadata": {
        "colab": {
          "base_uri": "https://localhost:8080/",
          "height": 75
        },
        "id": "URl5zeE9HZIf",
        "outputId": "39659cee-f703-4934-d558-2c6cbe70a3da"
      },
      "execution_count": 44,
      "outputs": [
        {
          "output_type": "execute_result",
          "data": {
            "text/plain": [
              "LinearRegression()"
            ],
            "text/html": [
              "<style>#sk-container-id-4 {color: black;background-color: white;}#sk-container-id-4 pre{padding: 0;}#sk-container-id-4 div.sk-toggleable {background-color: white;}#sk-container-id-4 label.sk-toggleable__label {cursor: pointer;display: block;width: 100%;margin-bottom: 0;padding: 0.3em;box-sizing: border-box;text-align: center;}#sk-container-id-4 label.sk-toggleable__label-arrow:before {content: \"▸\";float: left;margin-right: 0.25em;color: #696969;}#sk-container-id-4 label.sk-toggleable__label-arrow:hover:before {color: black;}#sk-container-id-4 div.sk-estimator:hover label.sk-toggleable__label-arrow:before {color: black;}#sk-container-id-4 div.sk-toggleable__content {max-height: 0;max-width: 0;overflow: hidden;text-align: left;background-color: #f0f8ff;}#sk-container-id-4 div.sk-toggleable__content pre {margin: 0.2em;color: black;border-radius: 0.25em;background-color: #f0f8ff;}#sk-container-id-4 input.sk-toggleable__control:checked~div.sk-toggleable__content {max-height: 200px;max-width: 100%;overflow: auto;}#sk-container-id-4 input.sk-toggleable__control:checked~label.sk-toggleable__label-arrow:before {content: \"▾\";}#sk-container-id-4 div.sk-estimator input.sk-toggleable__control:checked~label.sk-toggleable__label {background-color: #d4ebff;}#sk-container-id-4 div.sk-label input.sk-toggleable__control:checked~label.sk-toggleable__label {background-color: #d4ebff;}#sk-container-id-4 input.sk-hidden--visually {border: 0;clip: rect(1px 1px 1px 1px);clip: rect(1px, 1px, 1px, 1px);height: 1px;margin: -1px;overflow: hidden;padding: 0;position: absolute;width: 1px;}#sk-container-id-4 div.sk-estimator {font-family: monospace;background-color: #f0f8ff;border: 1px dotted black;border-radius: 0.25em;box-sizing: border-box;margin-bottom: 0.5em;}#sk-container-id-4 div.sk-estimator:hover {background-color: #d4ebff;}#sk-container-id-4 div.sk-parallel-item::after {content: \"\";width: 100%;border-bottom: 1px solid gray;flex-grow: 1;}#sk-container-id-4 div.sk-label:hover label.sk-toggleable__label {background-color: #d4ebff;}#sk-container-id-4 div.sk-serial::before {content: \"\";position: absolute;border-left: 1px solid gray;box-sizing: border-box;top: 0;bottom: 0;left: 50%;z-index: 0;}#sk-container-id-4 div.sk-serial {display: flex;flex-direction: column;align-items: center;background-color: white;padding-right: 0.2em;padding-left: 0.2em;position: relative;}#sk-container-id-4 div.sk-item {position: relative;z-index: 1;}#sk-container-id-4 div.sk-parallel {display: flex;align-items: stretch;justify-content: center;background-color: white;position: relative;}#sk-container-id-4 div.sk-item::before, #sk-container-id-4 div.sk-parallel-item::before {content: \"\";position: absolute;border-left: 1px solid gray;box-sizing: border-box;top: 0;bottom: 0;left: 50%;z-index: -1;}#sk-container-id-4 div.sk-parallel-item {display: flex;flex-direction: column;z-index: 1;position: relative;background-color: white;}#sk-container-id-4 div.sk-parallel-item:first-child::after {align-self: flex-end;width: 50%;}#sk-container-id-4 div.sk-parallel-item:last-child::after {align-self: flex-start;width: 50%;}#sk-container-id-4 div.sk-parallel-item:only-child::after {width: 0;}#sk-container-id-4 div.sk-dashed-wrapped {border: 1px dashed gray;margin: 0 0.4em 0.5em 0.4em;box-sizing: border-box;padding-bottom: 0.4em;background-color: white;}#sk-container-id-4 div.sk-label label {font-family: monospace;font-weight: bold;display: inline-block;line-height: 1.2em;}#sk-container-id-4 div.sk-label-container {text-align: center;}#sk-container-id-4 div.sk-container {/* jupyter's `normalize.less` sets `[hidden] { display: none; }` but bootstrap.min.css set `[hidden] { display: none !important; }` so we also need the `!important` here to be able to override the default hidden behavior on the sphinx rendered scikit-learn.org. See: https://github.com/scikit-learn/scikit-learn/issues/21755 */display: inline-block !important;position: relative;}#sk-container-id-4 div.sk-text-repr-fallback {display: none;}</style><div id=\"sk-container-id-4\" class=\"sk-top-container\"><div class=\"sk-text-repr-fallback\"><pre>LinearRegression()</pre><b>In a Jupyter environment, please rerun this cell to show the HTML representation or trust the notebook. <br />On GitHub, the HTML representation is unable to render, please try loading this page with nbviewer.org.</b></div><div class=\"sk-container\" hidden><div class=\"sk-item\"><div class=\"sk-estimator sk-toggleable\"><input class=\"sk-toggleable__control sk-hidden--visually\" id=\"sk-estimator-id-12\" type=\"checkbox\" checked><label for=\"sk-estimator-id-12\" class=\"sk-toggleable__label sk-toggleable__label-arrow\">LinearRegression</label><div class=\"sk-toggleable__content\"><pre>LinearRegression()</pre></div></div></div></div></div>"
            ]
          },
          "metadata": {},
          "execution_count": 44
        }
      ]
    },
    {
      "cell_type": "markdown",
      "source": [
        "Prediction of Price of a House with an area of 3400"
      ],
      "metadata": {
        "id": "9_1YR5abHOwB"
      }
    },
    {
      "cell_type": "code",
      "source": [
        "area_for_prediction = 3400\n",
        "\n",
        "reg_housing.predict([[area_for_prediction]])       # 680715.55529319"
      ],
      "metadata": {
        "colab": {
          "base_uri": "https://localhost:8080/"
        },
        "id": "hkR4_HmiNCgQ",
        "outputId": "85db4b4c-1049-4387-c917-9e2c6cc364c1"
      },
      "execution_count": 45,
      "outputs": [
        {
          "output_type": "execute_result",
          "data": {
            "text/plain": [
              "array([[680715.55529319]])"
            ]
          },
          "metadata": {},
          "execution_count": 45
        }
      ]
    },
    {
      "cell_type": "markdown",
      "source": [
        "Manual Calculation using coef_ and intercept_function of LinearRegression"
      ],
      "metadata": {
        "id": "CmISvowKNJ4S"
      }
    },
    {
      "cell_type": "code",
      "source": [
        "coefficient = reg_housing.coef_\n",
        "intercept = reg_housing.intercept_"
      ],
      "metadata": {
        "id": "R3JpUcAyNSiz"
      },
      "execution_count": 46,
      "outputs": []
    },
    {
      "cell_type": "markdown",
      "source": [
        "Using the linear equation formula,\n",
        "\n",
        "calculating y(price) = m * x(area) + interception"
      ],
      "metadata": {
        "id": "J1k-RAXfNeH7"
      }
    },
    {
      "cell_type": "code",
      "source": [
        "predict_for = 3400\n",
        "price_calc = coefficient * predict_for + intercept\n",
        "print(price_calc)"
      ],
      "metadata": {
        "colab": {
          "base_uri": "https://localhost:8080/"
        },
        "id": "JbPDYK_ANn9l",
        "outputId": "55ea8dc1-ce46-43df-b213-e3ed585c4d30"
      },
      "execution_count": 47,
      "outputs": [
        {
          "output_type": "stream",
          "name": "stdout",
          "text": [
            "[[680715.55529319]]\n"
          ]
        }
      ]
    },
    {
      "cell_type": "markdown",
      "source": [
        "The prediction matches the manual calculation value.\n",
        "\n",
        "----"
      ],
      "metadata": {
        "id": "EG0EfaSVOCvq"
      }
    },
    {
      "cell_type": "markdown",
      "source": [
        "#**Data Visualization**"
      ],
      "metadata": {
        "id": "SBFe7t8-OF5J"
      }
    },
    {
      "cell_type": "code",
      "source": [
        "# Scatter Plot using training data\n",
        "plt.figure(figsize = (6,3))\n",
        "\n",
        "plt.scatter(area_train, price_train, label = \"Training Data\", color = 'blue')\n",
        "plt.xlabel('Price')\n",
        "plt.ylabel('Area')\n",
        "plt.legend()\n",
        "plt.title('Scatter Plot for Housing prices: Area / Prices')\n",
        "\n",
        "\n",
        "# Linear Regression Line\n",
        "area_values = area_train\n",
        "price_predictions = reg_housing.predict(area_values)\n",
        "\n",
        "plt.plot(area_values, price_predictions, label = \"Linear Regression\", color = 'red')\n",
        "plt.plot()\n",
        "\n",
        "# Prediction points\n",
        "\n",
        "#predict_for = 3300\n",
        "plt.scatter([predict_for], [reg_housing.predict([[predict_for]])], color = 'green', marker = 'x', label = \"Predicted Point\")\n",
        "\n",
        "plt.legend()\n",
        "plt.show()\n"
      ],
      "metadata": {
        "colab": {
          "base_uri": "https://localhost:8080/",
          "height": 333
        },
        "id": "Ub-r1u4MOxPs",
        "outputId": "5a7d37b0-e308-4998-ac32-7b0e2b15b9ed"
      },
      "execution_count": 48,
      "outputs": [
        {
          "output_type": "display_data",
          "data": {
            "text/plain": [
              "<Figure size 600x300 with 1 Axes>"
            ],
            "image/png": "[encoded data removed]"
          },
          "metadata": {}
        }
      ]
    },
    {
      "cell_type": "markdown",
      "source": [
        "**Conclusion:**\n",
        "\n",
        "*In this assignment, the application of linear regression to housing price data demonstrated its effectiveness in modeling the price-area relationship. Through data preprocessing, encoding, and visualization, this project illustrates how linear regression can be a valuable tool for predicting property prices. The manual validation further emphasizes the reliability of the model, offering valuable insights into data analysis and prediction in the real estate market.*"
      ],
      "metadata": {
        "id": "u6Oh4-awAi6v"
      }
    }
  ]
}