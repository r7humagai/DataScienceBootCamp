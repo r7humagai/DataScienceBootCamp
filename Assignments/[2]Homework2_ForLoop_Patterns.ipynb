{
  "nbformat": 4,
  "nbformat_minor": 0,
  "metadata": {
    "colab": {
      "provenance": []
    },
    "kernelspec": {
      "name": "python3",
      "display_name": "Python 3"
    },
    "language_info": {
      "name": "python"
    }
  },
  "cells": [
    {
      "cell_type": "code",
      "execution_count": null,
      "metadata": {
        "id": "V2k5kzCGWM_P",
        "colab": {
          "base_uri": "https://localhost:8080/"
        },
        "outputId": "4a0e1bff-288d-4cd1-f069-37e8e80ca205"
      },
      "outputs": [
        {
          "output_type": "stream",
          "name": "stdout",
          "text": [
            "1 2 3 4 5 6 7 8 9 0 \r\n",
            " 2 3 4 5 6 7 8 9 0 \r\n",
            "  3 4 5 6 7 8 9 0 \r\n",
            "   4 5 6 7 8 9 0 \r\n",
            "    5 6 7 8 9 0 \r\n",
            "     6 7 8 9 0 \r\n",
            "      7 8 9 0 \r\n",
            "       8 9 0 \r\n",
            "        9 0 \r\n",
            "         0 \r\n"
          ]
        }
      ],
      "source": [
        "#Q1. Program to print following pattern:\n",
        "\n",
        "'''\n",
        "1 2 3 4 5 6 7 8 9 0\n",
        " 2 3 4 5 6 7 8 9 0\n",
        "  3 4 5 6 7 8 9 0\n",
        "   4 5 6 7 8 9 0\n",
        "    5 6 7 8 9 0\n",
        "     6 7 8 9 0\n",
        "      7 8 9 0\n",
        "       8 9 0\n",
        "        9 0\n",
        "         0\n",
        "'''\n",
        "\n",
        "for i in range(0,10):\n",
        "\n",
        "  for j in range(0,i):\n",
        "    print(\" \", end = \"\")\n",
        "  for k in range(i+1, 11, 1):\n",
        "    print(k%10,\"\", end = \"\")    # k%10 to print only the last digit of a number, thus, for 10 only 0 gets printed\n",
        "\n",
        "  print(\"\\r\")"
      ]
    },
    {
      "cell_type": "code",
      "source": [
        "#Q2. Program to print the following pattern.\n",
        "'''\n",
        "0 9 8 7 6 5 4 3 2 1\n",
        " 9 8 7 6 5 4 3 2 1\n",
        "  8 7 6 5 4 3 2 1\n",
        "   7 6 5 4 3 2 1\n",
        "    6 5 4 3 2 1\n",
        "     5 4 3 2 1\n",
        "      4 3 2 1\n",
        "       3 2 1\n",
        "        2 1\n",
        "         1\n",
        "'''\n",
        "\n",
        "for i in range(0,10):\n",
        "\n",
        "  for j in range(0,i):\n",
        "    print(\" \", end = \"\")\n",
        "  for k in range(10-i,0, -1):     # Such that value of (k%10) decrements by value of i until 1\n",
        "    print(k%10, \"\" , end = \"\")\n",
        "  print(\"\\r\")"
      ],
      "metadata": {
        "id": "s4IBNy9_w3UC",
        "colab": {
          "base_uri": "https://localhost:8080/"
        },
        "outputId": "1e8ca3ee-eccd-453b-eede-8a70cc94f70e"
      },
      "execution_count": null,
      "outputs": [
        {
          "output_type": "stream",
          "name": "stdout",
          "text": [
            "0 9 8 7 6 5 4 3 2 1 \r\n",
            " 9 8 7 6 5 4 3 2 1 \r\n",
            "  8 7 6 5 4 3 2 1 \r\n",
            "   7 6 5 4 3 2 1 \r\n",
            "    6 5 4 3 2 1 \r\n",
            "     5 4 3 2 1 \r\n",
            "      4 3 2 1 \r\n",
            "       3 2 1 \r\n",
            "        2 1 \r\n",
            "         1 \r\n"
          ]
        }
      ]
    },
    {
      "cell_type": "code",
      "source": [
        "#Q3. Program to print the following pattern.\n",
        "'''\n",
        " 0 9 8 7 6 5 4 3 2 1\n",
        "  9 8 7 6 5 4 3 2 1\n",
        "   8 7 6 5 4 3 2 1\n",
        "    7 6 5 4 3 2 1\n",
        "     6 5 4 3 2 1\n",
        "      5 4 3 2 1\n",
        "       4 3 2 1\n",
        "        3 2 1\n",
        "         2 1\n",
        "          1\n",
        "         2 1\n",
        "        3 2 1\n",
        "       4 3 2 1\n",
        "      5 4 3 2 1\n",
        "     6 5 4 3 2 1\n",
        "    7 6 5 4 3 2 1\n",
        "   8 7 6 5 4 3 2 1\n",
        "  9 8 7 6 5 4 3 2 1\n",
        " 0 9 8 7 6 5 4 3 2 1\n",
        "'''\n",
        "\n",
        "for i in range(0 , 10):\n",
        "  for j in range(0 , i+1):\n",
        "    print(\" \", end = \"\")\n",
        "  for k in range(10-i , 0, -1):   # Starts from 10 and decrements as we go below\n",
        "    print(k%10, \"\", end = \"\")\n",
        "  print(\"\\r\")\n",
        "\n",
        "for i in range (0,9):             # The bottom triangle is one row less because the mid 1 is common for both\n",
        "\n",
        "  for j in range(10, i+1 , -1):\n",
        "    print(\" \", end = \"\")\n",
        "  for k in range(2+i, 0 , -1):    # Starts from 2 and increments as we go below\n",
        "    print(k%10, \"\", end = \"\")\n",
        "  print(\"\\r\")\n"
      ],
      "metadata": {
        "colab": {
          "base_uri": "https://localhost:8080/"
        },
        "id": "chxTqPhi1OGB",
        "outputId": "0e5bcc97-b899-4316-c8f1-6ea02660da04"
      },
      "execution_count": null,
      "outputs": [
        {
          "output_type": "stream",
          "name": "stdout",
          "text": [
            " 0 9 8 7 6 5 4 3 2 1 \r\n",
            "  9 8 7 6 5 4 3 2 1 \r\n",
            "   8 7 6 5 4 3 2 1 \r\n",
            "    7 6 5 4 3 2 1 \r\n",
            "     6 5 4 3 2 1 \r\n",
            "      5 4 3 2 1 \r\n",
            "       4 3 2 1 \r\n",
            "        3 2 1 \r\n",
            "         2 1 \r\n",
            "          1 \r\n",
            "         2 1 \r\n",
            "        3 2 1 \r\n",
            "       4 3 2 1 \r\n",
            "      5 4 3 2 1 \r\n",
            "     6 5 4 3 2 1 \r\n",
            "    7 6 5 4 3 2 1 \r\n",
            "   8 7 6 5 4 3 2 1 \r\n",
            "  9 8 7 6 5 4 3 2 1 \r\n",
            " 0 9 8 7 6 5 4 3 2 1 \r\n"
          ]
        }
      ]
    },
    {
      "cell_type": "code",
      "source": [
        "#Q4. Print the following pattern.\n",
        "'''\n",
        "1\n",
        "2 2\n",
        "3 3 3\n",
        "4 4 4 4\n",
        "5 5 5 5 5\n",
        "6 6 6 6 6 6\n",
        "7 7 7 7 7 7 7\n",
        "8 8 8 8 8 8 8 8\n",
        "9 9 9 9 9 9 9 9 9\n",
        "'''\n",
        "\n",
        "num = 0\n",
        "for i in range(1, 10):        # 9 rows to be printed\n",
        "  num += 1                    # num increases by 1 in each row\n",
        "  for j in range(0, i):\n",
        "    print(num, \"\", end = \"\")\n",
        "\n",
        "  print(\"\\r\")"
      ],
      "metadata": {
        "colab": {
          "base_uri": "https://localhost:8080/"
        },
        "id": "lgrpIqww7Ggd",
        "outputId": "9d0bbfdb-3021-4b9d-b286-098248e18416"
      },
      "execution_count": null,
      "outputs": [
        {
          "output_type": "stream",
          "name": "stdout",
          "text": [
            "1 \r\n",
            "2 2 \r\n",
            "3 3 3 \r\n",
            "4 4 4 4 \r\n",
            "5 5 5 5 5 \r\n",
            "6 6 6 6 6 6 \r\n",
            "7 7 7 7 7 7 7 \r\n",
            "8 8 8 8 8 8 8 8 \r\n",
            "9 9 9 9 9 9 9 9 9 \r\n"
          ]
        }
      ]
    },
    {
      "cell_type": "code",
      "source": [
        "#Q5. Print the following pattern:\n",
        "'''\n",
        "\n",
        "1\n",
        "1 2 1\n",
        "1 2 3 2 1\n",
        "1 2 3 4 3 2 1\n",
        "1 2 3 4 5 4 3 2 1\n",
        "1 2 3 4 5 6 5 4 3 2 1\n",
        "1 2 3 4 5 6 7 6 5 4 3 2 1\n",
        "'''\n",
        "\n",
        "for i in range(1,9):        # For each 8 rows\n",
        "\n",
        "  for j in range(1, i-1):   # Print 1 to the row range,\n",
        "    print(j, end= \" \")\n",
        "\n",
        "  for j in range(i-1, 0 , -1): # Print row range to 1\n",
        "    print(j, end = \" \")\n",
        "\n",
        "  print(\"\\r\")"
      ],
      "metadata": {
        "colab": {
          "base_uri": "https://localhost:8080/"
        },
        "id": "rqG4eeFj8-Kz",
        "outputId": "14315d80-c1c8-4789-f0a1-62fd8168f1eb"
      },
      "execution_count": null,
      "outputs": [
        {
          "output_type": "stream",
          "name": "stdout",
          "text": [
            "\r\n",
            "1 \r\n",
            "1 2 1 \r\n",
            "1 2 3 2 1 \r\n",
            "1 2 3 4 3 2 1 \r\n",
            "1 2 3 4 5 4 3 2 1 \r\n",
            "1 2 3 4 5 6 5 4 3 2 1 \r\n",
            "1 2 3 4 5 6 7 6 5 4 3 2 1 \r\n"
          ]
        }
      ]
    },
    {
      "cell_type": "code",
      "source": [
        "#Q6. Print the following pattern:\n",
        "'''\n",
        "1 2 3 4 5 6 7 8 9 0\n",
        " 2 3 4 5 6 7 8 9 0\n",
        "  3 4 5 6 7 8 9 0\n",
        "   4 5 6 7 8 9 0\n",
        "    5 6 7 8 9 0\n",
        "     6 7 8 9 0\n",
        "      7 8 9 0\n",
        "       8 9 0\n",
        "        9 0\n",
        "         0\n",
        "'''\n",
        "\n",
        "for i in range(1,10):\n",
        "  num = 1\n",
        "\n",
        "  for j in range(10,0,-1):  # for pyramid\n",
        "    if j > i:               # Start with 10\n",
        "      print(\"\", end = \" \")  # Print space if j is greater than row number\n",
        "    else:\n",
        "      print(num, end = \" \") # Else number the digit\n",
        "      num += 1\n",
        "  print(\"\\r\")"
      ],
      "metadata": {
        "colab": {
          "base_uri": "https://localhost:8080/"
        },
        "id": "Ef61ymmkA-pX",
        "outputId": "ba66ce0b-9ced-4d3f-b4fb-5eb72d91e682"
      },
      "execution_count": null,
      "outputs": [
        {
          "output_type": "stream",
          "name": "stdout",
          "text": [
            "         1 \r\n",
            "        1 2 \r\n",
            "       1 2 3 \r\n",
            "      1 2 3 4 \r\n",
            "     1 2 3 4 5 \r\n",
            "    1 2 3 4 5 6 \r\n",
            "   1 2 3 4 5 6 7 \r\n",
            "  1 2 3 4 5 6 7 8 \r\n",
            " 1 2 3 4 5 6 7 8 9 \r\n"
          ]
        }
      ]
    },
    {
      "cell_type": "code",
      "source": [
        "#Q7. Print the following pattern:\n",
        "'''\n",
        "0\n",
        "0 1\n",
        "0 2 4\n",
        "0 3 6 9\n",
        "0 4 8 12 16\n",
        "0 5 10 15 20 25\n",
        "0 6 12 18 24 30 36\n",
        "0 7 14 21 28 35 42 49\n",
        "0 8 16 24 32 40 48 56 64\n",
        "0 9 18 27 36 45 54 63 72 81\n",
        "'''\n",
        "\n",
        "for i in range(0, 10):        # 10 rows to be printed\n",
        "\n",
        "  for j in range(0, i+1):\n",
        "\n",
        "    print(i * j, \"\", end = \"\")  # Printing the multiples of row number\n",
        "\n",
        "  print(\"\\r\")"
      ],
      "metadata": {
        "colab": {
          "base_uri": "https://localhost:8080/"
        },
        "id": "f3DqrPcOCCny",
        "outputId": "205e9aaf-da6f-45c0-af57-3b26a34cd5aa"
      },
      "execution_count": null,
      "outputs": [
        {
          "output_type": "stream",
          "name": "stdout",
          "text": [
            "0 \r\n",
            "0 1 \r\n",
            "0 2 4 \r\n",
            "0 3 6 9 \r\n",
            "0 4 8 12 16 \r\n",
            "0 5 10 15 20 25 \r\n",
            "0 6 12 18 24 30 36 \r\n",
            "0 7 14 21 28 35 42 49 \r\n",
            "0 8 16 24 32 40 48 56 64 \r\n",
            "0 9 18 27 36 45 54 63 72 81 \r\n"
          ]
        }
      ]
    },
    {
      "cell_type": "code",
      "source": [
        "#Q8. Print the following pattern:\n",
        "'''\n",
        "1 2 3 4 5 6 7 8 9\n",
        " 2 3 4 5 6 7 8 9\n",
        "  3 4 5 6 7 8 9\n",
        "   4 5 6 7 8 9\n",
        "    5 6 7 8 9\n",
        "     6 7 8 9\n",
        "      7 8 9\n",
        "       8 9\n",
        "        9\n",
        "'''\n",
        "\n",
        "for i in range(0, 10):      # Print 9 rows\n",
        "\n",
        "  for k in range(i):\n",
        "    print(\" \", end=\"\")\n",
        "\n",
        "  for num in range(i + 1, 10):  # In each following row, the first is increased by 1\n",
        "    print(num, end=\" \")\n",
        "\n",
        "  print('\\r')"
      ],
      "metadata": {
        "colab": {
          "base_uri": "https://localhost:8080/"
        },
        "id": "83AMSgr4EeCm",
        "outputId": "0186829e-7bc3-46e7-b19f-df77fab492cf"
      },
      "execution_count": null,
      "outputs": [
        {
          "output_type": "stream",
          "name": "stdout",
          "text": [
            "1 2 3 4 5 6 7 8 9 \r\n",
            " 2 3 4 5 6 7 8 9 \r\n",
            "  3 4 5 6 7 8 9 \r\n",
            "   4 5 6 7 8 9 \r\n",
            "    5 6 7 8 9 \r\n",
            "     6 7 8 9 \r\n",
            "      7 8 9 \r\n",
            "       8 9 \r\n",
            "        9 \r\n",
            "         \r\n"
          ]
        }
      ]
    },
    {
      "cell_type": "code",
      "source": [
        "#Q9. Print the following pattern.\n",
        "'''\n",
        "1\n",
        "2\n",
        "4 3\n",
        "7 6 5\n",
        "11 10 9 8\n",
        "16 15 14 13 12\n",
        "22 21 20 19 18 17\n",
        "'''\n",
        "\n",
        "beg = 1\n",
        "end = 2\n",
        "curr = end\n",
        "for r in range(1, 8):\n",
        "  for c in range(beg, end):\n",
        "    curr -= 1\n",
        "    print(curr, end=' ')\n",
        "  print(\"\\r\")\n",
        "  beg = end\n",
        "  end += r\n",
        "  curr = end"
      ],
      "metadata": {
        "colab": {
          "base_uri": "https://localhost:8080/"
        },
        "id": "UkoXlNAIJWEk",
        "outputId": "ae812de5-531c-4bfe-e211-6ed22db2fe2b"
      },
      "execution_count": null,
      "outputs": [
        {
          "output_type": "stream",
          "name": "stdout",
          "text": [
            "1 \r\n",
            "2 \r\n",
            "4 3 \r\n",
            "7 6 5 \r\n",
            "11 10 9 8 \r\n",
            "16 15 14 13 12 \r\n",
            "22 21 20 19 18 17 \r\n"
          ]
        }
      ]
    },
    {
      "cell_type": "code",
      "source": [
        "#Q10. Print the following pattern\n",
        "'''\n",
        "7 7 7 7 7 7 7\n",
        "7 7 7 7 7 7\n",
        "7 7 7 7 7\n",
        "7 7 7 7\n",
        "7 7 7\n",
        "7 7\n",
        "7\n",
        "'''\n",
        "\n",
        "for i in range(7, 0, -1):   # To print 7 rows\n",
        "  for j in range(0, i):     # For each following rows print one less 7\n",
        "    print(7,\"\", end = \"\")\n",
        "  print(\"\\r\")"
      ],
      "metadata": {
        "colab": {
          "base_uri": "https://localhost:8080/"
        },
        "id": "jE0Vfc5qKzUD",
        "outputId": "e2248627-086a-4ade-b294-d09158ea6350"
      },
      "execution_count": null,
      "outputs": [
        {
          "output_type": "stream",
          "name": "stdout",
          "text": [
            "7 7 7 7 7 7 7 \r\n",
            "7 7 7 7 7 7 \r\n",
            "7 7 7 7 7 \r\n",
            "7 7 7 7 \r\n",
            "7 7 7 \r\n",
            "7 7 \r\n",
            "7 \r\n"
          ]
        }
      ]
    },
    {
      "cell_type": "code",
      "source": [
        "#Q11. Python program to find the square root of a program.\n",
        "\n",
        "input_num = float(input(\"Enter the number to find the square root of : \"))\n",
        "\n",
        "print(\"The square root of \",input_num, \"is\", (input_num**0.5) )   #Using the operand ** to find the square root of a number"
      ],
      "metadata": {
        "colab": {
          "base_uri": "https://localhost:8080/"
        },
        "id": "e-ULJOtYLDoX",
        "outputId": "3c6ebf04-42fe-4d2e-f7cb-ddde51ab36b0"
      },
      "execution_count": null,
      "outputs": [
        {
          "output_type": "stream",
          "name": "stdout",
          "text": [
            "Enter the number to find the square root of : 25\n",
            "The square root of  25.0 is 5.0\n"
          ]
        }
      ]
    }
  ]
}
