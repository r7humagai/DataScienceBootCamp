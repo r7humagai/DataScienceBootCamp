{
  "nbformat": 4,
  "nbformat_minor": 0,
  "metadata": {
    "colab": {
      "provenance": []
    },
    "kernelspec": {
      "name": "python3",
      "display_name": "Python 3"
    },
    "language_info": {
      "name": "python"
    }
  },
  "cells": [
    {
      "cell_type": "markdown",
      "source": [
        "***In-Class Assignment: Program a Rock Paper Scissor Game in Python***\n"
      ],
      "metadata": {
        "id": "I3ZEKczSgGRB"
      }
    },
    {
      "cell_type": "code",
      "execution_count": null,
      "metadata": {
        "id": "_QrX-2ZOV9HE"
      },
      "outputs": [],
      "source": [
        "# Rock, Paper and Scissors in Python\n",
        "#. Rules: -> Same choice is a tie\n",
        "#.       i. Rock smashes scissors.\n",
        "#.      ii. Scissors cut paper.\n",
        "#.     iii. Paper covers rock.\n",
        "#.\n",
        "#. The program will loop continuously until the user wins."
      ]
    },
    {
      "cell_type": "code",
      "source": [
        "# Naive Method without using Function\n",
        "\n",
        "import random\n",
        "\n",
        "# Rules:\n",
        "\n",
        "paper_rock = \"Paper covers Rock! \"\n",
        "paper_scissors = \"Scissor cuts paper! \"\n",
        "rock_scissors = \"Rock smashes scissor! \"\n",
        "\n",
        "gameover = False\n",
        "\n",
        "while gameover == False:\n",
        "  user_input = input(\"Enter a choice: (rock/paper/scissors: )\").lower()\n",
        "  choices = [\"rock\", \"paper\",\"scissors\"]\n",
        "\n",
        "  computer_input = random.choice(choices)\n",
        "\n",
        "  print (\"You choose \", user_input, \" Computer chose \", computer_input)\n",
        "\n",
        "  if user_input == computer_input:\n",
        "    print(\"Its a tie! Try Again! \")\n",
        "    gameover = False\n",
        "  elif user_input == \"rock\":\n",
        "    if computer_input == \"scissors\":\n",
        "      print(rock_scissors, \" You win!\")\n",
        "      gameover = True\n",
        "\n",
        "    elif computer_input == \"paper\":\n",
        "      print(paper_rock,\"You Lose! Try Again!\")\n",
        "      gameover = False\n",
        "  elif user_input == \"paper\":\n",
        "    if computer_input == \"rock\":\n",
        "      print(paper_rock, \" You win! \")\n",
        "      gameover = True\n",
        "\n",
        "    elif computer_input == \"scissors\":\n",
        "      print(paper_scissors, \"You Lose! Try Again!\")\n",
        "      gameover = False\n",
        "  elif user_input == \"scissors\":\n",
        "    if computer_input == \"paper\":\n",
        "      print(paper_scissors, \"You Win!\")\n",
        "      gameover = True\n",
        "\n",
        "    elif computer_input == \"rock\":\n",
        "      print(rock_scissors, \"You lose!\")\n",
        "      gameover = False\n",
        "\n"
      ],
      "metadata": {
        "id": "m4n_FcEcYRcl"
      },
      "execution_count": null,
      "outputs": []
    },
    {
      "cell_type": "code",
      "source": [
        "# Optimized method\n",
        "\n",
        "import random\n",
        "\n",
        "# Rules:\n",
        "\n",
        "gameover = False\n",
        "\n",
        "while gameover == False:\n",
        "\n",
        "  user_input = input(\"Enter a choice: (rock/paper/scissors: )\").lower()\n",
        "  choices = [\"rock\", \"paper\",\"scissors\"]\n",
        "\n",
        "  computer_input = random.choice(choices)\n",
        "\n",
        "  print (\"You choose \", user_input, \" Computer chose \", computer_input)\n",
        "\n",
        "  if  (user_input == \"rock\" and computer_input == \"scissors\") or (user_input == \"paper\" and computer_input == \"rock\") or (user_input == \"scissors\" and computer_input == \"paper\"):\n",
        "    print(\"You win!\")\n",
        "    gameover = True\n",
        "  elif (user_input == computer_input):\n",
        "    print(\"Its a tie! Try Again!\")\n",
        "    gameover = False\n",
        "  else:\n",
        "    print(\"You lose! Try again!\")\n",
        "    gameover = False\n"
      ],
      "metadata": {
        "colab": {
          "base_uri": "https://localhost:8080/"
        },
        "id": "DuxFssFZpd-z",
        "outputId": "01e65ab4-18fa-4831-d96f-463664f05c36"
      },
      "execution_count": null,
      "outputs": [
        {
          "output_type": "stream",
          "name": "stdout",
          "text": [
            "Enter a choice: (rock/paper/scissors: )paper\n",
            "You choose  paper  Computer chose  paper\n",
            "Its a tie! Try Again!\n",
            "Enter a choice: (rock/paper/scissors: )paper\n",
            "You choose  paper  Computer chose  scissors\n",
            "You lose! Try again!\n",
            "Enter a choice: (rock/paper/scissors: )paper\n",
            "You choose  paper  Computer chose  paper\n",
            "Its a tie! Try Again!\n",
            "Enter a choice: (rock/paper/scissors: )rock\n",
            "You choose  rock  Computer chose  paper\n",
            "You lose! Try again!\n",
            "Enter a choice: (rock/paper/scissors: )rock\n",
            "You choose  rock  Computer chose  paper\n",
            "You lose! Try again!\n",
            "Enter a choice: (rock/paper/scissors: )rock\n",
            "You choose  rock  Computer chose  scissors\n",
            "You win!\n"
          ]
        }
      ]
    }
  ]
}
