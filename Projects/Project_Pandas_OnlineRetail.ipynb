{
  "cells": [
    {
      "cell_type": "markdown",
      "source": [
        "#**Project Assignment: Online Retail [09/20/2023]**\n",
        "----\n"
      ],
      "metadata": {
        "id": "I5YKnA86f4CC"
      },
      "id": "I5YKnA86f4CC"
    },
    {
      "cell_type": "markdown",
      "source": [
        "Tasks:\n",
        "\n",
        "1) Clean the dataset look and study the dataset for this part\n",
        "\n",
        "2) Create a Dictionary with the 10 countries that have the most 'Quantity' ordered except UK\n",
        "\n",
        "3)  Find Total Sale between two dates entered by user\n",
        "\n",
        "4) Find each Countries Total SALE to find which Countries is highest potential customer\n",
        "\n",
        "5) Which Customer Id has highest purchase in quantity and total and find out the country of it\n",
        "\n",
        "6) Which Customer Id has lowest purchase in quantity and total and find out the country of it\n",
        "\n",
        "7) Find the biggest order In Sale (Cost) which country was the order from and fiind total purchase (Cost) done by that customer ID\n",
        "\n",
        "8) Find how many different customers are available for each country save the count in dictionary also return countries with highest and lowest customer count\n",
        "\n",
        "9) Find which stock code was ordered the most by each country\n",
        "\n",
        "----\n",
        "Added:\n",
        "Data Visualization for Question 2,3,4, and 8."
      ],
      "metadata": {
        "id": "SmukqoCmWvWR"
      },
      "id": "SmukqoCmWvWR"
    },
    {
      "cell_type": "code",
      "source": [
        "import pandas as pd\n",
        "import numpy as np"
      ],
      "metadata": {
        "id": "5MktWBfS_FjS"
      },
      "id": "5MktWBfS_FjS",
      "execution_count": 120,
      "outputs": []
    },
    {
      "cell_type": "code",
      "source": [
        "import matplotlib.pyplot as plt"
      ],
      "metadata": {
        "id": "eHaQ-hoRVGG5"
      },
      "id": "eHaQ-hoRVGG5",
      "execution_count": 121,
      "outputs": []
    },
    {
      "cell_type": "code",
      "execution_count": 122,
      "id": "6f8ceab0",
      "metadata": {
        "id": "6f8ceab0"
      },
      "outputs": [],
      "source": [
        "# Importing the csv file\n",
        "df_raw = pd.read_csv('/content/Online_Retail.csv', encoding = 'latin-1')"
      ]
    },
    {
      "cell_type": "code",
      "execution_count": 123,
      "id": "39b45341",
      "metadata": {
        "id": "39b45341",
        "colab": {
          "base_uri": "https://localhost:8080/"
        },
        "outputId": "3b176381-aacf-4bc8-9a5b-ac408bee9334"
      },
      "outputs": [
        {
          "output_type": "stream",
          "name": "stdout",
          "text": [
            "  InvoiceNo StockCode                          Description  Quantity  \\\n",
            "0    536365    85123A   WHITE HANGING HEART T-LIGHT HOLDER         6   \n",
            "1    536365     71053                  WHITE METAL LANTERN         6   \n",
            "2    536365    84406B       CREAM CUPID HEARTS COAT HANGER         8   \n",
            "3    536365    84029G  KNITTED UNION FLAG HOT WATER BOTTLE         6   \n",
            "4    536365    84029E       RED WOOLLY HOTTIE WHITE HEART.         6   \n",
            "5    536365     22752         SET 7 BABUSHKA NESTING BOXES         2   \n",
            "6    536365     21730    GLASS STAR FROSTED T-LIGHT HOLDER         6   \n",
            "\n",
            "    InvoiceDate  UnitPrice  CustomerID         Country  \n",
            "0  12/1/10 8:26       2.55     17850.0  United Kingdom  \n",
            "1  12/1/10 8:26       3.39     17850.0  United Kingdom  \n",
            "2  12/1/10 8:26       2.75     17850.0  United Kingdom  \n",
            "3  12/1/10 8:26       3.39     17850.0  United Kingdom  \n",
            "4  12/1/10 8:26       3.39     17850.0  United Kingdom  \n",
            "5  12/1/10 8:26       7.65     17850.0  United Kingdom  \n",
            "6  12/1/10 8:26       4.25     17850.0  United Kingdom  \n",
            "       InvoiceNo StockCode                      Description  Quantity  \\\n",
            "541899    581587     22726       ALARM CLOCK BAKELIKE GREEN         4   \n",
            "541900    581587     22730       ALARM CLOCK BAKELIKE IVORY         4   \n",
            "541901    581587     22367  CHILDRENS APRON SPACEBOY DESIGN         8   \n",
            "541902    581587     22629              SPACEBOY LUNCH BOX         12   \n",
            "541903    581587     23256      CHILDRENS CUTLERY SPACEBOY          4   \n",
            "541904    581587     22613      PACK OF 20 SPACEBOY NAPKINS        12   \n",
            "541905    581587     22899     CHILDREN'S APRON DOLLY GIRL          6   \n",
            "541906    581587     23254    CHILDRENS CUTLERY DOLLY GIRL          4   \n",
            "541907    581587     23255  CHILDRENS CUTLERY CIRCUS PARADE         4   \n",
            "541908    581587     22138    BAKING SET 9 PIECE RETROSPOT          3   \n",
            "\n",
            "          InvoiceDate  UnitPrice  CustomerID Country  \n",
            "541899  12/9/11 12:50       3.75     12680.0  France  \n",
            "541900  12/9/11 12:50       3.75     12680.0  France  \n",
            "541901  12/9/11 12:50       1.95     12680.0  France  \n",
            "541902  12/9/11 12:50       1.95     12680.0  France  \n",
            "541903  12/9/11 12:50       4.15     12680.0  France  \n",
            "541904  12/9/11 12:50       0.85     12680.0  France  \n",
            "541905  12/9/11 12:50       2.10     12680.0  France  \n",
            "541906  12/9/11 12:50       4.15     12680.0  France  \n",
            "541907  12/9/11 12:50       4.15     12680.0  France  \n",
            "541908  12/9/11 12:50       4.95     12680.0  France  \n",
            "(541909, 8)\n",
            "            Quantity      UnitPrice     CustomerID\n",
            "count  541909.000000  541909.000000  406829.000000\n",
            "mean        9.552250       4.611114   15287.690570\n",
            "std       218.081158      96.759853    1713.600303\n",
            "min    -80995.000000  -11062.060000   12346.000000\n",
            "25%         1.000000       1.250000   13953.000000\n",
            "50%         3.000000       2.080000   15152.000000\n",
            "75%        10.000000       4.130000   16791.000000\n",
            "max     80995.000000   38970.000000   18287.000000\n",
            "Index(['InvoiceNo', 'StockCode', 'Description', 'Quantity', 'InvoiceDate',\n",
            "       'UnitPrice', 'CustomerID', 'Country'],\n",
            "      dtype='object')\n"
          ]
        }
      ],
      "source": [
        "# Test Only\n",
        "print(df_raw.head(7))\n",
        "print(df_raw.tail(10))\n",
        "print(df_raw.shape)\n",
        "print(df_raw.describe())\n",
        "print(df_raw.columns)"
      ]
    },
    {
      "cell_type": "markdown",
      "source": [
        "----\n",
        "        Data Preprocessing Steps:\n",
        "        1. # Stage 1: Check for null values\n",
        "        2. # Stage 2: Check for negative values in significant columns ['UnitPrice']\n",
        "        3. # Stage 3: Check for negative values in significant columns ['Quantity']\n",
        "        4. # Stage 4: Drop the columns that are not going to be used for calculations. ['Invoice No', 'Stock Code', 'Description']\n",
        "        5. # Stage 5: Add 'TotalSales' column from multiplication of values from column 'UnitPrice' & 'Quantity'\n",
        "        6. # Stage 6: Change the 'InvoiceDate' to have only Dates, no Time\n",
        "----\n",
        "\n",
        "\n",
        "\n",
        "\n"
      ],
      "metadata": {
        "id": "mr-ilCv9XK8i"
      },
      "id": "mr-ilCv9XK8i"
    },
    {
      "cell_type": "markdown",
      "source": [
        "    Beginning of Data Cleaning\n",
        "\n",
        "----"
      ],
      "metadata": {
        "id": "LGdxokleZFl5"
      },
      "id": "LGdxokleZFl5"
    },
    {
      "cell_type": "code",
      "execution_count": 124,
      "id": "756b4104",
      "metadata": {
        "colab": {
          "base_uri": "https://localhost:8080/"
        },
        "id": "756b4104",
        "outputId": "2665fe00-3dd9-49a7-b933-3426f3ca1904"
      },
      "outputs": [
        {
          "output_type": "stream",
          "name": "stdout",
          "text": [
            "InvoiceNo           0\n",
            "StockCode           0\n",
            "Description      1454\n",
            "Quantity            0\n",
            "InvoiceDate         0\n",
            "UnitPrice           0\n",
            "CustomerID     135080\n",
            "Country             0\n",
            "dtype: int64\n",
            "\n"
          ]
        }
      ],
      "source": [
        "# Question 1:\n",
        "# 1) Clean the dataset look and study the dataset for this part\n",
        "\n",
        "# Stage 1: Check for null values\n",
        "\n",
        "print(df_raw.isna().sum())\n",
        "\n",
        "'''\n",
        "Observation: The columns with null values are description and customerID. Since both of these data items\n",
        "don't necessarily interfere with the expected analysis and output, we will not delete the rows where these\n",
        "values are null.\n",
        "\n",
        "Furthermore, customerID has 135080 null values which is 25% of total datas(541909). Deleting 25% of\n",
        "values from our dataset could have a significant impact on output and therefore final analysis.\n",
        "\n",
        "'''\n",
        "print()\n"
      ]
    },
    {
      "cell_type": "code",
      "source": [
        "# Stage 2: Check for negative values in significant columns ['UnitPrice']\n",
        "\n",
        "sort_UnitPrice = df_raw.sort_values(by = 'UnitPrice', ascending = True)   # dataframe to check the negative values in 'UnitPrice' by sorting it in ascending order\n",
        "#print(sort_UnitPrice)\n",
        "\n",
        "negative_values_UnitPrice = (df_raw['UnitPrice'] < 0).sum()               # Check how many negative values are there in UnitPrice columns\n",
        "print(negative_values_UnitPrice)    # There are 2 negative UnitPrice values\n",
        "\n",
        "'''\n",
        "Observation:\n",
        "The 2 negative UnitPrice Values are 'Bad Debt Adjustment' so its safe to delete those rows\n",
        "since we are doing analysis on sales.\n",
        "'''\n",
        "# dataframe 'df_raw' only has the rows where the 'UnitPrice' column has positive values\n",
        "df_raw = df_raw[df_raw['UnitPrice'] >= 0]\n",
        "print(df_raw.shape)\n"
      ],
      "metadata": {
        "colab": {
          "base_uri": "https://localhost:8080/"
        },
        "id": "_XoO_dVGfbe3",
        "outputId": "0e6b60d0-2bf8-46df-f292-f9d6d565cd49"
      },
      "id": "_XoO_dVGfbe3",
      "execution_count": 125,
      "outputs": [
        {
          "output_type": "stream",
          "name": "stdout",
          "text": [
            "2\n",
            "(541907, 8)\n"
          ]
        }
      ]
    },
    {
      "cell_type": "code",
      "source": [
        "# Stage 3: Check for negative values in significant columns ['Quantity']\n",
        "\n",
        "sort_quantity = df_raw.sort_values(by = 'Quantity', ascending = True)   # dataframe to check the negative values in 'Quantity' by sorting it in ascending order\n",
        "#print(sort_quantity)\n",
        "\n",
        "negative_values_Quantity = (df_raw['Quantity'] < 0).sum()\n",
        "print('Negative values in column[\"Quantity\"]:', negative_values_Quantity)\n",
        "\n",
        "'''\n",
        "Observation: There are 10624 negative values in 'Quantity' column\n",
        "'''\n",
        "\n",
        "# We can check the description of the rows where Quantity has negative values\n",
        "\n",
        "df_testing_QuantityNull = df_raw[['Quantity','Description']]\n",
        "df_testing_QuantityNull = df_testing_QuantityNull[df_testing_QuantityNull['Quantity'] < 0]\n",
        "\n",
        "df_testing_QuantityNull.sort_values(by = 'Quantity')\n",
        "\n",
        "# Checking how many unique descriptions are there for rows with null values\n",
        "\n",
        "unique_description = df_testing_QuantityNull['Description'].unique()\n",
        "print(\"Unique [Description]: \",len(unique_description))\n",
        "# --------\n",
        "\n",
        "'''\n",
        "Observation: Since there are 2111 unique descriptions of rows that have negative values, a generic reason\n",
        "why they could be negative cannot be deduced.\n",
        "It could be they are returned items so including them in the dataset for sales analysis could lead to\n",
        "different result than expected.\n",
        "Besides, omitting 10624 datas from a dataset of 541909 is only going to short it by 1.3 %,\n",
        "we can be safe to delete the rows with negative values of Quantity.\n",
        "\n",
        "'''\n",
        "# dataframe 'df_final' only has the rows where the 'Quantity' column has positive values\n",
        "\n",
        "df_final = df_raw[df_raw['Quantity'] >= 0]\n",
        "print(df_final)\n"
      ],
      "metadata": {
        "id": "qOlSnaKmg47X"
      },
      "id": "qOlSnaKmg47X",
      "execution_count": null,
      "outputs": []
    },
    {
      "cell_type": "code",
      "execution_count": 127,
      "id": "265bc50d",
      "metadata": {
        "colab": {
          "base_uri": "https://localhost:8080/",
          "height": 300
        },
        "id": "265bc50d",
        "outputId": "b4758c7c-850c-416d-a605-c29256271464"
      },
      "outputs": [
        {
          "output_type": "execute_result",
          "data": {
            "text/plain": [
              "          CustomerID      UnitPrice       Quantity\n",
              "count  397924.000000  531283.000000  531283.000000\n",
              "mean    15294.315171       3.898954      10.655299\n",
              "std      1713.169877      35.876279     156.830617\n",
              "min     12346.000000       0.000000       1.000000\n",
              "25%     13969.000000       1.250000       1.000000\n",
              "50%     15159.000000       2.080000       3.000000\n",
              "75%     16795.000000       4.130000      10.000000\n",
              "max     18287.000000   13541.330000   80995.000000"
            ],
            "text/html": [
              "\n",
              "  <div id=\"df-00f02f90-14f6-437c-b5fb-55d925cea9f0\" class=\"colab-df-container\">\n",
              "    <div>\n",
              "<style scoped>\n",
              "    .dataframe tbody tr th:only-of-type {\n",
              "        vertical-align: middle;\n",
              "    }\n",
              "\n",
              "    .dataframe tbody tr th {\n",
              "        vertical-align: top;\n",
              "    }\n",
              "\n",
              "    .dataframe thead th {\n",
              "        text-align: right;\n",
              "    }\n",
              "</style>\n",
              "<table border=\"1\" class=\"dataframe\">\n",
              "  <thead>\n",
              "    <tr style=\"text-align: right;\">\n",
              "      <th></th>\n",
              "      <th>CustomerID</th>\n",
              "      <th>UnitPrice</th>\n",
              "      <th>Quantity</th>\n",
              "    </tr>\n",
              "  </thead>\n",
              "  <tbody>\n",
              "    <tr>\n",
              "      <th>count</th>\n",
              "      <td>397924.000000</td>\n",
              "      <td>531283.000000</td>\n",
              "      <td>531283.000000</td>\n",
              "    </tr>\n",
              "    <tr>\n",
              "      <th>mean</th>\n",
              "      <td>15294.315171</td>\n",
              "      <td>3.898954</td>\n",
              "      <td>10.655299</td>\n",
              "    </tr>\n",
              "    <tr>\n",
              "      <th>std</th>\n",
              "      <td>1713.169877</td>\n",
              "      <td>35.876279</td>\n",
              "      <td>156.830617</td>\n",
              "    </tr>\n",
              "    <tr>\n",
              "      <th>min</th>\n",
              "      <td>12346.000000</td>\n",
              "      <td>0.000000</td>\n",
              "      <td>1.000000</td>\n",
              "    </tr>\n",
              "    <tr>\n",
              "      <th>25%</th>\n",
              "      <td>13969.000000</td>\n",
              "      <td>1.250000</td>\n",
              "      <td>1.000000</td>\n",
              "    </tr>\n",
              "    <tr>\n",
              "      <th>50%</th>\n",
              "      <td>15159.000000</td>\n",
              "      <td>2.080000</td>\n",
              "      <td>3.000000</td>\n",
              "    </tr>\n",
              "    <tr>\n",
              "      <th>75%</th>\n",
              "      <td>16795.000000</td>\n",
              "      <td>4.130000</td>\n",
              "      <td>10.000000</td>\n",
              "    </tr>\n",
              "    <tr>\n",
              "      <th>max</th>\n",
              "      <td>18287.000000</td>\n",
              "      <td>13541.330000</td>\n",
              "      <td>80995.000000</td>\n",
              "    </tr>\n",
              "  </tbody>\n",
              "</table>\n",
              "</div>\n",
              "    <div class=\"colab-df-buttons\">\n",
              "\n",
              "  <div class=\"colab-df-container\">\n",
              "    <button class=\"colab-df-convert\" onclick=\"convertToInteractive('df-00f02f90-14f6-437c-b5fb-55d925cea9f0')\"\n",
              "            title=\"Convert this dataframe to an interactive table.\"\n",
              "            style=\"display:none;\">\n",
              "\n",
              "  <svg xmlns=\"http://www.w3.org/2000/svg\" height=\"24px\" viewBox=\"0 -960 960 960\">\n",
              "    <path d=\"M120-120v-720h720v720H120Zm60-500h600v-160H180v160Zm220 220h160v-160H400v160Zm0 220h160v-160H400v160ZM180-400h160v-160H180v160Zm440 0h160v-160H620v160ZM180-180h160v-160H180v160Zm440 0h160v-160H620v160Z\"/>\n",
              "  </svg>\n",
              "    </button>\n",
              "\n",
              "  <style>\n",
              "    .colab-df-container {\n",
              "      display:flex;\n",
              "      gap: 12px;\n",
              "    }\n",
              "\n",
              "    .colab-df-convert {\n",
              "      background-color: #E8F0FE;\n",
              "      border: none;\n",
              "      border-radius: 50%;\n",
              "      cursor: pointer;\n",
              "      display: none;\n",
              "      fill: #1967D2;\n",
              "      height: 32px;\n",
              "      padding: 0 0 0 0;\n",
              "      width: 32px;\n",
              "    }\n",
              "\n",
              "    .colab-df-convert:hover {\n",
              "      background-color: #E2EBFA;\n",
              "      box-shadow: 0px 1px 2px rgba(60, 64, 67, 0.3), 0px 1px 3px 1px rgba(60, 64, 67, 0.15);\n",
              "      fill: #174EA6;\n",
              "    }\n",
              "\n",
              "    .colab-df-buttons div {\n",
              "      margin-bottom: 4px;\n",
              "    }\n",
              "\n",
              "    [theme=dark] .colab-df-convert {\n",
              "      background-color: #3B4455;\n",
              "      fill: #D2E3FC;\n",
              "    }\n",
              "\n",
              "    [theme=dark] .colab-df-convert:hover {\n",
              "      background-color: #434B5C;\n",
              "      box-shadow: 0px 1px 3px 1px rgba(0, 0, 0, 0.15);\n",
              "      filter: drop-shadow(0px 1px 2px rgba(0, 0, 0, 0.3));\n",
              "      fill: #FFFFFF;\n",
              "    }\n",
              "  </style>\n",
              "\n",
              "    <script>\n",
              "      const buttonEl =\n",
              "        document.querySelector('#df-00f02f90-14f6-437c-b5fb-55d925cea9f0 button.colab-df-convert');\n",
              "      buttonEl.style.display =\n",
              "        google.colab.kernel.accessAllowed ? 'block' : 'none';\n",
              "\n",
              "      async function convertToInteractive(key) {\n",
              "        const element = document.querySelector('#df-00f02f90-14f6-437c-b5fb-55d925cea9f0');\n",
              "        const dataTable =\n",
              "          await google.colab.kernel.invokeFunction('convertToInteractive',\n",
              "                                                    [key], {});\n",
              "        if (!dataTable) return;\n",
              "\n",
              "        const docLinkHtml = 'Like what you see? Visit the ' +\n",
              "          '<a target=\"_blank\" href=https://colab.research.google.com/notebooks/data_table.ipynb>data table notebook</a>'\n",
              "          + ' to learn more about interactive tables.';\n",
              "        element.innerHTML = '';\n",
              "        dataTable['output_type'] = 'display_data';\n",
              "        await google.colab.output.renderOutput(dataTable, element);\n",
              "        const docLink = document.createElement('div');\n",
              "        docLink.innerHTML = docLinkHtml;\n",
              "        element.appendChild(docLink);\n",
              "      }\n",
              "    </script>\n",
              "  </div>\n",
              "\n",
              "\n",
              "<div id=\"df-abcf2ff7-9eec-407b-94da-6eee989add40\">\n",
              "  <button class=\"colab-df-quickchart\" onclick=\"quickchart('df-abcf2ff7-9eec-407b-94da-6eee989add40')\"\n",
              "            title=\"Suggest charts.\"\n",
              "            style=\"display:none;\">\n",
              "\n",
              "<svg xmlns=\"http://www.w3.org/2000/svg\" height=\"24px\"viewBox=\"0 0 24 24\"\n",
              "     width=\"24px\">\n",
              "    <g>\n",
              "        <path d=\"M19 3H5c-1.1 0-2 .9-2 2v14c0 1.1.9 2 2 2h14c1.1 0 2-.9 2-2V5c0-1.1-.9-2-2-2zM9 17H7v-7h2v7zm4 0h-2V7h2v10zm4 0h-2v-4h2v4z\"/>\n",
              "    </g>\n",
              "</svg>\n",
              "  </button>\n",
              "\n",
              "<style>\n",
              "  .colab-df-quickchart {\n",
              "      --bg-color: #E8F0FE;\n",
              "      --fill-color: #1967D2;\n",
              "      --hover-bg-color: #E2EBFA;\n",
              "      --hover-fill-color: #174EA6;\n",
              "      --disabled-fill-color: #AAA;\n",
              "      --disabled-bg-color: #DDD;\n",
              "  }\n",
              "\n",
              "  [theme=dark] .colab-df-quickchart {\n",
              "      --bg-color: #3B4455;\n",
              "      --fill-color: #D2E3FC;\n",
              "      --hover-bg-color: #434B5C;\n",
              "      --hover-fill-color: #FFFFFF;\n",
              "      --disabled-bg-color: #3B4455;\n",
              "      --disabled-fill-color: #666;\n",
              "  }\n",
              "\n",
              "  .colab-df-quickchart {\n",
              "    background-color: var(--bg-color);\n",
              "    border: none;\n",
              "    border-radius: 50%;\n",
              "    cursor: pointer;\n",
              "    display: none;\n",
              "    fill: var(--fill-color);\n",
              "    height: 32px;\n",
              "    padding: 0;\n",
              "    width: 32px;\n",
              "  }\n",
              "\n",
              "  .colab-df-quickchart:hover {\n",
              "    background-color: var(--hover-bg-color);\n",
              "    box-shadow: 0 1px 2px rgba(60, 64, 67, 0.3), 0 1px 3px 1px rgba(60, 64, 67, 0.15);\n",
              "    fill: var(--button-hover-fill-color);\n",
              "  }\n",
              "\n",
              "  .colab-df-quickchart-complete:disabled,\n",
              "  .colab-df-quickchart-complete:disabled:hover {\n",
              "    background-color: var(--disabled-bg-color);\n",
              "    fill: var(--disabled-fill-color);\n",
              "    box-shadow: none;\n",
              "  }\n",
              "\n",
              "  .colab-df-spinner {\n",
              "    border: 2px solid var(--fill-color);\n",
              "    border-color: transparent;\n",
              "    border-bottom-color: var(--fill-color);\n",
              "    animation:\n",
              "      spin 1s steps(1) infinite;\n",
              "  }\n",
              "\n",
              "  @keyframes spin {\n",
              "    0% {\n",
              "      border-color: transparent;\n",
              "      border-bottom-color: var(--fill-color);\n",
              "      border-left-color: var(--fill-color);\n",
              "    }\n",
              "    20% {\n",
              "      border-color: transparent;\n",
              "      border-left-color: var(--fill-color);\n",
              "      border-top-color: var(--fill-color);\n",
              "    }\n",
              "    30% {\n",
              "      border-color: transparent;\n",
              "      border-left-color: var(--fill-color);\n",
              "      border-top-color: var(--fill-color);\n",
              "      border-right-color: var(--fill-color);\n",
              "    }\n",
              "    40% {\n",
              "      border-color: transparent;\n",
              "      border-right-color: var(--fill-color);\n",
              "      border-top-color: var(--fill-color);\n",
              "    }\n",
              "    60% {\n",
              "      border-color: transparent;\n",
              "      border-right-color: var(--fill-color);\n",
              "    }\n",
              "    80% {\n",
              "      border-color: transparent;\n",
              "      border-right-color: var(--fill-color);\n",
              "      border-bottom-color: var(--fill-color);\n",
              "    }\n",
              "    90% {\n",
              "      border-color: transparent;\n",
              "      border-bottom-color: var(--fill-color);\n",
              "    }\n",
              "  }\n",
              "</style>\n",
              "\n",
              "  <script>\n",
              "    async function quickchart(key) {\n",
              "      const quickchartButtonEl =\n",
              "        document.querySelector('#' + key + ' button');\n",
              "      quickchartButtonEl.disabled = true;  // To prevent multiple clicks.\n",
              "      quickchartButtonEl.classList.add('colab-df-spinner');\n",
              "      try {\n",
              "        const charts = await google.colab.kernel.invokeFunction(\n",
              "            'suggestCharts', [key], {});\n",
              "      } catch (error) {\n",
              "        console.error('Error during call to suggestCharts:', error);\n",
              "      }\n",
              "      quickchartButtonEl.classList.remove('colab-df-spinner');\n",
              "      quickchartButtonEl.classList.add('colab-df-quickchart-complete');\n",
              "    }\n",
              "    (() => {\n",
              "      let quickchartButtonEl =\n",
              "        document.querySelector('#df-abcf2ff7-9eec-407b-94da-6eee989add40 button');\n",
              "      quickchartButtonEl.style.display =\n",
              "        google.colab.kernel.accessAllowed ? 'block' : 'none';\n",
              "    })();\n",
              "  </script>\n",
              "</div>\n",
              "    </div>\n",
              "  </div>\n"
            ]
          },
          "metadata": {},
          "execution_count": 127
        }
      ],
      "source": [
        "# Stage 4:  Drop the columns that are not going to be used for calculations. ['Invoice No', 'Description']\n",
        "\n",
        "df_final.describe\n",
        "#print(df_final.sort_values(by = 'Quantity' , ascending = True))\n",
        "\n",
        "#print(df_final.sort_values(by = 'UnitPrice', ascending = True))\n",
        "\n",
        "# The main dataframe(df) gets the data from CleanedUP dataframe df_final with five necessary columns.\n",
        "\n",
        "df = df_final[['InvoiceDate','StockCode','CustomerID','UnitPrice','Quantity','Country']]\n",
        "df.describe()"
      ]
    },
    {
      "cell_type": "code",
      "source": [
        "# Stage 5: Add 'TotalSales' column from multiplication of values from column 'UnitPrice' & 'Quantity'\n",
        "\n",
        "df.loc[:,'TotalSales'] = df.loc[:,'Quantity'] * df.loc[:,'UnitPrice']\n",
        "#print(df.columns, \"\\n\\n\")"
      ],
      "metadata": {
        "id": "OG05jKpoR9HI"
      },
      "id": "OG05jKpoR9HI",
      "execution_count": null,
      "outputs": []
    },
    {
      "cell_type": "code",
      "source": [
        "# Stage 6: Change the 'InvoiceDate' to have only Dates, no Time\n",
        "\n",
        "df.loc[:,'InvoiceDate'] = pd.to_datetime(df.loc[:,'InvoiceDate'])\n",
        "\n",
        "df.loc[:,'InvoiceDate'] = df.loc[:,'InvoiceDate'].dt.date\n",
        "#print(type(df['InvoiceDate']), \"\\n\")"
      ],
      "metadata": {
        "id": "VIFcDqr_VIHD"
      },
      "id": "VIFcDqr_VIHD",
      "execution_count": null,
      "outputs": []
    },
    {
      "cell_type": "code",
      "source": [
        "'''Testing Only'''\n",
        "\n",
        "print(df.head(3))\n",
        "print(df.tail(3))\n",
        "print(\"\\n\",df.columns)"
      ],
      "metadata": {
        "colab": {
          "base_uri": "https://localhost:8080/"
        },
        "id": "2fEjmmWaFOBc",
        "outputId": "8768db1f-1d3f-4633-ffd0-4c767b6777e8"
      },
      "id": "2fEjmmWaFOBc",
      "execution_count": 130,
      "outputs": [
        {
          "output_type": "stream",
          "name": "stdout",
          "text": [
            "  InvoiceDate StockCode  CustomerID  UnitPrice  Quantity         Country  \\\n",
            "0  2010-12-01    85123A     17850.0       2.55         6  United Kingdom   \n",
            "1  2010-12-01     71053     17850.0       3.39         6  United Kingdom   \n",
            "2  2010-12-01    84406B     17850.0       2.75         8  United Kingdom   \n",
            "\n",
            "   TotalSales  \n",
            "0       15.30  \n",
            "1       20.34  \n",
            "2       22.00  \n",
            "       InvoiceDate StockCode  CustomerID  UnitPrice  Quantity Country  \\\n",
            "541906  2011-12-09     23254     12680.0       4.15         4  France   \n",
            "541907  2011-12-09     23255     12680.0       4.15         4  France   \n",
            "541908  2011-12-09     22138     12680.0       4.95         3  France   \n",
            "\n",
            "        TotalSales  \n",
            "541906       16.60  \n",
            "541907       16.60  \n",
            "541908       14.85  \n",
            "\n",
            " Index(['InvoiceDate', 'StockCode', 'CustomerID', 'UnitPrice', 'Quantity',\n",
            "       'Country', 'TotalSales'],\n",
            "      dtype='object')\n"
          ]
        }
      ]
    },
    {
      "cell_type": "markdown",
      "source": [
        "----\n",
        "\n",
        "      End of Data Cleaning\n",
        "\n",
        "----"
      ],
      "metadata": {
        "id": "LVp1zqVYYjI8"
      },
      "id": "LVp1zqVYYjI8"
    },
    {
      "cell_type": "code",
      "execution_count": 131,
      "id": "c9f104f3",
      "metadata": {
        "colab": {
          "base_uri": "https://localhost:8080/"
        },
        "id": "c9f104f3",
        "outputId": "1d33d15a-2c06-4306-b361-9cdaf97a342b"
      },
      "outputs": [
        {
          "output_type": "stream",
          "name": "stdout",
          "text": [
            "Netherlands: 200937\n",
            "EIRE: 147447\n",
            "Germany: 119263\n",
            "France: 112104\n",
            "Australia: 84209\n",
            "Sweden: 36083\n",
            "Switzerland: 30630\n",
            "Spain: 27951\n",
            "Japan: 26016\n",
            "Belgium: 23237\n"
          ]
        }
      ],
      "source": [
        "# Assignment 2.\n",
        "#2.Create a Dictionary with the 10 countries that have the most 'Quantity' ordered except UK\n",
        "\n",
        "# Step 1: Create a dataframe with only the necessary columns ['Country', 'Quantity']\n",
        "\n",
        "df_q2 = df[['Country', 'Quantity']]\n",
        "\n",
        "#df_q2.head(10)\n",
        "#df_q2.tail(10)\n",
        "\n",
        "# Step2: Change the dataframe to combine the Country and sum up their quantity\n",
        "\n",
        "df_q2 = df_q2.groupby('Country', as_index = False)['Quantity'].sum()\n",
        "df_q2\n",
        "\n",
        "# Step3: Remove the row that has Country value 'United Kingdom'\n",
        "\n",
        "df_q2 = df_q2.drop(df_q2[df_q2['Country'] == 'United Kingdom'].index)\n",
        "df_q2\n",
        "\n",
        "# Step3: sort the dataframe in descending order and add the top ten to a dictionary\n",
        "df_q2 = df_q2.sort_values(by = 'Quantity', ascending = False).head(10)\n",
        "df_q2\n",
        "\n",
        "dict_hQC = {}\n",
        "\n",
        "len(df_q2)\n",
        "df_q2.iloc[:]\n",
        "\n",
        "for i in range(len(df_q2)):\n",
        "    index = df_q2.iloc[i]\n",
        "    dict_hQC[index['Country']] = index['Quantity']\n",
        "\n",
        "for key, value in dict_hQC.items():\n",
        "    print(f\"{key}: {value}\")"
      ]
    },
    {
      "cell_type": "code",
      "source": [
        "# Assignment 2: Data Visualization (Bar Chart)\n",
        "fig, ax = plt.subplots()\n",
        "\n",
        "countries_list = []\n",
        "quantity_list = []\n",
        "for key, value in dict_hQC.items():\n",
        "    countries_list.append(key)\n",
        "    quantity_list.append(value)\n",
        "\n",
        "plt.xticks(rotation = 90)   # Rotates the name of countries\n",
        "\n",
        "ax.set_ylabel('Quantity')\n",
        "ax.set_xlabel('Countries')\n",
        "#Titles\n",
        "ax.set_title('Countries by Most Quantity Ordered Except UK')\n",
        "ax.bar(countries_list,quantity_list)\n",
        "plt.show()"
      ],
      "metadata": {
        "colab": {
          "base_uri": "https://localhost:8080/",
          "height": 585
        },
        "id": "RI159BYPSiNB",
        "outputId": "100e6dba-142b-4c49-a351-e46cce3ac948"
      },
      "id": "RI159BYPSiNB",
      "execution_count": 132,
      "outputs": [
        {
          "output_type": "display_data",
          "data": {
            "text/plain": [
              "<Figure size 800x550 with 1 Axes>"
            ],
            "image/png": "[encoded data removed]"
          },
          "metadata": {}
        }
      ]
    },
    {
      "cell_type": "code",
      "execution_count": 145,
      "id": "893b0b0a",
      "metadata": {
        "colab": {
          "base_uri": "https://localhost:8080/"
        },
        "id": "893b0b0a",
        "outputId": "b3ec9d7c-d1d7-481b-96e9-432f2fed9860"
      },
      "outputs": [
        {
          "output_type": "stream",
          "name": "stdout",
          "text": [
            "   InvoiceDate  TotalSales\n",
            "2   2010-12-03    46943.71\n",
            "3   2010-12-05    31774.95\n",
            "4   2010-12-06    54830.46\n",
            "5   2010-12-07    99618.20\n",
            "6   2010-12-08    45389.98\n",
            "7   2010-12-09    53586.18\n",
            "8   2010-12-10    59182.92\n",
            "9   2010-12-12    17329.07\n",
            "10  2010-12-13    38006.71\n",
            "11  2010-12-14    45254.73\n",
            "12  2010-12-15    30444.62\n",
            "13  2010-12-16    49352.90\n",
            "14  2010-12-17    45418.33\n",
            "15  2010-12-19     7534.91\n",
            "16  2010-12-20    26789.13\n",
            "17  2010-12-21    47304.09\n",
            "18  2010-12-22     6199.97\n",
            "19  2010-12-23    12076.11\n",
            "20  2011-01-04    16026.08\n",
            "21  2011-01-05    32634.47\n",
            "22  2011-01-06    40382.85\n",
            "23  2011-01-07    28836.59\n",
            "24  2011-01-09    15778.20\n",
            "25  2011-01-10    24569.07\n",
            "26  2011-01-11    68655.59\n",
            "27  2011-01-12    24693.78\n",
            "28  2011-01-13    20624.64\n",
            "29  2011-01-14    47576.90\n",
            "30  2011-01-16     7242.06\n",
            "31  2011-01-17    29333.02\n",
            "32  2011-01-18    95978.05\n",
            "33  2011-01-19    25934.57\n",
            "34  2011-01-20    21246.99\n",
            "35  2011-01-21    32640.30\n",
            "36  2011-01-23    10400.25\n",
            "37  2011-01-24    25733.79\n",
            "38  2011-01-25    29077.47\n",
            "39  2011-01-26    19922.29\n",
            "40  2011-01-27    23730.84\n",
            "41  2011-01-28    20090.65\n",
            "42  2011-01-30     6615.75\n",
            "43  2011-01-31    23640.36\n",
            "44  2011-02-01    29034.99\n",
            "45  2011-02-02    21216.20\n",
            "46  2011-02-03    23479.83\n",
            "47  2011-02-04    25162.19\n",
            "48  2011-02-06     3457.11\n",
            "Total Sales between 2010-12-03 00:00:00 and 2011-02-06 00:00:00 is: $1510751.85\n",
            "\n",
            "\n",
            "\n"
          ]
        },
        {
          "output_type": "stream",
          "name": "stderr",
          "text": [
            "<ipython-input-145-2baff0bdbe48>:25: FutureWarning: Comparison of Timestamp with datetime.date is deprecated in order to match the standard library behavior. In a future version these will be considered non-comparable. Use 'ts == pd.Timestamp(date)' or 'ts.date() == date' instead.\n",
            "  df_alternate = df_q3[(ts >= pd.Timestamp(start_date)) & (ts <= pd.Timestamp(end_date))]\n"
          ]
        }
      ],
      "source": [
        "# Assignment 3.\n",
        "# 3. Find Total Sale between two dates entered by user\n",
        "\n",
        "# Needed Columns: ['InvoiceDate', 'Quantity', 'UnitPrice']\n",
        "df_q3 = df[['InvoiceDate','TotalSales']]\n",
        "\n",
        "# Step1: Modify the dataframe with columns 'InvoiceDate' grouped by sum of 'TotalSales'\n",
        "df_q3 = df_q3.groupby(['InvoiceDate'], as_index = False)['TotalSales'].sum()\n",
        "df_q3\n",
        "\n",
        "# Step2: Ask User for input of starting date and ending date\n",
        "start_date = '2010-12-03'\n",
        "#start_date = input(\"Enter the starting date in this format: [YYYY-MM-DD] \")\n",
        "start_date = pd.Timestamp(start_date)\n",
        "end_date = '2011-02-06'\n",
        "#end_date = input(\"Enter the ending date in this format: [YYYY-MM-DD] \")\n",
        "end_date = pd.Timestamp(end_date)\n",
        "\n",
        "# Step3: Make a new dataframe with only start_date and end_date and sum the TotalSales of that dataframe\n",
        "\n",
        "# df_alternate = df_q3[(df_q3['InvoiceDate'] >= start_date) & (df_q3['InvoiceDate'] <= end_date)]\n",
        "\n",
        "ts = df_q3['InvoiceDate']\n",
        "\n",
        "df_alternate = df_q3[(ts >= pd.Timestamp(start_date)) & (ts <= pd.Timestamp(end_date))]\n",
        "print(df_alternate)\n",
        "total_sales_in_input_dates = df_alternate['TotalSales'].sum()\n",
        "print(f\"Total Sales between {start_date} and {end_date} is: ${total_sales_in_input_dates}\\n\\n\\n\")"
      ]
    },
    {
      "cell_type": "code",
      "source": [
        "# Question 3: Data Visualization(Line Chart)\n",
        "\n",
        "df_q3_dv = df_alternate\n",
        "\n",
        "plt.style.use('seaborn')\n",
        "\n",
        "plt.xticks(rotation = 90)   # Rotates the name of countries\n",
        "\n",
        "plt.plot(df_q3_dv['InvoiceDate'], df_q3_dv['TotalSales'], linestyle = 'solid', marker = 'o')\n",
        "\n",
        "plt.title('Total Sales between Dates')\n",
        "plt.xlabel('InvoiceDate')\n",
        "plt.ylabel('TotalSales')\n",
        "plt.show()"
      ],
      "metadata": {
        "colab": {
          "base_uri": "https://localhost:8080/",
          "height": 636
        },
        "id": "NdJMthKOYlQ2",
        "outputId": "b3af57ac-c6cd-4f6a-b079-7adea3287bfb"
      },
      "id": "NdJMthKOYlQ2",
      "execution_count": 135,
      "outputs": [
        {
          "output_type": "stream",
          "name": "stderr",
          "text": [
            "<ipython-input-135-78ebf2c2d559>:5: MatplotlibDeprecationWarning: The seaborn styles shipped by Matplotlib are deprecated since 3.6, as they no longer correspond to the styles shipped by seaborn. However, they will remain available as 'seaborn-v0_8-<style>'. Alternatively, directly use the seaborn API instead.\n",
            "  plt.style.use('seaborn')\n"
          ]
        },
        {
          "output_type": "display_data",
          "data": {
            "text/plain": [
              "<Figure size 800x550 with 1 Axes>"
            ],
            "image/png": "[encoded data removed]"
          },
          "metadata": {}
        }
      ]
    },
    {
      "cell_type": "code",
      "execution_count": 136,
      "id": "9c6469aa",
      "metadata": {
        "colab": {
          "base_uri": "https://localhost:8080/"
        },
        "id": "9c6469aa",
        "outputId": "be61dbc9-8044-453a-8b5d-ef3d877b5a07"
      },
      "outputs": [
        {
          "output_type": "stream",
          "name": "stdout",
          "text": [
            "The highest potential customer Country is:\n",
            " Country       United Kingdom\n",
            "TotalSales       9025222.084\n",
            "Name: 36, dtype: object\n"
          ]
        }
      ],
      "source": [
        "# Question 4:\n",
        "# Find each Countries Total SALE to find which Countries is highest potential customer.\n",
        "\n",
        "# Step1: Dataframe with only required columns and add a column of TotalSales\n",
        "# Needed Columns: ['Country', 'Total Sales']\n",
        "df_q4 = df[['Country' ,'TotalSales']]\n",
        "\n",
        "df_q4 = df_q4.groupby('Country', as_index = False)['TotalSales'].sum()\n",
        "df_q4\n",
        "\n",
        "# Step2: Sort the dataframe in descending order of TotalSales and print the value at index 0\n",
        "\n",
        "df_q4 = df_q4.sort_values(by = 'TotalSales', ascending = False)\n",
        "df_q4\n",
        "\n",
        "print(\"The highest potential customer Country is:\\n\",df_q4.iloc[0])"
      ]
    },
    {
      "cell_type": "code",
      "source": [
        "print(\"Each countries total sale is\\n\", df_q4)"
      ],
      "metadata": {
        "colab": {
          "base_uri": "https://localhost:8080/"
        },
        "id": "sNRqLVe4bsxe",
        "outputId": "0dfec2f9-2d3c-4e88-84c8-1bb6e50edc56"
      },
      "id": "sNRqLVe4bsxe",
      "execution_count": 137,
      "outputs": [
        {
          "output_type": "stream",
          "name": "stdout",
          "text": [
            "Each countries total sale is\n",
            "                  Country   TotalSales\n",
            "36        United Kingdom  9025222.084\n",
            "24           Netherlands   285446.340\n",
            "10                  EIRE   283453.960\n",
            "14               Germany   228867.140\n",
            "13                France   209715.110\n",
            "0              Australia   138521.310\n",
            "31                 Spain    61577.110\n",
            "33           Switzerland    57089.900\n",
            "3                Belgium    41196.340\n",
            "32                Sweden    38378.330\n",
            "20                 Japan    37416.370\n",
            "25                Norway    36165.440\n",
            "27              Portugal    33747.100\n",
            "12               Finland    22546.080\n",
            "30             Singapore    21279.290\n",
            "6        Channel Islands    20450.440\n",
            "9                Denmark    18955.340\n",
            "19                 Italy    17483.240\n",
            "16             Hong Kong    15691.800\n",
            "7                 Cyprus    13590.380\n",
            "1                Austria    10198.680\n",
            "18                Israel     8135.260\n",
            "26                Poland     7334.650\n",
            "15                Greece     4760.520\n",
            "37           Unspecified     4749.790\n",
            "17               Iceland     4310.000\n",
            "5                 Canada     3666.380\n",
            "34                   USA     3580.390\n",
            "23                 Malta     2725.590\n",
            "35  United Arab Emirates     1902.280\n",
            "21               Lebanon     1693.880\n",
            "22             Lithuania     1661.060\n",
            "11    European Community     1300.250\n",
            "4                 Brazil     1143.600\n",
            "28                   RSA     1002.310\n",
            "8         Czech Republic      826.740\n",
            "2                Bahrain      754.140\n",
            "29          Saudi Arabia      145.920\n"
          ]
        }
      ]
    },
    {
      "cell_type": "code",
      "source": [
        "# Question 4: Data Visualization: Countries by TotalSales\n",
        "df_q4\n",
        "fig, ax = plt.subplots()\n",
        "\n",
        "plt.xticks(rotation = 90)   # Rotates the name of countries\n",
        "\n",
        "ax.set_ylabel('Country')\n",
        "ax.set_xlabel('TotalSales')\n",
        "\n",
        "ax.bar(df_q4['Country'], df_q4['TotalSales'])\n",
        "plt.show()"
      ],
      "metadata": {
        "colab": {
          "base_uri": "https://localhost:8080/",
          "height": 639
        },
        "id": "WWygEgElbxh2",
        "outputId": "039b5355-e723-4c6f-fa09-06c42226679d"
      },
      "id": "WWygEgElbxh2",
      "execution_count": 138,
      "outputs": [
        {
          "output_type": "display_data",
          "data": {
            "text/plain": [
              "<Figure size 800x550 with 1 Axes>"
            ],
            "image/png": "[encoded data removed]"
          },
          "metadata": {}
        }
      ]
    },
    {
      "cell_type": "code",
      "execution_count": 139,
      "id": "1891d1b7",
      "metadata": {
        "colab": {
          "base_uri": "https://localhost:8080/"
        },
        "id": "1891d1b7",
        "outputId": "5cc0ba6d-04ec-448f-89c4-67125b18b886"
      },
      "outputs": [
        {
          "output_type": "stream",
          "name": "stdout",
          "text": [
            "(531283, 4)\n",
            "The customerID with highest sales:\n",
            " CustomerID        14646.0\n",
            "TotalSales      280206.02\n",
            "Quantity           197491\n",
            "Country       Netherlands\n",
            "Name: 1690, dtype: object\n",
            "\n",
            "The customerID with highest purchase quantity:\n",
            " CustomerID        14646.0\n",
            "TotalSales      280206.02\n",
            "Quantity           197491\n",
            "Country       Netherlands\n",
            "Name: 1690, dtype: object\n",
            "\n"
          ]
        }
      ],
      "source": [
        "# Question 5:\n",
        "# Which Customer Id has highest purchase in quantity and total and find out the country of it\n",
        "\n",
        "# Step1: Extract the necessary columns and add the TotalSales column\n",
        "# Needed Columns: ['CustomerID', 'Quantity', 'Country', 'TotalSales']\n",
        "\n",
        "df_q5 = df[['CustomerID', 'Quantity', 'Country', 'TotalSales']]\n",
        "\n",
        "print(df_q5.shape)\n",
        "df_q5.isna().sum()\n",
        "\n",
        "# Step2: Safe to drop the rows with null CustomerID as we are only dealing with data that have valid CustomerID\n",
        "\n",
        "df_q5 = df_q5.dropna()\n",
        "\n",
        "# Step3: Group the data for customerID and add their Total Sales\n",
        "\n",
        "df_q5_sales = df_q5.groupby(['CustomerID'], as_index = False)['TotalSales'].sum()\n",
        "\n",
        "df_q5_sales\n",
        "\n",
        "# Step4: Group the data for customerID and add their Quantity\n",
        "\n",
        "df_q5_quantity = df_q5.groupby(['CustomerID'], as_index = False)['Quantity'].sum()\n",
        "df_q5_quantity\n",
        "\n",
        "# Step5: Group the data in accordance with CustomerID and the first occurence of respective country\n",
        "\n",
        "df_individual_country = df_q5.groupby(['CustomerID'], as_index = False)['Country'].first()\n",
        "df_individual_country\n",
        "\n",
        "# Step6: Merge the three df in accordance to customerID\n",
        "df_merge = pd.merge(df_q5_sales, df_q5_quantity, on='CustomerID')\n",
        "df_merge = pd.merge(df_merge, df_individual_country, on='CustomerID')\n",
        "df_merge\n",
        "\n",
        "\n",
        "df_highest_sales = df_merge.sort_values('TotalSales', ascending = False)\n",
        "df_highest_quantity = df_merge.sort_values('Quantity', ascending = False)\n",
        "\n",
        "print(\"The customerID with highest sales:\\n\",df_highest_sales.iloc[0])\n",
        "print()\n",
        "print(\"The customerID with highest purchase quantity:\\n\",df_highest_quantity.iloc[0])\n",
        "print()"
      ]
    },
    {
      "cell_type": "code",
      "source": [
        "# Question 6 :\n",
        "# 6) Which Customer Id has lowest purchase in quantity and total and find out the country of it\n",
        "\n",
        "print(\"The customerID with lowest sales:\\n\",df_highest_sales.iloc[-1])\n",
        "print()\n",
        "print(\"The customerID with lowest purchase quantity:\\n\",df_highest_quantity.iloc[-1])\n",
        "print()"
      ],
      "metadata": {
        "colab": {
          "base_uri": "https://localhost:8080/"
        },
        "id": "-jAa__mFeW1v",
        "outputId": "b4a786eb-227b-4b62-9497-c1760c52abba"
      },
      "id": "-jAa__mFeW1v",
      "execution_count": 140,
      "outputs": [
        {
          "output_type": "stream",
          "name": "stdout",
          "text": [
            "The customerID with lowest sales:\n",
            " CustomerID           13256.0\n",
            "TotalSales               0.0\n",
            "Quantity               12540\n",
            "Country       United Kingdom\n",
            "Name: 685, dtype: object\n",
            "\n",
            "The customerID with lowest purchase quantity:\n",
            " CustomerID           16742.0\n",
            "TotalSales             464.9\n",
            "Quantity                   1\n",
            "Country       United Kingdom\n",
            "Name: 3220, dtype: object\n",
            "\n"
          ]
        }
      ]
    },
    {
      "cell_type": "markdown",
      "source": [
        "----\n",
        "        **Additional Questions [09/21]**\n",
        "----"
      ],
      "metadata": {
        "id": "0HJD0nRCH9tS"
      },
      "id": "0HJD0nRCH9tS"
    },
    {
      "cell_type": "code",
      "source": [
        "# Question 7\n",
        "# Find the biggest order In Sale (Cost)\n",
        "# which country was the order from and\n",
        "# find total purchase (Cost) done by that customer ID\n",
        "\n",
        "df_q7 = df_q5.sort_values(['TotalSales'], ascending = False)\n",
        "print(\"The biggest Order in sales was $\", df_q7.iloc[0]['TotalSales'])\n",
        "print(\"The order was from country \", df_q7.iloc[0]['Country'])\n",
        "print(\"The customerID of customer who got this was: \", df_q7.iloc[0]['CustomerID'])\n",
        "\n",
        "# group the dataframe by customerID and sum up the TotalSales\n",
        "\n",
        "df_q7_byCust = df_q7.groupby(['CustomerID'], as_index = False)['TotalSales'].sum()\n",
        "\n",
        "# Search for the customerID in this df\n",
        "result_cust = df_q7_byCust[df_q7_byCust['CustomerID'] == df_q7.iloc[0]['CustomerID']]\n",
        "\n",
        "print(\"\\nThe total purchase from this customer was:\\n\",result_cust)\n",
        "#df_q7\n",
        "#df_q7_byCust\n"
      ],
      "metadata": {
        "colab": {
          "base_uri": "https://localhost:8080/"
        },
        "id": "e-r-Alr_s-w_",
        "outputId": "0fea647c-8d56-4833-ebbe-e5e1a29f6897"
      },
      "id": "e-r-Alr_s-w_",
      "execution_count": 141,
      "outputs": [
        {
          "output_type": "stream",
          "name": "stdout",
          "text": [
            "The biggest Order in sales was $ 168469.6\n",
            "The order was from country  United Kingdom\n",
            "The customerID of customer who got this was:  16446.0\n",
            "\n",
            "The total purchase from this customer was:\n",
            "       CustomerID  TotalSales\n",
            "3009     16446.0    168472.5\n"
          ]
        }
      ]
    },
    {
      "cell_type": "code",
      "source": [
        "# Question 8.\n",
        "# 8) Find how many different customers are available for each country\n",
        "# save the count in dictionary\n",
        "# also\n",
        "# return countries with highest and lowest customer count\n",
        "\n",
        "'''Start'''\n",
        "#print(df_q7)    # from Question 7\n",
        "# Group this df by country and count\n",
        "\n",
        "df_q8 = df_q7.groupby('Country', as_index = False).size()\n",
        "\n",
        "# Save this to a dictionary\n",
        "country_occur = {}\n",
        "for i in range(len(df_q8)):\n",
        "  index = df_q8.iloc[i]\n",
        "  country_occur[index['Country']] = index['size']\n",
        "\n",
        "# print dictionary\n",
        "\n",
        "for key, value in country_occur.items():\n",
        "  print(f\"{key}: {value}\")\n",
        "\n",
        "# sort in descending order\n",
        "df_q8_sorted = df_q8.sort_values(by = 'size', ascending = False)\n",
        "\n",
        "print(\"\\nThe country with highest customer count is: \", df_q8_sorted.iloc[0]['Country'])\n",
        "print()\n",
        "print(\"The country with lowest customer count is: \", df_q8_sorted.iloc[-1]['Country'])\n",
        "#print(df_q8_sorted)\n",
        "\n",
        "'''\n",
        "highest is United Kingdom\n",
        "lowest is Saudi Arabia\n",
        "'''\n",
        "print()"
      ],
      "metadata": {
        "colab": {
          "base_uri": "https://localhost:8080/"
        },
        "id": "x1KP67gdwCW9",
        "outputId": "dc0950f9-214d-4085-a25a-6dca00dba1a2"
      },
      "id": "x1KP67gdwCW9",
      "execution_count": 142,
      "outputs": [
        {
          "output_type": "stream",
          "name": "stdout",
          "text": [
            "Australia: 1185\n",
            "Austria: 398\n",
            "Bahrain: 17\n",
            "Belgium: 2031\n",
            "Brazil: 32\n",
            "Canada: 151\n",
            "Channel Islands: 748\n",
            "Cyprus: 614\n",
            "Czech Republic: 25\n",
            "Denmark: 380\n",
            "EIRE: 7238\n",
            "European Community: 60\n",
            "Finland: 685\n",
            "France: 8342\n",
            "Germany: 9042\n",
            "Greece: 145\n",
            "Iceland: 182\n",
            "Israel: 248\n",
            "Italy: 758\n",
            "Japan: 321\n",
            "Lebanon: 45\n",
            "Lithuania: 35\n",
            "Malta: 112\n",
            "Netherlands: 2363\n",
            "Norway: 1072\n",
            "Poland: 330\n",
            "Portugal: 1462\n",
            "RSA: 58\n",
            "Saudi Arabia: 9\n",
            "Singapore: 222\n",
            "Spain: 2485\n",
            "Sweden: 451\n",
            "Switzerland: 1842\n",
            "USA: 179\n",
            "United Arab Emirates: 68\n",
            "United Kingdom: 354345\n",
            "Unspecified: 244\n",
            "\n",
            "The country with highest customer count is:  United Kingdom\n",
            "\n",
            "The country with lowest customer count is:  Saudi Arabia\n",
            "\n"
          ]
        }
      ]
    },
    {
      "cell_type": "code",
      "source": [
        "# Question 8. Data Visualization: Country by Customer Count\n",
        "\n",
        "df_q8_sorted\n",
        "fig, ax = plt.subplots()\n",
        "\n",
        "plt.xticks(rotation = 90)   # Rotates the name of countries\n",
        "\n",
        "ax.set_ylabel('Customer Count')\n",
        "ax.set_xlabel('Country')\n",
        "\n",
        "ax.bar(df_q8_sorted['Country'], df_q8_sorted['size'])\n",
        "plt.show()"
      ],
      "metadata": {
        "colab": {
          "base_uri": "https://localhost:8080/",
          "height": 624
        },
        "id": "0A0nrRGBdnJ-",
        "outputId": "f0f1ec62-ac48-4bc5-830b-cbc7997a9b67"
      },
      "id": "0A0nrRGBdnJ-",
      "execution_count": 143,
      "outputs": [
        {
          "output_type": "display_data",
          "data": {
            "text/plain": [
              "<Figure size 800x550 with 1 Axes>"
            ],
            "image/png": "[encoded data removed]"
          },
          "metadata": {}
        }
      ]
    },
    {
      "cell_type": "code",
      "source": [
        "# Question 9:\n",
        "# 9) Find which stock code was ordered the most by each country\n",
        "\n",
        "# Cleaning the data 1: Selecing the necessary columns from the main dataframe\n",
        "df_q9_clean = df[['Country', 'StockCode', 'Quantity']]\n",
        "\n",
        "# Cleaning the data 2: Filter out rows with 'Unspecified' as the country\n",
        "df_q9_clean = df_q9_clean[df_q9_clean['Country'] != 'Unspecified']\n",
        "\n",
        "# Group by 'Country' and 'StockCode' and sum the relevant quantities for each StockCode\n",
        "df_q9_sorted = df_q9_clean.groupby(['Country', 'StockCode'], as_index=False)['Quantity'].sum()\n",
        "\n",
        "# Empty df\n",
        "df_final = pd.DataFrame(columns=['Country', 'StockCode', 'Quantity'])\n",
        "\n",
        "# put each countries in a list\n",
        "unique_countries = df_q9_sorted['Country'].unique()\n",
        "#print(unique_countries)\n",
        "print(type(unique_countries))\n",
        "for country in unique_countries:\n",
        "    # Loop through unique countries\n",
        "    this_country = df_q9_sorted[df_q9_sorted['Country'] == country]\n",
        "\n",
        "    # Find the row with the maximum quantity for the current country\n",
        "    max_quantity = this_country['Quantity'].max()  # Find the maximum quantity within the group\n",
        "    df_per_country = this_country[this_country['Quantity'] == max_quantity]  # Filter for rows with the maximum quantity\n",
        "    #print(df_per_country,\"\\n\")\n",
        "\n",
        "    # Adding the result to the same dataframe\n",
        "    df_final = pd.concat([df_final, df_per_country], ignore_index=True)\n",
        "\n",
        "print(df_final)"
      ],
      "metadata": {
        "colab": {
          "base_uri": "https://localhost:8080/"
        },
        "id": "RSusZLDeeXDC",
        "outputId": "777174ed-7e39-45c6-e216-0a8050db4ea1"
      },
      "id": "RSusZLDeeXDC",
      "execution_count": 144,
      "outputs": [
        {
          "output_type": "stream",
          "name": "stdout",
          "text": [
            "<class 'numpy.ndarray'>\n",
            "                 Country StockCode Quantity\n",
            "0              Australia     22492     2952\n",
            "1                Austria     21918      288\n",
            "2                Bahrain     23076       96\n",
            "3                Belgium     21212      480\n",
            "4                 Brazil     21430       24\n",
            "..                   ...       ...      ...\n",
            "56           Switzerland     22554      639\n",
            "57                   USA     23366       88\n",
            "58  United Arab Emirates     21700       72\n",
            "59  United Arab Emirates     85215       72\n",
            "60        United Kingdom     23843    80995\n",
            "\n",
            "[61 rows x 3 columns]\n"
          ]
        }
      ]
    }
  ],
  "metadata": {
    "kernelspec": {
      "display_name": "Python 3 (ipykernel)",
      "language": "python",
      "name": "python3"
    },
    "language_info": {
      "codemirror_mode": {
        "name": "ipython",
        "version": 3
      },
      "file_extension": ".py",
      "mimetype": "text/x-python",
      "name": "python",
      "nbconvert_exporter": "python",
      "pygments_lexer": "ipython3",
      "version": "3.11.3"
    },
    "colab": {
      "provenance": []
    }
  },
  "nbformat": 4,
  "nbformat_minor": 5
}